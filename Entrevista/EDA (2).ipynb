{
 "cells": [
  {
   "cell_type": "markdown",
   "id": "9b2c2a2d-f493-4faf-a648-3e72d8f287a4",
   "metadata": {},
   "source": [
    "### Importando librerias y datasets para analizar\n",
    "\n",
    "utilizaremos pandas para leer el csv de nuestra encuentas y comenzar con la limpieza ya analisis descriptivo de esta misma"
   ]
  },
  {
   "cell_type": "code",
   "execution_count": 1,
   "id": "597763b6-2115-4dd2-a962-41bfd5d2dc76",
   "metadata": {},
   "outputs": [],
   "source": [
    "import pandas as pd\n",
    "import numpy as np"
   ]
  },
  {
   "cell_type": "code",
   "execution_count": 2,
   "id": "ce5bc6b0-7945-4cea-b289-8df2b34c0c98",
   "metadata": {},
   "outputs": [],
   "source": [
    "import seaborn as sns\n",
    "import matplotlib.pyplot as plt"
   ]
  },
  {
   "cell_type": "code",
   "execution_count": 3,
   "id": "df2e9b76-683b-417e-a27c-a015a93baede",
   "metadata": {},
   "outputs": [],
   "source": [
    "from scipy.stats import chi2_contingency"
   ]
  },
  {
   "cell_type": "code",
   "execution_count": 4,
   "id": "b062c708-44fd-4fb4-8acc-0ea5d463c6a3",
   "metadata": {},
   "outputs": [],
   "source": [
    "survey = pd.read_csv('survey.csv', delimiter=',' )\n",
    "variables = pd.read_csv('variables.csv' , delimiter=';' )\n",
    "equivalentes_plan_tool = pd.read_csv('traducciones_herramientas_planificacion.csv' , delimiter=',' )\n",
    "equivalentes_bad_exps = pd.read_csv('traducciones_malas_experiencias.csv' , delimiter=',')"
   ]
  },
  {
   "cell_type": "code",
   "execution_count": 5,
   "id": "dbc732ae-8673-4629-b738-90ac99c92b9d",
   "metadata": {},
   "outputs": [],
   "source": [
    "equivalentes_plan_tool = equivalentes_plan_tool.loc[: ,['col','equivalente']]"
   ]
  },
  {
   "cell_type": "code",
   "execution_count": 6,
   "id": "09330e1a-7bb7-47c5-a899-6bd75bf7e321",
   "metadata": {},
   "outputs": [
    {
     "data": {
      "text/html": [
       "<div>\n",
       "<style scoped>\n",
       "    .dataframe tbody tr th:only-of-type {\n",
       "        vertical-align: middle;\n",
       "    }\n",
       "\n",
       "    .dataframe tbody tr th {\n",
       "        vertical-align: top;\n",
       "    }\n",
       "\n",
       "    .dataframe thead th {\n",
       "        text-align: right;\n",
       "    }\n",
       "</style>\n",
       "<table border=\"1\" class=\"dataframe\">\n",
       "  <thead>\n",
       "    <tr style=\"text-align: right;\">\n",
       "      <th></th>\n",
       "      <th>col</th>\n",
       "      <th>equivalente</th>\n",
       "    </tr>\n",
       "  </thead>\n",
       "  <tbody>\n",
       "    <tr>\n",
       "      <th>0</th>\n",
       "      <td>Notas/Apuntes/Calendarios/Libretas</td>\n",
       "      <td>Notas/Apuntes/Calendarios/Libretas</td>\n",
       "    </tr>\n",
       "    <tr>\n",
       "      <th>1</th>\n",
       "      <td>Google Calendar</td>\n",
       "      <td>Notas/Apuntes/Calendarios/Libretas</td>\n",
       "    </tr>\n",
       "    <tr>\n",
       "      <th>2</th>\n",
       "      <td>Ninguno</td>\n",
       "      <td>Ninguno</td>\n",
       "    </tr>\n",
       "    <tr>\n",
       "      <th>3</th>\n",
       "      <td>Trello</td>\n",
       "      <td>Trello</td>\n",
       "    </tr>\n",
       "    <tr>\n",
       "      <th>4</th>\n",
       "      <td>Notion</td>\n",
       "      <td>Notion</td>\n",
       "    </tr>\n",
       "    <tr>\n",
       "      <th>5</th>\n",
       "      <td>Microsoft OneNote</td>\n",
       "      <td>Microsoft OneNote</td>\n",
       "    </tr>\n",
       "    <tr>\n",
       "      <th>6</th>\n",
       "      <td>Jira</td>\n",
       "      <td>Jira</td>\n",
       "    </tr>\n",
       "    <tr>\n",
       "      <th>7</th>\n",
       "      <td>Microsoft To Do</td>\n",
       "      <td>Microsoft To Do</td>\n",
       "    </tr>\n",
       "    <tr>\n",
       "      <th>8</th>\n",
       "      <td>Google Keep</td>\n",
       "      <td>Google Keep</td>\n",
       "    </tr>\n",
       "    <tr>\n",
       "      <th>9</th>\n",
       "      <td>lapiz y papel</td>\n",
       "      <td>Notas/Apuntes/Calendarios/Libretas</td>\n",
       "    </tr>\n",
       "    <tr>\n",
       "      <th>10</th>\n",
       "      <td>excel</td>\n",
       "      <td>Excel</td>\n",
       "    </tr>\n",
       "    <tr>\n",
       "      <th>11</th>\n",
       "      <td>Recordatorios</td>\n",
       "      <td>Notas/Apuntes/Calendarios/Libretas</td>\n",
       "    </tr>\n",
       "    <tr>\n",
       "      <th>12</th>\n",
       "      <td>Otras herramientas de organizacion de internet</td>\n",
       "      <td>Otros</td>\n",
       "    </tr>\n",
       "    <tr>\n",
       "      <th>13</th>\n",
       "      <td>Asana</td>\n",
       "      <td>Otros</td>\n",
       "    </tr>\n",
       "    <tr>\n",
       "      <th>14</th>\n",
       "      <td>No</td>\n",
       "      <td>Ninguno</td>\n",
       "    </tr>\n",
       "    <tr>\n",
       "      <th>15</th>\n",
       "      <td>Calendario interactivo</td>\n",
       "      <td>Notas/Apuntes/Calendarios/Libretas</td>\n",
       "    </tr>\n",
       "    <tr>\n",
       "      <th>16</th>\n",
       "      <td>Mi agenda en físico</td>\n",
       "      <td>Notas/Apuntes/Calendarios/Libretas</td>\n",
       "    </tr>\n",
       "    <tr>\n",
       "      <th>17</th>\n",
       "      <td>Mentalmente</td>\n",
       "      <td>Otros</td>\n",
       "    </tr>\n",
       "    <tr>\n",
       "      <th>18</th>\n",
       "      <td>Excel</td>\n",
       "      <td>Excel</td>\n",
       "    </tr>\n",
       "    <tr>\n",
       "      <th>19</th>\n",
       "      <td>Clickup</td>\n",
       "      <td>Otros</td>\n",
       "    </tr>\n",
       "    <tr>\n",
       "      <th>20</th>\n",
       "      <td>ninguan</td>\n",
       "      <td>Ninguno</td>\n",
       "    </tr>\n",
       "  </tbody>\n",
       "</table>\n",
       "</div>"
      ],
      "text/plain": [
       "                                               col  \\\n",
       "0               Notas/Apuntes/Calendarios/Libretas   \n",
       "1                                  Google Calendar   \n",
       "2                                          Ninguno   \n",
       "3                                           Trello   \n",
       "4                                           Notion   \n",
       "5                                Microsoft OneNote   \n",
       "6                                             Jira   \n",
       "7                                  Microsoft To Do   \n",
       "8                                      Google Keep   \n",
       "9                                    lapiz y papel   \n",
       "10                                           excel   \n",
       "11                                   Recordatorios   \n",
       "12  Otras herramientas de organizacion de internet   \n",
       "13                                           Asana   \n",
       "14                                              No   \n",
       "15                          Calendario interactivo   \n",
       "16                             Mi agenda en físico   \n",
       "17                                     Mentalmente   \n",
       "18                                           Excel   \n",
       "19                                         Clickup   \n",
       "20                                         ninguan   \n",
       "\n",
       "                           equivalente  \n",
       "0   Notas/Apuntes/Calendarios/Libretas  \n",
       "1   Notas/Apuntes/Calendarios/Libretas  \n",
       "2                              Ninguno  \n",
       "3                               Trello  \n",
       "4                               Notion  \n",
       "5                    Microsoft OneNote  \n",
       "6                                 Jira  \n",
       "7                      Microsoft To Do  \n",
       "8                          Google Keep  \n",
       "9   Notas/Apuntes/Calendarios/Libretas  \n",
       "10                               Excel  \n",
       "11  Notas/Apuntes/Calendarios/Libretas  \n",
       "12                               Otros  \n",
       "13                               Otros  \n",
       "14                             Ninguno  \n",
       "15  Notas/Apuntes/Calendarios/Libretas  \n",
       "16  Notas/Apuntes/Calendarios/Libretas  \n",
       "17                               Otros  \n",
       "18                               Excel  \n",
       "19                               Otros  \n",
       "20                             Ninguno  "
      ]
     },
     "execution_count": 6,
     "metadata": {},
     "output_type": "execute_result"
    }
   ],
   "source": [
    "equivalentes_plan_tool"
   ]
  },
  {
   "cell_type": "code",
   "execution_count": 7,
   "id": "9282d317-0300-4e38-8b75-0d49862ec4d7",
   "metadata": {},
   "outputs": [],
   "source": [
    "survey = survey.iloc[ : , 1:46 ].copy()"
   ]
  },
  {
   "cell_type": "code",
   "execution_count": 8,
   "id": "0927cc72-08f6-42d5-b0ce-103d4004a276",
   "metadata": {},
   "outputs": [],
   "source": [
    "survey.columns = variables.loc[ : , 'Variable' ]"
   ]
  },
  {
   "cell_type": "code",
   "execution_count": 9,
   "id": "2362f630-5871-497c-b354-2101919f459c",
   "metadata": {},
   "outputs": [
    {
     "data": {
      "text/html": [
       "<div>\n",
       "<style scoped>\n",
       "    .dataframe tbody tr th:only-of-type {\n",
       "        vertical-align: middle;\n",
       "    }\n",
       "\n",
       "    .dataframe tbody tr th {\n",
       "        vertical-align: top;\n",
       "    }\n",
       "\n",
       "    .dataframe thead th {\n",
       "        text-align: right;\n",
       "    }\n",
       "</style>\n",
       "<table border=\"1\" class=\"dataframe\">\n",
       "  <thead>\n",
       "    <tr style=\"text-align: right;\">\n",
       "      <th>Variable</th>\n",
       "      <th>edad</th>\n",
       "      <th>genero</th>\n",
       "      <th>trabajo</th>\n",
       "      <th>foráneo</th>\n",
       "      <th>familiares_unah</th>\n",
       "      <th>familiares_is</th>\n",
       "      <th>familiares_graduados</th>\n",
       "      <th>influencia</th>\n",
       "      <th>is_segunda_opcion</th>\n",
       "      <th>carrera_simultanea</th>\n",
       "      <th>...</th>\n",
       "      <th>interés_rama_carrera_ad</th>\n",
       "      <th>interés_rama_carrera_analis</th>\n",
       "      <th>interés_rama_carrera_ark</th>\n",
       "      <th>interés_rama_carrera_bd</th>\n",
       "      <th>interés_rama_carrera_prog</th>\n",
       "      <th>interés_rama_carrera_red</th>\n",
       "      <th>introvertido</th>\n",
       "      <th>comunicación</th>\n",
       "      <th>competitividad</th>\n",
       "      <th>liderazgo</th>\n",
       "    </tr>\n",
       "  </thead>\n",
       "  <tbody>\n",
       "    <tr>\n",
       "      <th>0</th>\n",
       "      <td>24</td>\n",
       "      <td>Hombre</td>\n",
       "      <td>Sí</td>\n",
       "      <td>No</td>\n",
       "      <td>No</td>\n",
       "      <td>Sí</td>\n",
       "      <td>Sí</td>\n",
       "      <td>No</td>\n",
       "      <td>Sí</td>\n",
       "      <td>No</td>\n",
       "      <td>...</td>\n",
       "      <td>3.0</td>\n",
       "      <td>3.0</td>\n",
       "      <td>2.0</td>\n",
       "      <td>4.0</td>\n",
       "      <td>1.0</td>\n",
       "      <td>5.0</td>\n",
       "      <td>No</td>\n",
       "      <td>Sí</td>\n",
       "      <td>Sí</td>\n",
       "      <td>No</td>\n",
       "    </tr>\n",
       "    <tr>\n",
       "      <th>1</th>\n",
       "      <td>25</td>\n",
       "      <td>Hombre</td>\n",
       "      <td>Sí</td>\n",
       "      <td>No</td>\n",
       "      <td>Sí</td>\n",
       "      <td>No</td>\n",
       "      <td>Sí</td>\n",
       "      <td>No</td>\n",
       "      <td>Sí</td>\n",
       "      <td>Sí</td>\n",
       "      <td>...</td>\n",
       "      <td>2.0</td>\n",
       "      <td>2.0</td>\n",
       "      <td>2.0</td>\n",
       "      <td>3.0</td>\n",
       "      <td>5.0</td>\n",
       "      <td>2.0</td>\n",
       "      <td>No</td>\n",
       "      <td>No</td>\n",
       "      <td>Sí</td>\n",
       "      <td>Sí</td>\n",
       "    </tr>\n",
       "    <tr>\n",
       "      <th>2</th>\n",
       "      <td>21</td>\n",
       "      <td>Hombre</td>\n",
       "      <td>Sí</td>\n",
       "      <td>No</td>\n",
       "      <td>Sí</td>\n",
       "      <td>No</td>\n",
       "      <td>Sí</td>\n",
       "      <td>No</td>\n",
       "      <td>Sí</td>\n",
       "      <td>No</td>\n",
       "      <td>...</td>\n",
       "      <td>4.0</td>\n",
       "      <td>4.0</td>\n",
       "      <td>4.0</td>\n",
       "      <td>5.0</td>\n",
       "      <td>4.0</td>\n",
       "      <td>5.0</td>\n",
       "      <td>No</td>\n",
       "      <td>Sí</td>\n",
       "      <td>Sí</td>\n",
       "      <td>Sí</td>\n",
       "    </tr>\n",
       "    <tr>\n",
       "      <th>3</th>\n",
       "      <td>22</td>\n",
       "      <td>Hombre</td>\n",
       "      <td>No</td>\n",
       "      <td>Sí</td>\n",
       "      <td>Sí</td>\n",
       "      <td>No</td>\n",
       "      <td>Sí</td>\n",
       "      <td>No</td>\n",
       "      <td>Sí</td>\n",
       "      <td>No</td>\n",
       "      <td>...</td>\n",
       "      <td>3.0</td>\n",
       "      <td>2.0</td>\n",
       "      <td>1.0</td>\n",
       "      <td>2.0</td>\n",
       "      <td>3.0</td>\n",
       "      <td>3.0</td>\n",
       "      <td>Sí</td>\n",
       "      <td>Sí</td>\n",
       "      <td>Sí</td>\n",
       "      <td>Sí</td>\n",
       "    </tr>\n",
       "    <tr>\n",
       "      <th>4</th>\n",
       "      <td>21</td>\n",
       "      <td>Mujer</td>\n",
       "      <td>No</td>\n",
       "      <td>Sí</td>\n",
       "      <td>Sí</td>\n",
       "      <td>No</td>\n",
       "      <td>Sí</td>\n",
       "      <td>Sí</td>\n",
       "      <td>Sí</td>\n",
       "      <td>No</td>\n",
       "      <td>...</td>\n",
       "      <td>3.0</td>\n",
       "      <td>3.0</td>\n",
       "      <td>4.0</td>\n",
       "      <td>5.0</td>\n",
       "      <td>4.0</td>\n",
       "      <td>4.0</td>\n",
       "      <td>Sí</td>\n",
       "      <td>No</td>\n",
       "      <td>No</td>\n",
       "      <td>Sí</td>\n",
       "    </tr>\n",
       "    <tr>\n",
       "      <th>...</th>\n",
       "      <td>...</td>\n",
       "      <td>...</td>\n",
       "      <td>...</td>\n",
       "      <td>...</td>\n",
       "      <td>...</td>\n",
       "      <td>...</td>\n",
       "      <td>...</td>\n",
       "      <td>...</td>\n",
       "      <td>...</td>\n",
       "      <td>...</td>\n",
       "      <td>...</td>\n",
       "      <td>...</td>\n",
       "      <td>...</td>\n",
       "      <td>...</td>\n",
       "      <td>...</td>\n",
       "      <td>...</td>\n",
       "      <td>...</td>\n",
       "      <td>...</td>\n",
       "      <td>...</td>\n",
       "      <td>...</td>\n",
       "      <td>...</td>\n",
       "    </tr>\n",
       "    <tr>\n",
       "      <th>225</th>\n",
       "      <td>27</td>\n",
       "      <td>Hombre</td>\n",
       "      <td>No</td>\n",
       "      <td>No</td>\n",
       "      <td>No</td>\n",
       "      <td>No</td>\n",
       "      <td>No</td>\n",
       "      <td>No</td>\n",
       "      <td>Sí</td>\n",
       "      <td>No</td>\n",
       "      <td>...</td>\n",
       "      <td>4.0</td>\n",
       "      <td>4.0</td>\n",
       "      <td>4.0</td>\n",
       "      <td>5.0</td>\n",
       "      <td>5.0</td>\n",
       "      <td>4.0</td>\n",
       "      <td>Sí</td>\n",
       "      <td>Sí</td>\n",
       "      <td>Sí</td>\n",
       "      <td>Sí</td>\n",
       "    </tr>\n",
       "    <tr>\n",
       "      <th>226</th>\n",
       "      <td>24</td>\n",
       "      <td>Mujer</td>\n",
       "      <td>Sí</td>\n",
       "      <td>No</td>\n",
       "      <td>Sí</td>\n",
       "      <td>No</td>\n",
       "      <td>Sí</td>\n",
       "      <td>No</td>\n",
       "      <td>Sí</td>\n",
       "      <td>No</td>\n",
       "      <td>...</td>\n",
       "      <td>4.0</td>\n",
       "      <td>5.0</td>\n",
       "      <td>5.0</td>\n",
       "      <td>5.0</td>\n",
       "      <td>5.0</td>\n",
       "      <td>5.0</td>\n",
       "      <td>Sí</td>\n",
       "      <td>Sí</td>\n",
       "      <td>No</td>\n",
       "      <td>Sí</td>\n",
       "    </tr>\n",
       "    <tr>\n",
       "      <th>227</th>\n",
       "      <td>24</td>\n",
       "      <td>Hombre</td>\n",
       "      <td>No</td>\n",
       "      <td>No</td>\n",
       "      <td>Sí</td>\n",
       "      <td>No</td>\n",
       "      <td>Sí</td>\n",
       "      <td>No</td>\n",
       "      <td>Sí</td>\n",
       "      <td>No</td>\n",
       "      <td>...</td>\n",
       "      <td>4.0</td>\n",
       "      <td>4.0</td>\n",
       "      <td>4.0</td>\n",
       "      <td>3.0</td>\n",
       "      <td>3.0</td>\n",
       "      <td>4.0</td>\n",
       "      <td>Sí</td>\n",
       "      <td>No</td>\n",
       "      <td>Sí</td>\n",
       "      <td>Sí</td>\n",
       "    </tr>\n",
       "    <tr>\n",
       "      <th>228</th>\n",
       "      <td>20</td>\n",
       "      <td>Hombre</td>\n",
       "      <td>Sí</td>\n",
       "      <td>No</td>\n",
       "      <td>Sí</td>\n",
       "      <td>No</td>\n",
       "      <td>No</td>\n",
       "      <td>Sí</td>\n",
       "      <td>Sí</td>\n",
       "      <td>No</td>\n",
       "      <td>...</td>\n",
       "      <td>NaN</td>\n",
       "      <td>NaN</td>\n",
       "      <td>NaN</td>\n",
       "      <td>NaN</td>\n",
       "      <td>NaN</td>\n",
       "      <td>NaN</td>\n",
       "      <td>No</td>\n",
       "      <td>Sí</td>\n",
       "      <td>No</td>\n",
       "      <td>Sí</td>\n",
       "    </tr>\n",
       "    <tr>\n",
       "      <th>229</th>\n",
       "      <td>27</td>\n",
       "      <td>Hombre</td>\n",
       "      <td>No</td>\n",
       "      <td>No</td>\n",
       "      <td>Sí</td>\n",
       "      <td>No</td>\n",
       "      <td>Sí</td>\n",
       "      <td>No</td>\n",
       "      <td>No</td>\n",
       "      <td>No</td>\n",
       "      <td>...</td>\n",
       "      <td>4.0</td>\n",
       "      <td>5.0</td>\n",
       "      <td>1.0</td>\n",
       "      <td>5.0</td>\n",
       "      <td>3.0</td>\n",
       "      <td>5.0</td>\n",
       "      <td>No</td>\n",
       "      <td>Sí</td>\n",
       "      <td>Sí</td>\n",
       "      <td>Sí</td>\n",
       "    </tr>\n",
       "  </tbody>\n",
       "</table>\n",
       "<p>230 rows × 43 columns</p>\n",
       "</div>"
      ],
      "text/plain": [
       "Variable  edad  genero trabajo foráneo familiares_unah familiares_is  \\\n",
       "0           24  Hombre      Sí      No              No            Sí   \n",
       "1           25  Hombre      Sí      No              Sí            No   \n",
       "2           21  Hombre      Sí      No              Sí            No   \n",
       "3           22  Hombre      No      Sí              Sí            No   \n",
       "4           21   Mujer      No      Sí              Sí            No   \n",
       "..         ...     ...     ...     ...             ...           ...   \n",
       "225         27  Hombre      No      No              No            No   \n",
       "226         24   Mujer      Sí      No              Sí            No   \n",
       "227         24  Hombre      No      No              Sí            No   \n",
       "228         20  Hombre      Sí      No              Sí            No   \n",
       "229         27  Hombre      No      No              Sí            No   \n",
       "\n",
       "Variable familiares_graduados influencia is_segunda_opcion carrera_simultanea  \\\n",
       "0                          Sí         No                Sí                 No   \n",
       "1                          Sí         No                Sí                 Sí   \n",
       "2                          Sí         No                Sí                 No   \n",
       "3                          Sí         No                Sí                 No   \n",
       "4                          Sí         Sí                Sí                 No   \n",
       "..                        ...        ...               ...                ...   \n",
       "225                        No         No                Sí                 No   \n",
       "226                        Sí         No                Sí                 No   \n",
       "227                        Sí         No                Sí                 No   \n",
       "228                        No         Sí                Sí                 No   \n",
       "229                        Sí         No                No                 No   \n",
       "\n",
       "Variable  ... interés_rama_carrera_ad interés_rama_carrera_analis  \\\n",
       "0         ...                     3.0                         3.0   \n",
       "1         ...                     2.0                         2.0   \n",
       "2         ...                     4.0                         4.0   \n",
       "3         ...                     3.0                         2.0   \n",
       "4         ...                     3.0                         3.0   \n",
       "..        ...                     ...                         ...   \n",
       "225       ...                     4.0                         4.0   \n",
       "226       ...                     4.0                         5.0   \n",
       "227       ...                     4.0                         4.0   \n",
       "228       ...                     NaN                         NaN   \n",
       "229       ...                     4.0                         5.0   \n",
       "\n",
       "Variable interés_rama_carrera_ark interés_rama_carrera_bd  \\\n",
       "0                             2.0                     4.0   \n",
       "1                             2.0                     3.0   \n",
       "2                             4.0                     5.0   \n",
       "3                             1.0                     2.0   \n",
       "4                             4.0                     5.0   \n",
       "..                            ...                     ...   \n",
       "225                           4.0                     5.0   \n",
       "226                           5.0                     5.0   \n",
       "227                           4.0                     3.0   \n",
       "228                           NaN                     NaN   \n",
       "229                           1.0                     5.0   \n",
       "\n",
       "Variable  interés_rama_carrera_prog interés_rama_carrera_red introvertido  \\\n",
       "0                               1.0                      5.0           No   \n",
       "1                               5.0                      2.0           No   \n",
       "2                               4.0                      5.0           No   \n",
       "3                               3.0                      3.0           Sí   \n",
       "4                               4.0                      4.0           Sí   \n",
       "..                              ...                      ...          ...   \n",
       "225                             5.0                      4.0           Sí   \n",
       "226                             5.0                      5.0           Sí   \n",
       "227                             3.0                      4.0           Sí   \n",
       "228                             NaN                      NaN           No   \n",
       "229                             3.0                      5.0           No   \n",
       "\n",
       "Variable comunicación competitividad liderazgo  \n",
       "0                  Sí             Sí        No  \n",
       "1                  No             Sí        Sí  \n",
       "2                  Sí             Sí        Sí  \n",
       "3                  Sí             Sí        Sí  \n",
       "4                  No             No        Sí  \n",
       "..                ...            ...       ...  \n",
       "225                Sí             Sí        Sí  \n",
       "226                Sí             No        Sí  \n",
       "227                No             Sí        Sí  \n",
       "228                Sí             No        Sí  \n",
       "229                Sí             Sí        Sí  \n",
       "\n",
       "[230 rows x 43 columns]"
      ]
     },
     "execution_count": 9,
     "metadata": {},
     "output_type": "execute_result"
    }
   ],
   "source": [
    "survey"
   ]
  },
  {
   "cell_type": "code",
   "execution_count": 10,
   "id": "93247e50-1733-4e06-a5a3-6ec4553f90c9",
   "metadata": {},
   "outputs": [],
   "source": [
    "Analysis_null_values = pd.DataFrame()\n",
    "for c_ in survey.columns:\n",
    "    r_ = pd.DataFrame({\n",
    "        \"columna\": [c_]\n",
    "        , \"frequencial\": np.sum( pd.isnull( survey.loc[ : , c_ ] ) )\n",
    "        , \"porcentaje\":  np.sum( pd.isnull( survey.loc[ : , c_] ) ) / survey.shape[0]\n",
    "    })\n",
    "    Analysis_null_values = pd.concat([ Analysis_null_values , r_ ])    "
   ]
  },
  {
   "cell_type": "code",
   "execution_count": 11,
   "id": "d9263345-40e7-4e7b-a8ad-c98816f4db80",
   "metadata": {},
   "outputs": [
    {
     "data": {
      "text/html": [
       "<div>\n",
       "<style scoped>\n",
       "    .dataframe tbody tr th:only-of-type {\n",
       "        vertical-align: middle;\n",
       "    }\n",
       "\n",
       "    .dataframe tbody tr th {\n",
       "        vertical-align: top;\n",
       "    }\n",
       "\n",
       "    .dataframe thead th {\n",
       "        text-align: right;\n",
       "    }\n",
       "</style>\n",
       "<table border=\"1\" class=\"dataframe\">\n",
       "  <thead>\n",
       "    <tr style=\"text-align: right;\">\n",
       "      <th></th>\n",
       "      <th>columna</th>\n",
       "      <th>frequencial</th>\n",
       "      <th>porcentaje</th>\n",
       "    </tr>\n",
       "  </thead>\n",
       "  <tbody>\n",
       "    <tr>\n",
       "      <th>0</th>\n",
       "      <td>herramientas_planificacion</td>\n",
       "      <td>35</td>\n",
       "      <td>0.152174</td>\n",
       "    </tr>\n",
       "    <tr>\n",
       "      <th>0</th>\n",
       "      <td>malas_experiencias</td>\n",
       "      <td>10</td>\n",
       "      <td>0.043478</td>\n",
       "    </tr>\n",
       "    <tr>\n",
       "      <th>0</th>\n",
       "      <td>interés_rama_carrera_fis</td>\n",
       "      <td>1</td>\n",
       "      <td>0.004348</td>\n",
       "    </tr>\n",
       "    <tr>\n",
       "      <th>0</th>\n",
       "      <td>interés_rama_carrera_el</td>\n",
       "      <td>3</td>\n",
       "      <td>0.013043</td>\n",
       "    </tr>\n",
       "    <tr>\n",
       "      <th>0</th>\n",
       "      <td>interés_rama_carrera_ad</td>\n",
       "      <td>3</td>\n",
       "      <td>0.013043</td>\n",
       "    </tr>\n",
       "    <tr>\n",
       "      <th>0</th>\n",
       "      <td>interés_rama_carrera_analis</td>\n",
       "      <td>2</td>\n",
       "      <td>0.008696</td>\n",
       "    </tr>\n",
       "    <tr>\n",
       "      <th>0</th>\n",
       "      <td>interés_rama_carrera_ark</td>\n",
       "      <td>2</td>\n",
       "      <td>0.008696</td>\n",
       "    </tr>\n",
       "    <tr>\n",
       "      <th>0</th>\n",
       "      <td>interés_rama_carrera_bd</td>\n",
       "      <td>3</td>\n",
       "      <td>0.013043</td>\n",
       "    </tr>\n",
       "    <tr>\n",
       "      <th>0</th>\n",
       "      <td>interés_rama_carrera_prog</td>\n",
       "      <td>1</td>\n",
       "      <td>0.004348</td>\n",
       "    </tr>\n",
       "    <tr>\n",
       "      <th>0</th>\n",
       "      <td>interés_rama_carrera_red</td>\n",
       "      <td>2</td>\n",
       "      <td>0.008696</td>\n",
       "    </tr>\n",
       "  </tbody>\n",
       "</table>\n",
       "</div>"
      ],
      "text/plain": [
       "                       columna  frequencial  porcentaje\n",
       "0   herramientas_planificacion           35    0.152174\n",
       "0           malas_experiencias           10    0.043478\n",
       "0     interés_rama_carrera_fis            1    0.004348\n",
       "0      interés_rama_carrera_el            3    0.013043\n",
       "0      interés_rama_carrera_ad            3    0.013043\n",
       "0  interés_rama_carrera_analis            2    0.008696\n",
       "0     interés_rama_carrera_ark            2    0.008696\n",
       "0      interés_rama_carrera_bd            3    0.013043\n",
       "0    interés_rama_carrera_prog            1    0.004348\n",
       "0     interés_rama_carrera_red            2    0.008696"
      ]
     },
     "execution_count": 11,
     "metadata": {},
     "output_type": "execute_result"
    }
   ],
   "source": [
    "Analysis_null_values.loc[ Analysis_null_values['porcentaje'] >= 0.001 , :  ]"
   ]
  },
  {
   "cell_type": "code",
   "execution_count": 512,
   "id": "25c80812-3f8f-4917-b41c-07ddb7e787cb",
   "metadata": {},
   "outputs": [],
   "source": [
    "surveySinNaNs = survey.loc[  \n",
    "    ~( pd.isnull( survey[\"interés_rama_carrera_el\"] )\n",
    "    | pd.isnull( survey[\"interés_rama_carrera_fis\"] )\n",
    "    | pd.isnull( survey[\"interés_rama_carrera_ad\"] )\n",
    "    | pd.isnull( survey[\"interés_rama_carrera_analis\"] )\n",
    "    | pd.isnull( survey[\"interés_rama_carrera_ark\"] )\n",
    "    | pd.isnull( survey[\"interés_rama_carrera_bd\"] )\n",
    "    | pd.isnull( survey[\"interés_rama_carrera_prog\"] )\n",
    "    | pd.isnull( survey[\"interés_rama_carrera_red\"] ) )\n",
    "    ,  \n",
    "].copy()"
   ]
  },
  {
   "cell_type": "code",
   "execution_count": 513,
   "id": "94e225d5-4e38-4ea9-a336-8307e3539aeb",
   "metadata": {},
   "outputs": [
    {
     "data": {
      "text/html": [
       "<div>\n",
       "<style scoped>\n",
       "    .dataframe tbody tr th:only-of-type {\n",
       "        vertical-align: middle;\n",
       "    }\n",
       "\n",
       "    .dataframe tbody tr th {\n",
       "        vertical-align: top;\n",
       "    }\n",
       "\n",
       "    .dataframe thead th {\n",
       "        text-align: right;\n",
       "    }\n",
       "</style>\n",
       "<table border=\"1\" class=\"dataframe\">\n",
       "  <thead>\n",
       "    <tr style=\"text-align: right;\">\n",
       "      <th>Variable</th>\n",
       "      <th>edad</th>\n",
       "      <th>genero</th>\n",
       "      <th>trabajo</th>\n",
       "      <th>foráneo</th>\n",
       "      <th>familiares_unah</th>\n",
       "      <th>familiares_is</th>\n",
       "      <th>familiares_graduados</th>\n",
       "      <th>influencia</th>\n",
       "      <th>is_segunda_opcion</th>\n",
       "      <th>carrera_simultanea</th>\n",
       "      <th>...</th>\n",
       "      <th>interés_rama_carrera_ad</th>\n",
       "      <th>interés_rama_carrera_analis</th>\n",
       "      <th>interés_rama_carrera_ark</th>\n",
       "      <th>interés_rama_carrera_bd</th>\n",
       "      <th>interés_rama_carrera_prog</th>\n",
       "      <th>interés_rama_carrera_red</th>\n",
       "      <th>introvertido</th>\n",
       "      <th>comunicación</th>\n",
       "      <th>competitividad</th>\n",
       "      <th>liderazgo</th>\n",
       "    </tr>\n",
       "  </thead>\n",
       "  <tbody>\n",
       "    <tr>\n",
       "      <th>0</th>\n",
       "      <td>24</td>\n",
       "      <td>Hombre</td>\n",
       "      <td>Sí</td>\n",
       "      <td>No</td>\n",
       "      <td>No</td>\n",
       "      <td>Sí</td>\n",
       "      <td>Sí</td>\n",
       "      <td>No</td>\n",
       "      <td>Sí</td>\n",
       "      <td>No</td>\n",
       "      <td>...</td>\n",
       "      <td>3.0</td>\n",
       "      <td>3.0</td>\n",
       "      <td>2.0</td>\n",
       "      <td>4.0</td>\n",
       "      <td>1.0</td>\n",
       "      <td>5.0</td>\n",
       "      <td>No</td>\n",
       "      <td>Sí</td>\n",
       "      <td>Sí</td>\n",
       "      <td>No</td>\n",
       "    </tr>\n",
       "    <tr>\n",
       "      <th>1</th>\n",
       "      <td>25</td>\n",
       "      <td>Hombre</td>\n",
       "      <td>Sí</td>\n",
       "      <td>No</td>\n",
       "      <td>Sí</td>\n",
       "      <td>No</td>\n",
       "      <td>Sí</td>\n",
       "      <td>No</td>\n",
       "      <td>Sí</td>\n",
       "      <td>Sí</td>\n",
       "      <td>...</td>\n",
       "      <td>2.0</td>\n",
       "      <td>2.0</td>\n",
       "      <td>2.0</td>\n",
       "      <td>3.0</td>\n",
       "      <td>5.0</td>\n",
       "      <td>2.0</td>\n",
       "      <td>No</td>\n",
       "      <td>No</td>\n",
       "      <td>Sí</td>\n",
       "      <td>Sí</td>\n",
       "    </tr>\n",
       "    <tr>\n",
       "      <th>2</th>\n",
       "      <td>21</td>\n",
       "      <td>Hombre</td>\n",
       "      <td>Sí</td>\n",
       "      <td>No</td>\n",
       "      <td>Sí</td>\n",
       "      <td>No</td>\n",
       "      <td>Sí</td>\n",
       "      <td>No</td>\n",
       "      <td>Sí</td>\n",
       "      <td>No</td>\n",
       "      <td>...</td>\n",
       "      <td>4.0</td>\n",
       "      <td>4.0</td>\n",
       "      <td>4.0</td>\n",
       "      <td>5.0</td>\n",
       "      <td>4.0</td>\n",
       "      <td>5.0</td>\n",
       "      <td>No</td>\n",
       "      <td>Sí</td>\n",
       "      <td>Sí</td>\n",
       "      <td>Sí</td>\n",
       "    </tr>\n",
       "    <tr>\n",
       "      <th>3</th>\n",
       "      <td>22</td>\n",
       "      <td>Hombre</td>\n",
       "      <td>No</td>\n",
       "      <td>Sí</td>\n",
       "      <td>Sí</td>\n",
       "      <td>No</td>\n",
       "      <td>Sí</td>\n",
       "      <td>No</td>\n",
       "      <td>Sí</td>\n",
       "      <td>No</td>\n",
       "      <td>...</td>\n",
       "      <td>3.0</td>\n",
       "      <td>2.0</td>\n",
       "      <td>1.0</td>\n",
       "      <td>2.0</td>\n",
       "      <td>3.0</td>\n",
       "      <td>3.0</td>\n",
       "      <td>Sí</td>\n",
       "      <td>Sí</td>\n",
       "      <td>Sí</td>\n",
       "      <td>Sí</td>\n",
       "    </tr>\n",
       "    <tr>\n",
       "      <th>4</th>\n",
       "      <td>21</td>\n",
       "      <td>Mujer</td>\n",
       "      <td>No</td>\n",
       "      <td>Sí</td>\n",
       "      <td>Sí</td>\n",
       "      <td>No</td>\n",
       "      <td>Sí</td>\n",
       "      <td>Sí</td>\n",
       "      <td>Sí</td>\n",
       "      <td>No</td>\n",
       "      <td>...</td>\n",
       "      <td>3.0</td>\n",
       "      <td>3.0</td>\n",
       "      <td>4.0</td>\n",
       "      <td>5.0</td>\n",
       "      <td>4.0</td>\n",
       "      <td>4.0</td>\n",
       "      <td>Sí</td>\n",
       "      <td>No</td>\n",
       "      <td>No</td>\n",
       "      <td>Sí</td>\n",
       "    </tr>\n",
       "    <tr>\n",
       "      <th>...</th>\n",
       "      <td>...</td>\n",
       "      <td>...</td>\n",
       "      <td>...</td>\n",
       "      <td>...</td>\n",
       "      <td>...</td>\n",
       "      <td>...</td>\n",
       "      <td>...</td>\n",
       "      <td>...</td>\n",
       "      <td>...</td>\n",
       "      <td>...</td>\n",
       "      <td>...</td>\n",
       "      <td>...</td>\n",
       "      <td>...</td>\n",
       "      <td>...</td>\n",
       "      <td>...</td>\n",
       "      <td>...</td>\n",
       "      <td>...</td>\n",
       "      <td>...</td>\n",
       "      <td>...</td>\n",
       "      <td>...</td>\n",
       "      <td>...</td>\n",
       "    </tr>\n",
       "    <tr>\n",
       "      <th>224</th>\n",
       "      <td>24</td>\n",
       "      <td>Mujer</td>\n",
       "      <td>No</td>\n",
       "      <td>No</td>\n",
       "      <td>Sí</td>\n",
       "      <td>No</td>\n",
       "      <td>No</td>\n",
       "      <td>No</td>\n",
       "      <td>No</td>\n",
       "      <td>No</td>\n",
       "      <td>...</td>\n",
       "      <td>3.0</td>\n",
       "      <td>4.0</td>\n",
       "      <td>5.0</td>\n",
       "      <td>4.0</td>\n",
       "      <td>2.0</td>\n",
       "      <td>5.0</td>\n",
       "      <td>No</td>\n",
       "      <td>Sí</td>\n",
       "      <td>Sí</td>\n",
       "      <td>Sí</td>\n",
       "    </tr>\n",
       "    <tr>\n",
       "      <th>225</th>\n",
       "      <td>27</td>\n",
       "      <td>Hombre</td>\n",
       "      <td>No</td>\n",
       "      <td>No</td>\n",
       "      <td>No</td>\n",
       "      <td>No</td>\n",
       "      <td>No</td>\n",
       "      <td>No</td>\n",
       "      <td>Sí</td>\n",
       "      <td>No</td>\n",
       "      <td>...</td>\n",
       "      <td>4.0</td>\n",
       "      <td>4.0</td>\n",
       "      <td>4.0</td>\n",
       "      <td>5.0</td>\n",
       "      <td>5.0</td>\n",
       "      <td>4.0</td>\n",
       "      <td>Sí</td>\n",
       "      <td>Sí</td>\n",
       "      <td>Sí</td>\n",
       "      <td>Sí</td>\n",
       "    </tr>\n",
       "    <tr>\n",
       "      <th>226</th>\n",
       "      <td>24</td>\n",
       "      <td>Mujer</td>\n",
       "      <td>Sí</td>\n",
       "      <td>No</td>\n",
       "      <td>Sí</td>\n",
       "      <td>No</td>\n",
       "      <td>Sí</td>\n",
       "      <td>No</td>\n",
       "      <td>Sí</td>\n",
       "      <td>No</td>\n",
       "      <td>...</td>\n",
       "      <td>4.0</td>\n",
       "      <td>5.0</td>\n",
       "      <td>5.0</td>\n",
       "      <td>5.0</td>\n",
       "      <td>5.0</td>\n",
       "      <td>5.0</td>\n",
       "      <td>Sí</td>\n",
       "      <td>Sí</td>\n",
       "      <td>No</td>\n",
       "      <td>Sí</td>\n",
       "    </tr>\n",
       "    <tr>\n",
       "      <th>227</th>\n",
       "      <td>24</td>\n",
       "      <td>Hombre</td>\n",
       "      <td>No</td>\n",
       "      <td>No</td>\n",
       "      <td>Sí</td>\n",
       "      <td>No</td>\n",
       "      <td>Sí</td>\n",
       "      <td>No</td>\n",
       "      <td>Sí</td>\n",
       "      <td>No</td>\n",
       "      <td>...</td>\n",
       "      <td>4.0</td>\n",
       "      <td>4.0</td>\n",
       "      <td>4.0</td>\n",
       "      <td>3.0</td>\n",
       "      <td>3.0</td>\n",
       "      <td>4.0</td>\n",
       "      <td>Sí</td>\n",
       "      <td>No</td>\n",
       "      <td>Sí</td>\n",
       "      <td>Sí</td>\n",
       "    </tr>\n",
       "    <tr>\n",
       "      <th>229</th>\n",
       "      <td>27</td>\n",
       "      <td>Hombre</td>\n",
       "      <td>No</td>\n",
       "      <td>No</td>\n",
       "      <td>Sí</td>\n",
       "      <td>No</td>\n",
       "      <td>Sí</td>\n",
       "      <td>No</td>\n",
       "      <td>No</td>\n",
       "      <td>No</td>\n",
       "      <td>...</td>\n",
       "      <td>4.0</td>\n",
       "      <td>5.0</td>\n",
       "      <td>1.0</td>\n",
       "      <td>5.0</td>\n",
       "      <td>3.0</td>\n",
       "      <td>5.0</td>\n",
       "      <td>No</td>\n",
       "      <td>Sí</td>\n",
       "      <td>Sí</td>\n",
       "      <td>Sí</td>\n",
       "    </tr>\n",
       "  </tbody>\n",
       "</table>\n",
       "<p>225 rows × 43 columns</p>\n",
       "</div>"
      ],
      "text/plain": [
       "Variable  edad  genero trabajo foráneo familiares_unah familiares_is  \\\n",
       "0           24  Hombre      Sí      No              No            Sí   \n",
       "1           25  Hombre      Sí      No              Sí            No   \n",
       "2           21  Hombre      Sí      No              Sí            No   \n",
       "3           22  Hombre      No      Sí              Sí            No   \n",
       "4           21   Mujer      No      Sí              Sí            No   \n",
       "..         ...     ...     ...     ...             ...           ...   \n",
       "224         24   Mujer      No      No              Sí            No   \n",
       "225         27  Hombre      No      No              No            No   \n",
       "226         24   Mujer      Sí      No              Sí            No   \n",
       "227         24  Hombre      No      No              Sí            No   \n",
       "229         27  Hombre      No      No              Sí            No   \n",
       "\n",
       "Variable familiares_graduados influencia is_segunda_opcion carrera_simultanea  \\\n",
       "0                          Sí         No                Sí                 No   \n",
       "1                          Sí         No                Sí                 Sí   \n",
       "2                          Sí         No                Sí                 No   \n",
       "3                          Sí         No                Sí                 No   \n",
       "4                          Sí         Sí                Sí                 No   \n",
       "..                        ...        ...               ...                ...   \n",
       "224                        No         No                No                 No   \n",
       "225                        No         No                Sí                 No   \n",
       "226                        Sí         No                Sí                 No   \n",
       "227                        Sí         No                Sí                 No   \n",
       "229                        Sí         No                No                 No   \n",
       "\n",
       "Variable  ... interés_rama_carrera_ad interés_rama_carrera_analis  \\\n",
       "0         ...                     3.0                         3.0   \n",
       "1         ...                     2.0                         2.0   \n",
       "2         ...                     4.0                         4.0   \n",
       "3         ...                     3.0                         2.0   \n",
       "4         ...                     3.0                         3.0   \n",
       "..        ...                     ...                         ...   \n",
       "224       ...                     3.0                         4.0   \n",
       "225       ...                     4.0                         4.0   \n",
       "226       ...                     4.0                         5.0   \n",
       "227       ...                     4.0                         4.0   \n",
       "229       ...                     4.0                         5.0   \n",
       "\n",
       "Variable interés_rama_carrera_ark interés_rama_carrera_bd  \\\n",
       "0                             2.0                     4.0   \n",
       "1                             2.0                     3.0   \n",
       "2                             4.0                     5.0   \n",
       "3                             1.0                     2.0   \n",
       "4                             4.0                     5.0   \n",
       "..                            ...                     ...   \n",
       "224                           5.0                     4.0   \n",
       "225                           4.0                     5.0   \n",
       "226                           5.0                     5.0   \n",
       "227                           4.0                     3.0   \n",
       "229                           1.0                     5.0   \n",
       "\n",
       "Variable  interés_rama_carrera_prog interés_rama_carrera_red introvertido  \\\n",
       "0                               1.0                      5.0           No   \n",
       "1                               5.0                      2.0           No   \n",
       "2                               4.0                      5.0           No   \n",
       "3                               3.0                      3.0           Sí   \n",
       "4                               4.0                      4.0           Sí   \n",
       "..                              ...                      ...          ...   \n",
       "224                             2.0                      5.0           No   \n",
       "225                             5.0                      4.0           Sí   \n",
       "226                             5.0                      5.0           Sí   \n",
       "227                             3.0                      4.0           Sí   \n",
       "229                             3.0                      5.0           No   \n",
       "\n",
       "Variable comunicación competitividad liderazgo  \n",
       "0                  Sí             Sí        No  \n",
       "1                  No             Sí        Sí  \n",
       "2                  Sí             Sí        Sí  \n",
       "3                  Sí             Sí        Sí  \n",
       "4                  No             No        Sí  \n",
       "..                ...            ...       ...  \n",
       "224                Sí             Sí        Sí  \n",
       "225                Sí             Sí        Sí  \n",
       "226                Sí             No        Sí  \n",
       "227                No             Sí        Sí  \n",
       "229                Sí             Sí        Sí  \n",
       "\n",
       "[225 rows x 43 columns]"
      ]
     },
     "execution_count": 513,
     "metadata": {},
     "output_type": "execute_result"
    }
   ],
   "source": [
    "surveySinNaNs"
   ]
  },
  {
   "cell_type": "code",
   "execution_count": 14,
   "id": "7ddd72dc-a857-41d5-a73e-6dbb217862ac",
   "metadata": {},
   "outputs": [
    {
     "data": {
      "text/plain": [
       "0.021739130434782608"
      ]
     },
     "execution_count": 14,
     "metadata": {},
     "output_type": "execute_result"
    }
   ],
   "source": [
    "5 / survey.shape[0]"
   ]
  },
  {
   "cell_type": "code",
   "execution_count": 15,
   "id": "5e6a75cb-fb34-4dd3-87dd-fbbac85ff38f",
   "metadata": {},
   "outputs": [
    {
     "data": {
      "text/plain": [
       "225"
      ]
     },
     "execution_count": 15,
     "metadata": {},
     "output_type": "execute_result"
    }
   ],
   "source": [
    "survey.shape[0] - 5"
   ]
  },
  {
   "cell_type": "markdown",
   "id": "51496fd9-f018-4222-9493-692b56d09305",
   "metadata": {},
   "source": [
    "Ejemplo de como calcular medianas para ser remplazadas"
   ]
  },
  {
   "cell_type": "code",
   "execution_count": 12,
   "id": "b7804dea-d97d-4278-840c-699ccd61006f",
   "metadata": {},
   "outputs": [],
   "source": [
    "survey.loc[ pd.isnull( survey[\"interés_rama_carrera_el\"] ) , \"interés_rama_carrera_el\" ] = np.nanmedian( survey[\"interés_rama_carrera_el\"] )"
   ]
  },
  {
   "cell_type": "code",
   "execution_count": 13,
   "id": "0af9fc29-d5d6-4796-80c1-2b3dba5ed845",
   "metadata": {},
   "outputs": [],
   "source": [
    "cc_ = Analysis_null_values.loc[ \n",
    "    (Analysis_null_values['porcentaje'] >= 0.001) \n",
    "    & (Analysis_null_values['porcentaje'] < 0.04 )\n",
    "    , \"columna\"  \n",
    "]"
   ]
  },
  {
   "cell_type": "code",
   "execution_count": 14,
   "id": "b4756be2-8fd7-4bc1-b265-86ddcbf33ac3",
   "metadata": {},
   "outputs": [],
   "source": [
    "for c in cc_:\n",
    "    survey.loc[ pd.isnull( survey[c] ) , c ] = np.nanmedian( survey[c] )"
   ]
  },
  {
   "cell_type": "code",
   "execution_count": 15,
   "id": "2a1e3d48-6448-40cb-a5b5-bbf15376d9f7",
   "metadata": {},
   "outputs": [],
   "source": [
    "survey.loc[ pd.isnull( survey[\"malas_experiencias\"] ) , \"malas_experiencias\" ] = \"No malas experiencias\"\n",
    "survey.loc[ pd.isnull( survey[\"herramientas_planificacion\"] ) , \"herramientas_planificacion\" ] = \"Ninguno\""
   ]
  },
  {
   "cell_type": "code",
   "execution_count": 16,
   "id": "2f5bc848-5cfe-41da-a7ff-72ae78b3795a",
   "metadata": {},
   "outputs": [
    {
     "data": {
      "text/plain": [
       "0                     Notas/Apuntes/Calendarios/Libretas\n",
       "1                                        Google Calendar\n",
       "2      Notion, Microsoft OneNote, Google Calendar, No...\n",
       "8      Google Calendar, Notas/Apuntes/Calendarios/Lib...\n",
       "10                                       Microsoft To Do\n",
       "13                                                Trello\n",
       "15     Google Calendar, Notas/Apuntes/Calendarios/Lib...\n",
       "16                                               Ninguno\n",
       "17                                                 excel\n",
       "19                                                  Jira\n",
       "22                                     Microsoft OneNote\n",
       "25                                          Jira, Trello\n",
       "26     Microsoft OneNote, Notas/Apuntes/Calendarios/L...\n",
       "29     Jira, Microsoft OneNote, Google Calendar, Nota...\n",
       "31     Trello, Notion, Google Calendar, Notas/Apuntes...\n",
       "32                       Trello, Notion, Google Calendar\n",
       "34                                                 Excel\n",
       "36     Microsoft OneNote, Google Calendar, Notas/Apun...\n",
       "38     Notion, Microsoft OneNote, Notas/Apuntes/Calen...\n",
       "40                     Trello, Notion, Microsoft OneNote\n",
       "49            Trello, Notas/Apuntes/Calendarios/Libretas\n",
       "52                               Trello, Google Calendar\n",
       "55     Trello, Notion, Notas/Apuntes/Calendarios/Libr...\n",
       "56                                Calendario interactivo\n",
       "57                               Notion, Google Calendar\n",
       "68                                          Mentalmente \n",
       "73                                                    No\n",
       "79     Trello, Microsoft OneNote, Notas/Apuntes/Calen...\n",
       "83                                  Mi agenda en físico \n",
       "90                                               ninguan\n",
       "112    Trello, Google Calendar, Notas/Apuntes/Calenda...\n",
       "131    Notion, Google Calendar, Notas/Apuntes/Calenda...\n",
       "134    Microsoft OneNote, Notas/Apuntes/Calendarios/L...\n",
       "139                                               Notion\n",
       "146    Trello, Notion, Microsoft OneNote, Google Cale...\n",
       "147           Notion, Notas/Apuntes/Calendarios/Libretas\n",
       "150    Trello, Microsoft OneNote, Google Calendar, No...\n",
       "151                                        lapiz y papel\n",
       "169    Notas/Apuntes/Calendarios/Libretas, Microsoft ...\n",
       "173                                          Google Keep\n",
       "206                                              Clickup\n",
       "210                        Jira, Trello, Google Calendar\n",
       "225                                Trello, Notion, Asana\n",
       "Name: herramientas_planificacion, dtype: object"
      ]
     },
     "execution_count": 16,
     "metadata": {},
     "output_type": "execute_result"
    }
   ],
   "source": [
    "survey.loc[ : , \"herramientas_planificacion\" ].drop_duplicates()"
   ]
  },
  {
   "cell_type": "code",
   "execution_count": 17,
   "id": "18360676-4971-49e5-af3c-1e84d38e26a7",
   "metadata": {},
   "outputs": [],
   "source": [
    "def get_popularidad_seleccion_multiple(df, col, sep=','):\n",
    "    summary = pd.DataFrame()\n",
    "    for index, row in df.iterrows():    \n",
    "        s = pd.DataFrame({\n",
    "            col: row[col].split(sep)\n",
    "        })\n",
    "        s[col] =  s.apply( lambda r: r[col].strip() , axis = 1 )\n",
    "        s['n'] = 1\n",
    "        summary = pd.concat( [ summary , s ] )    \n",
    "    summary = summary.groupby( [col] , as_index = False ).agg( { 'n' : ['sum'] } )\n",
    "    summary.columns = summary.columns.droplevel(1)\n",
    "    return summary.sort_values('n', ascending=False)"
   ]
  },
  {
   "cell_type": "code",
   "execution_count": 18,
   "id": "75062d6e-f1da-4c8e-bf43-2ec07faafe9b",
   "metadata": {},
   "outputs": [],
   "source": [
    "summary = get_popularidad_seleccion_multiple( survey , \"herramientas_planificacion\" )"
   ]
  },
  {
   "cell_type": "code",
   "execution_count": 19,
   "id": "eb275357-4db6-4a39-8f2f-71f50e5b2a01",
   "metadata": {},
   "outputs": [],
   "source": [
    "summary = summary.merge( equivalentes_plan_tool , right_on=\"col\" , left_on=\"herramientas_planificacion\" , how='inner' )"
   ]
  },
  {
   "cell_type": "code",
   "execution_count": 20,
   "id": "b13166de-66e5-49be-95ab-7794cf5f7271",
   "metadata": {},
   "outputs": [],
   "source": [
    "summary = summary.loc[ : , ['equivalente','n'] ]"
   ]
  },
  {
   "cell_type": "code",
   "execution_count": 21,
   "id": "005fd33c-b809-4dd0-8134-242a48108c1d",
   "metadata": {},
   "outputs": [],
   "source": [
    "summary = summary.groupby( [\"equivalente\"] , as_index=False  ).sum()"
   ]
  },
  {
   "cell_type": "code",
   "execution_count": 22,
   "id": "a0862f60-bb73-463c-a917-ec53564ef7ae",
   "metadata": {},
   "outputs": [],
   "source": [
    "summary = summary.sort_values( ['n'] , ascending=False )"
   ]
  },
  {
   "cell_type": "code",
   "execution_count": 23,
   "id": "13db3624-15b5-4e19-8dcd-4941fce9e55a",
   "metadata": {},
   "outputs": [],
   "source": [
    "summary['percentage'] =  summary.apply( lambda r: r['n'] / np.sum(summary['n']) , axis = 1 ) "
   ]
  },
  {
   "cell_type": "code",
   "execution_count": 24,
   "id": "a892eb24-ed2c-4bdc-92e2-4980285da800",
   "metadata": {},
   "outputs": [
    {
     "data": {
      "text/html": [
       "<div>\n",
       "<style scoped>\n",
       "    .dataframe tbody tr th:only-of-type {\n",
       "        vertical-align: middle;\n",
       "    }\n",
       "\n",
       "    .dataframe tbody tr th {\n",
       "        vertical-align: top;\n",
       "    }\n",
       "\n",
       "    .dataframe thead th {\n",
       "        text-align: right;\n",
       "    }\n",
       "</style>\n",
       "<table border=\"1\" class=\"dataframe\">\n",
       "  <thead>\n",
       "    <tr style=\"text-align: right;\">\n",
       "      <th></th>\n",
       "      <th>equivalente</th>\n",
       "      <th>n</th>\n",
       "      <th>percentage</th>\n",
       "    </tr>\n",
       "  </thead>\n",
       "  <tbody>\n",
       "    <tr>\n",
       "      <th>6</th>\n",
       "      <td>Notas/Apuntes/Calendarios/Libretas</td>\n",
       "      <td>212</td>\n",
       "      <td>0.627219</td>\n",
       "    </tr>\n",
       "    <tr>\n",
       "      <th>5</th>\n",
       "      <td>Ninguno</td>\n",
       "      <td>38</td>\n",
       "      <td>0.112426</td>\n",
       "    </tr>\n",
       "    <tr>\n",
       "      <th>9</th>\n",
       "      <td>Trello</td>\n",
       "      <td>34</td>\n",
       "      <td>0.100592</td>\n",
       "    </tr>\n",
       "    <tr>\n",
       "      <th>7</th>\n",
       "      <td>Notion</td>\n",
       "      <td>20</td>\n",
       "      <td>0.059172</td>\n",
       "    </tr>\n",
       "    <tr>\n",
       "      <th>3</th>\n",
       "      <td>Microsoft OneNote</td>\n",
       "      <td>19</td>\n",
       "      <td>0.056213</td>\n",
       "    </tr>\n",
       "    <tr>\n",
       "      <th>2</th>\n",
       "      <td>Jira</td>\n",
       "      <td>5</td>\n",
       "      <td>0.014793</td>\n",
       "    </tr>\n",
       "    <tr>\n",
       "      <th>8</th>\n",
       "      <td>Otros</td>\n",
       "      <td>4</td>\n",
       "      <td>0.011834</td>\n",
       "    </tr>\n",
       "    <tr>\n",
       "      <th>0</th>\n",
       "      <td>Excel</td>\n",
       "      <td>2</td>\n",
       "      <td>0.005917</td>\n",
       "    </tr>\n",
       "    <tr>\n",
       "      <th>1</th>\n",
       "      <td>Google Keep</td>\n",
       "      <td>2</td>\n",
       "      <td>0.005917</td>\n",
       "    </tr>\n",
       "    <tr>\n",
       "      <th>4</th>\n",
       "      <td>Microsoft To Do</td>\n",
       "      <td>2</td>\n",
       "      <td>0.005917</td>\n",
       "    </tr>\n",
       "  </tbody>\n",
       "</table>\n",
       "</div>"
      ],
      "text/plain": [
       "                          equivalente    n  percentage\n",
       "6  Notas/Apuntes/Calendarios/Libretas  212    0.627219\n",
       "5                             Ninguno   38    0.112426\n",
       "9                              Trello   34    0.100592\n",
       "7                              Notion   20    0.059172\n",
       "3                   Microsoft OneNote   19    0.056213\n",
       "2                                Jira    5    0.014793\n",
       "8                               Otros    4    0.011834\n",
       "0                               Excel    2    0.005917\n",
       "1                         Google Keep    2    0.005917\n",
       "4                     Microsoft To Do    2    0.005917"
      ]
     },
     "execution_count": 24,
     "metadata": {},
     "output_type": "execute_result"
    }
   ],
   "source": [
    "summary"
   ]
  },
  {
   "cell_type": "code",
   "execution_count": 25,
   "id": "b3a76e95-3c8d-4391-88c6-a6f29483f385",
   "metadata": {},
   "outputs": [
    {
     "data": {
      "text/plain": [
       "<BarContainer object of 10 artists>"
      ]
     },
     "execution_count": 25,
     "metadata": {},
     "output_type": "execute_result"
    },
    {
     "data": {
      "image/png": "[encoded data removed]",
      "text/plain": [
       "<Figure size 432x288 with 1 Axes>"
      ]
     },
     "metadata": {
      "needs_background": "light"
     },
     "output_type": "display_data"
    }
   ],
   "source": [
    "plt.xticks( rotation = 90 )\n",
    "plt.bar( summary['equivalente'] , summary['percentage'] )"
   ]
  },
  {
   "cell_type": "markdown",
   "id": "4e38cab6-994d-485a-b9d7-3e51e81efed9",
   "metadata": {},
   "source": [
    "## Malas experiencias"
   ]
  },
  {
   "cell_type": "code",
   "execution_count": 26,
   "id": "95ce8421-1776-47b9-960d-3a725e06420e",
   "metadata": {},
   "outputs": [],
   "source": [
    "summary = get_popularidad_seleccion_multiple( survey , \"malas_experiencias\" )"
   ]
  },
  {
   "cell_type": "code",
   "execution_count": 27,
   "id": "6b97d143-94a2-4a7f-91cb-a5196ef1cb33",
   "metadata": {},
   "outputs": [],
   "source": [
    "summary = summary.merge( equivalentes_bad_exps , right_on=\"col\" , left_on=\"malas_experiencias\" , how='inner' )"
   ]
  },
  {
   "cell_type": "code",
   "execution_count": 28,
   "id": "bfadf298-cb28-454c-8140-4f3d5ce45993",
   "metadata": {},
   "outputs": [],
   "source": [
    "summary = summary.loc[ : , ['equivalente','n_x'] ]"
   ]
  },
  {
   "cell_type": "code",
   "execution_count": 29,
   "id": "4269c698-34aa-464b-a6ad-4b2d64be08ee",
   "metadata": {},
   "outputs": [],
   "source": [
    "summary = summary.groupby( [\"equivalente\"] , as_index=False  ).sum()"
   ]
  },
  {
   "cell_type": "code",
   "execution_count": 30,
   "id": "46d0c847-3757-40cc-8a14-97a5122e456f",
   "metadata": {},
   "outputs": [],
   "source": [
    "summary = summary.sort_values( ['n_x'] , ascending=False )"
   ]
  },
  {
   "cell_type": "code",
   "execution_count": 31,
   "id": "0c411dbb-7fed-491d-a186-1d9a5ad90b1a",
   "metadata": {},
   "outputs": [],
   "source": [
    "summary['percentage'] =  summary.apply( lambda r: r['n_x'] / np.sum(summary['n_x']) , axis = 1 ) "
   ]
  },
  {
   "cell_type": "code",
   "execution_count": 32,
   "id": "567eb3d7-0ad6-4f76-81f0-88ed5e73dcdc",
   "metadata": {},
   "outputs": [
    {
     "data": {
      "text/html": [
       "<div>\n",
       "<style scoped>\n",
       "    .dataframe tbody tr th:only-of-type {\n",
       "        vertical-align: middle;\n",
       "    }\n",
       "\n",
       "    .dataframe tbody tr th {\n",
       "        vertical-align: top;\n",
       "    }\n",
       "\n",
       "    .dataframe thead th {\n",
       "        text-align: right;\n",
       "    }\n",
       "</style>\n",
       "<table border=\"1\" class=\"dataframe\">\n",
       "  <thead>\n",
       "    <tr style=\"text-align: right;\">\n",
       "      <th></th>\n",
       "      <th>equivalente</th>\n",
       "      <th>n_x</th>\n",
       "      <th>percentage</th>\n",
       "    </tr>\n",
       "  </thead>\n",
       "  <tbody>\n",
       "    <tr>\n",
       "      <th>8</th>\n",
       "      <td>Sistema de registro</td>\n",
       "      <td>164</td>\n",
       "      <td>0.314779</td>\n",
       "    </tr>\n",
       "    <tr>\n",
       "      <th>2</th>\n",
       "      <td>Docentes</td>\n",
       "      <td>129</td>\n",
       "      <td>0.247601</td>\n",
       "    </tr>\n",
       "    <tr>\n",
       "      <th>0</th>\n",
       "      <td>Campus Virtual</td>\n",
       "      <td>97</td>\n",
       "      <td>0.186180</td>\n",
       "    </tr>\n",
       "    <tr>\n",
       "      <th>1</th>\n",
       "      <td>Con Compañeros</td>\n",
       "      <td>49</td>\n",
       "      <td>0.094050</td>\n",
       "    </tr>\n",
       "    <tr>\n",
       "      <th>3</th>\n",
       "      <td>Instalaciones Físicas</td>\n",
       "      <td>43</td>\n",
       "      <td>0.082534</td>\n",
       "    </tr>\n",
       "    <tr>\n",
       "      <th>4</th>\n",
       "      <td>Integridad Personal</td>\n",
       "      <td>19</td>\n",
       "      <td>0.036468</td>\n",
       "    </tr>\n",
       "    <tr>\n",
       "      <th>5</th>\n",
       "      <td>No malas experiencias</td>\n",
       "      <td>14</td>\n",
       "      <td>0.026871</td>\n",
       "    </tr>\n",
       "    <tr>\n",
       "      <th>7</th>\n",
       "      <td>Salud mental</td>\n",
       "      <td>4</td>\n",
       "      <td>0.007678</td>\n",
       "    </tr>\n",
       "    <tr>\n",
       "      <th>6</th>\n",
       "      <td>Problemas de Transporte</td>\n",
       "      <td>2</td>\n",
       "      <td>0.003839</td>\n",
       "    </tr>\n",
       "  </tbody>\n",
       "</table>\n",
       "</div>"
      ],
      "text/plain": [
       "               equivalente  n_x  percentage\n",
       "8      Sistema de registro  164    0.314779\n",
       "2                 Docentes  129    0.247601\n",
       "0           Campus Virtual   97    0.186180\n",
       "1           Con Compañeros   49    0.094050\n",
       "3    Instalaciones Físicas   43    0.082534\n",
       "4      Integridad Personal   19    0.036468\n",
       "5    No malas experiencias   14    0.026871\n",
       "7             Salud mental    4    0.007678\n",
       "6  Problemas de Transporte    2    0.003839"
      ]
     },
     "execution_count": 32,
     "metadata": {},
     "output_type": "execute_result"
    }
   ],
   "source": [
    "summary"
   ]
  },
  {
   "cell_type": "code",
   "execution_count": 33,
   "id": "78263951-323c-4366-8047-1b3c67d6ee17",
   "metadata": {},
   "outputs": [
    {
     "data": {
      "text/plain": [
       "<BarContainer object of 9 artists>"
      ]
     },
     "execution_count": 33,
     "metadata": {},
     "output_type": "execute_result"
    },
    {
     "data": {
      "image/png": "[encoded data removed]",
      "text/plain": [
       "<Figure size 432x288 with 1 Axes>"
      ]
     },
     "metadata": {
      "needs_background": "light"
     },
     "output_type": "display_data"
    }
   ],
   "source": [
    "plt.xticks( rotation = 90 )\n",
    "plt.bar( summary['equivalente'] , summary['percentage'] )"
   ]
  },
  {
   "cell_type": "code",
   "execution_count": 34,
   "id": "a0e20e3d-8204-42f6-8f32-00b467a23f99",
   "metadata": {},
   "outputs": [
    {
     "data": {
      "text/plain": [
       "0                     Notas/Apuntes/Calendarios/Libretas\n",
       "1                                        Google Calendar\n",
       "2      Notion, Microsoft OneNote, Google Calendar, No...\n",
       "3                     Notas/Apuntes/Calendarios/Libretas\n",
       "4                     Notas/Apuntes/Calendarios/Libretas\n",
       "                             ...                        \n",
       "225                                Trello, Notion, Asana\n",
       "226                                              Ninguno\n",
       "227                   Notas/Apuntes/Calendarios/Libretas\n",
       "228                                              Ninguno\n",
       "229                                               Trello\n",
       "Name: herramientas_planificacion, Length: 230, dtype: object"
      ]
     },
     "execution_count": 34,
     "metadata": {},
     "output_type": "execute_result"
    }
   ],
   "source": [
    "survey[\"herramientas_planificacion\"]"
   ]
  },
  {
   "cell_type": "markdown",
   "id": "ff4e772a-c0d4-42a1-90e1-24b9724d1e5b",
   "metadata": {},
   "source": [
    "### Tratamiento de Herramientas planificacion"
   ]
  },
  {
   "cell_type": "code",
   "execution_count": 35,
   "id": "0b8601ff-0139-4bc4-9e27-a67fc862cac1",
   "metadata": {},
   "outputs": [],
   "source": [
    "survey[\"herramientas_planificacion_clean\"] = \"\""
   ]
  },
  {
   "cell_type": "code",
   "execution_count": 36,
   "id": "063d94f8-eda7-4ca7-8e1e-6ccc491e046b",
   "metadata": {},
   "outputs": [
    {
     "data": {
      "text/html": [
       "<div>\n",
       "<style scoped>\n",
       "    .dataframe tbody tr th:only-of-type {\n",
       "        vertical-align: middle;\n",
       "    }\n",
       "\n",
       "    .dataframe tbody tr th {\n",
       "        vertical-align: top;\n",
       "    }\n",
       "\n",
       "    .dataframe thead th {\n",
       "        text-align: right;\n",
       "    }\n",
       "</style>\n",
       "<table border=\"1\" class=\"dataframe\">\n",
       "  <thead>\n",
       "    <tr style=\"text-align: right;\">\n",
       "      <th></th>\n",
       "      <th>col</th>\n",
       "      <th>equivalente</th>\n",
       "    </tr>\n",
       "  </thead>\n",
       "  <tbody>\n",
       "    <tr>\n",
       "      <th>0</th>\n",
       "      <td>Notas/Apuntes/Calendarios/Libretas</td>\n",
       "      <td>Notas/Apuntes/Calendarios/Libretas</td>\n",
       "    </tr>\n",
       "    <tr>\n",
       "      <th>1</th>\n",
       "      <td>Google Calendar</td>\n",
       "      <td>Notas/Apuntes/Calendarios/Libretas</td>\n",
       "    </tr>\n",
       "    <tr>\n",
       "      <th>9</th>\n",
       "      <td>lapiz y papel</td>\n",
       "      <td>Notas/Apuntes/Calendarios/Libretas</td>\n",
       "    </tr>\n",
       "    <tr>\n",
       "      <th>11</th>\n",
       "      <td>Recordatorios</td>\n",
       "      <td>Notas/Apuntes/Calendarios/Libretas</td>\n",
       "    </tr>\n",
       "    <tr>\n",
       "      <th>15</th>\n",
       "      <td>Calendario interactivo</td>\n",
       "      <td>Notas/Apuntes/Calendarios/Libretas</td>\n",
       "    </tr>\n",
       "    <tr>\n",
       "      <th>16</th>\n",
       "      <td>Mi agenda en físico</td>\n",
       "      <td>Notas/Apuntes/Calendarios/Libretas</td>\n",
       "    </tr>\n",
       "  </tbody>\n",
       "</table>\n",
       "</div>"
      ],
      "text/plain": [
       "                                   col                         equivalente\n",
       "0   Notas/Apuntes/Calendarios/Libretas  Notas/Apuntes/Calendarios/Libretas\n",
       "1                      Google Calendar  Notas/Apuntes/Calendarios/Libretas\n",
       "9                        lapiz y papel  Notas/Apuntes/Calendarios/Libretas\n",
       "11                       Recordatorios  Notas/Apuntes/Calendarios/Libretas\n",
       "15              Calendario interactivo  Notas/Apuntes/Calendarios/Libretas\n",
       "16                 Mi agenda en físico  Notas/Apuntes/Calendarios/Libretas"
      ]
     },
     "execution_count": 36,
     "metadata": {},
     "output_type": "execute_result"
    }
   ],
   "source": [
    "equivalentes_plan_tool.loc[ equivalentes_plan_tool['equivalente'] == \"Notas/Apuntes/Calendarios/Libretas\" , :  ]"
   ]
  },
  {
   "cell_type": "code",
   "execution_count": 37,
   "id": "cef44f61-aef0-4b24-b272-529b350f9825",
   "metadata": {},
   "outputs": [],
   "source": [
    "useToReplace = equivalentes_plan_tool.loc[ equivalentes_plan_tool['equivalente'] == \"Notas/Apuntes/Calendarios/Libretas\" , \"col\"  ]\n",
    "for r in useToReplace:\n",
    "    survey.loc[ survey[\"herramientas_planificacion\"].str.contains(r) , \"herramientas_planificacion_clean\" ] = \"Planificacion tradicional\""
   ]
  },
  {
   "cell_type": "code",
   "execution_count": 38,
   "id": "2fcad1c6-94bb-49eb-94a8-000dc895ef31",
   "metadata": {},
   "outputs": [
    {
     "data": {
      "text/html": [
       "<div>\n",
       "<style scoped>\n",
       "    .dataframe tbody tr th:only-of-type {\n",
       "        vertical-align: middle;\n",
       "    }\n",
       "\n",
       "    .dataframe tbody tr th {\n",
       "        vertical-align: top;\n",
       "    }\n",
       "\n",
       "    .dataframe thead th {\n",
       "        text-align: right;\n",
       "    }\n",
       "</style>\n",
       "<table border=\"1\" class=\"dataframe\">\n",
       "  <thead>\n",
       "    <tr style=\"text-align: right;\">\n",
       "      <th></th>\n",
       "      <th>col</th>\n",
       "      <th>equivalente</th>\n",
       "    </tr>\n",
       "  </thead>\n",
       "  <tbody>\n",
       "    <tr>\n",
       "      <th>2</th>\n",
       "      <td>Ninguno</td>\n",
       "      <td>Ninguno</td>\n",
       "    </tr>\n",
       "    <tr>\n",
       "      <th>14</th>\n",
       "      <td>No</td>\n",
       "      <td>Ninguno</td>\n",
       "    </tr>\n",
       "    <tr>\n",
       "      <th>20</th>\n",
       "      <td>ninguan</td>\n",
       "      <td>Ninguno</td>\n",
       "    </tr>\n",
       "  </tbody>\n",
       "</table>\n",
       "</div>"
      ],
      "text/plain": [
       "        col equivalente\n",
       "2   Ninguno     Ninguno\n",
       "14       No     Ninguno\n",
       "20  ninguan     Ninguno"
      ]
     },
     "execution_count": 38,
     "metadata": {},
     "output_type": "execute_result"
    }
   ],
   "source": [
    "equivalentes_plan_tool.loc[ equivalentes_plan_tool['equivalente'] == \"Ninguno\" , :  ]"
   ]
  },
  {
   "cell_type": "code",
   "execution_count": 39,
   "id": "db9dd2ea-c760-4e58-88d9-7ad181e3e7ab",
   "metadata": {},
   "outputs": [],
   "source": [
    "useToReplace = equivalentes_plan_tool.loc[ equivalentes_plan_tool['equivalente'] == \"Ninguno\" , \"col\"  ]\n",
    "for r in useToReplace:    \n",
    "    if r != \"No\":\n",
    "        survey.loc[ survey[\"herramientas_planificacion\"].str.contains(r) , \"herramientas_planificacion_clean\" ] = \"No planificacion\"\n",
    "    else:\n",
    "        survey.loc[ survey[\"herramientas_planificacion\"] == \"No\" , \"herramientas_planificacion_clean\" ] = \"No planificacion\""
   ]
  },
  {
   "cell_type": "code",
   "execution_count": 40,
   "id": "b0b5e706-b2d7-495b-9cbe-2e60473322d3",
   "metadata": {},
   "outputs": [
    {
     "data": {
      "text/html": [
       "<div>\n",
       "<style scoped>\n",
       "    .dataframe tbody tr th:only-of-type {\n",
       "        vertical-align: middle;\n",
       "    }\n",
       "\n",
       "    .dataframe tbody tr th {\n",
       "        vertical-align: top;\n",
       "    }\n",
       "\n",
       "    .dataframe thead th {\n",
       "        text-align: right;\n",
       "    }\n",
       "</style>\n",
       "<table border=\"1\" class=\"dataframe\">\n",
       "  <thead>\n",
       "    <tr style=\"text-align: right;\">\n",
       "      <th></th>\n",
       "      <th>col</th>\n",
       "      <th>equivalente</th>\n",
       "    </tr>\n",
       "  </thead>\n",
       "  <tbody>\n",
       "    <tr>\n",
       "      <th>3</th>\n",
       "      <td>Trello</td>\n",
       "      <td>Trello</td>\n",
       "    </tr>\n",
       "    <tr>\n",
       "      <th>4</th>\n",
       "      <td>Notion</td>\n",
       "      <td>Notion</td>\n",
       "    </tr>\n",
       "    <tr>\n",
       "      <th>5</th>\n",
       "      <td>Microsoft OneNote</td>\n",
       "      <td>Microsoft OneNote</td>\n",
       "    </tr>\n",
       "    <tr>\n",
       "      <th>6</th>\n",
       "      <td>Jira</td>\n",
       "      <td>Jira</td>\n",
       "    </tr>\n",
       "    <tr>\n",
       "      <th>7</th>\n",
       "      <td>Microsoft To Do</td>\n",
       "      <td>Microsoft To Do</td>\n",
       "    </tr>\n",
       "    <tr>\n",
       "      <th>8</th>\n",
       "      <td>Google Keep</td>\n",
       "      <td>Google Keep</td>\n",
       "    </tr>\n",
       "    <tr>\n",
       "      <th>10</th>\n",
       "      <td>excel</td>\n",
       "      <td>Excel</td>\n",
       "    </tr>\n",
       "    <tr>\n",
       "      <th>12</th>\n",
       "      <td>Otras herramientas de organizacion de internet</td>\n",
       "      <td>Otros</td>\n",
       "    </tr>\n",
       "    <tr>\n",
       "      <th>13</th>\n",
       "      <td>Asana</td>\n",
       "      <td>Otros</td>\n",
       "    </tr>\n",
       "    <tr>\n",
       "      <th>17</th>\n",
       "      <td>Mentalmente</td>\n",
       "      <td>Otros</td>\n",
       "    </tr>\n",
       "    <tr>\n",
       "      <th>18</th>\n",
       "      <td>Excel</td>\n",
       "      <td>Excel</td>\n",
       "    </tr>\n",
       "    <tr>\n",
       "      <th>19</th>\n",
       "      <td>Clickup</td>\n",
       "      <td>Otros</td>\n",
       "    </tr>\n",
       "  </tbody>\n",
       "</table>\n",
       "</div>"
      ],
      "text/plain": [
       "                                               col        equivalente\n",
       "3                                           Trello             Trello\n",
       "4                                           Notion             Notion\n",
       "5                                Microsoft OneNote  Microsoft OneNote\n",
       "6                                             Jira               Jira\n",
       "7                                  Microsoft To Do    Microsoft To Do\n",
       "8                                      Google Keep        Google Keep\n",
       "10                                           excel              Excel\n",
       "12  Otras herramientas de organizacion de internet              Otros\n",
       "13                                           Asana              Otros\n",
       "17                                     Mentalmente              Otros\n",
       "18                                           Excel              Excel\n",
       "19                                         Clickup              Otros"
      ]
     },
     "execution_count": 40,
     "metadata": {},
     "output_type": "execute_result"
    }
   ],
   "source": [
    "equivalentes_plan_tool.loc[ ~equivalentes_plan_tool['equivalente'].isin([\"Ninguno\",\"Notas/Apuntes/Calendarios/Libretas\"]) , : ]"
   ]
  },
  {
   "cell_type": "code",
   "execution_count": 41,
   "id": "b34edbfa-bacc-422c-bfc7-965ccd97fdb4",
   "metadata": {},
   "outputs": [],
   "source": [
    "useToReplace = equivalentes_plan_tool.loc[ ~equivalentes_plan_tool['equivalente'].isin([\"Ninguno\",\"Notas/Apuntes/Calendarios/Libretas\"]) , \"col\"  ]\n",
    "for r in useToReplace:\n",
    "    survey.loc[ survey[\"herramientas_planificacion\"].str.contains(r) , \"herramientas_planificacion_clean\" ] = \"Planificacion avanzada\""
   ]
  },
  {
   "cell_type": "code",
   "execution_count": 42,
   "id": "6686aaf2-0ecd-4b45-97a1-4e4b3725ed63",
   "metadata": {},
   "outputs": [
    {
     "data": {
      "text/plain": [
       "Planificacion tradicional    127\n",
       "Planificacion avanzada        65\n",
       "No planificacion              38\n",
       "Name: herramientas_planificacion_clean, dtype: int64"
      ]
     },
     "execution_count": 42,
     "metadata": {},
     "output_type": "execute_result"
    }
   ],
   "source": [
    "survey[\"herramientas_planificacion_clean\"].value_counts()"
   ]
  },
  {
   "cell_type": "code",
   "execution_count": 43,
   "id": "87bb6dd3-d440-4fcf-9c04-95d647b42663",
   "metadata": {},
   "outputs": [
    {
     "data": {
      "text/plain": [
       "Planificacion tradicional    0.552174\n",
       "Planificacion avanzada       0.282609\n",
       "No planificacion             0.165217\n",
       "Name: herramientas_planificacion_clean, dtype: float64"
      ]
     },
     "execution_count": 43,
     "metadata": {},
     "output_type": "execute_result"
    }
   ],
   "source": [
    "survey[\"herramientas_planificacion_clean\"].value_counts() / survey.shape[0]"
   ]
  },
  {
   "cell_type": "markdown",
   "id": "f25098b7-0147-426e-8699-ac7d5fea16cf",
   "metadata": {},
   "source": [
    "### Analisis de dependencias\n",
    "\n",
    "- Ho (nula) = Mide la independencia de dos variables. la desercion y las herramientas de planificacion no depende una de la otra. \n",
    "- H1 (alternativa) = las variables de desercion y herramientas de planificacion son dependientes\n",
    "\n",
    "*( Si el p-value es mayor a 0.05: la opcion a seleccionar es la hipotesis nula )*"
   ]
  },
  {
   "cell_type": "code",
   "execution_count": 44,
   "id": "b060ce77-a055-41eb-95fe-4c4b53a4c493",
   "metadata": {},
   "outputs": [
    {
     "data": {
      "text/plain": [
       "Sí    0.504348\n",
       "No    0.495652\n",
       "Name: desercion, dtype: float64"
      ]
     },
     "execution_count": 44,
     "metadata": {},
     "output_type": "execute_result"
    }
   ],
   "source": [
    "survey[\"desercion\"].value_counts()  / survey.shape[0]"
   ]
  },
  {
   "cell_type": "code",
   "execution_count": 45,
   "id": "d6aea86a-4733-489e-96b6-1e2670d1a098",
   "metadata": {},
   "outputs": [
    {
     "data": {
      "text/plain": [
       "Planificacion tradicional    0.552174\n",
       "Planificacion avanzada       0.282609\n",
       "No planificacion             0.165217\n",
       "Name: herramientas_planificacion_clean, dtype: float64"
      ]
     },
     "execution_count": 45,
     "metadata": {},
     "output_type": "execute_result"
    }
   ],
   "source": [
    "survey[\"herramientas_planificacion_clean\"].value_counts()  / survey.shape[0]"
   ]
  },
  {
   "cell_type": "code",
   "execution_count": 46,
   "id": "6b1c9066-b753-4300-9236-676998b7db31",
   "metadata": {},
   "outputs": [],
   "source": [
    "contigency = pd.crosstab( survey[\"desercion\"] , survey[\"herramientas_planificacion_clean\"] )"
   ]
  },
  {
   "cell_type": "code",
   "execution_count": 47,
   "id": "2dca9b32-757a-4d51-8d0d-26abba181358",
   "metadata": {},
   "outputs": [
    {
     "data": {
      "text/plain": [
       "<Figure size 864x576 with 0 Axes>"
      ]
     },
     "execution_count": 47,
     "metadata": {},
     "output_type": "execute_result"
    },
    {
     "data": {
      "text/plain": [
       "<Figure size 864x576 with 0 Axes>"
      ]
     },
     "metadata": {},
     "output_type": "display_data"
    }
   ],
   "source": [
    "plt.figure(figsize=(12,8))"
   ]
  },
  {
   "cell_type": "code",
   "execution_count": 48,
   "id": "bdb9a017-5351-49bb-9911-435ebdcb427c",
   "metadata": {},
   "outputs": [
    {
     "data": {
      "text/plain": [
       "<AxesSubplot:xlabel='herramientas_planificacion_clean', ylabel='desercion'>"
      ]
     },
     "execution_count": 48,
     "metadata": {},
     "output_type": "execute_result"
    },
    {
     "data": {
      "image/png": "[encoded data removed]",
      "text/plain": [
       "<Figure size 432x288 with 2 Axes>"
      ]
     },
     "metadata": {
      "needs_background": "light"
     },
     "output_type": "display_data"
    }
   ],
   "source": [
    "sns.heatmap( contigency , annot = True , cmap=\"YlGnBu\" )"
   ]
  },
  {
   "cell_type": "code",
   "execution_count": 49,
   "id": "89d72a8a-9f05-4257-8206-79950e90e7eb",
   "metadata": {},
   "outputs": [],
   "source": [
    "c, p, dof, expected  = chi2_contingency(contigency)"
   ]
  },
  {
   "cell_type": "code",
   "execution_count": 50,
   "id": "f6a0007a-48b0-4684-aa17-eab52110e7d1",
   "metadata": {},
   "outputs": [
    {
     "data": {
      "text/plain": [
       "0.272154885498537"
      ]
     },
     "execution_count": 50,
     "metadata": {},
     "output_type": "execute_result"
    }
   ],
   "source": [
    "p"
   ]
  },
  {
   "cell_type": "markdown",
   "id": "54263a05-d521-4394-b8f0-9853fdbcb06e",
   "metadata": {},
   "source": [
    "Por lo tanto no rechazamos la hipotesis nula, las habilidades de planificacion con la eventualidad de querer desertar son independientes"
   ]
  },
  {
   "cell_type": "markdown",
   "id": "8c7db9df-5d0d-4117-adcf-2d474738df9e",
   "metadata": {},
   "source": [
    "### Clases reprobadas\n",
    "\n",
    "- Ho (nula) = Mide la independencia de dos variables. la frequencia de reprobacion y las herramientas de planificacion no depende una de la otra. \n",
    "- H1 (alternativa) = las variables de reprobacion y herramientas de planificacion son dependientes\n",
    "\n",
    "*( Si el p-value es mayor a 0.05: la opcion a seleccionar es la hipotesis nula )*"
   ]
  },
  {
   "cell_type": "code",
   "execution_count": 51,
   "id": "37b76a11-3b0d-4750-a841-577577a8daee",
   "metadata": {},
   "outputs": [
    {
     "data": {
      "text/plain": [
       "1-3                      0.321739\n",
       "Más de 6                 0.269565\n",
       "4-6                      0.213043\n",
       "Ninguna                  0.126087\n",
       "Prefiero no contestar    0.069565\n",
       "Name: clases_reprobadas, dtype: float64"
      ]
     },
     "execution_count": 51,
     "metadata": {},
     "output_type": "execute_result"
    }
   ],
   "source": [
    "survey[\"clases_reprobadas\"].value_counts()  / survey.shape[0]"
   ]
  },
  {
   "cell_type": "code",
   "execution_count": 52,
   "id": "a81bcac6-855a-4feb-bf68-4b5c85926fd0",
   "metadata": {},
   "outputs": [],
   "source": [
    "contigency = pd.crosstab( survey[\"herramientas_planificacion_clean\"] , survey[\"clases_reprobadas\"] )"
   ]
  },
  {
   "cell_type": "code",
   "execution_count": 53,
   "id": "79f07de7-9fe9-4109-b30e-6772c2ab576d",
   "metadata": {},
   "outputs": [
    {
     "data": {
      "text/html": [
       "<div>\n",
       "<style scoped>\n",
       "    .dataframe tbody tr th:only-of-type {\n",
       "        vertical-align: middle;\n",
       "    }\n",
       "\n",
       "    .dataframe tbody tr th {\n",
       "        vertical-align: top;\n",
       "    }\n",
       "\n",
       "    .dataframe thead th {\n",
       "        text-align: right;\n",
       "    }\n",
       "</style>\n",
       "<table border=\"1\" class=\"dataframe\">\n",
       "  <thead>\n",
       "    <tr style=\"text-align: right;\">\n",
       "      <th>clases_reprobadas</th>\n",
       "      <th>1-3</th>\n",
       "      <th>4-6</th>\n",
       "      <th>Más de 6</th>\n",
       "      <th>Ninguna</th>\n",
       "      <th>Prefiero no contestar</th>\n",
       "    </tr>\n",
       "    <tr>\n",
       "      <th>herramientas_planificacion_clean</th>\n",
       "      <th></th>\n",
       "      <th></th>\n",
       "      <th></th>\n",
       "      <th></th>\n",
       "      <th></th>\n",
       "    </tr>\n",
       "  </thead>\n",
       "  <tbody>\n",
       "    <tr>\n",
       "      <th>No planificacion</th>\n",
       "      <td>13</td>\n",
       "      <td>8</td>\n",
       "      <td>7</td>\n",
       "      <td>3</td>\n",
       "      <td>7</td>\n",
       "    </tr>\n",
       "    <tr>\n",
       "      <th>Planificacion avanzada</th>\n",
       "      <td>19</td>\n",
       "      <td>13</td>\n",
       "      <td>24</td>\n",
       "      <td>9</td>\n",
       "      <td>0</td>\n",
       "    </tr>\n",
       "    <tr>\n",
       "      <th>Planificacion tradicional</th>\n",
       "      <td>42</td>\n",
       "      <td>28</td>\n",
       "      <td>31</td>\n",
       "      <td>17</td>\n",
       "      <td>9</td>\n",
       "    </tr>\n",
       "  </tbody>\n",
       "</table>\n",
       "</div>"
      ],
      "text/plain": [
       "clases_reprobadas                 1-3  4-6  Más de 6  Ninguna  \\\n",
       "herramientas_planificacion_clean                                \n",
       "No planificacion                   13    8         7        3   \n",
       "Planificacion avanzada             19   13        24        9   \n",
       "Planificacion tradicional          42   28        31       17   \n",
       "\n",
       "clases_reprobadas                 Prefiero no contestar  \n",
       "herramientas_planificacion_clean                         \n",
       "No planificacion                                      7  \n",
       "Planificacion avanzada                                0  \n",
       "Planificacion tradicional                             9  "
      ]
     },
     "execution_count": 53,
     "metadata": {},
     "output_type": "execute_result"
    }
   ],
   "source": [
    "contigency"
   ]
  },
  {
   "cell_type": "code",
   "execution_count": 54,
   "id": "9f43a91b-92ef-4cd4-8c81-77c9f1a73517",
   "metadata": {},
   "outputs": [
    {
     "data": {
      "text/plain": [
       "<AxesSubplot:xlabel='clases_reprobadas', ylabel='herramientas_planificacion_clean'>"
      ]
     },
     "execution_count": 54,
     "metadata": {},
     "output_type": "execute_result"
    },
    {
     "data": {
      "image/png": "[encoded data removed]",
      "text/plain": [
       "<Figure size 432x288 with 2 Axes>"
      ]
     },
     "metadata": {
      "needs_background": "light"
     },
     "output_type": "display_data"
    }
   ],
   "source": [
    "sns.heatmap( contigency , annot = True , cmap=\"YlGnBu\" )"
   ]
  },
  {
   "cell_type": "code",
   "execution_count": 55,
   "id": "7df01388-62d1-4fda-bc3f-d72990b75e2e",
   "metadata": {},
   "outputs": [],
   "source": [
    "c, p, dof, expected  = chi2_contingency(contigency)"
   ]
  },
  {
   "cell_type": "code",
   "execution_count": 56,
   "id": "3814094b-5feb-40e5-a3ec-830ef6659026",
   "metadata": {},
   "outputs": [
    {
     "data": {
      "text/plain": [
       "0.0347504059059335"
      ]
     },
     "execution_count": 56,
     "metadata": {},
     "output_type": "execute_result"
    }
   ],
   "source": [
    "p"
   ]
  },
  {
   "cell_type": "code",
   "execution_count": 57,
   "id": "53081fee-b6e9-4918-bb98-1c9c7d7e750b",
   "metadata": {},
   "outputs": [
    {
     "data": {
      "text/plain": [
       "22.96086956521739"
      ]
     },
     "execution_count": 57,
     "metadata": {},
     "output_type": "execute_result"
    }
   ],
   "source": [
    "survey['edad'].mean()"
   ]
  },
  {
   "cell_type": "markdown",
   "id": "0b671f13-6655-4756-91a7-cd06aa5003fd",
   "metadata": {},
   "source": [
    "## Edad respecto al uso de herramientas de planificación"
   ]
  },
  {
   "cell_type": "markdown",
   "id": "901bff7f-2695-4156-ac8f-bb012bf43a3c",
   "metadata": {},
   "source": [
    "### EDAD\n",
    "\n",
    "- Ho (nula) = Mide la independencia de dos variables. La edad y las herramientas de planificacion no depende una de la otra. \n",
    "- H1 (alternativa) = las variables de edad y herramientas de planificacion son dependientes\n",
    "\n",
    "*( Si el p-value es mayor a 0.05: la opcion a seleccionar es la hipotesis nula )*"
   ]
  },
  {
   "cell_type": "code",
   "execution_count": 58,
   "id": "092403d6-7386-42bd-81a3-901aff51228e",
   "metadata": {},
   "outputs": [
    {
     "data": {
      "text/plain": [
       "23    0.165217\n",
       "24    0.143478\n",
       "21    0.113043\n",
       "25    0.095652\n",
       "18    0.078261\n",
       "19    0.073913\n",
       "22    0.069565\n",
       "20    0.069565\n",
       "27    0.047826\n",
       "26    0.043478\n",
       "28    0.026087\n",
       "29    0.017391\n",
       "17    0.017391\n",
       "32    0.008696\n",
       "31    0.008696\n",
       "34    0.008696\n",
       "30    0.008696\n",
       "37    0.004348\n",
       "Name: edad, dtype: float64"
      ]
     },
     "execution_count": 58,
     "metadata": {},
     "output_type": "execute_result"
    }
   ],
   "source": [
    "survey[\"edad\"].value_counts()  / survey.shape[0]"
   ]
  },
  {
   "cell_type": "code",
   "execution_count": 59,
   "id": "9b5231b3-f9ce-47f9-b9bc-8f933f0443b4",
   "metadata": {},
   "outputs": [
    {
     "data": {
      "text/plain": [
       "{'whiskers': [<matplotlib.lines.Line2D at 0x27a0ffe3a30>,\n",
       "  <matplotlib.lines.Line2D at 0x27a0ffe3d30>],\n",
       " 'caps': [<matplotlib.lines.Line2D at 0x27a0fff1100>,\n",
       "  <matplotlib.lines.Line2D at 0x27a0fff1490>],\n",
       " 'boxes': [<matplotlib.lines.Line2D at 0x27a0ffe35e0>],\n",
       " 'medians': [<matplotlib.lines.Line2D at 0x27a0fff1820>],\n",
       " 'fliers': [<matplotlib.lines.Line2D at 0x27a0fff1bb0>],\n",
       " 'means': []}"
      ]
     },
     "execution_count": 59,
     "metadata": {},
     "output_type": "execute_result"
    },
    {
     "data": {
      "image/png": "[encoded data removed]",
      "text/plain": [
       "<Figure size 432x288 with 1 Axes>"
      ]
     },
     "metadata": {
      "needs_background": "light"
     },
     "output_type": "display_data"
    }
   ],
   "source": [
    "plt.boxplot(survey['edad'])"
   ]
  },
  {
   "cell_type": "code",
   "execution_count": 60,
   "id": "016aff64-8626-42b5-b52c-d237b2853f10",
   "metadata": {},
   "outputs": [],
   "source": [
    "median = np.median(survey['edad'])"
   ]
  },
  {
   "cell_type": "code",
   "execution_count": 61,
   "id": "fb0b4692-873a-406e-adf5-74a04a879730",
   "metadata": {},
   "outputs": [],
   "source": [
    "survey.loc[survey['edad'] > 28 , 'edad'] = median"
   ]
  },
  {
   "cell_type": "code",
   "execution_count": 62,
   "id": "b791bb31-cfd6-4bbe-8bdc-2f3281dae009",
   "metadata": {},
   "outputs": [],
   "source": [
    "contigency = pd.crosstab( survey[\"herramientas_planificacion_clean\"] , survey[\"edad\"] )"
   ]
  },
  {
   "cell_type": "code",
   "execution_count": 63,
   "id": "3cae734f-4624-4175-9676-94746107699a",
   "metadata": {},
   "outputs": [
    {
     "data": {
      "text/plain": [
       "<AxesSubplot:xlabel='edad', ylabel='herramientas_planificacion_clean'>"
      ]
     },
     "execution_count": 63,
     "metadata": {},
     "output_type": "execute_result"
    },
    {
     "data": {
      "image/png": "[encoded data removed]",
      "text/plain": [
       "<Figure size 432x288 with 2 Axes>"
      ]
     },
     "metadata": {
      "needs_background": "light"
     },
     "output_type": "display_data"
    }
   ],
   "source": [
    "sns.heatmap( contigency , annot = True , cmap=\"YlGnBu\" )"
   ]
  },
  {
   "cell_type": "code",
   "execution_count": 64,
   "id": "03e825e9-7070-4a84-a7c1-049326877c2b",
   "metadata": {},
   "outputs": [],
   "source": [
    "c, p, dof, expected  = chi2_contingency(contigency)"
   ]
  },
  {
   "cell_type": "code",
   "execution_count": 65,
   "id": "19687a6f-c95f-49b0-af2b-4120e442eb0e",
   "metadata": {},
   "outputs": [
    {
     "data": {
      "text/plain": [
       "0.04022180295367698"
      ]
     },
     "execution_count": 65,
     "metadata": {},
     "output_type": "execute_result"
    }
   ],
   "source": [
    "p"
   ]
  },
  {
   "cell_type": "markdown",
   "id": "4d00e0b0-0aa4-4b17-a2c6-5c68b522d503",
   "metadata": {},
   "source": [
    "- Por lo tanto no rechazamos la hipotesis alternativa, las habilidades de planificacion con la edad son dependientas. y podemos ver que entre más cerca de una supuesta madurez mental académica (en promedio 23 años) se suele tener una mayor preocupación por planificar habilidades"
   ]
  },
  {
   "cell_type": "markdown",
   "id": "7940953f-6083-4546-8767-2284836fe2cb",
   "metadata": {},
   "source": [
    "## Clases de matemátias con planes de deserción"
   ]
  },
  {
   "cell_type": "markdown",
   "id": "5e9a54c3-41d2-4ee1-b041-a1d2789ff5c4",
   "metadata": {},
   "source": [
    "### MAtemáticas\n",
    "\n",
    "- Ho (nula) = Mide la independencia de dos variables. La cantidad de clases matriculadas de matemáticas por periodo y los planes de desercionn no depende una de la otra. \n",
    "- H1 (alternativa) = las variables de matemáticas y deserción son dependientes\n",
    "\n",
    "*( Si el p-value es mayor a 0.05: la opcion a seleccionar es la hipotesis nula )*"
   ]
  },
  {
   "cell_type": "code",
   "execution_count": 66,
   "id": "420b07a4-49f2-4bd4-b938-cf92b42429b2",
   "metadata": {},
   "outputs": [],
   "source": [
    "contigency = pd.crosstab( survey[\"desercion\"] , survey[\"clases_mate_periodo\"] )"
   ]
  },
  {
   "cell_type": "code",
   "execution_count": 67,
   "id": "9202388b-396c-450f-a412-4d82fb3d3db3",
   "metadata": {},
   "outputs": [
    {
     "data": {
      "text/plain": [
       "<AxesSubplot:xlabel='clases_mate_periodo', ylabel='desercion'>"
      ]
     },
     "execution_count": 67,
     "metadata": {},
     "output_type": "execute_result"
    },
    {
     "data": {
      "image/png": "[encoded data removed]",
      "text/plain": [
       "<Figure size 432x288 with 2 Axes>"
      ]
     },
     "metadata": {
      "needs_background": "light"
     },
     "output_type": "display_data"
    }
   ],
   "source": [
    "sns.heatmap( contigency , annot = True , cmap=\"YlGnBu\" )"
   ]
  },
  {
   "cell_type": "code",
   "execution_count": 68,
   "id": "b14673d5-6864-403d-aa3c-ed77a0f44939",
   "metadata": {},
   "outputs": [],
   "source": [
    "c, p, dof, expected  = chi2_contingency(contigency)"
   ]
  },
  {
   "cell_type": "code",
   "execution_count": 69,
   "id": "0a28d891-b388-4fc2-8c46-4932b185b121",
   "metadata": {},
   "outputs": [
    {
     "data": {
      "text/plain": [
       "0.28833607973807784"
      ]
     },
     "execution_count": 69,
     "metadata": {},
     "output_type": "execute_result"
    }
   ],
   "source": [
    "p"
   ]
  },
  {
   "cell_type": "markdown",
   "id": "10f91683-71bc-426b-9674-71d5b1d541ec",
   "metadata": {},
   "source": [
    "- Por lo tanto no rechazamos la hipotesis nula, la cantidad de clases de matemáticas matricualdas por periodo y el deseo de desercion son independientes. "
   ]
  },
  {
   "cell_type": "markdown",
   "id": "c34aa974-4a7a-4114-97f0-64a0db7e7a41",
   "metadata": {},
   "source": [
    "## Clases reprobadas con planes de deserción"
   ]
  },
  {
   "cell_type": "markdown",
   "id": "30fdecb7-daab-43b4-af7c-2c60c9e36d7e",
   "metadata": {},
   "source": [
    "### Reprobadas\n",
    "\n",
    "- Ho (nula) = Mide la independencia de dos variables. Las clases reprobadas y la desercion no depende una de la otra. \n",
    "- H1 (alternativa) = las variables de clases reprobadas y desercion son dependientes\n",
    "\n",
    "*( Si el p-value es mayor a 0.05: la opcion a seleccionar es la hipotesis nula )*"
   ]
  },
  {
   "cell_type": "code",
   "execution_count": 70,
   "id": "5fe9d639-124c-4251-8668-f4d333c16438",
   "metadata": {},
   "outputs": [],
   "source": [
    "contigency = pd.crosstab( survey[\"clases_reprobadas\"] , survey[\"desercion\"] )"
   ]
  },
  {
   "cell_type": "code",
   "execution_count": 71,
   "id": "7d4d3c04-c1e1-49bc-a976-93eefcce3e56",
   "metadata": {},
   "outputs": [
    {
     "data": {
      "text/plain": [
       "<AxesSubplot:xlabel='desercion', ylabel='clases_reprobadas'>"
      ]
     },
     "execution_count": 71,
     "metadata": {},
     "output_type": "execute_result"
    },
    {
     "data": {
      "image/png": "[encoded data removed]",
      "text/plain": [
       "<Figure size 432x288 with 2 Axes>"
      ]
     },
     "metadata": {
      "needs_background": "light"
     },
     "output_type": "display_data"
    }
   ],
   "source": [
    "sns.heatmap( contigency , annot = True , cmap=\"YlGnBu\" )"
   ]
  },
  {
   "cell_type": "code",
   "execution_count": 72,
   "id": "3aabea00-4a60-499f-a217-e10af2a67bf6",
   "metadata": {},
   "outputs": [],
   "source": [
    "c, p, dof, expected  = chi2_contingency(contigency)"
   ]
  },
  {
   "cell_type": "code",
   "execution_count": 73,
   "id": "deab7295-ec32-4c25-ab61-ce80c4d79956",
   "metadata": {},
   "outputs": [
    {
     "data": {
      "text/plain": [
       "0.0013830725519355064"
      ]
     },
     "execution_count": 73,
     "metadata": {},
     "output_type": "execute_result"
    }
   ],
   "source": [
    "p"
   ]
  },
  {
   "cell_type": "markdown",
   "id": "070d0edd-41ed-45ae-8b0d-24b22a60544a",
   "metadata": {},
   "source": [
    "- Por lo tanto no rechazamos la hipotesis alternativa, las cantidad de clases reprobadas con el deseo de deserción son dependientas. Podemos observar que entre más clases reprueban los estudiantes, los deseos por desertar aumentan"
   ]
  },
  {
   "cell_type": "markdown",
   "id": "baab256d-0c20-476c-847b-2874d06f3a39",
   "metadata": {},
   "source": [
    "## Clases reprobadas con hábitos de planificación"
   ]
  },
  {
   "cell_type": "markdown",
   "id": "3a06ff8c-25ca-4ff4-a124-9ae2f43efec1",
   "metadata": {},
   "source": [
    "### Reprobadas Hábitos\n",
    "\n",
    "- Ho (nula) = Mide la independencia de dos variables. Las clases reprobadas y los hábitos de planificación no depende una de la otra. \n",
    "- H1 (alternativa) = las variables de clases reprobadas y los hábitos de planificación son dependientes.\n",
    "\n",
    "*( Si el p-value es mayor a 0.05: la opcion a seleccionar es la hipotesis nula )*"
   ]
  },
  {
   "cell_type": "code",
   "execution_count": 74,
   "id": "487b3a61-f15b-4185-9f03-77d467fadcc0",
   "metadata": {},
   "outputs": [],
   "source": [
    "contigency = pd.crosstab( survey[\"clases_reprobadas\"] , survey[\"herramientas_planificacion_clean\"] )"
   ]
  },
  {
   "cell_type": "code",
   "execution_count": 75,
   "id": "285bf1a5-d9c2-4566-a81e-a1f1bf0ced6a",
   "metadata": {},
   "outputs": [
    {
     "data": {
      "text/plain": [
       "<AxesSubplot:xlabel='herramientas_planificacion_clean', ylabel='clases_reprobadas'>"
      ]
     },
     "execution_count": 75,
     "metadata": {},
     "output_type": "execute_result"
    },
    {
     "data": {
      "image/png": "[encoded data removed]",
      "text/plain": [
       "<Figure size 432x288 with 2 Axes>"
      ]
     },
     "metadata": {
      "needs_background": "light"
     },
     "output_type": "display_data"
    }
   ],
   "source": [
    "sns.heatmap( contigency , annot = True , cmap=\"YlGnBu\" )"
   ]
  },
  {
   "cell_type": "code",
   "execution_count": 76,
   "id": "ecb8037d-fa1f-4696-95ac-24ccf6dedec2",
   "metadata": {},
   "outputs": [],
   "source": [
    "c, p, dof, expected  = chi2_contingency(contigency)"
   ]
  },
  {
   "cell_type": "code",
   "execution_count": 77,
   "id": "03059697-7c7b-4833-a6f9-0f52cf1797ee",
   "metadata": {},
   "outputs": [
    {
     "data": {
      "text/plain": [
       "0.0347504059059335"
      ]
     },
     "execution_count": 77,
     "metadata": {},
     "output_type": "execute_result"
    }
   ],
   "source": [
    "p"
   ]
  },
  {
   "cell_type": "markdown",
   "id": "48d1481c-7b4b-4f6e-874c-329a051fe8e7",
   "metadata": {},
   "source": [
    "- Por lo tanto no rechazamos la hipotesis alternativa, las cantidad de clases reprobadas con el uso de las herramientas de planificación, son dependientes. Las personas que suelen tener hábitos de planificación tienen un índice de repitencia alto, por lo que podemos concluir que no se hace buen uso de ellas."
   ]
  },
  {
   "cell_type": "markdown",
   "id": "5ec68154-ac76-4413-afa7-2ebacae1aacd",
   "metadata": {},
   "source": [
    "## El trabajo influye en querer desertar"
   ]
  },
  {
   "cell_type": "markdown",
   "id": "5af3984c-2e41-4249-b612-0fa19e76c9f2",
   "metadata": {},
   "source": [
    "### Trabajo y estudio\n",
    "\n",
    "- Ho (nula) = Mide la independencia de dos variables. El estudiante trabaja y el hecho de querer desertar no depende una de la otra. \n",
    "- H1 (alternativa) = las variables de trabajo y deserción son dependientes.\n",
    "\n",
    "*( Si el p-value es mayor a 0.05: la opcion a seleccionar es la hipotesis nula )*"
   ]
  },
  {
   "cell_type": "code",
   "execution_count": 78,
   "id": "caf33f18-96eb-4287-a3f7-fa6493b098b4",
   "metadata": {},
   "outputs": [],
   "source": [
    "contigency = pd.crosstab( survey[\"trabajo\"] , survey[\"desercion\"] )"
   ]
  },
  {
   "cell_type": "code",
   "execution_count": 79,
   "id": "ea8c33f5-63bd-4357-b402-aa97fc4ce04d",
   "metadata": {},
   "outputs": [
    {
     "data": {
      "text/plain": [
       "<AxesSubplot:xlabel='desercion', ylabel='trabajo'>"
      ]
     },
     "execution_count": 79,
     "metadata": {},
     "output_type": "execute_result"
    },
    {
     "data": {
      "image/png": "[encoded data removed]",
      "text/plain": [
       "<Figure size 432x288 with 2 Axes>"
      ]
     },
     "metadata": {
      "needs_background": "light"
     },
     "output_type": "display_data"
    }
   ],
   "source": [
    "sns.heatmap( contigency , annot = True , cmap=\"YlGnBu\" )"
   ]
  },
  {
   "cell_type": "code",
   "execution_count": 80,
   "id": "a1379058-4bed-4e47-8983-d78db9d2a0a4",
   "metadata": {},
   "outputs": [],
   "source": [
    "c, p, dof, expected  = chi2_contingency(contigency)"
   ]
  },
  {
   "cell_type": "code",
   "execution_count": 81,
   "id": "f18fdbcf-8da3-4398-8634-016ccb207448",
   "metadata": {},
   "outputs": [
    {
     "data": {
      "text/plain": [
       "0.708311657621659"
      ]
     },
     "execution_count": 81,
     "metadata": {},
     "output_type": "execute_result"
    }
   ],
   "source": [
    "p"
   ]
  },
  {
   "cell_type": "markdown",
   "id": "fbce1103-6aa9-425e-9a1f-03979e44a57c",
   "metadata": {},
   "source": [
    "- Por lo tanto, no rechazamos la hipótesis nula. Las variables analizadas son independientes"
   ]
  },
  {
   "cell_type": "markdown",
   "id": "3f138320-4830-4dc9-b13e-5d7c61c889ce",
   "metadata": {},
   "source": [
    "## El interés por las autoridades y deserción"
   ]
  },
  {
   "cell_type": "markdown",
   "id": "a0b1b019-d82f-429d-bc1e-74db83fe0ef0",
   "metadata": {},
   "source": [
    "### Trabajo y estudio\n",
    "\n",
    "- Ho (nula) = Mide la independencia de dos variables. El estudiante considera que el entorno universitario se preocupa por su bienestar y comodidad y el hecho de querer desertar no depende una de la otra. \n",
    "- H1 (alternativa) = las variables de interés del entorno y deserción son dependientes.\n",
    "\n",
    "*( Si el p-value es mayor a 0.05: la opcion a seleccionar es la hipotesis nula )*"
   ]
  },
  {
   "cell_type": "code",
   "execution_count": 82,
   "id": "be7dfbfe-80bf-40b5-a837-59fb085bb10f",
   "metadata": {},
   "outputs": [],
   "source": [
    "contigency = pd.crosstab( survey[\"importante_mi_entorno\"] , survey[\"desercion\"] )"
   ]
  },
  {
   "cell_type": "code",
   "execution_count": 83,
   "id": "b3a53de4-0cf5-487d-8c4a-b6cb9b6a7718",
   "metadata": {},
   "outputs": [
    {
     "data": {
      "text/plain": [
       "<AxesSubplot:xlabel='desercion', ylabel='importante_mi_entorno'>"
      ]
     },
     "execution_count": 83,
     "metadata": {},
     "output_type": "execute_result"
    },
    {
     "data": {
      "image/png": "[encoded data removed]",
      "text/plain": [
       "<Figure size 432x288 with 2 Axes>"
      ]
     },
     "metadata": {
      "needs_background": "light"
     },
     "output_type": "display_data"
    }
   ],
   "source": [
    "sns.heatmap( contigency , annot = True , cmap=\"YlGnBu\" )"
   ]
  },
  {
   "cell_type": "code",
   "execution_count": 84,
   "id": "a738de30-0502-4b78-93b4-0447482e9fff",
   "metadata": {},
   "outputs": [],
   "source": [
    "c, p, dof, expected  = chi2_contingency(contigency)"
   ]
  },
  {
   "cell_type": "code",
   "execution_count": 85,
   "id": "a4476388-8658-47b2-9f89-f77ca4745474",
   "metadata": {},
   "outputs": [
    {
     "data": {
      "text/plain": [
       "0.004641042293816413"
      ]
     },
     "execution_count": 85,
     "metadata": {},
     "output_type": "execute_result"
    }
   ],
   "source": [
    "p"
   ]
  },
  {
   "cell_type": "markdown",
   "id": "5f2ecd8b-ef3c-403b-a3c4-f394397cf1cb",
   "metadata": {},
   "source": [
    "- Por lo tanto no rechazamos la hipótesis alternativa, el hecho de que los estudiantes sientan que su entorno no es el adecuando en cuánto al interés que mustran las autoridades competentes con ellos, los lleva a pensar en una posible deserción."
   ]
  },
  {
   "cell_type": "markdown",
   "id": "d2bfc4eb-8784-4e6a-bf21-2c569a3ff7c1",
   "metadata": {},
   "source": [
    "## Excelencia académica con el deseo de estudiar otra carrera"
   ]
  },
  {
   "cell_type": "markdown",
   "id": "2fae8540-62e6-4554-8b49-ca352d163b8a",
   "metadata": {},
   "source": [
    "### Excelencia Académica con deseo por estudiar otra carrera\n",
    "\n",
    "- Ho (nula) = Mide la independencia de dos variables. El estudiante es o ha sido excelencia académica y el deseo por estudiar otra carrera no depende una de la otra. \n",
    "- H1 (alternativa) = las variables de excelencia académcia y deseo por estudiar otra carrera son dependientes.\n",
    "\n",
    "*( Si el p-value es mayor a 0.05: la opcion a seleccionar es la hipotesis nula )*"
   ]
  },
  {
   "cell_type": "code",
   "execution_count": 86,
   "id": "a39d11ce-558a-4951-ac48-729680ea6e67",
   "metadata": {},
   "outputs": [],
   "source": [
    "contigency = pd.crosstab( survey[\"excelencia_academica\"] , survey[\"is_segunda_opcion\"] )"
   ]
  },
  {
   "cell_type": "code",
   "execution_count": 87,
   "id": "68680f68-3ba9-41ea-a543-7fa997d05fbe",
   "metadata": {},
   "outputs": [
    {
     "data": {
      "text/plain": [
       "<AxesSubplot:xlabel='is_segunda_opcion', ylabel='excelencia_academica'>"
      ]
     },
     "execution_count": 87,
     "metadata": {},
     "output_type": "execute_result"
    },
    {
     "data": {
      "image/png": "[encoded data removed]",
      "text/plain": [
       "<Figure size 432x288 with 2 Axes>"
      ]
     },
     "metadata": {
      "needs_background": "light"
     },
     "output_type": "display_data"
    }
   ],
   "source": [
    "sns.heatmap( contigency , annot = True , cmap=\"YlGnBu\" )"
   ]
  },
  {
   "cell_type": "code",
   "execution_count": 88,
   "id": "b7bb26f2-6e76-45dc-8a87-ba41684817dd",
   "metadata": {},
   "outputs": [],
   "source": [
    "c, p, dof, expected  = chi2_contingency(contigency)"
   ]
  },
  {
   "cell_type": "code",
   "execution_count": 89,
   "id": "9c821de2-b4f3-48d1-8536-3b758f7aaaaf",
   "metadata": {},
   "outputs": [
    {
     "data": {
      "text/plain": [
       "0.9030165097295637"
      ]
     },
     "execution_count": 89,
     "metadata": {},
     "output_type": "execute_result"
    }
   ],
   "source": [
    "p"
   ]
  },
  {
   "cell_type": "markdown",
   "id": "c6065726-d357-4c5c-b874-34d662450fdc",
   "metadata": {},
   "source": [
    "- Por lo tanto no rechazamos la hipótesis nula, las variables son independientes y podemos concluir que no hay correlación alguna."
   ]
  },
  {
   "cell_type": "markdown",
   "id": "85525cf7-a18a-4584-a63a-40b74e672818",
   "metadata": {},
   "source": [
    "## Encontraremos en qué año de la carrera se encuentran los estudiantes"
   ]
  },
  {
   "cell_type": "code",
   "execution_count": 90,
   "id": "175cacce-539a-40bf-ae40-fa2b706cb27d",
   "metadata": {},
   "outputs": [
    {
     "data": {
      "text/plain": [
       "0      2016\n",
       "1      2015\n",
       "2      2019\n",
       "3      2016\n",
       "4      2019\n",
       "       ... \n",
       "225    2018\n",
       "226    2017\n",
       "227    2016\n",
       "228    2020\n",
       "229    2013\n",
       "Name: anio_ingreso_unah, Length: 230, dtype: int64"
      ]
     },
     "execution_count": 90,
     "metadata": {},
     "output_type": "execute_result"
    }
   ],
   "source": [
    "survey[\"anio_ingreso_unah\"]"
   ]
  },
  {
   "cell_type": "code",
   "execution_count": 91,
   "id": "982a2e2f-ba64-4c0f-b781-30ee00c999ee",
   "metadata": {},
   "outputs": [],
   "source": [
    "survey[\"anio_plan_estudios\"] =\"\""
   ]
  },
  {
   "cell_type": "code",
   "execution_count": 92,
   "id": "9df79858-6dd5-472e-b960-8c24f2608915",
   "metadata": {},
   "outputs": [],
   "source": [
    "survey[\"anio_plan_estudios\"] = 2022 - survey[\"anio_ingreso_unah\"]"
   ]
  },
  {
   "cell_type": "code",
   "execution_count": 93,
   "id": "03e7aa0a-ef81-4cd1-8c2e-319b7b94bdfc",
   "metadata": {},
   "outputs": [],
   "source": [
    "survey['anio_plan_estudios'] = survey['anio_plan_estudios'].astype('int64')"
   ]
  },
  {
   "cell_type": "code",
   "execution_count": 94,
   "id": "cccb2f1d-4fca-4f3f-acf1-b8bc4652ddc5",
   "metadata": {},
   "outputs": [
    {
     "data": {
      "text/plain": [
       "0      6\n",
       "1      7\n",
       "2      3\n",
       "3      6\n",
       "4      3\n",
       "      ..\n",
       "225    4\n",
       "226    5\n",
       "227    6\n",
       "228    2\n",
       "229    9\n",
       "Name: anio_plan_estudios, Length: 230, dtype: int64"
      ]
     },
     "execution_count": 94,
     "metadata": {},
     "output_type": "execute_result"
    }
   ],
   "source": [
    "survey[\"anio_plan_estudios\"]"
   ]
  },
  {
   "cell_type": "code",
   "execution_count": 95,
   "id": "2cf7eb12-a221-4269-93c1-aac421da9af0",
   "metadata": {},
   "outputs": [
    {
     "data": {
      "text/plain": [
       "{'whiskers': [<matplotlib.lines.Line2D at 0x27a11522520>,\n",
       "  <matplotlib.lines.Line2D at 0x27a115228b0>],\n",
       " 'caps': [<matplotlib.lines.Line2D at 0x27a11522c40>,\n",
       "  <matplotlib.lines.Line2D at 0x27a11522fd0>],\n",
       " 'boxes': [<matplotlib.lines.Line2D at 0x27a115221f0>],\n",
       " 'medians': [<matplotlib.lines.Line2D at 0x27a1152e3a0>],\n",
       " 'fliers': [<matplotlib.lines.Line2D at 0x27a1152e730>],\n",
       " 'means': []}"
      ]
     },
     "execution_count": 95,
     "metadata": {},
     "output_type": "execute_result"
    },
    {
     "data": {
      "image/png": "[encoded data removed]",
      "text/plain": [
       "<Figure size 432x288 with 1 Axes>"
      ]
     },
     "metadata": {
      "needs_background": "light"
     },
     "output_type": "display_data"
    }
   ],
   "source": [
    "plt.boxplot(survey['anio_plan_estudios'])"
   ]
  },
  {
   "cell_type": "code",
   "execution_count": 96,
   "id": "e9786b76-cd46-4708-986a-cccca4c6d5aa",
   "metadata": {},
   "outputs": [],
   "source": [
    "survey['anio_plan_estudios'] = survey['anio_plan_estudios'].apply(lambda x: 1 if x ==0 else x)"
   ]
  },
  {
   "cell_type": "code",
   "execution_count": 97,
   "id": "5e2d16fd-b9ea-47df-985e-9ffe9f516430",
   "metadata": {},
   "outputs": [
    {
     "data": {
      "text/plain": [
       "5     0.178261\n",
       "1     0.169565\n",
       "6     0.152174\n",
       "2     0.100000\n",
       "3     0.091304\n",
       "4     0.086957\n",
       "7     0.078261\n",
       "9     0.056522\n",
       "8     0.039130\n",
       "10    0.030435\n",
       "11    0.008696\n",
       "16    0.004348\n",
       "14    0.004348\n",
       "Name: anio_plan_estudios, dtype: float64"
      ]
     },
     "execution_count": 97,
     "metadata": {},
     "output_type": "execute_result"
    }
   ],
   "source": [
    "survey[\"anio_plan_estudios\"].value_counts() / survey.shape[0]"
   ]
  },
  {
   "cell_type": "code",
   "execution_count": 98,
   "id": "b1cc8cd3-a57b-4bcf-843b-0ab8f7559108",
   "metadata": {},
   "outputs": [],
   "source": [
    "median = np.median(survey['anio_plan_estudios'])"
   ]
  },
  {
   "cell_type": "code",
   "execution_count": 99,
   "id": "abd510c9-524e-479e-94c8-8723d83ff907",
   "metadata": {},
   "outputs": [],
   "source": [
    "survey.loc[survey['anio_plan_estudios'] > 10, 'anio_plan_estudios'] = median"
   ]
  },
  {
   "cell_type": "code",
   "execution_count": 100,
   "id": "5e308b70-c344-442f-ae1a-ef29f723d5db",
   "metadata": {},
   "outputs": [
    {
     "data": {
      "text/plain": [
       "{'whiskers': [<matplotlib.lines.Line2D at 0x27a11589f10>,\n",
       "  <matplotlib.lines.Line2D at 0x27a115982e0>],\n",
       " 'caps': [<matplotlib.lines.Line2D at 0x27a115986a0>,\n",
       "  <matplotlib.lines.Line2D at 0x27a11598a30>],\n",
       " 'boxes': [<matplotlib.lines.Line2D at 0x27a11589b80>],\n",
       " 'medians': [<matplotlib.lines.Line2D at 0x27a11598dc0>],\n",
       " 'fliers': [<matplotlib.lines.Line2D at 0x27a115a6190>],\n",
       " 'means': []}"
      ]
     },
     "execution_count": 100,
     "metadata": {},
     "output_type": "execute_result"
    },
    {
     "data": {
      "image/png": "[encoded data removed]",
      "text/plain": [
       "<Figure size 432x288 with 1 Axes>"
      ]
     },
     "metadata": {
      "needs_background": "light"
     },
     "output_type": "display_data"
    }
   ],
   "source": [
    "plt.boxplot(survey['anio_plan_estudios'])"
   ]
  },
  {
   "cell_type": "markdown",
   "id": "7d0a8c54-c17b-490b-af26-d9876f3ad37f",
   "metadata": {},
   "source": [
    "## Año de la carrera y desmotivación"
   ]
  },
  {
   "cell_type": "markdown",
   "id": "1bc5f99e-ca37-4a13-b937-897c3afa6791",
   "metadata": {},
   "source": [
    "### Excelencia Académica con deseo por estudiar otra carrera\n",
    "\n",
    "- Ho (nula) = Mide la independencia de dos variables. El año en el que se encuentra estudiando el alumno y el deseo por desertar no depende una de la otra. \n",
    "- H1 (alternativa) = las variables de año de estudio y deseo por desertar son dependientes.\n",
    "\n",
    "*( Si el p-value es mayor a 0.05: la opcion a seleccionar es la hipotesis nula )*"
   ]
  },
  {
   "cell_type": "code",
   "execution_count": 101,
   "id": "119c9dbb-437a-4ea3-a322-73454bc857b3",
   "metadata": {},
   "outputs": [],
   "source": [
    "contigency = pd.crosstab( survey[\"anio_plan_estudios\"] , survey[\"desercion\"] )"
   ]
  },
  {
   "cell_type": "code",
   "execution_count": 102,
   "id": "03681c29-465c-4f62-b1d0-0f626b6b259b",
   "metadata": {},
   "outputs": [
    {
     "data": {
      "text/plain": [
       "<AxesSubplot:xlabel='desercion', ylabel='anio_plan_estudios'>"
      ]
     },
     "execution_count": 102,
     "metadata": {},
     "output_type": "execute_result"
    },
    {
     "data": {
      "image/png": "[encoded data removed]",
      "text/plain": [
       "<Figure size 432x288 with 2 Axes>"
      ]
     },
     "metadata": {
      "needs_background": "light"
     },
     "output_type": "display_data"
    }
   ],
   "source": [
    "sns.heatmap( contigency , annot = True , cmap=\"YlGnBu\" )"
   ]
  },
  {
   "cell_type": "code",
   "execution_count": 103,
   "id": "758cdd34-fcf4-4f81-82dd-c86719963404",
   "metadata": {},
   "outputs": [],
   "source": [
    "c, p, dof, expected  = chi2_contingency(contigency)"
   ]
  },
  {
   "cell_type": "code",
   "execution_count": 104,
   "id": "fde5d2d5-26b8-4ff5-9b46-50d9b3668b4c",
   "metadata": {},
   "outputs": [
    {
     "data": {
      "text/plain": [
       "0.04361836144081343"
      ]
     },
     "execution_count": 104,
     "metadata": {},
     "output_type": "execute_result"
    }
   ],
   "source": [
    "p"
   ]
  },
  {
   "cell_type": "code",
   "execution_count": null,
   "id": "0f8af45d-8535-46bc-aa0b-728e20db5b9d",
   "metadata": {},
   "outputs": [],
   "source": []
  },
  {
   "cell_type": "code",
   "execution_count": 105,
   "id": "0fc20395-a61e-4b7d-9556-0528c7c2dbc4",
   "metadata": {},
   "outputs": [],
   "source": [
    "contigency = pd.crosstab( survey[\"edad\"] , survey[\"desercion\"] )"
   ]
  },
  {
   "cell_type": "code",
   "execution_count": 106,
   "id": "1622a6bb-48ab-49f2-bf25-34e74afa2c66",
   "metadata": {},
   "outputs": [
    {
     "data": {
      "text/plain": [
       "<AxesSubplot:xlabel='desercion', ylabel='edad'>"
      ]
     },
     "execution_count": 106,
     "metadata": {},
     "output_type": "execute_result"
    },
    {
     "data": {
      "image/png": "[encoded data removed]",
      "text/plain": [
       "<Figure size 432x288 with 2 Axes>"
      ]
     },
     "metadata": {
      "needs_background": "light"
     },
     "output_type": "display_data"
    }
   ],
   "source": [
    "sns.heatmap( contigency , annot = True , cmap=\"YlGnBu\" )"
   ]
  },
  {
   "cell_type": "code",
   "execution_count": 624,
   "id": "5f51d2e1-3d50-4c49-8aae-55694ee9fb4f",
   "metadata": {},
   "outputs": [],
   "source": [
    "c, p, dof, expected  = chi2_contingency(contigency)"
   ]
  },
  {
   "cell_type": "code",
   "execution_count": 625,
   "id": "6378999c-5418-4f83-b7cf-609c9b8c5c40",
   "metadata": {},
   "outputs": [
    {
     "data": {
      "text/plain": [
       "0.022715568956398643"
      ]
     },
     "execution_count": 625,
     "metadata": {},
     "output_type": "execute_result"
    }
   ],
   "source": [
    "p"
   ]
  },
  {
   "cell_type": "code",
   "execution_count": 626,
   "id": "9aef648a-b876-4986-b821-d911e353b74c",
   "metadata": {},
   "outputs": [],
   "source": [
    "contigency = pd.crosstab( survey[\"edad\"] , survey[\"anio_plan_estudios\"] )"
   ]
  },
  {
   "cell_type": "code",
   "execution_count": 627,
   "id": "2b7f03bf-ea74-4def-a98a-fe1af57cc964",
   "metadata": {},
   "outputs": [
    {
     "data": {
      "text/plain": [
       "<AxesSubplot:xlabel='anio_plan_estudios', ylabel='edad'>"
      ]
     },
     "execution_count": 627,
     "metadata": {},
     "output_type": "execute_result"
    },
    {
     "data": {
      "image/png": "[encoded data removed]",
      "text/plain": [
       "<Figure size 432x288 with 2 Axes>"
      ]
     },
     "metadata": {
      "needs_background": "light"
     },
     "output_type": "display_data"
    }
   ],
   "source": [
    "sns.heatmap( contigency , annot = True , cmap=\"YlGnBu\" )"
   ]
  },
  {
   "cell_type": "code",
   "execution_count": 628,
   "id": "8b6a14f3-f95b-43ce-89e7-9d56e64d9ba3",
   "metadata": {},
   "outputs": [],
   "source": [
    "c, p, dof, expected  = chi2_contingency(contigency)"
   ]
  },
  {
   "cell_type": "code",
   "execution_count": 629,
   "id": "25194429-b1c1-46ca-8ede-3074cc1f3bef",
   "metadata": {},
   "outputs": [
    {
     "data": {
      "text/plain": [
       "7.649101991559024e-74"
      ]
     },
     "execution_count": 629,
     "metadata": {},
     "output_type": "execute_result"
    }
   ],
   "source": [
    "p"
   ]
  },
  {
   "cell_type": "code",
   "execution_count": 638,
   "id": "18257897-fc8f-40c6-bbf6-1a3b1b39e554",
   "metadata": {},
   "outputs": [],
   "source": [
    "variable_copy = survey"
   ]
  },
  {
   "cell_type": "code",
   "execution_count": 664,
   "id": "9392ca45-8715-4098-aafd-f96340f5e73c",
   "metadata": {},
   "outputs": [
    {
     "data": {
      "text/html": [
       "<div>\n",
       "<style scoped>\n",
       "    .dataframe tbody tr th:only-of-type {\n",
       "        vertical-align: middle;\n",
       "    }\n",
       "\n",
       "    .dataframe tbody tr th {\n",
       "        vertical-align: top;\n",
       "    }\n",
       "\n",
       "    .dataframe thead th {\n",
       "        text-align: right;\n",
       "    }\n",
       "</style>\n",
       "<table border=\"1\" class=\"dataframe\">\n",
       "  <thead>\n",
       "    <tr style=\"text-align: right;\">\n",
       "      <th>Variable</th>\n",
       "      <th>interés_rama_carrera_mat</th>\n",
       "      <th>interés_rama_carrera_fis</th>\n",
       "      <th>interés_rama_carrera_el</th>\n",
       "      <th>interés_rama_carrera_ad</th>\n",
       "      <th>interés_rama_carrera_analis</th>\n",
       "      <th>interés_rama_carrera_ark</th>\n",
       "      <th>interés_rama_carrera_bd</th>\n",
       "      <th>interés_rama_carrera_prog</th>\n",
       "      <th>interés_rama_carrera_red</th>\n",
       "    </tr>\n",
       "  </thead>\n",
       "  <tbody>\n",
       "    <tr>\n",
       "      <th>0</th>\n",
       "      <td>5</td>\n",
       "      <td>5.0</td>\n",
       "      <td>3.0</td>\n",
       "      <td>3.0</td>\n",
       "      <td>3.0</td>\n",
       "      <td>2.0</td>\n",
       "      <td>4.0</td>\n",
       "      <td>1.0</td>\n",
       "      <td>5.0</td>\n",
       "    </tr>\n",
       "    <tr>\n",
       "      <th>1</th>\n",
       "      <td>5</td>\n",
       "      <td>5.0</td>\n",
       "      <td>3.0</td>\n",
       "      <td>2.0</td>\n",
       "      <td>2.0</td>\n",
       "      <td>2.0</td>\n",
       "      <td>3.0</td>\n",
       "      <td>5.0</td>\n",
       "      <td>2.0</td>\n",
       "    </tr>\n",
       "    <tr>\n",
       "      <th>2</th>\n",
       "      <td>1</td>\n",
       "      <td>2.0</td>\n",
       "      <td>2.0</td>\n",
       "      <td>4.0</td>\n",
       "      <td>4.0</td>\n",
       "      <td>4.0</td>\n",
       "      <td>5.0</td>\n",
       "      <td>4.0</td>\n",
       "      <td>5.0</td>\n",
       "    </tr>\n",
       "    <tr>\n",
       "      <th>3</th>\n",
       "      <td>2</td>\n",
       "      <td>2.0</td>\n",
       "      <td>3.0</td>\n",
       "      <td>3.0</td>\n",
       "      <td>2.0</td>\n",
       "      <td>1.0</td>\n",
       "      <td>2.0</td>\n",
       "      <td>3.0</td>\n",
       "      <td>3.0</td>\n",
       "    </tr>\n",
       "    <tr>\n",
       "      <th>4</th>\n",
       "      <td>5</td>\n",
       "      <td>5.0</td>\n",
       "      <td>4.0</td>\n",
       "      <td>3.0</td>\n",
       "      <td>3.0</td>\n",
       "      <td>4.0</td>\n",
       "      <td>5.0</td>\n",
       "      <td>4.0</td>\n",
       "      <td>4.0</td>\n",
       "    </tr>\n",
       "    <tr>\n",
       "      <th>...</th>\n",
       "      <td>...</td>\n",
       "      <td>...</td>\n",
       "      <td>...</td>\n",
       "      <td>...</td>\n",
       "      <td>...</td>\n",
       "      <td>...</td>\n",
       "      <td>...</td>\n",
       "      <td>...</td>\n",
       "      <td>...</td>\n",
       "    </tr>\n",
       "    <tr>\n",
       "      <th>225</th>\n",
       "      <td>4</td>\n",
       "      <td>2.0</td>\n",
       "      <td>1.0</td>\n",
       "      <td>4.0</td>\n",
       "      <td>4.0</td>\n",
       "      <td>4.0</td>\n",
       "      <td>5.0</td>\n",
       "      <td>5.0</td>\n",
       "      <td>4.0</td>\n",
       "    </tr>\n",
       "    <tr>\n",
       "      <th>226</th>\n",
       "      <td>5</td>\n",
       "      <td>4.0</td>\n",
       "      <td>5.0</td>\n",
       "      <td>4.0</td>\n",
       "      <td>5.0</td>\n",
       "      <td>5.0</td>\n",
       "      <td>5.0</td>\n",
       "      <td>5.0</td>\n",
       "      <td>5.0</td>\n",
       "    </tr>\n",
       "    <tr>\n",
       "      <th>227</th>\n",
       "      <td>3</td>\n",
       "      <td>1.0</td>\n",
       "      <td>4.0</td>\n",
       "      <td>4.0</td>\n",
       "      <td>4.0</td>\n",
       "      <td>4.0</td>\n",
       "      <td>3.0</td>\n",
       "      <td>3.0</td>\n",
       "      <td>4.0</td>\n",
       "    </tr>\n",
       "    <tr>\n",
       "      <th>228</th>\n",
       "      <td>1</td>\n",
       "      <td>1.0</td>\n",
       "      <td>3.0</td>\n",
       "      <td>3.0</td>\n",
       "      <td>4.0</td>\n",
       "      <td>4.0</td>\n",
       "      <td>4.0</td>\n",
       "      <td>5.0</td>\n",
       "      <td>4.0</td>\n",
       "    </tr>\n",
       "    <tr>\n",
       "      <th>229</th>\n",
       "      <td>1</td>\n",
       "      <td>2.0</td>\n",
       "      <td>1.0</td>\n",
       "      <td>4.0</td>\n",
       "      <td>5.0</td>\n",
       "      <td>1.0</td>\n",
       "      <td>5.0</td>\n",
       "      <td>3.0</td>\n",
       "      <td>5.0</td>\n",
       "    </tr>\n",
       "  </tbody>\n",
       "</table>\n",
       "<p>230 rows × 9 columns</p>\n",
       "</div>"
      ],
      "text/plain": [
       "Variable  interés_rama_carrera_mat  interés_rama_carrera_fis  \\\n",
       "0                                5                       5.0   \n",
       "1                                5                       5.0   \n",
       "2                                1                       2.0   \n",
       "3                                2                       2.0   \n",
       "4                                5                       5.0   \n",
       "..                             ...                       ...   \n",
       "225                              4                       2.0   \n",
       "226                              5                       4.0   \n",
       "227                              3                       1.0   \n",
       "228                              1                       1.0   \n",
       "229                              1                       2.0   \n",
       "\n",
       "Variable  interés_rama_carrera_el  interés_rama_carrera_ad  \\\n",
       "0                             3.0                      3.0   \n",
       "1                             3.0                      2.0   \n",
       "2                             2.0                      4.0   \n",
       "3                             3.0                      3.0   \n",
       "4                             4.0                      3.0   \n",
       "..                            ...                      ...   \n",
       "225                           1.0                      4.0   \n",
       "226                           5.0                      4.0   \n",
       "227                           4.0                      4.0   \n",
       "228                           3.0                      3.0   \n",
       "229                           1.0                      4.0   \n",
       "\n",
       "Variable  interés_rama_carrera_analis  interés_rama_carrera_ark  \\\n",
       "0                                 3.0                       2.0   \n",
       "1                                 2.0                       2.0   \n",
       "2                                 4.0                       4.0   \n",
       "3                                 2.0                       1.0   \n",
       "4                                 3.0                       4.0   \n",
       "..                                ...                       ...   \n",
       "225                               4.0                       4.0   \n",
       "226                               5.0                       5.0   \n",
       "227                               4.0                       4.0   \n",
       "228                               4.0                       4.0   \n",
       "229                               5.0                       1.0   \n",
       "\n",
       "Variable  interés_rama_carrera_bd  interés_rama_carrera_prog  \\\n",
       "0                             4.0                        1.0   \n",
       "1                             3.0                        5.0   \n",
       "2                             5.0                        4.0   \n",
       "3                             2.0                        3.0   \n",
       "4                             5.0                        4.0   \n",
       "..                            ...                        ...   \n",
       "225                           5.0                        5.0   \n",
       "226                           5.0                        5.0   \n",
       "227                           3.0                        3.0   \n",
       "228                           4.0                        5.0   \n",
       "229                           5.0                        3.0   \n",
       "\n",
       "Variable  interés_rama_carrera_red  \n",
       "0                              5.0  \n",
       "1                              2.0  \n",
       "2                              5.0  \n",
       "3                              3.0  \n",
       "4                              4.0  \n",
       "..                             ...  \n",
       "225                            4.0  \n",
       "226                            5.0  \n",
       "227                            4.0  \n",
       "228                            4.0  \n",
       "229                            5.0  \n",
       "\n",
       "[230 rows x 9 columns]"
      ]
     },
     "execution_count": 664,
     "metadata": {},
     "output_type": "execute_result"
    }
   ],
   "source": [
    "variable_copy"
   ]
  },
  {
   "cell_type": "code",
   "execution_count": 668,
   "id": "65dd5e1f-1ccb-4c0a-bada-eda7ee0c6314",
   "metadata": {},
   "outputs": [
    {
     "data": {
      "text/plain": [
       "<AxesSubplot:>"
      ]
     },
     "execution_count": 668,
     "metadata": {},
     "output_type": "execute_result"
    },
    {
     "data": {
      "image/png": "[encoded data removed]",
      "text/plain": [
       "<Figure size 432x288 with 1 Axes>"
      ]
     },
     "metadata": {
      "needs_background": "light"
     },
     "output_type": "display_data"
    }
   ],
   "source": [
    "variable_copy['interés_rama_carrera_mat'].value_counts().plot(kind = 'bar')"
   ]
  },
  {
   "cell_type": "code",
   "execution_count": 669,
   "id": "48c046ca-ee0d-44f0-8672-f7409810cd52",
   "metadata": {},
   "outputs": [
    {
     "data": {
      "text/plain": [
       "<AxesSubplot:>"
      ]
     },
     "execution_count": 669,
     "metadata": {},
     "output_type": "execute_result"
    },
    {
     "data": {
      "image/png": "[encoded data removed]",
      "text/plain": [
       "<Figure size 432x288 with 1 Axes>"
      ]
     },
     "metadata": {
      "needs_background": "light"
     },
     "output_type": "display_data"
    }
   ],
   "source": [
    "variable_copy['interés_rama_carrera_fis'].value_counts().plot(kind = 'bar')"
   ]
  },
  {
   "cell_type": "code",
   "execution_count": 670,
   "id": "4ad8d460-57d9-4291-bdd1-edb33288bed9",
   "metadata": {},
   "outputs": [
    {
     "data": {
      "text/plain": [
       "<AxesSubplot:>"
      ]
     },
     "execution_count": 670,
     "metadata": {},
     "output_type": "execute_result"
    },
    {
     "data": {
      "image/png": "[encoded data removed]",
      "text/plain": [
       "<Figure size 432x288 with 1 Axes>"
      ]
     },
     "metadata": {
      "needs_background": "light"
     },
     "output_type": "display_data"
    }
   ],
   "source": [
    "variable_copy['interés_rama_carrera_el'].value_counts().plot(kind = 'bar')"
   ]
  },
  {
   "cell_type": "code",
   "execution_count": 696,
   "id": "a322e695-5bec-4d16-88df-d18f16d282e6",
   "metadata": {},
   "outputs": [
    {
     "data": {
      "text/plain": [
       "<AxesSubplot:>"
      ]
     },
     "execution_count": 696,
     "metadata": {},
     "output_type": "execute_result"
    },
    {
     "data": {
      "image/png": "[encoded data removed]",
      "text/plain": [
       "<Figure size 432x288 with 1 Axes>"
      ]
     },
     "metadata": {
      "needs_background": "light"
     },
     "output_type": "display_data"
    }
   ],
   "source": [
    "variable_copy['interés_rama_carrera_prog'].value_counts().plot(kind = 'bar')"
   ]
  },
  {
   "cell_type": "code",
   "execution_count": 695,
   "id": "46e623e1-372e-4698-9df0-3f9a332741ef",
   "metadata": {},
   "outputs": [
    {
     "data": {
      "text/plain": [
       "5.0    127\n",
       "4.0     49\n",
       "3.0     33\n",
       "2.0     16\n",
       "1.0      5\n",
       "Name: interés_rama_carrera_prog, dtype: int64"
      ]
     },
     "execution_count": 695,
     "metadata": {},
     "output_type": "execute_result"
    }
   ],
   "source": [
    "variable_copy['interés_rama_carrera_prog'].value_counts()"
   ]
  },
  {
   "cell_type": "code",
   "execution_count": 697,
   "id": "8e9edbc0-5056-44ae-ae18-d6285f1c2f48",
   "metadata": {},
   "outputs": [
    {
     "data": {
      "text/plain": [
       "5.0    0.552174\n",
       "4.0    0.213043\n",
       "3.0    0.143478\n",
       "2.0    0.069565\n",
       "1.0    0.021739\n",
       "Name: interés_rama_carrera_prog, dtype: float64"
      ]
     },
     "execution_count": 697,
     "metadata": {},
     "output_type": "execute_result"
    }
   ],
   "source": [
    "variable_copy['interés_rama_carrera_prog'].value_counts() / survey.shape[0]"
   ]
  },
  {
   "cell_type": "code",
   "execution_count": 676,
   "id": "924fc40e-00db-4586-a32a-d143d704efcc",
   "metadata": {},
   "outputs": [],
   "source": [
    "asd['anio_plan_estudios'] = asd['anio_plan_estudios'].apply(lambda x: 1 if x ==0 else x)"
   ]
  },
  {
   "cell_type": "code",
   "execution_count": 677,
   "id": "ad7f2f2a-7d28-4431-aed7-2674af50a89f",
   "metadata": {},
   "outputs": [
    {
     "data": {
      "text/plain": [
       "5       45\n",
       "1       39\n",
       "6       35\n",
       "2       23\n",
       "3       21\n",
       "4       20\n",
       "7       17\n",
       "9       13\n",
       "8        9\n",
       "10       7\n",
       "2767     1\n",
       "Name: anio_plan_estudios, dtype: int64"
      ]
     },
     "execution_count": 677,
     "metadata": {},
     "output_type": "execute_result"
    }
   ],
   "source": [
    "asd['anio_plan_estudios'].value_counts()"
   ]
  },
  {
   "cell_type": "code",
   "execution_count": null,
   "id": "9663a1dc-c16d-4efa-bfa7-ba3eef894385",
   "metadata": {},
   "outputs": [],
   "source": []
  },
  {
   "cell_type": "code",
   "execution_count": 698,
   "id": "7314a7f5-3801-4ff3-a421-fe7e32a1feda",
   "metadata": {},
   "outputs": [],
   "source": [
    "contigency = pd.crosstab( survey[\"edad\"] , survey[\"herramientas_planificacion_clean\"] )"
   ]
  },
  {
   "cell_type": "code",
   "execution_count": 699,
   "id": "52333e5a-3850-4744-b72b-fdf32a399a71",
   "metadata": {},
   "outputs": [
    {
     "data": {
      "text/plain": [
       "<AxesSubplot:xlabel='herramientas_planificacion_clean', ylabel='edad'>"
      ]
     },
     "execution_count": 699,
     "metadata": {},
     "output_type": "execute_result"
    },
    {
     "data": {
      "image/png": "[encoded data removed]",
      "text/plain": [
       "<Figure size 432x288 with 2 Axes>"
      ]
     },
     "metadata": {
      "needs_background": "light"
     },
     "output_type": "display_data"
    }
   ],
   "source": [
    "sns.heatmap( contigency , annot = True , cmap=\"YlGnBu\" )"
   ]
  },
  {
   "cell_type": "code",
   "execution_count": 700,
   "id": "defdb50a-43eb-4e48-acc3-e15bbeae3dc4",
   "metadata": {},
   "outputs": [],
   "source": [
    "c, p, dof, expected  = chi2_contingency(contigency)"
   ]
  },
  {
   "cell_type": "code",
   "execution_count": 701,
   "id": "0e4e17be-b939-4b43-9bc0-9bd35b688f4c",
   "metadata": {},
   "outputs": [
    {
     "data": {
      "text/plain": [
       "0.04022180295367709"
      ]
     },
     "execution_count": 701,
     "metadata": {},
     "output_type": "execute_result"
    }
   ],
   "source": [
    "p"
   ]
  },
  {
   "cell_type": "code",
   "execution_count": null,
   "id": "1233848a-ff3d-4470-81b1-a9acaaf6f102",
   "metadata": {},
   "outputs": [],
   "source": []
  },
  {
   "cell_type": "code",
   "execution_count": 707,
   "id": "d51a0730-d0ac-4a0c-b06c-6782eecfe446",
   "metadata": {},
   "outputs": [],
   "source": [
    "contigency = pd.crosstab( survey[\"clases_reprobadas\"] , survey[\"clases_mate_periodo\"] )"
   ]
  },
  {
   "cell_type": "code",
   "execution_count": 708,
   "id": "0f3139b6-53da-46f5-87ac-1b04fa82a58e",
   "metadata": {},
   "outputs": [
    {
     "data": {
      "text/plain": [
       "<AxesSubplot:xlabel='clases_mate_periodo', ylabel='clases_reprobadas'>"
      ]
     },
     "execution_count": 708,
     "metadata": {},
     "output_type": "execute_result"
    },
    {
     "data": {
      "image/png": "[encoded data removed]",
      "text/plain": [
       "<Figure size 432x288 with 2 Axes>"
      ]
     },
     "metadata": {
      "needs_background": "light"
     },
     "output_type": "display_data"
    }
   ],
   "source": [
    "sns.heatmap( contigency , annot = True , cmap=\"YlGnBu\" )"
   ]
  },
  {
   "cell_type": "code",
   "execution_count": 709,
   "id": "659bb10d-8546-46c9-baba-8ac8c8da4880",
   "metadata": {},
   "outputs": [],
   "source": [
    "c, p, dof, expected  = chi2_contingency(contigency)"
   ]
  },
  {
   "cell_type": "code",
   "execution_count": 710,
   "id": "24880cf7-9f5d-48b8-953d-19003dc10b2d",
   "metadata": {},
   "outputs": [
    {
     "data": {
      "text/plain": [
       "0.5773298540322402"
      ]
     },
     "execution_count": 710,
     "metadata": {},
     "output_type": "execute_result"
    }
   ],
   "source": [
    "p"
   ]
  },
  {
   "cell_type": "code",
   "execution_count": null,
   "id": "152d3056-5690-43b9-a406-9d2e31c243cc",
   "metadata": {},
   "outputs": [],
   "source": []
  },
  {
   "cell_type": "code",
   "execution_count": 114,
   "id": "a613bc5e-3de4-49a5-8045-d6b8f06a3b8f",
   "metadata": {},
   "outputs": [],
   "source": [
    "temp = survey"
   ]
  },
  {
   "cell_type": "code",
   "execution_count": 115,
   "id": "07656f64-8762-4159-9d6c-4b0f078beed7",
   "metadata": {},
   "outputs": [],
   "source": [
    "temp['des_int'] = \"\""
   ]
  },
  {
   "cell_type": "code",
   "execution_count": 119,
   "id": "7c86b89d-2346-4a2d-8ea4-b8a33713f2c2",
   "metadata": {},
   "outputs": [],
   "source": [
    "temp['des_int'] = temp['desercion'].apply(lambda x: 1 if x == 'Sí' else 0)"
   ]
  },
  {
   "cell_type": "code",
   "execution_count": 120,
   "id": "7c01f023-9af7-4690-8467-7bd5ae6f46bc",
   "metadata": {},
   "outputs": [
    {
     "data": {
      "text/plain": [
       "Index(['edad', 'genero', 'trabajo', 'foráneo', 'familiares_unah',\n",
       "       'familiares_is', 'familiares_graduados', 'influencia',\n",
       "       'is_segunda_opcion', 'carrera_simultanea', 'gusto_por_la_carrera',\n",
       "       'excelencia_academica', 'superacion', 'satisfaccion',\n",
       "       'anio_ingreso_unah', 'clases_reprobadas', 'clases_is_periodo',\n",
       "       'clases_mate_periodo', 'porcentaje_is_clases',\n",
       "       'planificación_corto_plazo', 'planificación_largo_plazo',\n",
       "       'herramientas_planificacion', 'importante_mi_entorno',\n",
       "       'dificultades_economicas_in', 'dificultades_economicas_tra',\n",
       "       'dificultades_economicas_matr', 'dificultades_economicas_pc',\n",
       "       'dificultades_economicas_del', 'malas_experiencias', 'desercion',\n",
       "       'interés_rama_carrera_mat', 'interés_rama_carrera_fis',\n",
       "       'interés_rama_carrera_el', 'interés_rama_carrera_ad',\n",
       "       'interés_rama_carrera_analis', 'interés_rama_carrera_ark',\n",
       "       'interés_rama_carrera_bd', 'interés_rama_carrera_prog',\n",
       "       'interés_rama_carrera_red', 'introvertido', 'comunicación',\n",
       "       'competitividad', 'liderazgo', 'herramientas_planificacion_clean',\n",
       "       'anio_plan_estudios', 'des_int'],\n",
       "      dtype='object', name='Variable')"
      ]
     },
     "execution_count": 120,
     "metadata": {},
     "output_type": "execute_result"
    }
   ],
   "source": [
    "temp.columns"
   ]
  },
  {
   "cell_type": "code",
   "execution_count": 121,
   "id": "0f125e5c-2339-4174-a519-bf0d4c0f1ba1",
   "metadata": {},
   "outputs": [],
   "source": [
    "columns_to_use = [ 'dificultades_economicas_in', 'dificultades_economicas_tra',\n",
    "       'dificultades_economicas_matr', 'dificultades_economicas_pc',\n",
    "       'dificultades_economicas_del', 'des_int' ]"
   ]
  },
  {
   "cell_type": "code",
   "execution_count": 122,
   "id": "b9359187-5942-4ddd-bac4-25dc4a2b2c0f",
   "metadata": {},
   "outputs": [
    {
     "data": {
      "text/plain": [
       "0      1\n",
       "1      0\n",
       "2      0\n",
       "3      0\n",
       "4      1\n",
       "      ..\n",
       "225    1\n",
       "226    1\n",
       "227    1\n",
       "228    1\n",
       "229    0\n",
       "Name: des_int, Length: 230, dtype: int64"
      ]
     },
     "execution_count": 122,
     "metadata": {},
     "output_type": "execute_result"
    }
   ],
   "source": [
    "temp['des_int']"
   ]
  },
  {
   "cell_type": "code",
   "execution_count": 127,
   "id": "d577e257-f30a-4812-b5cb-81d8362afa56",
   "metadata": {},
   "outputs": [
    {
     "data": {
      "text/plain": [
       "0      Sí\n",
       "1      No\n",
       "2      No\n",
       "3      No\n",
       "4      Sí\n",
       "       ..\n",
       "225    Sí\n",
       "226    Sí\n",
       "227    Sí\n",
       "228    Sí\n",
       "229    No\n",
       "Name: desercion, Length: 230, dtype: object"
      ]
     },
     "execution_count": 127,
     "metadata": {},
     "output_type": "execute_result"
    }
   ],
   "source": [
    "temp['desercion']"
   ]
  },
  {
   "cell_type": "code",
   "execution_count": 123,
   "id": "f771ba68-9507-4879-a609-8179756877e1",
   "metadata": {},
   "outputs": [
    {
     "data": {
      "text/html": [
       "<div>\n",
       "<style scoped>\n",
       "    .dataframe tbody tr th:only-of-type {\n",
       "        vertical-align: middle;\n",
       "    }\n",
       "\n",
       "    .dataframe tbody tr th {\n",
       "        vertical-align: top;\n",
       "    }\n",
       "\n",
       "    .dataframe thead th {\n",
       "        text-align: right;\n",
       "    }\n",
       "</style>\n",
       "<table border=\"1\" class=\"dataframe\">\n",
       "  <thead>\n",
       "    <tr style=\"text-align: right;\">\n",
       "      <th>Variable</th>\n",
       "      <th>dificultades_economicas_in</th>\n",
       "      <th>dificultades_economicas_tra</th>\n",
       "      <th>dificultades_economicas_matr</th>\n",
       "      <th>dificultades_economicas_pc</th>\n",
       "      <th>dificultades_economicas_del</th>\n",
       "      <th>des_int</th>\n",
       "    </tr>\n",
       "    <tr>\n",
       "      <th>Variable</th>\n",
       "      <th></th>\n",
       "      <th></th>\n",
       "      <th></th>\n",
       "      <th></th>\n",
       "      <th></th>\n",
       "      <th></th>\n",
       "    </tr>\n",
       "  </thead>\n",
       "  <tbody>\n",
       "    <tr>\n",
       "      <th>dificultades_economicas_in</th>\n",
       "      <td>1.000000</td>\n",
       "      <td>0.506266</td>\n",
       "      <td>0.463559</td>\n",
       "      <td>0.416678</td>\n",
       "      <td>0.305915</td>\n",
       "      <td>0.144154</td>\n",
       "    </tr>\n",
       "    <tr>\n",
       "      <th>dificultades_economicas_tra</th>\n",
       "      <td>0.506266</td>\n",
       "      <td>1.000000</td>\n",
       "      <td>0.334576</td>\n",
       "      <td>0.330659</td>\n",
       "      <td>0.475954</td>\n",
       "      <td>0.212587</td>\n",
       "    </tr>\n",
       "    <tr>\n",
       "      <th>dificultades_economicas_matr</th>\n",
       "      <td>0.463559</td>\n",
       "      <td>0.334576</td>\n",
       "      <td>1.000000</td>\n",
       "      <td>0.468007</td>\n",
       "      <td>0.301648</td>\n",
       "      <td>0.117288</td>\n",
       "    </tr>\n",
       "    <tr>\n",
       "      <th>dificultades_economicas_pc</th>\n",
       "      <td>0.416678</td>\n",
       "      <td>0.330659</td>\n",
       "      <td>0.468007</td>\n",
       "      <td>1.000000</td>\n",
       "      <td>0.323073</td>\n",
       "      <td>0.256808</td>\n",
       "    </tr>\n",
       "    <tr>\n",
       "      <th>dificultades_economicas_del</th>\n",
       "      <td>0.305915</td>\n",
       "      <td>0.475954</td>\n",
       "      <td>0.301648</td>\n",
       "      <td>0.323073</td>\n",
       "      <td>1.000000</td>\n",
       "      <td>0.165114</td>\n",
       "    </tr>\n",
       "    <tr>\n",
       "      <th>des_int</th>\n",
       "      <td>0.144154</td>\n",
       "      <td>0.212587</td>\n",
       "      <td>0.117288</td>\n",
       "      <td>0.256808</td>\n",
       "      <td>0.165114</td>\n",
       "      <td>1.000000</td>\n",
       "    </tr>\n",
       "  </tbody>\n",
       "</table>\n",
       "</div>"
      ],
      "text/plain": [
       "Variable                      dificultades_economicas_in  \\\n",
       "Variable                                                   \n",
       "dificultades_economicas_in                      1.000000   \n",
       "dificultades_economicas_tra                     0.506266   \n",
       "dificultades_economicas_matr                    0.463559   \n",
       "dificultades_economicas_pc                      0.416678   \n",
       "dificultades_economicas_del                     0.305915   \n",
       "des_int                                         0.144154   \n",
       "\n",
       "Variable                      dificultades_economicas_tra  \\\n",
       "Variable                                                    \n",
       "dificultades_economicas_in                       0.506266   \n",
       "dificultades_economicas_tra                      1.000000   \n",
       "dificultades_economicas_matr                     0.334576   \n",
       "dificultades_economicas_pc                       0.330659   \n",
       "dificultades_economicas_del                      0.475954   \n",
       "des_int                                          0.212587   \n",
       "\n",
       "Variable                      dificultades_economicas_matr  \\\n",
       "Variable                                                     \n",
       "dificultades_economicas_in                        0.463559   \n",
       "dificultades_economicas_tra                       0.334576   \n",
       "dificultades_economicas_matr                      1.000000   \n",
       "dificultades_economicas_pc                        0.468007   \n",
       "dificultades_economicas_del                       0.301648   \n",
       "des_int                                           0.117288   \n",
       "\n",
       "Variable                      dificultades_economicas_pc  \\\n",
       "Variable                                                   \n",
       "dificultades_economicas_in                      0.416678   \n",
       "dificultades_economicas_tra                     0.330659   \n",
       "dificultades_economicas_matr                    0.468007   \n",
       "dificultades_economicas_pc                      1.000000   \n",
       "dificultades_economicas_del                     0.323073   \n",
       "des_int                                         0.256808   \n",
       "\n",
       "Variable                      dificultades_economicas_del   des_int  \n",
       "Variable                                                             \n",
       "dificultades_economicas_in                       0.305915  0.144154  \n",
       "dificultades_economicas_tra                      0.475954  0.212587  \n",
       "dificultades_economicas_matr                     0.301648  0.117288  \n",
       "dificultades_economicas_pc                       0.323073  0.256808  \n",
       "dificultades_economicas_del                      1.000000  0.165114  \n",
       "des_int                                          0.165114  1.000000  "
      ]
     },
     "execution_count": 123,
     "metadata": {},
     "output_type": "execute_result"
    }
   ],
   "source": [
    "temp.loc[ :, columns_to_use ].corr()"
   ]
  },
  {
   "cell_type": "code",
   "execution_count": 124,
   "id": "8fa51e00-924e-4776-ae3a-441df23ca795",
   "metadata": {},
   "outputs": [],
   "source": [
    "corr_use = survey.loc[ :, columns_to_use ].corr()"
   ]
  },
  {
   "cell_type": "code",
   "execution_count": 125,
   "id": "24e04261-1f01-4274-afbd-cfd6e9d46196",
   "metadata": {},
   "outputs": [
    {
     "data": {
      "text/plain": [
       "<matplotlib.image.AxesImage at 0x27a11a46d90>"
      ]
     },
     "execution_count": 125,
     "metadata": {},
     "output_type": "execute_result"
    },
    {
     "data": {
      "image/png": "[encoded data removed]",
      "text/plain": [
       "<Figure size 288x288 with 1 Axes>"
      ]
     },
     "metadata": {
      "needs_background": "light"
     },
     "output_type": "display_data"
    }
   ],
   "source": [
    "plt.matshow( corr_use )"
   ]
  },
  {
   "cell_type": "code",
   "execution_count": 126,
   "id": "59bc5d3d-b359-450f-8a75-5e9cccfad067",
   "metadata": {},
   "outputs": [
    {
     "data": {
      "text/plain": [
       "<AxesSubplot:xlabel='Variable', ylabel='Variable'>"
      ]
     },
     "execution_count": 126,
     "metadata": {},
     "output_type": "execute_result"
    },
    {
     "data": {
      "image/png": "[encoded data removed]",
      "text/plain": [
       "<Figure size 720x576 with 2 Axes>"
      ]
     },
     "metadata": {
      "needs_background": "light"
     },
     "output_type": "display_data"
    }
   ],
   "source": [
    "f, ax = plt.subplots( figsize=(10, 8) )\n",
    "\n",
    "sns.heatmap( corr_use , cmap=sns.color_palette(\"coolwarm\", as_cmap=True))"
   ]
  },
  {
   "cell_type": "code",
   "execution_count": 128,
   "id": "ca150fd9-7c05-481c-ad81-2023e6163f12",
   "metadata": {},
   "outputs": [],
   "source": [
    "columns_use = ['interés_rama_carrera_mat', 'interés_rama_carrera_fis',\n",
    "       'interés_rama_carrera_el', 'interés_rama_carrera_ad',\n",
    "       'interés_rama_carrera_analis', 'interés_rama_carrera_ark',\n",
    "       'interés_rama_carrera_bd', 'interés_rama_carrera_prog',\n",
    "       'interés_rama_carrera_red', 'des_int']"
   ]
  },
  {
   "cell_type": "code",
   "execution_count": 129,
   "id": "252576d1-cedd-406c-bc13-36ba77f97521",
   "metadata": {},
   "outputs": [
    {
     "data": {
      "text/html": [
       "<div>\n",
       "<style scoped>\n",
       "    .dataframe tbody tr th:only-of-type {\n",
       "        vertical-align: middle;\n",
       "    }\n",
       "\n",
       "    .dataframe tbody tr th {\n",
       "        vertical-align: top;\n",
       "    }\n",
       "\n",
       "    .dataframe thead th {\n",
       "        text-align: right;\n",
       "    }\n",
       "</style>\n",
       "<table border=\"1\" class=\"dataframe\">\n",
       "  <thead>\n",
       "    <tr style=\"text-align: right;\">\n",
       "      <th>Variable</th>\n",
       "      <th>interés_rama_carrera_mat</th>\n",
       "      <th>interés_rama_carrera_fis</th>\n",
       "      <th>interés_rama_carrera_el</th>\n",
       "      <th>interés_rama_carrera_ad</th>\n",
       "      <th>interés_rama_carrera_analis</th>\n",
       "      <th>interés_rama_carrera_ark</th>\n",
       "      <th>interés_rama_carrera_bd</th>\n",
       "      <th>interés_rama_carrera_prog</th>\n",
       "      <th>interés_rama_carrera_red</th>\n",
       "      <th>des_int</th>\n",
       "    </tr>\n",
       "    <tr>\n",
       "      <th>Variable</th>\n",
       "      <th></th>\n",
       "      <th></th>\n",
       "      <th></th>\n",
       "      <th></th>\n",
       "      <th></th>\n",
       "      <th></th>\n",
       "      <th></th>\n",
       "      <th></th>\n",
       "      <th></th>\n",
       "      <th></th>\n",
       "    </tr>\n",
       "  </thead>\n",
       "  <tbody>\n",
       "    <tr>\n",
       "      <th>interés_rama_carrera_mat</th>\n",
       "      <td>1.000000</td>\n",
       "      <td>0.632792</td>\n",
       "      <td>0.330121</td>\n",
       "      <td>0.192546</td>\n",
       "      <td>0.052678</td>\n",
       "      <td>0.033588</td>\n",
       "      <td>0.134357</td>\n",
       "      <td>0.152522</td>\n",
       "      <td>0.069773</td>\n",
       "      <td>-0.050676</td>\n",
       "    </tr>\n",
       "    <tr>\n",
       "      <th>interés_rama_carrera_fis</th>\n",
       "      <td>0.632792</td>\n",
       "      <td>1.000000</td>\n",
       "      <td>0.336512</td>\n",
       "      <td>0.141599</td>\n",
       "      <td>0.056018</td>\n",
       "      <td>0.079815</td>\n",
       "      <td>0.147983</td>\n",
       "      <td>0.111725</td>\n",
       "      <td>0.132744</td>\n",
       "      <td>0.024249</td>\n",
       "    </tr>\n",
       "    <tr>\n",
       "      <th>interés_rama_carrera_el</th>\n",
       "      <td>0.330121</td>\n",
       "      <td>0.336512</td>\n",
       "      <td>1.000000</td>\n",
       "      <td>0.350838</td>\n",
       "      <td>0.255030</td>\n",
       "      <td>0.490610</td>\n",
       "      <td>0.091142</td>\n",
       "      <td>0.045757</td>\n",
       "      <td>0.329448</td>\n",
       "      <td>0.050241</td>\n",
       "    </tr>\n",
       "    <tr>\n",
       "      <th>interés_rama_carrera_ad</th>\n",
       "      <td>0.192546</td>\n",
       "      <td>0.141599</td>\n",
       "      <td>0.350838</td>\n",
       "      <td>1.000000</td>\n",
       "      <td>0.363744</td>\n",
       "      <td>0.215946</td>\n",
       "      <td>0.224328</td>\n",
       "      <td>-0.060131</td>\n",
       "      <td>0.272129</td>\n",
       "      <td>0.039822</td>\n",
       "    </tr>\n",
       "    <tr>\n",
       "      <th>interés_rama_carrera_analis</th>\n",
       "      <td>0.052678</td>\n",
       "      <td>0.056018</td>\n",
       "      <td>0.255030</td>\n",
       "      <td>0.363744</td>\n",
       "      <td>1.000000</td>\n",
       "      <td>0.456796</td>\n",
       "      <td>0.432659</td>\n",
       "      <td>0.292717</td>\n",
       "      <td>0.360566</td>\n",
       "      <td>-0.136791</td>\n",
       "    </tr>\n",
       "    <tr>\n",
       "      <th>interés_rama_carrera_ark</th>\n",
       "      <td>0.033588</td>\n",
       "      <td>0.079815</td>\n",
       "      <td>0.490610</td>\n",
       "      <td>0.215946</td>\n",
       "      <td>0.456796</td>\n",
       "      <td>1.000000</td>\n",
       "      <td>0.253255</td>\n",
       "      <td>0.121366</td>\n",
       "      <td>0.399274</td>\n",
       "      <td>-0.095421</td>\n",
       "    </tr>\n",
       "    <tr>\n",
       "      <th>interés_rama_carrera_bd</th>\n",
       "      <td>0.134357</td>\n",
       "      <td>0.147983</td>\n",
       "      <td>0.091142</td>\n",
       "      <td>0.224328</td>\n",
       "      <td>0.432659</td>\n",
       "      <td>0.253255</td>\n",
       "      <td>1.000000</td>\n",
       "      <td>0.337531</td>\n",
       "      <td>0.195048</td>\n",
       "      <td>-0.182872</td>\n",
       "    </tr>\n",
       "    <tr>\n",
       "      <th>interés_rama_carrera_prog</th>\n",
       "      <td>0.152522</td>\n",
       "      <td>0.111725</td>\n",
       "      <td>0.045757</td>\n",
       "      <td>-0.060131</td>\n",
       "      <td>0.292717</td>\n",
       "      <td>0.121366</td>\n",
       "      <td>0.337531</td>\n",
       "      <td>1.000000</td>\n",
       "      <td>0.138366</td>\n",
       "      <td>-0.226855</td>\n",
       "    </tr>\n",
       "    <tr>\n",
       "      <th>interés_rama_carrera_red</th>\n",
       "      <td>0.069773</td>\n",
       "      <td>0.132744</td>\n",
       "      <td>0.329448</td>\n",
       "      <td>0.272129</td>\n",
       "      <td>0.360566</td>\n",
       "      <td>0.399274</td>\n",
       "      <td>0.195048</td>\n",
       "      <td>0.138366</td>\n",
       "      <td>1.000000</td>\n",
       "      <td>-0.119123</td>\n",
       "    </tr>\n",
       "    <tr>\n",
       "      <th>des_int</th>\n",
       "      <td>-0.050676</td>\n",
       "      <td>0.024249</td>\n",
       "      <td>0.050241</td>\n",
       "      <td>0.039822</td>\n",
       "      <td>-0.136791</td>\n",
       "      <td>-0.095421</td>\n",
       "      <td>-0.182872</td>\n",
       "      <td>-0.226855</td>\n",
       "      <td>-0.119123</td>\n",
       "      <td>1.000000</td>\n",
       "    </tr>\n",
       "  </tbody>\n",
       "</table>\n",
       "</div>"
      ],
      "text/plain": [
       "Variable                     interés_rama_carrera_mat  \\\n",
       "Variable                                                \n",
       "interés_rama_carrera_mat                     1.000000   \n",
       "interés_rama_carrera_fis                     0.632792   \n",
       "interés_rama_carrera_el                      0.330121   \n",
       "interés_rama_carrera_ad                      0.192546   \n",
       "interés_rama_carrera_analis                  0.052678   \n",
       "interés_rama_carrera_ark                     0.033588   \n",
       "interés_rama_carrera_bd                      0.134357   \n",
       "interés_rama_carrera_prog                    0.152522   \n",
       "interés_rama_carrera_red                     0.069773   \n",
       "des_int                                     -0.050676   \n",
       "\n",
       "Variable                     interés_rama_carrera_fis  \\\n",
       "Variable                                                \n",
       "interés_rama_carrera_mat                     0.632792   \n",
       "interés_rama_carrera_fis                     1.000000   \n",
       "interés_rama_carrera_el                      0.336512   \n",
       "interés_rama_carrera_ad                      0.141599   \n",
       "interés_rama_carrera_analis                  0.056018   \n",
       "interés_rama_carrera_ark                     0.079815   \n",
       "interés_rama_carrera_bd                      0.147983   \n",
       "interés_rama_carrera_prog                    0.111725   \n",
       "interés_rama_carrera_red                     0.132744   \n",
       "des_int                                      0.024249   \n",
       "\n",
       "Variable                     interés_rama_carrera_el  interés_rama_carrera_ad  \\\n",
       "Variable                                                                        \n",
       "interés_rama_carrera_mat                    0.330121                 0.192546   \n",
       "interés_rama_carrera_fis                    0.336512                 0.141599   \n",
       "interés_rama_carrera_el                     1.000000                 0.350838   \n",
       "interés_rama_carrera_ad                     0.350838                 1.000000   \n",
       "interés_rama_carrera_analis                 0.255030                 0.363744   \n",
       "interés_rama_carrera_ark                    0.490610                 0.215946   \n",
       "interés_rama_carrera_bd                     0.091142                 0.224328   \n",
       "interés_rama_carrera_prog                   0.045757                -0.060131   \n",
       "interés_rama_carrera_red                    0.329448                 0.272129   \n",
       "des_int                                     0.050241                 0.039822   \n",
       "\n",
       "Variable                     interés_rama_carrera_analis  \\\n",
       "Variable                                                   \n",
       "interés_rama_carrera_mat                        0.052678   \n",
       "interés_rama_carrera_fis                        0.056018   \n",
       "interés_rama_carrera_el                         0.255030   \n",
       "interés_rama_carrera_ad                         0.363744   \n",
       "interés_rama_carrera_analis                     1.000000   \n",
       "interés_rama_carrera_ark                        0.456796   \n",
       "interés_rama_carrera_bd                         0.432659   \n",
       "interés_rama_carrera_prog                       0.292717   \n",
       "interés_rama_carrera_red                        0.360566   \n",
       "des_int                                        -0.136791   \n",
       "\n",
       "Variable                     interés_rama_carrera_ark  \\\n",
       "Variable                                                \n",
       "interés_rama_carrera_mat                     0.033588   \n",
       "interés_rama_carrera_fis                     0.079815   \n",
       "interés_rama_carrera_el                      0.490610   \n",
       "interés_rama_carrera_ad                      0.215946   \n",
       "interés_rama_carrera_analis                  0.456796   \n",
       "interés_rama_carrera_ark                     1.000000   \n",
       "interés_rama_carrera_bd                      0.253255   \n",
       "interés_rama_carrera_prog                    0.121366   \n",
       "interés_rama_carrera_red                     0.399274   \n",
       "des_int                                     -0.095421   \n",
       "\n",
       "Variable                     interés_rama_carrera_bd  \\\n",
       "Variable                                               \n",
       "interés_rama_carrera_mat                    0.134357   \n",
       "interés_rama_carrera_fis                    0.147983   \n",
       "interés_rama_carrera_el                     0.091142   \n",
       "interés_rama_carrera_ad                     0.224328   \n",
       "interés_rama_carrera_analis                 0.432659   \n",
       "interés_rama_carrera_ark                    0.253255   \n",
       "interés_rama_carrera_bd                     1.000000   \n",
       "interés_rama_carrera_prog                   0.337531   \n",
       "interés_rama_carrera_red                    0.195048   \n",
       "des_int                                    -0.182872   \n",
       "\n",
       "Variable                     interés_rama_carrera_prog  \\\n",
       "Variable                                                 \n",
       "interés_rama_carrera_mat                      0.152522   \n",
       "interés_rama_carrera_fis                      0.111725   \n",
       "interés_rama_carrera_el                       0.045757   \n",
       "interés_rama_carrera_ad                      -0.060131   \n",
       "interés_rama_carrera_analis                   0.292717   \n",
       "interés_rama_carrera_ark                      0.121366   \n",
       "interés_rama_carrera_bd                       0.337531   \n",
       "interés_rama_carrera_prog                     1.000000   \n",
       "interés_rama_carrera_red                      0.138366   \n",
       "des_int                                      -0.226855   \n",
       "\n",
       "Variable                     interés_rama_carrera_red   des_int  \n",
       "Variable                                                         \n",
       "interés_rama_carrera_mat                     0.069773 -0.050676  \n",
       "interés_rama_carrera_fis                     0.132744  0.024249  \n",
       "interés_rama_carrera_el                      0.329448  0.050241  \n",
       "interés_rama_carrera_ad                      0.272129  0.039822  \n",
       "interés_rama_carrera_analis                  0.360566 -0.136791  \n",
       "interés_rama_carrera_ark                     0.399274 -0.095421  \n",
       "interés_rama_carrera_bd                      0.195048 -0.182872  \n",
       "interés_rama_carrera_prog                    0.138366 -0.226855  \n",
       "interés_rama_carrera_red                     1.000000 -0.119123  \n",
       "des_int                                     -0.119123  1.000000  "
      ]
     },
     "execution_count": 129,
     "metadata": {},
     "output_type": "execute_result"
    }
   ],
   "source": [
    "temp.loc[ :, columns_use ].corr()"
   ]
  },
  {
   "cell_type": "code",
   "execution_count": 131,
   "id": "a73dadde-55aa-496e-bcf1-9d7485b429bc",
   "metadata": {},
   "outputs": [],
   "source": [
    "corr_use = survey.loc[ :, columns_use ].corr()"
   ]
  },
  {
   "cell_type": "code",
   "execution_count": 132,
   "id": "4de3ffd2-c112-4b14-b214-db387766761e",
   "metadata": {},
   "outputs": [
    {
     "data": {
      "text/plain": [
       "<AxesSubplot:xlabel='Variable', ylabel='Variable'>"
      ]
     },
     "execution_count": 132,
     "metadata": {},
     "output_type": "execute_result"
    },
    {
     "data": {
      "image/png": "[encoded data removed]",
      "text/plain": [
       "<Figure size 720x576 with 2 Axes>"
      ]
     },
     "metadata": {
      "needs_background": "light"
     },
     "output_type": "display_data"
    }
   ],
   "source": [
    "f, ax = plt.subplots( figsize=(10, 8) )\n",
    "\n",
    "sns.heatmap( corr_use , cmap=sns.color_palette(\"coolwarm\", as_cmap=True))"
   ]
  },
  {
   "cell_type": "code",
   "execution_count": null,
   "id": "b3d12cac-88bb-4bde-903c-5a1403ce7004",
   "metadata": {},
   "outputs": [],
   "source": []
  }
 ],
 "metadata": {
  "kernelspec": {
   "display_name": "Python 3 (ipykernel)",
   "language": "python",
   "name": "python3"
  },
  "language_info": {
   "codemirror_mode": {
    "name": "ipython",
    "version": 3
   },
   "file_extension": ".py",
   "mimetype": "text/x-python",
   "name": "python",
   "nbconvert_exporter": "python",
   "pygments_lexer": "ipython3",
   "version": "3.9.7"
  }
 },
 "nbformat": 4,
 "nbformat_minor": 5
}
