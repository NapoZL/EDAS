{
 "cells": [
  {
   "cell_type": "code",
   "execution_count": 203,
   "id": "a77512f4-fc83-4258-bb30-acccf233b94c",
   "metadata": {},
   "outputs": [],
   "source": [
    "import pandas as pd\n",
    "import numpy as np\n",
    "from scipy.stats import chi2_contingency\n",
    "import matplotlib.pyplot as plt\n",
    "import seaborn as sns\n",
    "import datetime\n",
    "from sklearn.model_selection import train_test_split\n",
    "from sklearn.linear_model import LinearRegression\n",
    "from sklearn import tree \n",
    "from sklearn import preprocessing\n",
    "from io import StringIO\n",
    "from IPython.display import Image, display\n",
    "from sklearn.linear_model import LogisticRegression\n",
    "from sklearn import metrics"
   ]
  },
  {
   "cell_type": "markdown",
   "id": "4d56c07f-fdb1-4bd7-82c7-c7024b022663",
   "metadata": {
    "tags": []
   },
   "source": [
    "## Lectura de dataframes"
   ]
  },
  {
   "cell_type": "code",
   "execution_count": 240,
   "id": "4a491003-affe-4c51-a020-70186427c0e3",
   "metadata": {},
   "outputs": [],
   "source": [
    "df = pd.read_csv('salary.csv')"
   ]
  },
  {
   "cell_type": "code",
   "execution_count": 3,
   "id": "5c8cb566-66bc-4a2a-909c-c5bd5a92afa1",
   "metadata": {},
   "outputs": [
    {
     "data": {
      "text/html": [
       "<div>\n",
       "<style scoped>\n",
       "    .dataframe tbody tr th:only-of-type {\n",
       "        vertical-align: middle;\n",
       "    }\n",
       "\n",
       "    .dataframe tbody tr th {\n",
       "        vertical-align: top;\n",
       "    }\n",
       "\n",
       "    .dataframe thead th {\n",
       "        text-align: right;\n",
       "    }\n",
       "</style>\n",
       "<table border=\"1\" class=\"dataframe\">\n",
       "  <thead>\n",
       "    <tr style=\"text-align: right;\">\n",
       "      <th></th>\n",
       "      <th>age</th>\n",
       "      <th>workclass</th>\n",
       "      <th>fnlwgt</th>\n",
       "      <th>education</th>\n",
       "      <th>education-num</th>\n",
       "      <th>marital-status</th>\n",
       "      <th>occupation</th>\n",
       "      <th>relationship</th>\n",
       "      <th>race</th>\n",
       "      <th>sex</th>\n",
       "      <th>capital-gain</th>\n",
       "      <th>capital-loss</th>\n",
       "      <th>hours-per-week</th>\n",
       "      <th>native-country</th>\n",
       "      <th>salary</th>\n",
       "    </tr>\n",
       "  </thead>\n",
       "  <tbody>\n",
       "    <tr>\n",
       "      <th>0</th>\n",
       "      <td>39</td>\n",
       "      <td>State-gov</td>\n",
       "      <td>77516</td>\n",
       "      <td>Bachelors</td>\n",
       "      <td>13</td>\n",
       "      <td>Never-married</td>\n",
       "      <td>Adm-clerical</td>\n",
       "      <td>Not-in-family</td>\n",
       "      <td>White</td>\n",
       "      <td>Male</td>\n",
       "      <td>2174</td>\n",
       "      <td>0</td>\n",
       "      <td>40</td>\n",
       "      <td>United-States</td>\n",
       "      <td>&lt;=50K</td>\n",
       "    </tr>\n",
       "    <tr>\n",
       "      <th>1</th>\n",
       "      <td>50</td>\n",
       "      <td>Self-emp-not-inc</td>\n",
       "      <td>83311</td>\n",
       "      <td>Bachelors</td>\n",
       "      <td>13</td>\n",
       "      <td>Married-civ-spouse</td>\n",
       "      <td>Exec-managerial</td>\n",
       "      <td>Husband</td>\n",
       "      <td>White</td>\n",
       "      <td>Male</td>\n",
       "      <td>0</td>\n",
       "      <td>0</td>\n",
       "      <td>13</td>\n",
       "      <td>United-States</td>\n",
       "      <td>&lt;=50K</td>\n",
       "    </tr>\n",
       "    <tr>\n",
       "      <th>2</th>\n",
       "      <td>38</td>\n",
       "      <td>Private</td>\n",
       "      <td>215646</td>\n",
       "      <td>HS-grad</td>\n",
       "      <td>9</td>\n",
       "      <td>Divorced</td>\n",
       "      <td>Handlers-cleaners</td>\n",
       "      <td>Not-in-family</td>\n",
       "      <td>White</td>\n",
       "      <td>Male</td>\n",
       "      <td>0</td>\n",
       "      <td>0</td>\n",
       "      <td>40</td>\n",
       "      <td>United-States</td>\n",
       "      <td>&lt;=50K</td>\n",
       "    </tr>\n",
       "    <tr>\n",
       "      <th>3</th>\n",
       "      <td>53</td>\n",
       "      <td>Private</td>\n",
       "      <td>234721</td>\n",
       "      <td>11th</td>\n",
       "      <td>7</td>\n",
       "      <td>Married-civ-spouse</td>\n",
       "      <td>Handlers-cleaners</td>\n",
       "      <td>Husband</td>\n",
       "      <td>Black</td>\n",
       "      <td>Male</td>\n",
       "      <td>0</td>\n",
       "      <td>0</td>\n",
       "      <td>40</td>\n",
       "      <td>United-States</td>\n",
       "      <td>&lt;=50K</td>\n",
       "    </tr>\n",
       "    <tr>\n",
       "      <th>4</th>\n",
       "      <td>28</td>\n",
       "      <td>Private</td>\n",
       "      <td>338409</td>\n",
       "      <td>Bachelors</td>\n",
       "      <td>13</td>\n",
       "      <td>Married-civ-spouse</td>\n",
       "      <td>Prof-specialty</td>\n",
       "      <td>Wife</td>\n",
       "      <td>Black</td>\n",
       "      <td>Female</td>\n",
       "      <td>0</td>\n",
       "      <td>0</td>\n",
       "      <td>40</td>\n",
       "      <td>Cuba</td>\n",
       "      <td>&lt;=50K</td>\n",
       "    </tr>\n",
       "    <tr>\n",
       "      <th>...</th>\n",
       "      <td>...</td>\n",
       "      <td>...</td>\n",
       "      <td>...</td>\n",
       "      <td>...</td>\n",
       "      <td>...</td>\n",
       "      <td>...</td>\n",
       "      <td>...</td>\n",
       "      <td>...</td>\n",
       "      <td>...</td>\n",
       "      <td>...</td>\n",
       "      <td>...</td>\n",
       "      <td>...</td>\n",
       "      <td>...</td>\n",
       "      <td>...</td>\n",
       "      <td>...</td>\n",
       "    </tr>\n",
       "    <tr>\n",
       "      <th>32556</th>\n",
       "      <td>27</td>\n",
       "      <td>Private</td>\n",
       "      <td>257302</td>\n",
       "      <td>Assoc-acdm</td>\n",
       "      <td>12</td>\n",
       "      <td>Married-civ-spouse</td>\n",
       "      <td>Tech-support</td>\n",
       "      <td>Wife</td>\n",
       "      <td>White</td>\n",
       "      <td>Female</td>\n",
       "      <td>0</td>\n",
       "      <td>0</td>\n",
       "      <td>38</td>\n",
       "      <td>United-States</td>\n",
       "      <td>&lt;=50K</td>\n",
       "    </tr>\n",
       "    <tr>\n",
       "      <th>32557</th>\n",
       "      <td>40</td>\n",
       "      <td>Private</td>\n",
       "      <td>154374</td>\n",
       "      <td>HS-grad</td>\n",
       "      <td>9</td>\n",
       "      <td>Married-civ-spouse</td>\n",
       "      <td>Machine-op-inspct</td>\n",
       "      <td>Husband</td>\n",
       "      <td>White</td>\n",
       "      <td>Male</td>\n",
       "      <td>0</td>\n",
       "      <td>0</td>\n",
       "      <td>40</td>\n",
       "      <td>United-States</td>\n",
       "      <td>&gt;50K</td>\n",
       "    </tr>\n",
       "    <tr>\n",
       "      <th>32558</th>\n",
       "      <td>58</td>\n",
       "      <td>Private</td>\n",
       "      <td>151910</td>\n",
       "      <td>HS-grad</td>\n",
       "      <td>9</td>\n",
       "      <td>Widowed</td>\n",
       "      <td>Adm-clerical</td>\n",
       "      <td>Unmarried</td>\n",
       "      <td>White</td>\n",
       "      <td>Female</td>\n",
       "      <td>0</td>\n",
       "      <td>0</td>\n",
       "      <td>40</td>\n",
       "      <td>United-States</td>\n",
       "      <td>&lt;=50K</td>\n",
       "    </tr>\n",
       "    <tr>\n",
       "      <th>32559</th>\n",
       "      <td>22</td>\n",
       "      <td>Private</td>\n",
       "      <td>201490</td>\n",
       "      <td>HS-grad</td>\n",
       "      <td>9</td>\n",
       "      <td>Never-married</td>\n",
       "      <td>Adm-clerical</td>\n",
       "      <td>Own-child</td>\n",
       "      <td>White</td>\n",
       "      <td>Male</td>\n",
       "      <td>0</td>\n",
       "      <td>0</td>\n",
       "      <td>20</td>\n",
       "      <td>United-States</td>\n",
       "      <td>&lt;=50K</td>\n",
       "    </tr>\n",
       "    <tr>\n",
       "      <th>32560</th>\n",
       "      <td>52</td>\n",
       "      <td>Self-emp-inc</td>\n",
       "      <td>287927</td>\n",
       "      <td>HS-grad</td>\n",
       "      <td>9</td>\n",
       "      <td>Married-civ-spouse</td>\n",
       "      <td>Exec-managerial</td>\n",
       "      <td>Wife</td>\n",
       "      <td>White</td>\n",
       "      <td>Female</td>\n",
       "      <td>15024</td>\n",
       "      <td>0</td>\n",
       "      <td>40</td>\n",
       "      <td>United-States</td>\n",
       "      <td>&gt;50K</td>\n",
       "    </tr>\n",
       "  </tbody>\n",
       "</table>\n",
       "<p>32561 rows × 15 columns</p>\n",
       "</div>"
      ],
      "text/plain": [
       "       age          workclass  fnlwgt    education  education-num  \\\n",
       "0       39          State-gov   77516    Bachelors             13   \n",
       "1       50   Self-emp-not-inc   83311    Bachelors             13   \n",
       "2       38            Private  215646      HS-grad              9   \n",
       "3       53            Private  234721         11th              7   \n",
       "4       28            Private  338409    Bachelors             13   \n",
       "...    ...                ...     ...          ...            ...   \n",
       "32556   27            Private  257302   Assoc-acdm             12   \n",
       "32557   40            Private  154374      HS-grad              9   \n",
       "32558   58            Private  151910      HS-grad              9   \n",
       "32559   22            Private  201490      HS-grad              9   \n",
       "32560   52       Self-emp-inc  287927      HS-grad              9   \n",
       "\n",
       "            marital-status          occupation    relationship    race  \\\n",
       "0            Never-married        Adm-clerical   Not-in-family   White   \n",
       "1       Married-civ-spouse     Exec-managerial         Husband   White   \n",
       "2                 Divorced   Handlers-cleaners   Not-in-family   White   \n",
       "3       Married-civ-spouse   Handlers-cleaners         Husband   Black   \n",
       "4       Married-civ-spouse      Prof-specialty            Wife   Black   \n",
       "...                    ...                 ...             ...     ...   \n",
       "32556   Married-civ-spouse        Tech-support            Wife   White   \n",
       "32557   Married-civ-spouse   Machine-op-inspct         Husband   White   \n",
       "32558              Widowed        Adm-clerical       Unmarried   White   \n",
       "32559        Never-married        Adm-clerical       Own-child   White   \n",
       "32560   Married-civ-spouse     Exec-managerial            Wife   White   \n",
       "\n",
       "           sex  capital-gain  capital-loss  hours-per-week  native-country  \\\n",
       "0         Male          2174             0              40   United-States   \n",
       "1         Male             0             0              13   United-States   \n",
       "2         Male             0             0              40   United-States   \n",
       "3         Male             0             0              40   United-States   \n",
       "4       Female             0             0              40            Cuba   \n",
       "...        ...           ...           ...             ...             ...   \n",
       "32556   Female             0             0              38   United-States   \n",
       "32557     Male             0             0              40   United-States   \n",
       "32558   Female             0             0              40   United-States   \n",
       "32559     Male             0             0              20   United-States   \n",
       "32560   Female         15024             0              40   United-States   \n",
       "\n",
       "       salary  \n",
       "0       <=50K  \n",
       "1       <=50K  \n",
       "2       <=50K  \n",
       "3       <=50K  \n",
       "4       <=50K  \n",
       "...       ...  \n",
       "32556   <=50K  \n",
       "32557    >50K  \n",
       "32558   <=50K  \n",
       "32559   <=50K  \n",
       "32560    >50K  \n",
       "\n",
       "[32561 rows x 15 columns]"
      ]
     },
     "execution_count": 3,
     "metadata": {},
     "output_type": "execute_result"
    }
   ],
   "source": [
    "df"
   ]
  },
  {
   "cell_type": "markdown",
   "id": "0053e921-8b49-4e24-ba2a-bcd66e724bf2",
   "metadata": {
    "tags": []
   },
   "source": [
    "## Analisis de nulos por cada columna"
   ]
  },
  {
   "cell_type": "code",
   "execution_count": 4,
   "id": "05919efe-cb1a-4c40-b07e-9ffc3f65acfe",
   "metadata": {},
   "outputs": [
    {
     "data": {
      "text/plain": [
       "age               0\n",
       "workclass         0\n",
       "fnlwgt            0\n",
       "education         0\n",
       "education-num     0\n",
       "marital-status    0\n",
       "occupation        0\n",
       "relationship      0\n",
       "race              0\n",
       "sex               0\n",
       "capital-gain      0\n",
       "capital-loss      0\n",
       "hours-per-week    0\n",
       "native-country    0\n",
       "salary            0\n",
       "dtype: int64"
      ]
     },
     "execution_count": 4,
     "metadata": {},
     "output_type": "execute_result"
    }
   ],
   "source": [
    "df.isnull().sum()"
   ]
  },
  {
   "cell_type": "code",
   "execution_count": 5,
   "id": "a9f40bf4-86d9-408d-94d5-59f0a62c3bc3",
   "metadata": {},
   "outputs": [
    {
     "data": {
      "text/html": [
       "<div>\n",
       "<style scoped>\n",
       "    .dataframe tbody tr th:only-of-type {\n",
       "        vertical-align: middle;\n",
       "    }\n",
       "\n",
       "    .dataframe tbody tr th {\n",
       "        vertical-align: top;\n",
       "    }\n",
       "\n",
       "    .dataframe thead th {\n",
       "        text-align: right;\n",
       "    }\n",
       "</style>\n",
       "<table border=\"1\" class=\"dataframe\">\n",
       "  <thead>\n",
       "    <tr style=\"text-align: right;\">\n",
       "      <th></th>\n",
       "      <th>age</th>\n",
       "      <th>fnlwgt</th>\n",
       "      <th>education-num</th>\n",
       "      <th>capital-gain</th>\n",
       "      <th>capital-loss</th>\n",
       "      <th>hours-per-week</th>\n",
       "    </tr>\n",
       "  </thead>\n",
       "  <tbody>\n",
       "    <tr>\n",
       "      <th>count</th>\n",
       "      <td>32561.000000</td>\n",
       "      <td>3.256100e+04</td>\n",
       "      <td>32561.000000</td>\n",
       "      <td>32561.000000</td>\n",
       "      <td>32561.000000</td>\n",
       "      <td>32561.000000</td>\n",
       "    </tr>\n",
       "    <tr>\n",
       "      <th>mean</th>\n",
       "      <td>38.581647</td>\n",
       "      <td>1.897784e+05</td>\n",
       "      <td>10.080679</td>\n",
       "      <td>1077.648844</td>\n",
       "      <td>87.303830</td>\n",
       "      <td>40.437456</td>\n",
       "    </tr>\n",
       "    <tr>\n",
       "      <th>std</th>\n",
       "      <td>13.640433</td>\n",
       "      <td>1.055500e+05</td>\n",
       "      <td>2.572720</td>\n",
       "      <td>7385.292085</td>\n",
       "      <td>402.960219</td>\n",
       "      <td>12.347429</td>\n",
       "    </tr>\n",
       "    <tr>\n",
       "      <th>min</th>\n",
       "      <td>17.000000</td>\n",
       "      <td>1.228500e+04</td>\n",
       "      <td>1.000000</td>\n",
       "      <td>0.000000</td>\n",
       "      <td>0.000000</td>\n",
       "      <td>1.000000</td>\n",
       "    </tr>\n",
       "    <tr>\n",
       "      <th>25%</th>\n",
       "      <td>28.000000</td>\n",
       "      <td>1.178270e+05</td>\n",
       "      <td>9.000000</td>\n",
       "      <td>0.000000</td>\n",
       "      <td>0.000000</td>\n",
       "      <td>40.000000</td>\n",
       "    </tr>\n",
       "    <tr>\n",
       "      <th>50%</th>\n",
       "      <td>37.000000</td>\n",
       "      <td>1.783560e+05</td>\n",
       "      <td>10.000000</td>\n",
       "      <td>0.000000</td>\n",
       "      <td>0.000000</td>\n",
       "      <td>40.000000</td>\n",
       "    </tr>\n",
       "    <tr>\n",
       "      <th>75%</th>\n",
       "      <td>48.000000</td>\n",
       "      <td>2.370510e+05</td>\n",
       "      <td>12.000000</td>\n",
       "      <td>0.000000</td>\n",
       "      <td>0.000000</td>\n",
       "      <td>45.000000</td>\n",
       "    </tr>\n",
       "    <tr>\n",
       "      <th>max</th>\n",
       "      <td>90.000000</td>\n",
       "      <td>1.484705e+06</td>\n",
       "      <td>16.000000</td>\n",
       "      <td>99999.000000</td>\n",
       "      <td>4356.000000</td>\n",
       "      <td>99.000000</td>\n",
       "    </tr>\n",
       "  </tbody>\n",
       "</table>\n",
       "</div>"
      ],
      "text/plain": [
       "                age        fnlwgt  education-num  capital-gain  capital-loss  \\\n",
       "count  32561.000000  3.256100e+04   32561.000000  32561.000000  32561.000000   \n",
       "mean      38.581647  1.897784e+05      10.080679   1077.648844     87.303830   \n",
       "std       13.640433  1.055500e+05       2.572720   7385.292085    402.960219   \n",
       "min       17.000000  1.228500e+04       1.000000      0.000000      0.000000   \n",
       "25%       28.000000  1.178270e+05       9.000000      0.000000      0.000000   \n",
       "50%       37.000000  1.783560e+05      10.000000      0.000000      0.000000   \n",
       "75%       48.000000  2.370510e+05      12.000000      0.000000      0.000000   \n",
       "max       90.000000  1.484705e+06      16.000000  99999.000000   4356.000000   \n",
       "\n",
       "       hours-per-week  \n",
       "count    32561.000000  \n",
       "mean        40.437456  \n",
       "std         12.347429  \n",
       "min          1.000000  \n",
       "25%         40.000000  \n",
       "50%         40.000000  \n",
       "75%         45.000000  \n",
       "max         99.000000  "
      ]
     },
     "execution_count": 5,
     "metadata": {},
     "output_type": "execute_result"
    }
   ],
   "source": [
    "df.describe()"
   ]
  },
  {
   "cell_type": "markdown",
   "id": "19be9f42-0a3a-4294-9626-3acffe7eb117",
   "metadata": {
    "tags": []
   },
   "source": [
    "## Breve conteo de datos"
   ]
  },
  {
   "cell_type": "code",
   "execution_count": null,
   "id": "6688f7bd-7f15-40e2-861c-ec9fedb334c2",
   "metadata": {},
   "outputs": [],
   "source": [
    "df.columns"
   ]
  },
  {
   "cell_type": "code",
   "execution_count": null,
   "id": "344b1b98-ef5f-41ed-91fb-7e9935d0cff5",
   "metadata": {},
   "outputs": [],
   "source": [
    "df['workclass'].value_counts()"
   ]
  },
  {
   "cell_type": "code",
   "execution_count": null,
   "id": "2f623881-0732-40ef-9310-14fcae6cba31",
   "metadata": {},
   "outputs": [],
   "source": [
    "df['education'].value_counts()"
   ]
  },
  {
   "cell_type": "code",
   "execution_count": null,
   "id": "0e78a932-4b8e-4910-ac96-12eabc5bbcdd",
   "metadata": {},
   "outputs": [],
   "source": [
    "df['marital-status'].value_counts()"
   ]
  },
  {
   "cell_type": "code",
   "execution_count": null,
   "id": "72b1861d-8505-4812-bc39-7b017aafd142",
   "metadata": {},
   "outputs": [],
   "source": [
    "df['occupation'].value_counts()"
   ]
  },
  {
   "cell_type": "code",
   "execution_count": null,
   "id": "a5745af2-a2fb-4b6e-844d-3d923bf2f387",
   "metadata": {},
   "outputs": [],
   "source": [
    "df['relationship'].value_counts()"
   ]
  },
  {
   "cell_type": "code",
   "execution_count": null,
   "id": "28d94e46-b25d-49aa-a11f-08a1e7c8192f",
   "metadata": {},
   "outputs": [],
   "source": [
    "df['race'].value_counts()"
   ]
  },
  {
   "cell_type": "code",
   "execution_count": null,
   "id": "f57af678-211f-442a-b263-ec084783acca",
   "metadata": {},
   "outputs": [],
   "source": [
    "df['sex'].value_counts()"
   ]
  },
  {
   "cell_type": "code",
   "execution_count": null,
   "id": "7fa30f0c-8105-45d0-8157-6155876a48d8",
   "metadata": {},
   "outputs": [],
   "source": [
    "df['native-country'].value_counts()"
   ]
  },
  {
   "cell_type": "code",
   "execution_count": null,
   "id": "da113aba-6081-4d54-b3e5-9d92d64f15e8",
   "metadata": {},
   "outputs": [],
   "source": [
    "df['salary'].value_counts()"
   ]
  },
  {
   "cell_type": "markdown",
   "id": "26b8a034-d67b-456a-a5d2-064f6e45289f",
   "metadata": {
    "tags": []
   },
   "source": [
    "## Correlaciones"
   ]
  },
  {
   "cell_type": "code",
   "execution_count": 63,
   "id": "64699967-cb9b-49e3-9a9c-3f83e11333e1",
   "metadata": {},
   "outputs": [
    {
     "data": {
      "text/plain": [
       "Index(['age', 'workclass', 'fnlwgt', 'education', 'education-num',\n",
       "       'marital-status', 'occupation', 'relationship', 'race', 'sex',\n",
       "       'capital-gain', 'capital-loss', 'hours-per-week', 'native-country',\n",
       "       'salary'],\n",
       "      dtype='object')"
      ]
     },
     "execution_count": 63,
     "metadata": {},
     "output_type": "execute_result"
    }
   ],
   "source": [
    "df.columns"
   ]
  },
  {
   "cell_type": "code",
   "execution_count": 64,
   "id": "1e2d5747-028a-4076-afd1-2d23d3814003",
   "metadata": {},
   "outputs": [],
   "source": [
    "columns_use = ['age', 'fnlwgt', 'education-num', 'capital-gain', 'capital-loss', 'hours-per-week']"
   ]
  },
  {
   "cell_type": "code",
   "execution_count": 65,
   "id": "83f3fa26-1e96-427f-a9ad-70764b478978",
   "metadata": {
    "tags": []
   },
   "outputs": [
    {
     "data": {
      "text/html": [
       "<div>\n",
       "<style scoped>\n",
       "    .dataframe tbody tr th:only-of-type {\n",
       "        vertical-align: middle;\n",
       "    }\n",
       "\n",
       "    .dataframe tbody tr th {\n",
       "        vertical-align: top;\n",
       "    }\n",
       "\n",
       "    .dataframe thead th {\n",
       "        text-align: right;\n",
       "    }\n",
       "</style>\n",
       "<table border=\"1\" class=\"dataframe\">\n",
       "  <thead>\n",
       "    <tr style=\"text-align: right;\">\n",
       "      <th></th>\n",
       "      <th>age</th>\n",
       "      <th>fnlwgt</th>\n",
       "      <th>education-num</th>\n",
       "      <th>capital-gain</th>\n",
       "      <th>capital-loss</th>\n",
       "      <th>hours-per-week</th>\n",
       "    </tr>\n",
       "  </thead>\n",
       "  <tbody>\n",
       "    <tr>\n",
       "      <th>age</th>\n",
       "      <td>1.000000</td>\n",
       "      <td>-0.076646</td>\n",
       "      <td>0.036527</td>\n",
       "      <td>0.077674</td>\n",
       "      <td>0.057775</td>\n",
       "      <td>0.068756</td>\n",
       "    </tr>\n",
       "    <tr>\n",
       "      <th>fnlwgt</th>\n",
       "      <td>-0.076646</td>\n",
       "      <td>1.000000</td>\n",
       "      <td>-0.043195</td>\n",
       "      <td>0.000432</td>\n",
       "      <td>-0.010252</td>\n",
       "      <td>-0.018768</td>\n",
       "    </tr>\n",
       "    <tr>\n",
       "      <th>education-num</th>\n",
       "      <td>0.036527</td>\n",
       "      <td>-0.043195</td>\n",
       "      <td>1.000000</td>\n",
       "      <td>0.122630</td>\n",
       "      <td>0.079923</td>\n",
       "      <td>0.148123</td>\n",
       "    </tr>\n",
       "    <tr>\n",
       "      <th>capital-gain</th>\n",
       "      <td>0.077674</td>\n",
       "      <td>0.000432</td>\n",
       "      <td>0.122630</td>\n",
       "      <td>1.000000</td>\n",
       "      <td>-0.031615</td>\n",
       "      <td>0.078409</td>\n",
       "    </tr>\n",
       "    <tr>\n",
       "      <th>capital-loss</th>\n",
       "      <td>0.057775</td>\n",
       "      <td>-0.010252</td>\n",
       "      <td>0.079923</td>\n",
       "      <td>-0.031615</td>\n",
       "      <td>1.000000</td>\n",
       "      <td>0.054256</td>\n",
       "    </tr>\n",
       "    <tr>\n",
       "      <th>hours-per-week</th>\n",
       "      <td>0.068756</td>\n",
       "      <td>-0.018768</td>\n",
       "      <td>0.148123</td>\n",
       "      <td>0.078409</td>\n",
       "      <td>0.054256</td>\n",
       "      <td>1.000000</td>\n",
       "    </tr>\n",
       "  </tbody>\n",
       "</table>\n",
       "</div>"
      ],
      "text/plain": [
       "                     age    fnlwgt  education-num  capital-gain  capital-loss  \\\n",
       "age             1.000000 -0.076646       0.036527      0.077674      0.057775   \n",
       "fnlwgt         -0.076646  1.000000      -0.043195      0.000432     -0.010252   \n",
       "education-num   0.036527 -0.043195       1.000000      0.122630      0.079923   \n",
       "capital-gain    0.077674  0.000432       0.122630      1.000000     -0.031615   \n",
       "capital-loss    0.057775 -0.010252       0.079923     -0.031615      1.000000   \n",
       "hours-per-week  0.068756 -0.018768       0.148123      0.078409      0.054256   \n",
       "\n",
       "                hours-per-week  \n",
       "age                   0.068756  \n",
       "fnlwgt               -0.018768  \n",
       "education-num         0.148123  \n",
       "capital-gain          0.078409  \n",
       "capital-loss          0.054256  \n",
       "hours-per-week        1.000000  "
      ]
     },
     "execution_count": 65,
     "metadata": {},
     "output_type": "execute_result"
    }
   ],
   "source": [
    "df.loc[ :, columns_use ].corr()"
   ]
  },
  {
   "cell_type": "code",
   "execution_count": 66,
   "id": "4e8ad211-de9e-464f-8c2a-75bd6c45b049",
   "metadata": {},
   "outputs": [],
   "source": [
    "corr_use = df.loc[ :, columns_use ].corr()"
   ]
  },
  {
   "cell_type": "code",
   "execution_count": 67,
   "id": "707ae288-898a-4987-88e8-79de3011783b",
   "metadata": {},
   "outputs": [
    {
     "data": {
      "text/plain": [
       "<matplotlib.image.AxesImage at 0x1c76bf8d040>"
      ]
     },
     "execution_count": 67,
     "metadata": {},
     "output_type": "execute_result"
    },
    {
     "data": {
      "image/png": "[encoded data removed]",
      "text/plain": [
       "<Figure size 288x288 with 1 Axes>"
      ]
     },
     "metadata": {
      "needs_background": "light"
     },
     "output_type": "display_data"
    }
   ],
   "source": [
    "plt.matshow( corr_use )"
   ]
  },
  {
   "cell_type": "code",
   "execution_count": 68,
   "id": "77ef3404-6087-4fb7-aa39-d5731caa9e27",
   "metadata": {},
   "outputs": [
    {
     "data": {
      "text/plain": [
       "<AxesSubplot:>"
      ]
     },
     "execution_count": 68,
     "metadata": {},
     "output_type": "execute_result"
    },
    {
     "data": {
      "image/png": "[encoded data removed]",
      "text/plain": [
       "<Figure size 720x576 with 2 Axes>"
      ]
     },
     "metadata": {
      "needs_background": "light"
     },
     "output_type": "display_data"
    }
   ],
   "source": [
    "f, ax = plt.subplots( figsize=(10, 8) )\n",
    "\n",
    "sns.heatmap( corr_use , cmap=sns.color_palette(\"coolwarm\", as_cmap=True))"
   ]
  },
  {
   "cell_type": "markdown",
   "id": "c5b9994a-e071-4d35-9439-e670d68c9949",
   "metadata": {
    "tags": []
   },
   "source": [
    "## Nuevo estudio profundizando otras columnas"
   ]
  },
  {
   "cell_type": "code",
   "execution_count": 69,
   "id": "0fbea474-283d-468f-8f8b-f5db27254aa6",
   "metadata": {},
   "outputs": [
    {
     "data": {
      "text/plain": [
       "Index(['age', 'workclass', 'fnlwgt', 'education', 'education-num',\n",
       "       'marital-status', 'occupation', 'relationship', 'race', 'sex',\n",
       "       'capital-gain', 'capital-loss', 'hours-per-week', 'native-country',\n",
       "       'salary'],\n",
       "      dtype='object')"
      ]
     },
     "execution_count": 69,
     "metadata": {},
     "output_type": "execute_result"
    }
   ],
   "source": [
    "df.columns"
   ]
  },
  {
   "cell_type": "code",
   "execution_count": 219,
   "id": "7af5a6ca-d344-4b28-b661-867b6020eca5",
   "metadata": {
    "tags": []
   },
   "outputs": [
    {
     "data": {
      "text/plain": [
       "{'whiskers': [<matplotlib.lines.Line2D at 0x1c76fa9c880>,\n",
       "  <matplotlib.lines.Line2D at 0x1c76fa9cc10>],\n",
       " 'caps': [<matplotlib.lines.Line2D at 0x1c76fa9cfa0>,\n",
       "  <matplotlib.lines.Line2D at 0x1c76faac370>],\n",
       " 'boxes': [<matplotlib.lines.Line2D at 0x1c76fa9c4f0>],\n",
       " 'medians': [<matplotlib.lines.Line2D at 0x1c76faac730>],\n",
       " 'fliers': [<matplotlib.lines.Line2D at 0x1c76faacac0>],\n",
       " 'means': []}"
      ]
     },
     "execution_count": 219,
     "metadata": {},
     "output_type": "execute_result"
    },
    {
     "data": {
      "image/png": "[encoded data removed]",
      "text/plain": [
       "<Figure size 432x288 with 1 Axes>"
      ]
     },
     "metadata": {
      "needs_background": "light"
     },
     "output_type": "display_data"
    }
   ],
   "source": [
    "plt.boxplot( df['hours-per-week'] )"
   ]
  },
  {
   "cell_type": "code",
   "execution_count": 220,
   "id": "a0b631aa-6690-4215-8e6b-54768023a00a",
   "metadata": {},
   "outputs": [],
   "source": [
    "median = np.median(df['hours-per-week'])"
   ]
  },
  {
   "cell_type": "code",
   "execution_count": 221,
   "id": "8eea0174-0293-4c60-9d00-677a2d17ce07",
   "metadata": {},
   "outputs": [],
   "source": [
    "df.loc[df['hours-per-week'] > 60 , 'hours-per-week'] = median\n",
    "df.loc[df['hours-per-week'] <30 , 'hours-per-week'] = median"
   ]
  },
  {
   "cell_type": "code",
   "execution_count": 222,
   "id": "03bdcd0b-cec2-43e2-a9f9-1b9b644c52a0",
   "metadata": {},
   "outputs": [
    {
     "data": {
      "text/plain": [
       "{'whiskers': [<matplotlib.lines.Line2D at 0x1c76fb0d160>,\n",
       "  <matplotlib.lines.Line2D at 0x1c76fb0d4f0>],\n",
       " 'caps': [<matplotlib.lines.Line2D at 0x1c76fb0d880>,\n",
       "  <matplotlib.lines.Line2D at 0x1c76fb0dc10>],\n",
       " 'boxes': [<matplotlib.lines.Line2D at 0x1c76fafdd90>],\n",
       " 'medians': [<matplotlib.lines.Line2D at 0x1c76fb0dfa0>],\n",
       " 'fliers': [<matplotlib.lines.Line2D at 0x1c76fb19370>],\n",
       " 'means': []}"
      ]
     },
     "execution_count": 222,
     "metadata": {},
     "output_type": "execute_result"
    },
    {
     "data": {
      "image/png": "[encoded data removed]",
      "text/plain": [
       "<Figure size 432x288 with 1 Axes>"
      ]
     },
     "metadata": {
      "needs_background": "light"
     },
     "output_type": "display_data"
    }
   ],
   "source": [
    "plt.boxplot( df['hours-per-week'] )"
   ]
  },
  {
   "cell_type": "code",
   "execution_count": 166,
   "id": "5c6f7928-d113-4776-9e0c-9ae4a005f841",
   "metadata": {},
   "outputs": [
    {
     "data": {
      "text/plain": [
       "<AxesSubplot:>"
      ]
     },
     "execution_count": 166,
     "metadata": {},
     "output_type": "execute_result"
    },
    {
     "data": {
      "image/png": "[encoded data removed]",
      "text/plain": [
       "<Figure size 432x288 with 1 Axes>"
      ]
     },
     "metadata": {
      "needs_background": "light"
     },
     "output_type": "display_data"
    }
   ],
   "source": [
    "df['hours-per-week'].hist( bins = 8 )"
   ]
  },
  {
   "cell_type": "code",
   "execution_count": null,
   "id": "81d59280-15d2-409a-96f2-d5c507de897c",
   "metadata": {},
   "outputs": [],
   "source": [
    "graf = df[\"workclass\"].value_counts().reset_index()\n",
    "graf.columns = [\"workclass\", \"hours-per-week\"]\n",
    "graf"
   ]
  },
  {
   "cell_type": "code",
   "execution_count": null,
   "id": "49444b8b-a94b-4057-b000-8e849cd195f6",
   "metadata": {},
   "outputs": [],
   "source": [
    "sns.catplot(x=\"hours-per-week\", y=\"workclass\", kind=\"bar\", data=graf, height=6, aspect=3)\n",
    "plt.title('Hours/Week by Workclass',fontsize=16)\n",
    "\n",
    "plt.grid(True)"
   ]
  },
  {
   "cell_type": "markdown",
   "id": "ac8ac40c-8745-4b8f-acd1-a4fd3a7493bd",
   "metadata": {},
   "source": [
    "## fnlwgt"
   ]
  },
  {
   "cell_type": "code",
   "execution_count": 228,
   "id": "9865029d-593f-4c54-b8df-e0b421d6cde7",
   "metadata": {},
   "outputs": [],
   "source": [
    "medianf = np.median(df['fnlwgt'])"
   ]
  },
  {
   "cell_type": "code",
   "execution_count": 230,
   "id": "d0d8dc90-1b61-4010-8bd5-878d517d8f03",
   "metadata": {},
   "outputs": [],
   "source": [
    "p99 = np.quantile (df['fnlwgt'] , .99)"
   ]
  },
  {
   "cell_type": "code",
   "execution_count": 231,
   "id": "bffe7a1c-3555-4628-bb1a-72ebb19c6177",
   "metadata": {},
   "outputs": [],
   "source": [
    "df.loc[df['fnlwgt'] > p99 , 'fnlwgt'] = medianf"
   ]
  },
  {
   "cell_type": "code",
   "execution_count": 232,
   "id": "c50443a7-2ae2-4261-b5c0-cb6fd524a88a",
   "metadata": {},
   "outputs": [
    {
     "data": {
      "text/plain": [
       "{'whiskers': [<matplotlib.lines.Line2D at 0x1c76f9804f0>,\n",
       "  <matplotlib.lines.Line2D at 0x1c76f9808b0>],\n",
       " 'caps': [<matplotlib.lines.Line2D at 0x1c76f980c40>,\n",
       "  <matplotlib.lines.Line2D at 0x1c76f980fd0>],\n",
       " 'boxes': [<matplotlib.lines.Line2D at 0x1c76f980160>],\n",
       " 'medians': [<matplotlib.lines.Line2D at 0x1c76f98c3a0>],\n",
       " 'fliers': [<matplotlib.lines.Line2D at 0x1c76f98c730>],\n",
       " 'means': []}"
      ]
     },
     "execution_count": 232,
     "metadata": {},
     "output_type": "execute_result"
    },
    {
     "data": {
      "image/png": "[encoded data removed]",
      "text/plain": [
       "<Figure size 432x288 with 1 Axes>"
      ]
     },
     "metadata": {
      "needs_background": "light"
     },
     "output_type": "display_data"
    }
   ],
   "source": [
    "plt.boxplot( df['fnlwgt'] )"
   ]
  },
  {
   "cell_type": "markdown",
   "id": "34523ae7-bc7e-4dc4-888d-1f6663502f8e",
   "metadata": {},
   "source": [
    "## education-num"
   ]
  },
  {
   "cell_type": "code",
   "execution_count": 233,
   "id": "5c3fd46b-8085-43c7-b0a1-a72718cb70eb",
   "metadata": {},
   "outputs": [],
   "source": [
    "medianed = np.median(df['education-num'])"
   ]
  },
  {
   "cell_type": "code",
   "execution_count": 234,
   "id": "7fc295a7-c710-4a53-8a21-8cba5cd6420c",
   "metadata": {},
   "outputs": [],
   "source": [
    "df.loc[df['education-num'] < 5 , 'education-num'] = medianed"
   ]
  },
  {
   "cell_type": "code",
   "execution_count": 235,
   "id": "b02b0ffd-be2e-4504-92bc-d84413b16068",
   "metadata": {},
   "outputs": [
    {
     "data": {
      "text/plain": [
       "{'whiskers': [<matplotlib.lines.Line2D at 0x1c76f9dddc0>,\n",
       "  <matplotlib.lines.Line2D at 0x1c76f9ec190>],\n",
       " 'caps': [<matplotlib.lines.Line2D at 0x1c76f9ec520>,\n",
       "  <matplotlib.lines.Line2D at 0x1c76f9ec8b0>],\n",
       " 'boxes': [<matplotlib.lines.Line2D at 0x1c76f9dda30>],\n",
       " 'medians': [<matplotlib.lines.Line2D at 0x1c76f9ecc40>],\n",
       " 'fliers': [<matplotlib.lines.Line2D at 0x1c76f9ecfd0>],\n",
       " 'means': []}"
      ]
     },
     "execution_count": 235,
     "metadata": {},
     "output_type": "execute_result"
    },
    {
     "data": {
      "image/png": "[encoded data removed]",
      "text/plain": [
       "<Figure size 432x288 with 1 Axes>"
      ]
     },
     "metadata": {
      "needs_background": "light"
     },
     "output_type": "display_data"
    }
   ],
   "source": [
    "plt.boxplot( df['education-num'] )"
   ]
  },
  {
   "cell_type": "markdown",
   "id": "bf314c44-869b-4b3b-8891-2b1552ba0e9a",
   "metadata": {},
   "source": [
    "## age"
   ]
  },
  {
   "cell_type": "code",
   "execution_count": 241,
   "id": "53cf3e38-a556-4d2a-89b5-4b1d02cb8b6c",
   "metadata": {},
   "outputs": [],
   "source": [
    "medianage = np.median(df['age'])"
   ]
  },
  {
   "cell_type": "code",
   "execution_count": 242,
   "id": "e6829743-4a9d-4517-b1a7-9066a0e57a79",
   "metadata": {},
   "outputs": [],
   "source": [
    "df.loc[df['age'] >75 , 'age'] = medianage"
   ]
  },
  {
   "cell_type": "code",
   "execution_count": 243,
   "id": "78e702ef-4093-461c-8b1e-531c366841d4",
   "metadata": {},
   "outputs": [
    {
     "data": {
      "text/plain": [
       "{'whiskers': [<matplotlib.lines.Line2D at 0x1c7700d0a60>,\n",
       "  <matplotlib.lines.Line2D at 0x1c7700d0df0>],\n",
       " 'caps': [<matplotlib.lines.Line2D at 0x1c7700de1c0>,\n",
       "  <matplotlib.lines.Line2D at 0x1c7700de550>],\n",
       " 'boxes': [<matplotlib.lines.Line2D at 0x1c7700d06d0>],\n",
       " 'medians': [<matplotlib.lines.Line2D at 0x1c7700de8e0>],\n",
       " 'fliers': [<matplotlib.lines.Line2D at 0x1c7700dec70>],\n",
       " 'means': []}"
      ]
     },
     "execution_count": 243,
     "metadata": {},
     "output_type": "execute_result"
    },
    {
     "data": {
      "image/png": "[encoded data removed]",
      "text/plain": [
       "<Figure size 432x288 with 1 Axes>"
      ]
     },
     "metadata": {
      "needs_background": "light"
     },
     "output_type": "display_data"
    }
   ],
   "source": [
    "plt.boxplot( df['age'] )"
   ]
  },
  {
   "cell_type": "markdown",
   "id": "4efa6353-f161-4caf-a96f-f5edc5b1eeb4",
   "metadata": {
    "tags": []
   },
   "source": [
    "## Analisis Exploratorio de datos"
   ]
  },
  {
   "cell_type": "code",
   "execution_count": 167,
   "id": "45d325cb-e5ee-4ca9-b811-656810a10ff7",
   "metadata": {},
   "outputs": [
    {
     "data": {
      "text/plain": [
       "Index(['age', 'workclass', 'fnlwgt', 'education', 'education-num',\n",
       "       'marital-status', 'occupation', 'relationship', 'race', 'sex',\n",
       "       'capital-gain', 'capital-loss', 'hours-per-week', 'native-country',\n",
       "       'salary'],\n",
       "      dtype='object')"
      ]
     },
     "execution_count": 167,
     "metadata": {},
     "output_type": "execute_result"
    }
   ],
   "source": [
    "df.columns"
   ]
  },
  {
   "cell_type": "code",
   "execution_count": 168,
   "id": "b4ac67cf-8626-44fd-bbbf-268318384d28",
   "metadata": {},
   "outputs": [
    {
     "data": {
      "text/html": [
       "<div>\n",
       "<style scoped>\n",
       "    .dataframe tbody tr th:only-of-type {\n",
       "        vertical-align: middle;\n",
       "    }\n",
       "\n",
       "    .dataframe tbody tr th {\n",
       "        vertical-align: top;\n",
       "    }\n",
       "\n",
       "    .dataframe thead tr th {\n",
       "        text-align: left;\n",
       "    }\n",
       "\n",
       "    .dataframe thead tr:last-of-type th {\n",
       "        text-align: right;\n",
       "    }\n",
       "</style>\n",
       "<table border=\"1\" class=\"dataframe\">\n",
       "  <thead>\n",
       "    <tr>\n",
       "      <th></th>\n",
       "      <th>education</th>\n",
       "    </tr>\n",
       "    <tr>\n",
       "      <th></th>\n",
       "      <th>count</th>\n",
       "    </tr>\n",
       "    <tr>\n",
       "      <th>workclass</th>\n",
       "      <th></th>\n",
       "    </tr>\n",
       "  </thead>\n",
       "  <tbody>\n",
       "    <tr>\n",
       "      <th>?</th>\n",
       "      <td>0.056386</td>\n",
       "    </tr>\n",
       "    <tr>\n",
       "      <th>Federal-gov</th>\n",
       "      <td>0.029483</td>\n",
       "    </tr>\n",
       "    <tr>\n",
       "      <th>Local-gov</th>\n",
       "      <td>0.064279</td>\n",
       "    </tr>\n",
       "    <tr>\n",
       "      <th>Never-worked</th>\n",
       "      <td>0.000215</td>\n",
       "    </tr>\n",
       "    <tr>\n",
       "      <th>Private</th>\n",
       "      <td>0.697030</td>\n",
       "    </tr>\n",
       "    <tr>\n",
       "      <th>Self-emp-inc</th>\n",
       "      <td>0.034274</td>\n",
       "    </tr>\n",
       "    <tr>\n",
       "      <th>Self-emp-not-inc</th>\n",
       "      <td>0.078038</td>\n",
       "    </tr>\n",
       "    <tr>\n",
       "      <th>State-gov</th>\n",
       "      <td>0.039864</td>\n",
       "    </tr>\n",
       "    <tr>\n",
       "      <th>Without-pay</th>\n",
       "      <td>0.000430</td>\n",
       "    </tr>\n",
       "  </tbody>\n",
       "</table>\n",
       "</div>"
      ],
      "text/plain": [
       "                  education\n",
       "                      count\n",
       "workclass                  \n",
       " ?                 0.056386\n",
       " Federal-gov       0.029483\n",
       " Local-gov         0.064279\n",
       " Never-worked      0.000215\n",
       " Private           0.697030\n",
       " Self-emp-inc      0.034274\n",
       " Self-emp-not-inc  0.078038\n",
       " State-gov         0.039864\n",
       " Without-pay       0.000430"
      ]
     },
     "execution_count": 168,
     "metadata": {},
     "output_type": "execute_result"
    }
   ],
   "source": [
    "df.groupby( [\"workclass\"] ).agg( { \"education\" : [\"count\"] } ) / df.shape[0]"
   ]
  },
  {
   "cell_type": "code",
   "execution_count": 169,
   "id": "4567df4b-0018-4e6c-af53-29335e189c5c",
   "metadata": {},
   "outputs": [],
   "source": [
    "def print_bars( df , col  ):\n",
    "    x  = df.groupby( [col] , as_index = False ).agg( { \"sex\" : [\"count\"] } ) \n",
    "    x.columns = x.columns.droplevel(1)\n",
    "    x.columns = [col,'count']\n",
    "    x = x.sort_values([\"count\"], ascending=False)\n",
    "    plt.bar( x[col] , x['count'] )"
   ]
  },
  {
   "cell_type": "code",
   "execution_count": 170,
   "id": "b3275ec4-a257-462c-9a5a-4ea3e8598b94",
   "metadata": {},
   "outputs": [
    {
     "data": {
      "image/png": "[encoded data removed]",
      "text/plain": [
       "<Figure size 432x288 with 1 Axes>"
      ]
     },
     "metadata": {
      "needs_background": "light"
     },
     "output_type": "display_data"
    }
   ],
   "source": [
    "print_bars( df , \"workclass\" )"
   ]
  },
  {
   "cell_type": "code",
   "execution_count": 171,
   "id": "f31bc06f-6fe2-4a85-9e25-d069c4d5293e",
   "metadata": {},
   "outputs": [
    {
     "data": {
      "text/plain": [
       " Private             22696\n",
       " Self-emp-not-inc     2541\n",
       " Local-gov            2093\n",
       " ?                    1836\n",
       " State-gov            1298\n",
       " Self-emp-inc         1116\n",
       " Federal-gov           960\n",
       " Without-pay            14\n",
       " Never-worked            7\n",
       "Name: workclass, dtype: int64"
      ]
     },
     "execution_count": 171,
     "metadata": {},
     "output_type": "execute_result"
    }
   ],
   "source": [
    "df[\"workclass\"].value_counts()"
   ]
  },
  {
   "cell_type": "code",
   "execution_count": 172,
   "id": "0058a160-328a-4c2a-945e-befe4e6b77f0",
   "metadata": {},
   "outputs": [
    {
     "data": {
      "image/png": "[encoded data removed]",
      "text/plain": [
       "<Figure size 432x288 with 1 Axes>"
      ]
     },
     "metadata": {
      "needs_background": "light"
     },
     "output_type": "display_data"
    }
   ],
   "source": [
    "print_bars( df , \"occupation\" )"
   ]
  },
  {
   "cell_type": "code",
   "execution_count": 173,
   "id": "284a1524-b282-4a04-b4aa-5b7569d32bdc",
   "metadata": {},
   "outputs": [
    {
     "data": {
      "text/plain": [
       " Prof-specialty       4140\n",
       " Craft-repair         4099\n",
       " Exec-managerial      4066\n",
       " Adm-clerical         3770\n",
       " Sales                3650\n",
       " Other-service        3295\n",
       " Machine-op-inspct    2002\n",
       " ?                    1843\n",
       " Transport-moving     1597\n",
       " Handlers-cleaners    1370\n",
       " Farming-fishing       994\n",
       " Tech-support          928\n",
       " Protective-serv       649\n",
       " Priv-house-serv       149\n",
       " Armed-Forces            9\n",
       "Name: occupation, dtype: int64"
      ]
     },
     "execution_count": 173,
     "metadata": {},
     "output_type": "execute_result"
    }
   ],
   "source": [
    "df[\"occupation\"].value_counts()"
   ]
  },
  {
   "cell_type": "code",
   "execution_count": 174,
   "id": "3d4a3937-bae8-402e-9aeb-de4366947c8c",
   "metadata": {},
   "outputs": [
    {
     "data": {
      "image/png": "[encoded data removed]",
      "text/plain": [
       "<Figure size 432x288 with 1 Axes>"
      ]
     },
     "metadata": {
      "needs_background": "light"
     },
     "output_type": "display_data"
    }
   ],
   "source": [
    "print_bars( df , \"relationship\" )"
   ]
  },
  {
   "cell_type": "code",
   "execution_count": 175,
   "id": "8c6107da-ada3-4f50-bd48-01b9ea3cc6c8",
   "metadata": {},
   "outputs": [
    {
     "data": {
      "text/plain": [
       " Husband           13193\n",
       " Not-in-family      8305\n",
       " Own-child          5068\n",
       " Unmarried          3446\n",
       " Wife               1568\n",
       " Other-relative      981\n",
       "Name: relationship, dtype: int64"
      ]
     },
     "execution_count": 175,
     "metadata": {},
     "output_type": "execute_result"
    }
   ],
   "source": [
    "df[\"relationship\"].value_counts()"
   ]
  },
  {
   "cell_type": "code",
   "execution_count": 176,
   "id": "8809531a-ee85-48eb-a03e-9a144bd43f36",
   "metadata": {},
   "outputs": [
    {
     "data": {
      "text/plain": [
       " Male      21790\n",
       " Female    10771\n",
       "Name: sex, dtype: int64"
      ]
     },
     "execution_count": 176,
     "metadata": {},
     "output_type": "execute_result"
    }
   ],
   "source": [
    "df[\"sex\"].value_counts()"
   ]
  },
  {
   "cell_type": "code",
   "execution_count": 177,
   "id": "8a45810d-968b-4644-83cc-d654548cc1be",
   "metadata": {},
   "outputs": [
    {
     "data": {
      "text/html": [
       "<div>\n",
       "<style scoped>\n",
       "    .dataframe tbody tr th:only-of-type {\n",
       "        vertical-align: middle;\n",
       "    }\n",
       "\n",
       "    .dataframe tbody tr th {\n",
       "        vertical-align: top;\n",
       "    }\n",
       "\n",
       "    .dataframe thead th {\n",
       "        text-align: right;\n",
       "    }\n",
       "</style>\n",
       "<table border=\"1\" class=\"dataframe\">\n",
       "  <thead>\n",
       "    <tr style=\"text-align: right;\">\n",
       "      <th></th>\n",
       "      <th>relationship</th>\n",
       "      <th>salary</th>\n",
       "    </tr>\n",
       "  </thead>\n",
       "  <tbody>\n",
       "    <tr>\n",
       "      <th>0</th>\n",
       "      <td>Not-in-family</td>\n",
       "      <td>&lt;=50K</td>\n",
       "    </tr>\n",
       "    <tr>\n",
       "      <th>1</th>\n",
       "      <td>Husband</td>\n",
       "      <td>&lt;=50K</td>\n",
       "    </tr>\n",
       "    <tr>\n",
       "      <th>2</th>\n",
       "      <td>Not-in-family</td>\n",
       "      <td>&lt;=50K</td>\n",
       "    </tr>\n",
       "    <tr>\n",
       "      <th>3</th>\n",
       "      <td>Husband</td>\n",
       "      <td>&lt;=50K</td>\n",
       "    </tr>\n",
       "    <tr>\n",
       "      <th>4</th>\n",
       "      <td>Wife</td>\n",
       "      <td>&lt;=50K</td>\n",
       "    </tr>\n",
       "    <tr>\n",
       "      <th>...</th>\n",
       "      <td>...</td>\n",
       "      <td>...</td>\n",
       "    </tr>\n",
       "    <tr>\n",
       "      <th>32556</th>\n",
       "      <td>Wife</td>\n",
       "      <td>&lt;=50K</td>\n",
       "    </tr>\n",
       "    <tr>\n",
       "      <th>32557</th>\n",
       "      <td>Husband</td>\n",
       "      <td>&gt;50K</td>\n",
       "    </tr>\n",
       "    <tr>\n",
       "      <th>32558</th>\n",
       "      <td>Unmarried</td>\n",
       "      <td>&lt;=50K</td>\n",
       "    </tr>\n",
       "    <tr>\n",
       "      <th>32559</th>\n",
       "      <td>Own-child</td>\n",
       "      <td>&lt;=50K</td>\n",
       "    </tr>\n",
       "    <tr>\n",
       "      <th>32560</th>\n",
       "      <td>Wife</td>\n",
       "      <td>&gt;50K</td>\n",
       "    </tr>\n",
       "  </tbody>\n",
       "</table>\n",
       "<p>32561 rows × 2 columns</p>\n",
       "</div>"
      ],
      "text/plain": [
       "         relationship  salary\n",
       "0       Not-in-family   <=50K\n",
       "1             Husband   <=50K\n",
       "2       Not-in-family   <=50K\n",
       "3             Husband   <=50K\n",
       "4                Wife   <=50K\n",
       "...               ...     ...\n",
       "32556            Wife   <=50K\n",
       "32557         Husband    >50K\n",
       "32558       Unmarried   <=50K\n",
       "32559       Own-child   <=50K\n",
       "32560            Wife    >50K\n",
       "\n",
       "[32561 rows x 2 columns]"
      ]
     },
     "execution_count": 177,
     "metadata": {},
     "output_type": "execute_result"
    }
   ],
   "source": [
    "df.loc[:,[\"relationship\",\"salary\"]]"
   ]
  },
  {
   "cell_type": "code",
   "execution_count": 178,
   "id": "dbb63157-3ffc-43cb-9ce0-6d7de50e4290",
   "metadata": {},
   "outputs": [
    {
     "data": {
      "text/html": [
       "<div>\n",
       "<style scoped>\n",
       "    .dataframe tbody tr th:only-of-type {\n",
       "        vertical-align: middle;\n",
       "    }\n",
       "\n",
       "    .dataframe tbody tr th {\n",
       "        vertical-align: top;\n",
       "    }\n",
       "\n",
       "    .dataframe thead tr th {\n",
       "        text-align: left;\n",
       "    }\n",
       "\n",
       "    .dataframe thead tr:last-of-type th {\n",
       "        text-align: right;\n",
       "    }\n",
       "</style>\n",
       "<table border=\"1\" class=\"dataframe\">\n",
       "  <thead>\n",
       "    <tr>\n",
       "      <th></th>\n",
       "      <th></th>\n",
       "      <th>sex</th>\n",
       "    </tr>\n",
       "    <tr>\n",
       "      <th></th>\n",
       "      <th></th>\n",
       "      <th>count</th>\n",
       "    </tr>\n",
       "    <tr>\n",
       "      <th>sex</th>\n",
       "      <th>salary</th>\n",
       "      <th></th>\n",
       "    </tr>\n",
       "  </thead>\n",
       "  <tbody>\n",
       "    <tr>\n",
       "      <th rowspan=\"2\" valign=\"top\">Female</th>\n",
       "      <th>&lt;=50K</th>\n",
       "      <td>9592</td>\n",
       "    </tr>\n",
       "    <tr>\n",
       "      <th>&gt;50K</th>\n",
       "      <td>1179</td>\n",
       "    </tr>\n",
       "    <tr>\n",
       "      <th rowspan=\"2\" valign=\"top\">Male</th>\n",
       "      <th>&lt;=50K</th>\n",
       "      <td>15128</td>\n",
       "    </tr>\n",
       "    <tr>\n",
       "      <th>&gt;50K</th>\n",
       "      <td>6662</td>\n",
       "    </tr>\n",
       "  </tbody>\n",
       "</table>\n",
       "</div>"
      ],
      "text/plain": [
       "                  sex\n",
       "                count\n",
       "sex     salary       \n",
       " Female  <=50K   9592\n",
       "         >50K    1179\n",
       " Male    <=50K  15128\n",
       "         >50K    6662"
      ]
     },
     "execution_count": 178,
     "metadata": {},
     "output_type": "execute_result"
    }
   ],
   "source": [
    "df.loc[:,[\"sex\",\"salary\"]].groupby(['sex','salary']).agg( { \"sex\" : [\"count\"] } ) "
   ]
  },
  {
   "cell_type": "markdown",
   "id": "7135614f-1f36-4caa-8364-4838b1381ba5",
   "metadata": {
    "jp-MarkdownHeadingCollapsed": true,
    "tags": []
   },
   "source": [
    "## Prueba de independencia mediante chi2"
   ]
  },
  {
   "cell_type": "code",
   "execution_count": null,
   "id": "f1b145b4-1ab7-4311-a7de-08298ced659f",
   "metadata": {},
   "outputs": [],
   "source": [
    "df.groupby( [\"occupation\",\"salary\",\"sex\"] ).agg( { \"sex\" : [\"count\"] } )"
   ]
  },
  {
   "cell_type": "code",
   "execution_count": null,
   "id": "685f6d52-902a-4d88-a446-a386374813fb",
   "metadata": {},
   "outputs": [],
   "source": [
    "contigency1 = pd.crosstab( df['occupation'] , df['salary'] )"
   ]
  },
  {
   "cell_type": "code",
   "execution_count": null,
   "id": "db3d6500-589e-4b8f-a757-dbc0752d1989",
   "metadata": {},
   "outputs": [],
   "source": [
    "contigency1"
   ]
  },
  {
   "cell_type": "code",
   "execution_count": null,
   "id": "ea9ceed6-2570-42b1-8a9e-deca0766b546",
   "metadata": {},
   "outputs": [],
   "source": [
    "plt.figure(figsize=(12,8))"
   ]
  },
  {
   "cell_type": "code",
   "execution_count": null,
   "id": "88f14935-da08-4d02-8cab-5c84e99d1ac5",
   "metadata": {},
   "outputs": [],
   "source": [
    "sns.heatmap( contigency1 , annot = True , cmap=\"YlGnBu\" )"
   ]
  },
  {
   "cell_type": "code",
   "execution_count": null,
   "id": "ec2fd2ba-293c-4bb7-9d27-333aee386161",
   "metadata": {},
   "outputs": [],
   "source": [
    "c, p, dof, expected = chi2_contingency(contigency1)"
   ]
  },
  {
   "cell_type": "code",
   "execution_count": null,
   "id": "c81314bc-8ff9-4e07-b8f2-184b1b826296",
   "metadata": {},
   "outputs": [],
   "source": [
    "p"
   ]
  },
  {
   "cell_type": "code",
   "execution_count": null,
   "id": "e7d09969-6d74-425b-a03a-4df722f7b1a9",
   "metadata": {},
   "outputs": [],
   "source": [
    "contigency2 = pd.crosstab( df['occupation'] , df['sex'] )"
   ]
  },
  {
   "cell_type": "code",
   "execution_count": null,
   "id": "53e88a90-4d82-4e65-b977-38e88a167381",
   "metadata": {},
   "outputs": [],
   "source": [
    "contigency2"
   ]
  },
  {
   "cell_type": "code",
   "execution_count": null,
   "id": "1e64e36f-2a0f-44d3-b0d3-2c79537a70c0",
   "metadata": {},
   "outputs": [],
   "source": [
    "plt.figure(figsize=(12,8))"
   ]
  },
  {
   "cell_type": "code",
   "execution_count": null,
   "id": "9b77663a-289c-44b3-aa92-c4f24a399475",
   "metadata": {},
   "outputs": [],
   "source": [
    "sns.heatmap( contigency2 , annot = True , cmap=\"YlGnBu\" )"
   ]
  },
  {
   "cell_type": "code",
   "execution_count": null,
   "id": "4ee6fd7f-4790-42dd-87e6-92c1342429b2",
   "metadata": {},
   "outputs": [],
   "source": [
    "c, p, dof, expected = chi2_contingency(contigency1)"
   ]
  },
  {
   "cell_type": "code",
   "execution_count": null,
   "id": "b527f5aa-956c-4125-b4b2-4d690602a90a",
   "metadata": {},
   "outputs": [],
   "source": [
    "p"
   ]
  },
  {
   "cell_type": "markdown",
   "id": "dcb784b9-451c-407f-80fb-99bda16a9d26",
   "metadata": {},
   "source": [
    "## **Árboles de decisión**"
   ]
  },
  {
   "cell_type": "code",
   "execution_count": null,
   "id": "f829e29b-5f8e-4e0f-b116-9cf36fb15865",
   "metadata": {},
   "outputs": [],
   "source": [
    "from sklearn import preprocessing\n",
    "from sklearn import tree\n",
    "label_encoder = preprocessing.LabelEncoder()"
   ]
  },
  {
   "cell_type": "code",
   "execution_count": null,
   "id": "edc5b286-9092-4822-9f3f-353bc25b319f",
   "metadata": {},
   "outputs": [],
   "source": [
    "df.salary.value_counts().plot( kind='bar' , color=['r','b'] )"
   ]
  },
  {
   "cell_type": "code",
   "execution_count": null,
   "id": "83c55a33-9a0a-4ba6-b53a-7b6dd2b60548",
   "metadata": {},
   "outputs": [],
   "source": [
    "df.head()"
   ]
  },
  {
   "cell_type": "code",
   "execution_count": null,
   "id": "6cd8fdbf-5b1e-4889-94d3-421b47212346",
   "metadata": {},
   "outputs": [],
   "source": [
    "df.loc[ pd.isna( df['workclass'] ) , :]"
   ]
  },
  {
   "cell_type": "code",
   "execution_count": null,
   "id": "ae0bb901-9304-4893-ba72-83d604e99f60",
   "metadata": {},
   "outputs": [],
   "source": [
    "df.loc [ pd.isnull( df['workclass']) , : ].shape[0] / df.shape[0]"
   ]
  },
  {
   "cell_type": "code",
   "execution_count": null,
   "id": "bebcacfb-2207-4b7f-b6ad-96f4fb4056a2",
   "metadata": {},
   "outputs": [],
   "source": [
    "encoder_morethan50 = label_encoder.fit_transform ( df['salary'] ) "
   ]
  },
  {
   "cell_type": "code",
   "execution_count": null,
   "id": "828bfabf-f2b4-44c6-a93b-238fe0eba62d",
   "metadata": {},
   "outputs": [],
   "source": [
    "entrenamiento = df"
   ]
  },
  {
   "cell_type": "code",
   "execution_count": null,
   "id": "5102233c-2e35-4fb8-aa54-c7140d366455",
   "metadata": {},
   "outputs": [],
   "source": [
    "entrenamiento = entrenamiento.drop( ['education-num','marital-status','relationship','salary','hours-per-week'] , axis = 1)"
   ]
  },
  {
   "cell_type": "code",
   "execution_count": null,
   "id": "bd90b4aa-06ff-4bea-903e-f9785e48b16c",
   "metadata": {},
   "outputs": [],
   "source": [
    "categorical_cols = [cname for cname in entrenamiento.columns if entrenamiento[cname].dtype == \"object\" ]\n",
    "numerical_cols = [cname for cname in entrenamiento.columns if entrenamiento[cname].dtype != \"object\" ]"
   ]
  },
  {
   "cell_type": "code",
   "execution_count": null,
   "id": "a08f0d4c-22c1-4b7a-a0ce-dcc8dc652830",
   "metadata": {},
   "outputs": [],
   "source": [
    "union_cols = categorical_cols + numerical_cols"
   ]
  },
  {
   "cell_type": "code",
   "execution_count": null,
   "id": "3785a195-3371-4192-bbf4-c065f563df19",
   "metadata": {},
   "outputs": [],
   "source": [
    "dummie_encoded_train_predictors = pd.get_dummies(entrenamiento[union_cols])"
   ]
  },
  {
   "cell_type": "code",
   "execution_count": null,
   "id": "c6f917b8-2d8d-4597-bad3-d7d7f6f579bc",
   "metadata": {},
   "outputs": [],
   "source": [
    "dummie_encoded_train_predictors.head()"
   ]
  },
  {
   "cell_type": "code",
   "execution_count": null,
   "id": "b0649f41-c4da-478c-8a8f-02688a313943",
   "metadata": {},
   "outputs": [],
   "source": [
    "y_target = df['salary'].values\n",
    "x = dummie_encoded_train_predictors.values"
   ]
  },
  {
   "cell_type": "code",
   "execution_count": null,
   "id": "b0f2bf16-4139-4ea9-98b8-feda4fafff1b",
   "metadata": {},
   "outputs": [],
   "source": [
    "y_target"
   ]
  },
  {
   "cell_type": "code",
   "execution_count": null,
   "id": "b5f41f02-7b1c-4037-ac04-195de603ec96",
   "metadata": {},
   "outputs": [],
   "source": [
    "x"
   ]
  },
  {
   "cell_type": "code",
   "execution_count": null,
   "id": "45a38dde-9e16-4c50-a571-e229560c9da9",
   "metadata": {},
   "outputs": [],
   "source": [
    "x_train, x_validation, y_train, y_validation = train_test_split(x , y_target, test_size = .25, random_state = 1)"
   ]
  },
  {
   "cell_type": "code",
   "execution_count": null,
   "id": "c4caec42-9a4b-431e-84bd-c09172729b50",
   "metadata": {},
   "outputs": [],
   "source": [
    "arbol_a = tree.DecisionTreeClassifier()"
   ]
  },
  {
   "cell_type": "code",
   "execution_count": null,
   "id": "5e5edcbb-426b-40c1-8a27-8fe9f4a65254",
   "metadata": {},
   "outputs": [],
   "source": [
    "arbol_a = arbol_a.fit( x_train, y_train )"
   ]
  },
  {
   "cell_type": "code",
   "execution_count": null,
   "id": "c11baec8-443a-4d76-a02f-25a0ce6ad73a",
   "metadata": {},
   "outputs": [],
   "source": [
    "arbol_a_precision = round(arbol_a.score(x_validation,y_validation),4)\n",
    "print('Precision: %0.4f' % (arbol_a_precision))"
   ]
  },
  {
   "cell_type": "code",
   "execution_count": null,
   "id": "3d843abb-5e50-43cd-833c-6939e76756f7",
   "metadata": {},
   "outputs": [],
   "source": [
    "x_validation"
   ]
  },
  {
   "cell_type": "code",
   "execution_count": null,
   "id": "7237694b-3f66-4eb2-9715-232adf2b3b50",
   "metadata": {},
   "outputs": [],
   "source": [
    "x"
   ]
  },
  {
   "cell_type": "markdown",
   "id": "ef921b86-ff84-4f0d-98f4-140815bbcf46",
   "metadata": {},
   "source": [
    "## **Regresión Lineal**"
   ]
  },
  {
   "cell_type": "code",
   "execution_count": 127,
   "id": "a67aa035-7ba8-4dd9-ab62-d80a1b5ccf80",
   "metadata": {},
   "outputs": [],
   "source": [
    "from sklearn.model_selection import train_test_split\n",
    "from sklearn.linear_model import LinearRegression"
   ]
  },
  {
   "cell_type": "code",
   "execution_count": 128,
   "id": "50279a7e-68ea-4732-8e19-2cc01352e851",
   "metadata": {},
   "outputs": [
    {
     "data": {
      "text/html": [
       "<div>\n",
       "<style scoped>\n",
       "    .dataframe tbody tr th:only-of-type {\n",
       "        vertical-align: middle;\n",
       "    }\n",
       "\n",
       "    .dataframe tbody tr th {\n",
       "        vertical-align: top;\n",
       "    }\n",
       "\n",
       "    .dataframe thead th {\n",
       "        text-align: right;\n",
       "    }\n",
       "</style>\n",
       "<table border=\"1\" class=\"dataframe\">\n",
       "  <thead>\n",
       "    <tr style=\"text-align: right;\">\n",
       "      <th></th>\n",
       "      <th>age</th>\n",
       "      <th>workclass</th>\n",
       "      <th>fnlwgt</th>\n",
       "      <th>education</th>\n",
       "      <th>education-num</th>\n",
       "      <th>marital-status</th>\n",
       "      <th>occupation</th>\n",
       "      <th>relationship</th>\n",
       "      <th>race</th>\n",
       "      <th>sex</th>\n",
       "      <th>capital-gain</th>\n",
       "      <th>capital-loss</th>\n",
       "      <th>hours-per-week</th>\n",
       "      <th>native-country</th>\n",
       "      <th>salary</th>\n",
       "    </tr>\n",
       "  </thead>\n",
       "  <tbody>\n",
       "    <tr>\n",
       "      <th>0</th>\n",
       "      <td>39</td>\n",
       "      <td>State-gov</td>\n",
       "      <td>77516</td>\n",
       "      <td>Bachelors</td>\n",
       "      <td>13</td>\n",
       "      <td>Never-married</td>\n",
       "      <td>Adm-clerical</td>\n",
       "      <td>Not-in-family</td>\n",
       "      <td>White</td>\n",
       "      <td>Male</td>\n",
       "      <td>2174</td>\n",
       "      <td>0</td>\n",
       "      <td>40</td>\n",
       "      <td>United-States</td>\n",
       "      <td>&lt;=50K</td>\n",
       "    </tr>\n",
       "  </tbody>\n",
       "</table>\n",
       "</div>"
      ],
      "text/plain": [
       "   age   workclass  fnlwgt   education  education-num  marital-status  \\\n",
       "0   39   State-gov   77516   Bachelors             13   Never-married   \n",
       "\n",
       "      occupation    relationship    race    sex  capital-gain  capital-loss  \\\n",
       "0   Adm-clerical   Not-in-family   White   Male          2174             0   \n",
       "\n",
       "   hours-per-week  native-country  salary  \n",
       "0              40   United-States   <=50K  "
      ]
     },
     "execution_count": 128,
     "metadata": {},
     "output_type": "execute_result"
    }
   ],
   "source": [
    "df.head(1)"
   ]
  },
  {
   "cell_type": "code",
   "execution_count": 129,
   "id": "886b655a-f0eb-4f2e-b6bf-a1745677a25b",
   "metadata": {},
   "outputs": [],
   "source": [
    "dfRe = df.copy()"
   ]
  },
  {
   "cell_type": "code",
   "execution_count": 130,
   "id": "89fda24f-599d-4c88-8d8a-4b6ced75d6f5",
   "metadata": {},
   "outputs": [],
   "source": [
    "dfRe['sal'] = dfRe['salary'].rank()"
   ]
  },
  {
   "cell_type": "code",
   "execution_count": 91,
   "id": "35401b4f-2fd2-4fee-aa1f-5df0b968d87d",
   "metadata": {},
   "outputs": [],
   "source": [
    "p99 = np.quantile (dfRe['age'] , .99)"
   ]
  },
  {
   "cell_type": "code",
   "execution_count": 92,
   "id": "b220e2d4-da29-4f32-aa2f-5442883e729d",
   "metadata": {},
   "outputs": [],
   "source": [
    "promedio = np.mean(dfRe['age'])"
   ]
  },
  {
   "cell_type": "code",
   "execution_count": 131,
   "id": "7c2d8184-3f45-42c1-83ac-e66370a3628f",
   "metadata": {},
   "outputs": [],
   "source": [
    "median = np.median(dfRe['age'])"
   ]
  },
  {
   "cell_type": "code",
   "execution_count": 132,
   "id": "c58419ef-7319-4ff8-9c14-f205a0a50882",
   "metadata": {},
   "outputs": [],
   "source": [
    "dfRe.loc[dfRe['age'] > 50 , 'age'] = median"
   ]
  },
  {
   "cell_type": "code",
   "execution_count": 133,
   "id": "cb0a5593-8016-42c5-90f6-d9ed9f57a896",
   "metadata": {},
   "outputs": [
    {
     "data": {
      "text/plain": [
       "{'whiskers': [<matplotlib.lines.Line2D at 0x1c76bd900d0>,\n",
       "  <matplotlib.lines.Line2D at 0x1c76bd90460>],\n",
       " 'caps': [<matplotlib.lines.Line2D at 0x1c76bd907f0>,\n",
       "  <matplotlib.lines.Line2D at 0x1c76bd90b80>],\n",
       " 'boxes': [<matplotlib.lines.Line2D at 0x1c76bd80d00>],\n",
       " 'medians': [<matplotlib.lines.Line2D at 0x1c76bd90f10>],\n",
       " 'fliers': [<matplotlib.lines.Line2D at 0x1c76bd9c2e0>],\n",
       " 'means': []}"
      ]
     },
     "execution_count": 133,
     "metadata": {},
     "output_type": "execute_result"
    },
    {
     "data": {
      "image/png": "[encoded data removed]",
      "text/plain": [
       "<Figure size 432x288 with 1 Axes>"
      ]
     },
     "metadata": {
      "needs_background": "light"
     },
     "output_type": "display_data"
    }
   ],
   "source": [
    "plt.boxplot(dfRe['age'])"
   ]
  },
  {
   "cell_type": "code",
   "execution_count": 108,
   "id": "4d61b0c2-203c-4e55-9e91-3133e1d160e2",
   "metadata": {},
   "outputs": [],
   "source": [
    "p99 = np.quantile (dfRe['sal'] , .99)"
   ]
  },
  {
   "cell_type": "code",
   "execution_count": 134,
   "id": "6c944bb0-28ac-443d-ab42-c2fdea922f02",
   "metadata": {},
   "outputs": [],
   "source": [
    "median = np.median(dfRe['sal'])"
   ]
  },
  {
   "cell_type": "code",
   "execution_count": 148,
   "id": "b5ea4aa9-89ec-46a2-abfc-33b6303ea643",
   "metadata": {},
   "outputs": [],
   "source": [
    "dfRe.loc[dfRe['sal'] > 12600 , 'sal'] = median"
   ]
  },
  {
   "cell_type": "code",
   "execution_count": 149,
   "id": "b516fad8-4717-41c6-bb44-a4d0cfe74f74",
   "metadata": {},
   "outputs": [
    {
     "data": {
      "text/plain": [
       "{'whiskers': [<matplotlib.lines.Line2D at 0x1c76df6b970>,\n",
       "  <matplotlib.lines.Line2D at 0x1c76df6bd00>],\n",
       " 'caps': [<matplotlib.lines.Line2D at 0x1c76df790d0>,\n",
       "  <matplotlib.lines.Line2D at 0x1c76df79460>],\n",
       " 'boxes': [<matplotlib.lines.Line2D at 0x1c76df6b5e0>],\n",
       " 'medians': [<matplotlib.lines.Line2D at 0x1c76df797f0>],\n",
       " 'fliers': [<matplotlib.lines.Line2D at 0x1c76df79b80>],\n",
       " 'means': []}"
      ]
     },
     "execution_count": 149,
     "metadata": {},
     "output_type": "execute_result"
    },
    {
     "data": {
      "image/png": "[encoded data removed]",
      "text/plain": [
       "<Figure size 432x288 with 1 Axes>"
      ]
     },
     "metadata": {
      "needs_background": "light"
     },
     "output_type": "display_data"
    }
   ],
   "source": [
    "plt.boxplot(dfRe['sal'])"
   ]
  },
  {
   "cell_type": "code",
   "execution_count": 137,
   "id": "0b886661-26c5-43c0-af47-9719adec1651",
   "metadata": {},
   "outputs": [],
   "source": [
    "y = dfRe.loc[:, \"sal\" ].values \n",
    "x = dfRe.loc[:, [\"age\"] ].values"
   ]
  },
  {
   "cell_type": "code",
   "execution_count": null,
   "id": "2aa59e74-14b7-4626-9159-7efda315da35",
   "metadata": {},
   "outputs": [],
   "source": []
  },
  {
   "cell_type": "code",
   "execution_count": null,
   "id": "a935cc64-f491-4e41-833c-ddbdfd821ab7",
   "metadata": {},
   "outputs": [],
   "source": []
  },
  {
   "cell_type": "code",
   "execution_count": 138,
   "id": "f03370b8-2faf-4b46-b83e-d3419aef0522",
   "metadata": {},
   "outputs": [],
   "source": [
    "X_Train, X_Test, Y_Train, Y_Test = train_test_split(x , y, test_size=0.2, random_state=0)"
   ]
  },
  {
   "cell_type": "code",
   "execution_count": 139,
   "id": "d0685e53-a762-410b-a80d-1c0cb471fdcc",
   "metadata": {},
   "outputs": [],
   "source": [
    "regression = LinearRegression()"
   ]
  },
  {
   "cell_type": "code",
   "execution_count": 140,
   "id": "23c17d91-b4e0-4d71-82f5-c30708014ed2",
   "metadata": {},
   "outputs": [
    {
     "data": {
      "text/plain": [
       "LinearRegression()"
      ]
     },
     "execution_count": 140,
     "metadata": {},
     "output_type": "execute_result"
    }
   ],
   "source": [
    "regression.fit(X_Train, Y_Train)"
   ]
  },
  {
   "cell_type": "code",
   "execution_count": 141,
   "id": "7f0ee641-e48f-465f-990f-1ebcf0c39f00",
   "metadata": {},
   "outputs": [
    {
     "data": {
      "text/plain": [
       "array([12360.5, 12360.5, 12360.5, ..., 12360.5, 12360.5, 12360.5])"
      ]
     },
     "execution_count": 141,
     "metadata": {},
     "output_type": "execute_result"
    }
   ],
   "source": [
    "regression.predict(X_Train)"
   ]
  },
  {
   "cell_type": "code",
   "execution_count": 142,
   "id": "5fb0c93a-094d-470f-9889-a675ebdc1574",
   "metadata": {},
   "outputs": [
    {
     "data": {
      "text/plain": [
       "array([12360.5, 12360.5, 12360.5, ..., 12360.5, 12360.5, 12360.5])"
      ]
     },
     "execution_count": 142,
     "metadata": {},
     "output_type": "execute_result"
    }
   ],
   "source": [
    "Y_Train"
   ]
  },
  {
   "cell_type": "code",
   "execution_count": 143,
   "id": "efea5bd6-7286-4e90-be0d-64030d66ef7d",
   "metadata": {},
   "outputs": [
    {
     "data": {
      "text/plain": [
       "array([12360.5, 12360.5, 12360.5, ..., 12360.5, 12360.5, 12360.5])"
      ]
     },
     "execution_count": 143,
     "metadata": {},
     "output_type": "execute_result"
    }
   ],
   "source": [
    "regression.predict(X_Test)"
   ]
  },
  {
   "cell_type": "code",
   "execution_count": 144,
   "id": "8b6d01dc-676b-4dac-bae3-70ad8f4f75b7",
   "metadata": {},
   "outputs": [
    {
     "data": {
      "text/plain": [
       "array([12360.5, 12360.5, 12360.5, ..., 12360.5, 12360.5, 12360.5])"
      ]
     },
     "execution_count": 144,
     "metadata": {},
     "output_type": "execute_result"
    }
   ],
   "source": [
    "Y_Test"
   ]
  },
  {
   "cell_type": "code",
   "execution_count": 145,
   "id": "5e98c796-2047-4a7a-b2d7-ea3142af5fa2",
   "metadata": {},
   "outputs": [
    {
     "data": {
      "image/png": "[encoded data removed]",
      "text/plain": [
       "<Figure size 432x288 with 1 Axes>"
      ]
     },
     "metadata": {
      "needs_background": "light"
     },
     "output_type": "display_data"
    }
   ],
   "source": [
    "viz_train = plt\n",
    "viz_train.scatter(X_Train, Y_Train, color = 'blue')\n",
    "viz_train.plot(X_Train,regression.predict(X_Train), color = 'black')\n",
    "viz_train.title('Salario vs Edad')\n",
    "viz_train.xlabel(\"Edad\")\n",
    "viz_train.ylabel(\"Salario\")\n",
    "viz_train.show()"
   ]
  },
  {
   "cell_type": "code",
   "execution_count": 146,
   "id": "2f5a6b3d-fb5d-476f-b2c3-8c4d103f4fa7",
   "metadata": {},
   "outputs": [
    {
     "data": {
      "image/png": "[encoded data removed]",
      "text/plain": [
       "<Figure size 432x288 with 1 Axes>"
      ]
     },
     "metadata": {
      "needs_background": "light"
     },
     "output_type": "display_data"
    }
   ],
   "source": [
    "viz_train = plt\n",
    "viz_train.scatter(X_Test, Y_Test, color = 'blue')\n",
    "viz_train.plot(X_Train,regression.predict(X_Train), color = 'black')\n",
    "viz_train.title('Salario vs Edad')\n",
    "viz_train.xlabel(\"Edad\")\n",
    "viz_train.ylabel(\"Salario\")\n",
    "viz_train.show()"
   ]
  },
  {
   "cell_type": "code",
   "execution_count": 147,
   "id": "439d45aa-5ea1-45bf-89d3-7bae368f8eee",
   "metadata": {},
   "outputs": [
    {
     "data": {
      "text/plain": [
       "1.0"
      ]
     },
     "execution_count": 147,
     "metadata": {},
     "output_type": "execute_result"
    }
   ],
   "source": [
    "regression.score(X_Test,Y_Test)"
   ]
  },
  {
   "cell_type": "code",
   "execution_count": 123,
   "id": "bb7dfa10-aac8-428c-b1fa-e4cc0eade61a",
   "metadata": {},
   "outputs": [],
   "source": [
    "female = dfRe.loc[ dfRe['sex'].str.contains('Female')]\n",
    "male = dfRe.loc[ dfRe['sex'].str.contains('Male')]"
   ]
  },
  {
   "cell_type": "code",
   "execution_count": 33,
   "id": "484444f4-0d95-4f2c-a079-73ed4c19dddb",
   "metadata": {},
   "outputs": [
    {
     "name": "stderr",
     "output_type": "stream",
     "text": [
      "C:\\Users\\Public\\Documents\\Wondershare\\CreatorTemp/ipykernel_10876/2611349901.py:1: SettingWithCopyWarning: \n",
      "A value is trying to be set on a copy of a slice from a DataFrame.\n",
      "Try using .loc[row_indexer,col_indexer] = value instead\n",
      "\n",
      "See the caveats in the documentation: https://pandas.pydata.org/pandas-docs/stable/user_guide/indexing.html#returning-a-view-versus-a-copy\n",
      "  female['binario'] = pd.Series([1 for x in range(len(female.index))])\n",
      "C:\\Users\\Public\\Documents\\Wondershare\\CreatorTemp/ipykernel_10876/2611349901.py:2: SettingWithCopyWarning: \n",
      "A value is trying to be set on a copy of a slice from a DataFrame.\n",
      "Try using .loc[row_indexer,col_indexer] = value instead\n",
      "\n",
      "See the caveats in the documentation: https://pandas.pydata.org/pandas-docs/stable/user_guide/indexing.html#returning-a-view-versus-a-copy\n",
      "  male['binario'] = pd.Series([0 for x in range(len(male.index))])\n"
     ]
    }
   ],
   "source": [
    "female['binario'] = pd.Series([1 for x in range(len(female.index))])\n",
    "male['binario'] = pd.Series([0 for x in range(len(male.index))])"
   ]
  },
  {
   "cell_type": "code",
   "execution_count": 34,
   "id": "fc66227c-5ac4-4048-a3eb-47b30b30b54f",
   "metadata": {},
   "outputs": [],
   "source": [
    "div = male.loc[0:10771,'binario']"
   ]
  },
  {
   "cell_type": "code",
   "execution_count": 35,
   "id": "faa2a37b-9808-41fd-beb7-64e9771370b1",
   "metadata": {},
   "outputs": [],
   "source": [
    "div2 = dfRe.loc[0:10770,'sal']"
   ]
  },
  {
   "cell_type": "code",
   "execution_count": 36,
   "id": "d095617d-d050-4a6d-93c3-83827c111307",
   "metadata": {},
   "outputs": [],
   "source": [
    "X = div.values + female[[\"binario\"]].values\n",
    "Y = div2"
   ]
  },
  {
   "cell_type": "code",
   "execution_count": 37,
   "id": "55ec592a-5d81-4b4c-a718-1f2319dccfc8",
   "metadata": {},
   "outputs": [],
   "source": [
    "X_Train, X_Test, Y_Train, Y_Test = train_test_split(X,Y,test_size = 0.3, random_state = 0)"
   ]
  },
  {
   "cell_type": "code",
   "execution_count": 38,
   "id": "1bad478d-64e8-419f-a5d6-0b03ff343e23",
   "metadata": {},
   "outputs": [
    {
     "ename": "ValueError",
     "evalue": "Input contains NaN, infinity or a value too large for dtype('float64').",
     "output_type": "error",
     "traceback": [
      "\u001b[1;31m---------------------------------------------------------------------------\u001b[0m",
      "\u001b[1;31mValueError\u001b[0m                                Traceback (most recent call last)",
      "\u001b[1;32mC:\\Users\\Public\\Documents\\Wondershare\\CreatorTemp/ipykernel_10876/2653768779.py\u001b[0m in \u001b[0;36m<module>\u001b[1;34m\u001b[0m\n\u001b[0;32m      1\u001b[0m \u001b[0mregressor\u001b[0m \u001b[1;33m=\u001b[0m \u001b[0mLinearRegression\u001b[0m\u001b[1;33m(\u001b[0m\u001b[1;33m)\u001b[0m\u001b[1;33m\u001b[0m\u001b[1;33m\u001b[0m\u001b[0m\n\u001b[1;32m----> 2\u001b[1;33m \u001b[0mregressor\u001b[0m\u001b[1;33m.\u001b[0m\u001b[0mfit\u001b[0m\u001b[1;33m(\u001b[0m\u001b[0mX_Train\u001b[0m\u001b[1;33m,\u001b[0m\u001b[0mY_Train\u001b[0m\u001b[1;33m)\u001b[0m\u001b[1;33m\u001b[0m\u001b[1;33m\u001b[0m\u001b[0m\n\u001b[0m",
      "\u001b[1;32mC:\\ProgramData\\Anaconda3\\lib\\site-packages\\sklearn\\linear_model\\_base.py\u001b[0m in \u001b[0;36mfit\u001b[1;34m(self, X, y, sample_weight)\u001b[0m\n\u001b[0;32m    516\u001b[0m         \u001b[0maccept_sparse\u001b[0m \u001b[1;33m=\u001b[0m \u001b[1;32mFalse\u001b[0m \u001b[1;32mif\u001b[0m \u001b[0mself\u001b[0m\u001b[1;33m.\u001b[0m\u001b[0mpositive\u001b[0m \u001b[1;32melse\u001b[0m \u001b[1;33m[\u001b[0m\u001b[1;34m'csr'\u001b[0m\u001b[1;33m,\u001b[0m \u001b[1;34m'csc'\u001b[0m\u001b[1;33m,\u001b[0m \u001b[1;34m'coo'\u001b[0m\u001b[1;33m]\u001b[0m\u001b[1;33m\u001b[0m\u001b[1;33m\u001b[0m\u001b[0m\n\u001b[0;32m    517\u001b[0m \u001b[1;33m\u001b[0m\u001b[0m\n\u001b[1;32m--> 518\u001b[1;33m         X, y = self._validate_data(X, y, accept_sparse=accept_sparse,\n\u001b[0m\u001b[0;32m    519\u001b[0m                                    y_numeric=True, multi_output=True)\n\u001b[0;32m    520\u001b[0m \u001b[1;33m\u001b[0m\u001b[0m\n",
      "\u001b[1;32mC:\\ProgramData\\Anaconda3\\lib\\site-packages\\sklearn\\base.py\u001b[0m in \u001b[0;36m_validate_data\u001b[1;34m(self, X, y, reset, validate_separately, **check_params)\u001b[0m\n\u001b[0;32m    431\u001b[0m                 \u001b[0my\u001b[0m \u001b[1;33m=\u001b[0m \u001b[0mcheck_array\u001b[0m\u001b[1;33m(\u001b[0m\u001b[0my\u001b[0m\u001b[1;33m,\u001b[0m \u001b[1;33m**\u001b[0m\u001b[0mcheck_y_params\u001b[0m\u001b[1;33m)\u001b[0m\u001b[1;33m\u001b[0m\u001b[1;33m\u001b[0m\u001b[0m\n\u001b[0;32m    432\u001b[0m             \u001b[1;32melse\u001b[0m\u001b[1;33m:\u001b[0m\u001b[1;33m\u001b[0m\u001b[1;33m\u001b[0m\u001b[0m\n\u001b[1;32m--> 433\u001b[1;33m                 \u001b[0mX\u001b[0m\u001b[1;33m,\u001b[0m \u001b[0my\u001b[0m \u001b[1;33m=\u001b[0m \u001b[0mcheck_X_y\u001b[0m\u001b[1;33m(\u001b[0m\u001b[0mX\u001b[0m\u001b[1;33m,\u001b[0m \u001b[0my\u001b[0m\u001b[1;33m,\u001b[0m \u001b[1;33m**\u001b[0m\u001b[0mcheck_params\u001b[0m\u001b[1;33m)\u001b[0m\u001b[1;33m\u001b[0m\u001b[1;33m\u001b[0m\u001b[0m\n\u001b[0m\u001b[0;32m    434\u001b[0m             \u001b[0mout\u001b[0m \u001b[1;33m=\u001b[0m \u001b[0mX\u001b[0m\u001b[1;33m,\u001b[0m \u001b[0my\u001b[0m\u001b[1;33m\u001b[0m\u001b[1;33m\u001b[0m\u001b[0m\n\u001b[0;32m    435\u001b[0m \u001b[1;33m\u001b[0m\u001b[0m\n",
      "\u001b[1;32mC:\\ProgramData\\Anaconda3\\lib\\site-packages\\sklearn\\utils\\validation.py\u001b[0m in \u001b[0;36minner_f\u001b[1;34m(*args, **kwargs)\u001b[0m\n\u001b[0;32m     61\u001b[0m             \u001b[0mextra_args\u001b[0m \u001b[1;33m=\u001b[0m \u001b[0mlen\u001b[0m\u001b[1;33m(\u001b[0m\u001b[0margs\u001b[0m\u001b[1;33m)\u001b[0m \u001b[1;33m-\u001b[0m \u001b[0mlen\u001b[0m\u001b[1;33m(\u001b[0m\u001b[0mall_args\u001b[0m\u001b[1;33m)\u001b[0m\u001b[1;33m\u001b[0m\u001b[1;33m\u001b[0m\u001b[0m\n\u001b[0;32m     62\u001b[0m             \u001b[1;32mif\u001b[0m \u001b[0mextra_args\u001b[0m \u001b[1;33m<=\u001b[0m \u001b[1;36m0\u001b[0m\u001b[1;33m:\u001b[0m\u001b[1;33m\u001b[0m\u001b[1;33m\u001b[0m\u001b[0m\n\u001b[1;32m---> 63\u001b[1;33m                 \u001b[1;32mreturn\u001b[0m \u001b[0mf\u001b[0m\u001b[1;33m(\u001b[0m\u001b[1;33m*\u001b[0m\u001b[0margs\u001b[0m\u001b[1;33m,\u001b[0m \u001b[1;33m**\u001b[0m\u001b[0mkwargs\u001b[0m\u001b[1;33m)\u001b[0m\u001b[1;33m\u001b[0m\u001b[1;33m\u001b[0m\u001b[0m\n\u001b[0m\u001b[0;32m     64\u001b[0m \u001b[1;33m\u001b[0m\u001b[0m\n\u001b[0;32m     65\u001b[0m             \u001b[1;31m# extra_args > 0\u001b[0m\u001b[1;33m\u001b[0m\u001b[1;33m\u001b[0m\u001b[0m\n",
      "\u001b[1;32mC:\\ProgramData\\Anaconda3\\lib\\site-packages\\sklearn\\utils\\validation.py\u001b[0m in \u001b[0;36mcheck_X_y\u001b[1;34m(X, y, accept_sparse, accept_large_sparse, dtype, order, copy, force_all_finite, ensure_2d, allow_nd, multi_output, ensure_min_samples, ensure_min_features, y_numeric, estimator)\u001b[0m\n\u001b[0;32m    869\u001b[0m         \u001b[1;32mraise\u001b[0m \u001b[0mValueError\u001b[0m\u001b[1;33m(\u001b[0m\u001b[1;34m\"y cannot be None\"\u001b[0m\u001b[1;33m)\u001b[0m\u001b[1;33m\u001b[0m\u001b[1;33m\u001b[0m\u001b[0m\n\u001b[0;32m    870\u001b[0m \u001b[1;33m\u001b[0m\u001b[0m\n\u001b[1;32m--> 871\u001b[1;33m     X = check_array(X, accept_sparse=accept_sparse,\n\u001b[0m\u001b[0;32m    872\u001b[0m                     \u001b[0maccept_large_sparse\u001b[0m\u001b[1;33m=\u001b[0m\u001b[0maccept_large_sparse\u001b[0m\u001b[1;33m,\u001b[0m\u001b[1;33m\u001b[0m\u001b[1;33m\u001b[0m\u001b[0m\n\u001b[0;32m    873\u001b[0m                     \u001b[0mdtype\u001b[0m\u001b[1;33m=\u001b[0m\u001b[0mdtype\u001b[0m\u001b[1;33m,\u001b[0m \u001b[0morder\u001b[0m\u001b[1;33m=\u001b[0m\u001b[0morder\u001b[0m\u001b[1;33m,\u001b[0m \u001b[0mcopy\u001b[0m\u001b[1;33m=\u001b[0m\u001b[0mcopy\u001b[0m\u001b[1;33m,\u001b[0m\u001b[1;33m\u001b[0m\u001b[1;33m\u001b[0m\u001b[0m\n",
      "\u001b[1;32mC:\\ProgramData\\Anaconda3\\lib\\site-packages\\sklearn\\utils\\validation.py\u001b[0m in \u001b[0;36minner_f\u001b[1;34m(*args, **kwargs)\u001b[0m\n\u001b[0;32m     61\u001b[0m             \u001b[0mextra_args\u001b[0m \u001b[1;33m=\u001b[0m \u001b[0mlen\u001b[0m\u001b[1;33m(\u001b[0m\u001b[0margs\u001b[0m\u001b[1;33m)\u001b[0m \u001b[1;33m-\u001b[0m \u001b[0mlen\u001b[0m\u001b[1;33m(\u001b[0m\u001b[0mall_args\u001b[0m\u001b[1;33m)\u001b[0m\u001b[1;33m\u001b[0m\u001b[1;33m\u001b[0m\u001b[0m\n\u001b[0;32m     62\u001b[0m             \u001b[1;32mif\u001b[0m \u001b[0mextra_args\u001b[0m \u001b[1;33m<=\u001b[0m \u001b[1;36m0\u001b[0m\u001b[1;33m:\u001b[0m\u001b[1;33m\u001b[0m\u001b[1;33m\u001b[0m\u001b[0m\n\u001b[1;32m---> 63\u001b[1;33m                 \u001b[1;32mreturn\u001b[0m \u001b[0mf\u001b[0m\u001b[1;33m(\u001b[0m\u001b[1;33m*\u001b[0m\u001b[0margs\u001b[0m\u001b[1;33m,\u001b[0m \u001b[1;33m**\u001b[0m\u001b[0mkwargs\u001b[0m\u001b[1;33m)\u001b[0m\u001b[1;33m\u001b[0m\u001b[1;33m\u001b[0m\u001b[0m\n\u001b[0m\u001b[0;32m     64\u001b[0m \u001b[1;33m\u001b[0m\u001b[0m\n\u001b[0;32m     65\u001b[0m             \u001b[1;31m# extra_args > 0\u001b[0m\u001b[1;33m\u001b[0m\u001b[1;33m\u001b[0m\u001b[0m\n",
      "\u001b[1;32mC:\\ProgramData\\Anaconda3\\lib\\site-packages\\sklearn\\utils\\validation.py\u001b[0m in \u001b[0;36mcheck_array\u001b[1;34m(array, accept_sparse, accept_large_sparse, dtype, order, copy, force_all_finite, ensure_2d, allow_nd, ensure_min_samples, ensure_min_features, estimator)\u001b[0m\n\u001b[0;32m    718\u001b[0m \u001b[1;33m\u001b[0m\u001b[0m\n\u001b[0;32m    719\u001b[0m         \u001b[1;32mif\u001b[0m \u001b[0mforce_all_finite\u001b[0m\u001b[1;33m:\u001b[0m\u001b[1;33m\u001b[0m\u001b[1;33m\u001b[0m\u001b[0m\n\u001b[1;32m--> 720\u001b[1;33m             _assert_all_finite(array,\n\u001b[0m\u001b[0;32m    721\u001b[0m                                allow_nan=force_all_finite == 'allow-nan')\n\u001b[0;32m    722\u001b[0m \u001b[1;33m\u001b[0m\u001b[0m\n",
      "\u001b[1;32mC:\\ProgramData\\Anaconda3\\lib\\site-packages\\sklearn\\utils\\validation.py\u001b[0m in \u001b[0;36m_assert_all_finite\u001b[1;34m(X, allow_nan, msg_dtype)\u001b[0m\n\u001b[0;32m    101\u001b[0m                 not allow_nan and not np.isfinite(X).all()):\n\u001b[0;32m    102\u001b[0m             \u001b[0mtype_err\u001b[0m \u001b[1;33m=\u001b[0m \u001b[1;34m'infinity'\u001b[0m \u001b[1;32mif\u001b[0m \u001b[0mallow_nan\u001b[0m \u001b[1;32melse\u001b[0m \u001b[1;34m'NaN, infinity'\u001b[0m\u001b[1;33m\u001b[0m\u001b[1;33m\u001b[0m\u001b[0m\n\u001b[1;32m--> 103\u001b[1;33m             raise ValueError(\n\u001b[0m\u001b[0;32m    104\u001b[0m                     \u001b[0mmsg_err\u001b[0m\u001b[1;33m.\u001b[0m\u001b[0mformat\u001b[0m\u001b[1;33m\u001b[0m\u001b[1;33m\u001b[0m\u001b[0m\n\u001b[0;32m    105\u001b[0m                     (type_err,\n",
      "\u001b[1;31mValueError\u001b[0m: Input contains NaN, infinity or a value too large for dtype('float64')."
     ]
    }
   ],
   "source": [
    "regressor = LinearRegression()\n",
    "regressor.fit(X_Train,Y_Train)"
   ]
  },
  {
   "cell_type": "code",
   "execution_count": 10,
   "id": "f6055db0-433d-4a4f-a187-d6e50b10d6a8",
   "metadata": {},
   "outputs": [],
   "source": [
    "d = {'>50K': True, '<=50K': False}"
   ]
  },
  {
   "cell_type": "code",
   "execution_count": 13,
   "id": "20940cde-c9ec-48d5-8013-6af2d813897a",
   "metadata": {},
   "outputs": [
    {
     "data": {
      "text/plain": [
       "0        NaN\n",
       "1        NaN\n",
       "2        NaN\n",
       "3        NaN\n",
       "4        NaN\n",
       "        ... \n",
       "32556    NaN\n",
       "32557    NaN\n",
       "32558    NaN\n",
       "32559    NaN\n",
       "32560    NaN\n",
       "Name: salary, Length: 32561, dtype: object"
      ]
     },
     "execution_count": 13,
     "metadata": {},
     "output_type": "execute_result"
    }
   ],
   "source": [
    "dfRe['salary'].map(d)"
   ]
  },
  {
   "cell_type": "code",
   "execution_count": null,
   "id": "5495b2c8-561a-4844-a183-a46bd473aa01",
   "metadata": {},
   "outputs": [],
   "source": [
    "dfRe['salary'] = dfRe['salary'].map({'>50K': True, '<=50K': False})"
   ]
  },
  {
   "cell_type": "code",
   "execution_count": 12,
   "id": "b12ecdaa-f5bf-4399-903f-cf1fe8550d8c",
   "metadata": {},
   "outputs": [],
   "source": [
    "dfRe[\"salary\"] = pd.to_numeric(dfRe.salary, errors='coerce').isnull()"
   ]
  },
  {
   "cell_type": "code",
   "execution_count": null,
   "id": "e7aacd32-de2a-4cc4-b28a-c8248c52ae9f",
   "metadata": {},
   "outputs": [],
   "source": [
    "dfRe.dtypes"
   ]
  },
  {
   "cell_type": "code",
   "execution_count": null,
   "id": "f5a27f95-bdd8-4397-bcd7-0a802f10ae92",
   "metadata": {},
   "outputs": [],
   "source": [
    "dfRe['salary'] = dfRe['salary']*1"
   ]
  },
  {
   "cell_type": "code",
   "execution_count": null,
   "id": "a6c2c80b-d7c7-44a9-ab60-34301a25b31e",
   "metadata": {},
   "outputs": [],
   "source": [
    "dfRe['salary'].value_counts()"
   ]
  },
  {
   "cell_type": "code",
   "execution_count": 17,
   "id": "72f71ec8-9486-4160-b2bd-d4ea2c318a08",
   "metadata": {},
   "outputs": [],
   "source": [
    "female = dfRe.loc[ dfRe['sex'].str.contains('Female')]\n",
    "male = dfRe.loc[ dfRe['sex'].str.contains('Male')]"
   ]
  },
  {
   "cell_type": "code",
   "execution_count": null,
   "id": "62f09f31-03f3-406d-9dcd-6bf73475de98",
   "metadata": {},
   "outputs": [],
   "source": [
    "female['binario'] = pd.Series([1 for x in range(len(female.index))])\n",
    "male['binario'] = pd.Series([0 for x in range(len(male.index))])\n",
    "\n",
    "positive50['binario'] = pd.Series([1 for x in range(len(positive50.index))])\n",
    "negative50['binario'] = pd.Series([1 for x in range(len(negative50.index))])"
   ]
  },
  {
   "cell_type": "code",
   "execution_count": null,
   "id": "bdd5dc27-ad4a-40a8-872e-f7943fc116c3",
   "metadata": {},
   "outputs": [],
   "source": [
    "div = male.loc[0:10771,'binario']\n",
    "\n",
    "\n",
    "divp = positive50.loc[0:10770,'binario']\n",
    "divn = negative50.loc[0:10770,'binario']\n",
    "\n",
    "div2 = dfRe.loc[0:10770,'salary']"
   ]
  }
 ],
 "metadata": {
  "kernelspec": {
   "display_name": "Python 3 (ipykernel)",
   "language": "python",
   "name": "python3"
  },
  "language_info": {
   "codemirror_mode": {
    "name": "ipython",
    "version": 3
   },
   "file_extension": ".py",
   "mimetype": "text/x-python",
   "name": "python",
   "nbconvert_exporter": "python",
   "pygments_lexer": "ipython3",
   "version": "3.9.7"
  }
 },
 "nbformat": 4,
 "nbformat_minor": 5
}
