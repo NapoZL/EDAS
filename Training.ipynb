{
 "cells": [
  {
   "cell_type": "code",
   "execution_count": 1,
   "id": "9d241190-d979-44ea-a20d-222fc7d65ba5",
   "metadata": {},
   "outputs": [],
   "source": [
    "import pandas as pd\n",
    "import numpy as np\n",
    "import matplotlib.pyplot as plt\n",
    "import seaborn as sns"
   ]
  },
  {
   "cell_type": "code",
   "execution_count": 2,
   "id": "b32bd2ea-c305-4687-8f3e-c42642ff3f71",
   "metadata": {},
   "outputs": [],
   "source": [
    "from sklearn.model_selection import train_test_split\n",
    "from sklearn.linear_model import LinearRegression"
   ]
  },
  {
   "cell_type": "code",
   "execution_count": 3,
   "id": "9de1153c-87fe-4579-b7d9-2034e2831695",
   "metadata": {},
   "outputs": [],
   "source": [
    "dataset = pd.read_csv('salarios.csv')"
   ]
  },
  {
   "cell_type": "code",
   "execution_count": 4,
   "id": "c3347b29-3ea3-4605-9e88-d06551081373",
   "metadata": {},
   "outputs": [
    {
     "data": {
      "text/plain": [
       "(30, 2)"
      ]
     },
     "execution_count": 4,
     "metadata": {},
     "output_type": "execute_result"
    }
   ],
   "source": [
    "dataset.shape"
   ]
  },
  {
   "cell_type": "code",
   "execution_count": 5,
   "id": "507c7c8e-0c11-483c-ac27-8d9aa14aeb03",
   "metadata": {},
   "outputs": [
    {
     "data": {
      "text/html": [
       "<div>\n",
       "<style scoped>\n",
       "    .dataframe tbody tr th:only-of-type {\n",
       "        vertical-align: middle;\n",
       "    }\n",
       "\n",
       "    .dataframe tbody tr th {\n",
       "        vertical-align: top;\n",
       "    }\n",
       "\n",
       "    .dataframe thead th {\n",
       "        text-align: right;\n",
       "    }\n",
       "</style>\n",
       "<table border=\"1\" class=\"dataframe\">\n",
       "  <thead>\n",
       "    <tr style=\"text-align: right;\">\n",
       "      <th></th>\n",
       "      <th>Aexperiencia</th>\n",
       "      <th>Salario</th>\n",
       "    </tr>\n",
       "  </thead>\n",
       "  <tbody>\n",
       "    <tr>\n",
       "      <th>0</th>\n",
       "      <td>10.0</td>\n",
       "      <td>42500</td>\n",
       "    </tr>\n",
       "    <tr>\n",
       "      <th>1</th>\n",
       "      <td>8.0</td>\n",
       "      <td>36302</td>\n",
       "    </tr>\n",
       "    <tr>\n",
       "      <th>2</th>\n",
       "      <td>5.4</td>\n",
       "      <td>35000</td>\n",
       "    </tr>\n",
       "    <tr>\n",
       "      <th>3</th>\n",
       "      <td>2.5</td>\n",
       "      <td>18103</td>\n",
       "    </tr>\n",
       "    <tr>\n",
       "      <th>4</th>\n",
       "      <td>1.0</td>\n",
       "      <td>15000</td>\n",
       "    </tr>\n",
       "  </tbody>\n",
       "</table>\n",
       "</div>"
      ],
      "text/plain": [
       "   Aexperiencia  Salario\n",
       "0          10.0    42500\n",
       "1           8.0    36302\n",
       "2           5.4    35000\n",
       "3           2.5    18103\n",
       "4           1.0    15000"
      ]
     },
     "execution_count": 5,
     "metadata": {},
     "output_type": "execute_result"
    }
   ],
   "source": [
    "dataset.head()"
   ]
  },
  {
   "cell_type": "code",
   "execution_count": 6,
   "id": "33d7eabf-a538-4138-a045-f8a9e39246fc",
   "metadata": {},
   "outputs": [],
   "source": [
    "y = dataset.loc[:, \"Salario\" ].values \n",
    "x = dataset.loc[:, [\"Aexperiencia\"] ].values"
   ]
  },
  {
   "cell_type": "code",
   "execution_count": 7,
   "id": "8c2c6271-d1bb-4b82-a6e0-872f9e6fc5a3",
   "metadata": {},
   "outputs": [
    {
     "data": {
      "text/plain": [
       "array([[10. ],\n",
       "       [ 8. ],\n",
       "       [ 5.4],\n",
       "       [ 2.5],\n",
       "       [ 1. ],\n",
       "       [ 8. ],\n",
       "       [ 4. ],\n",
       "       [ 6. ],\n",
       "       [ 2. ],\n",
       "       [10. ],\n",
       "       [ 4. ],\n",
       "       [ 7. ],\n",
       "       [ 3. ],\n",
       "       [ 5. ],\n",
       "       [ 2. ],\n",
       "       [ 5. ],\n",
       "       [ 3. ],\n",
       "       [ 2. ],\n",
       "       [ 3. ],\n",
       "       [ 2. ],\n",
       "       [ 5. ],\n",
       "       [ 3.4],\n",
       "       [ 5.3],\n",
       "       [ 2.1],\n",
       "       [ 9.2],\n",
       "       [10. ],\n",
       "       [ 3.2],\n",
       "       [10. ],\n",
       "       [ 4. ],\n",
       "       [ 1. ]])"
      ]
     },
     "execution_count": 7,
     "metadata": {},
     "output_type": "execute_result"
    }
   ],
   "source": [
    "x"
   ]
  },
  {
   "cell_type": "code",
   "execution_count": 10,
   "id": "dc3e5db7-583d-44c3-9ae2-715c70742d76",
   "metadata": {},
   "outputs": [
    {
     "ename": "TypeError",
     "evalue": "cannot unpack non-iterable module object",
     "output_type": "error",
     "traceback": [
      "\u001b[1;31m---------------------------------------------------------------------------\u001b[0m",
      "\u001b[1;31mTypeError\u001b[0m                                 Traceback (most recent call last)",
      "\u001b[1;32mC:\\Users\\Public\\Documents\\Wondershare\\CreatorTemp/ipykernel_11032/1795530475.py\u001b[0m in \u001b[0;36m<module>\u001b[1;34m\u001b[0m\n\u001b[1;32m----> 1\u001b[1;33m \u001b[0mX_Train\u001b[0m\u001b[1;33m,\u001b[0m \u001b[0mX_Test\u001b[0m\u001b[1;33m,\u001b[0m \u001b[0mY_Train\u001b[0m\u001b[1;33m,\u001b[0m \u001b[0mY_Test\u001b[0m \u001b[1;33m=\u001b[0m \u001b[0mviz_train\u001b[0m \u001b[1;33m=\u001b[0m \u001b[0mplt\u001b[0m\u001b[1;33m\u001b[0m\u001b[1;33m\u001b[0m\u001b[0m\n\u001b[0m\u001b[0;32m      2\u001b[0m \u001b[0mviz_train\u001b[0m\u001b[1;33m.\u001b[0m\u001b[0mscatter\u001b[0m\u001b[1;33m(\u001b[0m\u001b[0mX_Test\u001b[0m\u001b[1;33m,\u001b[0m \u001b[0mY_Test\u001b[0m\u001b[1;33m,\u001b[0m \u001b[0mcolor\u001b[0m \u001b[1;33m=\u001b[0m \u001b[1;34m'red'\u001b[0m\u001b[1;33m)\u001b[0m\u001b[1;33m\u001b[0m\u001b[1;33m\u001b[0m\u001b[0m\n\u001b[0;32m      3\u001b[0m \u001b[0mviz_train\u001b[0m\u001b[1;33m.\u001b[0m\u001b[0mplot\u001b[0m\u001b[1;33m(\u001b[0m\u001b[0mX_Train\u001b[0m\u001b[1;33m,\u001b[0m\u001b[0mregression\u001b[0m\u001b[1;33m.\u001b[0m\u001b[0mpredict\u001b[0m\u001b[1;33m(\u001b[0m\u001b[0mX_Train\u001b[0m\u001b[1;33m)\u001b[0m\u001b[1;33m,\u001b[0m \u001b[0mcolor\u001b[0m \u001b[1;33m=\u001b[0m \u001b[1;34m'black'\u001b[0m\u001b[1;33m)\u001b[0m\u001b[1;33m\u001b[0m\u001b[1;33m\u001b[0m\u001b[0m\n\u001b[0;32m      4\u001b[0m \u001b[0mviz_train\u001b[0m\u001b[1;33m.\u001b[0m\u001b[0mtitle\u001b[0m\u001b[1;33m(\u001b[0m\u001b[1;34m'Salario vs Experiencia'\u001b[0m\u001b[1;33m)\u001b[0m\u001b[1;33m\u001b[0m\u001b[1;33m\u001b[0m\u001b[0m\n\u001b[0;32m      5\u001b[0m \u001b[0mviz_train\u001b[0m\u001b[1;33m.\u001b[0m\u001b[0mxlabel\u001b[0m\u001b[1;33m(\u001b[0m\u001b[1;34m\"Experiencia\"\u001b[0m\u001b[1;33m)\u001b[0m\u001b[1;33m\u001b[0m\u001b[1;33m\u001b[0m\u001b[0m\n",
      "\u001b[1;31mTypeError\u001b[0m: cannot unpack non-iterable module object"
     ]
    }
   ],
   "source": [
    "X_Train, X_Test, Y_Train, Y_Test = viz_train = plt\n",
    "viz_train.scatter(X_Test, Y_Test, color = 'red')\n",
    "viz_train.plot(X_Train,regression.predict(X_Train), color = 'black')\n",
    "viz_train.title('Salario vs Experiencia')\n",
    "viz_train.xlabel(\"Experiencia\")\n",
    "viz_train.ylabel(\"Salario\")\n",
    "viz_train.show()(x,y,test_size=0.2,random_state=0)"
   ]
  },
  {
   "cell_type": "code",
   "execution_count": 9,
   "id": "c051946d-dbda-481a-84e6-15e1b97554da",
   "metadata": {},
   "outputs": [
    {
     "data": {
      "text/plain": [
       "30"
      ]
     },
     "execution_count": 9,
     "metadata": {},
     "output_type": "execute_result"
    }
   ],
   "source": [
    "len(x)"
   ]
  },
  {
   "cell_type": "code",
   "execution_count": 11,
   "id": "72150649-999a-40db-99ae-e878d2275c62",
   "metadata": {},
   "outputs": [
    {
     "ename": "NameError",
     "evalue": "name 'X_Train' is not defined",
     "output_type": "error",
     "traceback": [
      "\u001b[1;31m---------------------------------------------------------------------------\u001b[0m",
      "\u001b[1;31mNameError\u001b[0m                                 Traceback (most recent call last)",
      "\u001b[1;32mC:\\Users\\Public\\Documents\\Wondershare\\CreatorTemp/ipykernel_244/3657499699.py\u001b[0m in \u001b[0;36m<module>\u001b[1;34m\u001b[0m\n\u001b[1;32m----> 1\u001b[1;33m \u001b[0mlen\u001b[0m\u001b[1;33m(\u001b[0m\u001b[0mX_Train\u001b[0m\u001b[1;33m)\u001b[0m\u001b[1;33m\u001b[0m\u001b[1;33m\u001b[0m\u001b[0m\n\u001b[0m",
      "\u001b[1;31mNameError\u001b[0m: name 'X_Train' is not defined"
     ]
    }
   ],
   "source": [
    "len(X_Train)"
   ]
  },
  {
   "cell_type": "code",
   "execution_count": 11,
   "id": "38305676-2575-4c11-bc91-2702e9c50395",
   "metadata": {},
   "outputs": [
    {
     "data": {
      "text/plain": [
       "6"
      ]
     },
     "execution_count": 11,
     "metadata": {},
     "output_type": "execute_result"
    }
   ],
   "source": [
    "len(X_Test)"
   ]
  },
  {
   "cell_type": "code",
   "execution_count": 12,
   "id": "14ddc5ad-1047-4cf6-9356-11fa9ca72867",
   "metadata": {},
   "outputs": [],
   "source": [
    "regression = LinearRegression()"
   ]
  },
  {
   "cell_type": "code",
   "execution_count": 13,
   "id": "8238b737-0362-4372-b799-cadce015a27b",
   "metadata": {},
   "outputs": [
    {
     "data": {
      "text/plain": [
       "LinearRegression()"
      ]
     },
     "execution_count": 13,
     "metadata": {},
     "output_type": "execute_result"
    }
   ],
   "source": [
    "regression.fit(X_Train, Y_Train)"
   ]
  },
  {
   "cell_type": "code",
   "execution_count": 15,
   "id": "40f47b16-79f8-4010-80f5-2ea29876a43f",
   "metadata": {},
   "outputs": [
    {
     "data": {
      "text/plain": [
       "array([43002.79540586, 33568.45483472, 17844.5538828 , 28222.32851106,\n",
       "       36713.2350251 , 20989.33407318, 17844.5538828 , 17844.5538828 ,\n",
       "       18159.03190184, 27278.89445395, 36713.2350251 , 14699.77369242,\n",
       "       24134.11426357, 14699.77369242, 20989.33407318, 17844.5538828 ,\n",
       "       43002.79540586, 30423.67464433, 43002.79540586, 19416.94397799,\n",
       "       43002.79540586, 22247.24614934, 27278.89445395, 20989.33407318])"
      ]
     },
     "execution_count": 15,
     "metadata": {},
     "output_type": "execute_result"
    }
   ],
   "source": [
    "regression.predict(X_Train)"
   ]
  },
  {
   "cell_type": "code",
   "execution_count": 16,
   "id": "79c9dbb4-2184-459d-829e-777e678bfc83",
   "metadata": {},
   "outputs": [
    {
     "data": {
      "text/plain": [
       "LinearRegression()"
      ]
     },
     "execution_count": 16,
     "metadata": {},
     "output_type": "execute_result"
    }
   ],
   "source": [
    "regression"
   ]
  },
  {
   "cell_type": "code",
   "execution_count": 1,
   "id": "90d4264c-3592-4162-bb01-0f7e62586478",
   "metadata": {},
   "outputs": [
    {
     "ename": "NameError",
     "evalue": "name 'Y_Train' is not defined",
     "output_type": "error",
     "traceback": [
      "\u001b[1;31m---------------------------------------------------------------------------\u001b[0m",
      "\u001b[1;31mNameError\u001b[0m                                 Traceback (most recent call last)",
      "\u001b[1;32m<ipython-input-1-c5f4dc9b2a24>\u001b[0m in \u001b[0;36m<module>\u001b[1;34m\u001b[0m\n\u001b[1;32m----> 1\u001b[1;33m \u001b[0mY_Train\u001b[0m\u001b[1;33m\u001b[0m\u001b[1;33m\u001b[0m\u001b[0m\n\u001b[0m",
      "\u001b[1;31mNameError\u001b[0m: name 'Y_Train' is not defined"
     ]
    }
   ],
   "source": [
    "Y_Train"
   ]
  },
  {
   "cell_type": "code",
   "execution_count": 19,
   "id": "17329b01-c254-4c07-8113-e469a23b3534",
   "metadata": {},
   "outputs": [
    {
     "data": {
      "text/plain": [
       "array([[5.4],\n",
       "       [4. ],\n",
       "       [5. ],\n",
       "       [4. ],\n",
       "       [3.2],\n",
       "       [9.2]])"
      ]
     },
     "execution_count": 19,
     "metadata": {},
     "output_type": "execute_result"
    }
   ],
   "source": [
    "X_Test"
   ]
  },
  {
   "cell_type": "code",
   "execution_count": 18,
   "id": "fa74ef84-22f2-4b16-899f-7d1eb10e7352",
   "metadata": {},
   "outputs": [
    {
     "data": {
      "text/plain": [
       "array([28536.8065301 , 24134.11426357, 27278.89445395, 24134.11426357,\n",
       "       21618.29011126, 40486.97125356])"
      ]
     },
     "execution_count": 18,
     "metadata": {},
     "output_type": "execute_result"
    }
   ],
   "source": [
    "regression.predict(X_Test)"
   ]
  },
  {
   "cell_type": "code",
   "execution_count": 20,
   "id": "78935405-be9f-403e-856b-5f835d44c81e",
   "metadata": {},
   "outputs": [
    {
     "data": {
      "text/plain": [
       "array([35000, 25000, 28000, 27000, 18300, 40000], dtype=int64)"
      ]
     },
     "execution_count": 20,
     "metadata": {},
     "output_type": "execute_result"
    }
   ],
   "source": [
    "Y_Test"
   ]
  },
  {
   "cell_type": "code",
   "execution_count": 21,
   "id": "9454f88b-ded1-4154-b7d5-1ac4b846c451",
   "metadata": {},
   "outputs": [
    {
     "data": {
      "image/png": "[encoded data removed]",
      "text/plain": [
       "<Figure size 432x288 with 1 Axes>"
      ]
     },
     "metadata": {
      "needs_background": "light"
     },
     "output_type": "display_data"
    }
   ],
   "source": [
    "viz_train = plt\n",
    "viz_train.scatter(X_Train, Y_Train, color = 'blue')\n",
    "viz_train.plot(X_Train,regression.predict(X_Train), color = 'black')\n",
    "viz_train.title('Salario vs Experiencia')\n",
    "viz_train.xlabel(\"Experiencia\")\n",
    "viz_train.ylabel(\"Salario\")\n",
    "viz_train.show()"
   ]
  },
  {
   "cell_type": "code",
   "execution_count": 22,
   "id": "ccdbdfcf-81e1-4fdf-9f42-19d87d7ae4ee",
   "metadata": {},
   "outputs": [
    {
     "data": {
      "image/png": "[encoded data removed]",
      "text/plain": [
       "<Figure size 432x288 with 1 Axes>"
      ]
     },
     "metadata": {
      "needs_background": "light"
     },
     "output_type": "display_data"
    }
   ],
   "source": [
    "viz_train = plt\n",
    "viz_train.scatter(X_Test, Y_Test, color = 'red')\n",
    "viz_train.plot(X_Train,regression.predict(X_Train), color = 'black')\n",
    "viz_train.title('Salario vs Experiencia')\n",
    "viz_train.xlabel(\"Experiencia\")\n",
    "viz_train.ylabel(\"Salario\")\n",
    "viz_train.show()"
   ]
  },
  {
   "cell_type": "code",
   "execution_count": 23,
   "id": "e01cbcdf-e931-4084-ade0-adc290c89885",
   "metadata": {},
   "outputs": [
    {
     "data": {
      "text/plain": [
       "0.7862437374732997"
      ]
     },
     "execution_count": 23,
     "metadata": {},
     "output_type": "execute_result"
    }
   ],
   "source": [
    "regression.score(X_Test, Y_Test)"
   ]
  },
  {
   "cell_type": "markdown",
   "id": "378fa2e8-3f2e-40c0-a678-af0638f9e1c7",
   "metadata": {},
   "source": [
    "## Multiple regressions"
   ]
  },
  {
   "cell_type": "code",
   "execution_count": 33,
   "id": "a9b5fcdd-acc0-421c-836a-81e7186122fa",
   "metadata": {},
   "outputs": [],
   "source": [
    "df2 = dataset"
   ]
  },
  {
   "cell_type": "code",
   "execution_count": 34,
   "id": "4b2df03b-c16d-475d-a816-e1b387dedc42",
   "metadata": {},
   "outputs": [],
   "source": [
    "df2['Category'] =  pd.DataFrame(np.random.randint(1,4,size=(30, 1)), columns=list('C'))"
   ]
  },
  {
   "cell_type": "code",
   "execution_count": 38,
   "id": "2a53c9c3-6d27-48c2-a067-c5e334466a01",
   "metadata": {},
   "outputs": [],
   "source": [
    "df2 = df2.loc[ : , [\"Aexperiencia\",\"Salario\",\"Category\"] ]"
   ]
  },
  {
   "cell_type": "code",
   "execution_count": 41,
   "id": "3b84b96d-e6ff-455c-b7ba-a031aafff147",
   "metadata": {},
   "outputs": [],
   "source": [
    "X = df2[[\"Aexperiencia\",\"Category\"]].values\n",
    "Y = df2[[\"Salario\"]].values"
   ]
  },
  {
   "cell_type": "code",
   "execution_count": 43,
   "id": "3c4453ea-aa13-4a6c-a805-42c43b764063",
   "metadata": {},
   "outputs": [],
   "source": [
    "X_Train, X_Test, Y_Train, Y_Test = train_test_split(X,Y,test_size = 0.3, random_state = 0)"
   ]
  },
  {
   "cell_type": "code",
   "execution_count": 44,
   "id": "ff4bee27-5099-4e61-a6da-ee154cc32dc3",
   "metadata": {},
   "outputs": [
    {
     "data": {
      "text/plain": [
       "LinearRegression()"
      ]
     },
     "execution_count": 44,
     "metadata": {},
     "output_type": "execute_result"
    }
   ],
   "source": [
    "regressor = LinearRegression()\n",
    "regressor.fit(X_Train,Y_Train)"
   ]
  },
  {
   "cell_type": "code",
   "execution_count": 45,
   "id": "58ffd6e5-ef19-4152-a1b0-4767e75aa592",
   "metadata": {},
   "outputs": [
    {
     "data": {
      "text/plain": [
       "0.8676181772849667"
      ]
     },
     "execution_count": 45,
     "metadata": {},
     "output_type": "execute_result"
    }
   ],
   "source": [
    "regressor.score(X_Test,Y_Test)"
   ]
  },
  {
   "cell_type": "code",
   "execution_count": 46,
   "id": "5d817a39-2707-4af5-9afc-2ebbb8ab5380",
   "metadata": {},
   "outputs": [
    {
     "data": {
      "text/plain": [
       "array([[29119.12753361],\n",
       "       [23527.93398388],\n",
       "       [27815.22208843],\n",
       "       [23527.93398388],\n",
       "       [20920.12309352],\n",
       "       [40478.70477122],\n",
       "       [44114.04015319],\n",
       "       [33820.98706853],\n",
       "       [18035.93124958]])"
      ]
     },
     "execution_count": 46,
     "metadata": {},
     "output_type": "execute_result"
    }
   ],
   "source": [
    "regressor.predict(X_Test)"
   ]
  },
  {
   "cell_type": "code",
   "execution_count": 47,
   "id": "db0c4abd-5791-494f-9de9-9c0c7acfcafe",
   "metadata": {},
   "outputs": [
    {
     "data": {
      "text/plain": [
       "array([[35000],\n",
       "       [25000],\n",
       "       [28000],\n",
       "       [27000],\n",
       "       [18300],\n",
       "       [40000],\n",
       "       [40000],\n",
       "       [35201],\n",
       "       [18200]], dtype=int64)"
      ]
     },
     "execution_count": 47,
     "metadata": {},
     "output_type": "execute_result"
    }
   ],
   "source": [
    "Y_Test"
   ]
  },
  {
   "cell_type": "markdown",
   "id": "5b6ce08e-342b-44e4-a897-00a0bfa63b1a",
   "metadata": {},
   "source": [
    "from sklearn import tree ## Arboles de desicion"
   ]
  },
  {
   "cell_type": "code",
   "execution_count": 11,
   "id": "d2c562c1-28f0-439a-93d1-a5461eca7ba6",
   "metadata": {},
   "outputs": [],
   "source": [
    "from sklearn import tree "
   ]
  },
  {
   "cell_type": "code",
   "execution_count": 12,
   "id": "059fcf17-d693-4734-89a0-c7238bf80343",
   "metadata": {},
   "outputs": [],
   "source": [
    "dfTitanic = pd.read_csv('titanic-train.csv')\n",
    "dfTitanic_test = pd.read_csv('titanic-test.csv')"
   ]
  },
  {
   "cell_type": "code",
   "execution_count": 13,
   "id": "e18aa3e7-26ba-45cc-b89f-145ad3bb9510",
   "metadata": {},
   "outputs": [
    {
     "data": {
      "text/html": [
       "<div>\n",
       "<style scoped>\n",
       "    .dataframe tbody tr th:only-of-type {\n",
       "        vertical-align: middle;\n",
       "    }\n",
       "\n",
       "    .dataframe tbody tr th {\n",
       "        vertical-align: top;\n",
       "    }\n",
       "\n",
       "    .dataframe thead th {\n",
       "        text-align: right;\n",
       "    }\n",
       "</style>\n",
       "<table border=\"1\" class=\"dataframe\">\n",
       "  <thead>\n",
       "    <tr style=\"text-align: right;\">\n",
       "      <th></th>\n",
       "      <th>PassengerId</th>\n",
       "      <th>Survived</th>\n",
       "      <th>Pclass</th>\n",
       "      <th>Name</th>\n",
       "      <th>Sex</th>\n",
       "      <th>Age</th>\n",
       "      <th>SibSp</th>\n",
       "      <th>Parch</th>\n",
       "      <th>Ticket</th>\n",
       "      <th>Fare</th>\n",
       "      <th>Cabin</th>\n",
       "      <th>Embarked</th>\n",
       "    </tr>\n",
       "  </thead>\n",
       "  <tbody>\n",
       "    <tr>\n",
       "      <th>0</th>\n",
       "      <td>1</td>\n",
       "      <td>0</td>\n",
       "      <td>3</td>\n",
       "      <td>Braund, Mr. Owen Harris</td>\n",
       "      <td>male</td>\n",
       "      <td>22.0</td>\n",
       "      <td>1</td>\n",
       "      <td>0</td>\n",
       "      <td>A/5 21171</td>\n",
       "      <td>7.2500</td>\n",
       "      <td>NaN</td>\n",
       "      <td>S</td>\n",
       "    </tr>\n",
       "    <tr>\n",
       "      <th>1</th>\n",
       "      <td>2</td>\n",
       "      <td>1</td>\n",
       "      <td>1</td>\n",
       "      <td>Cumings, Mrs. John Bradley (Florence Briggs Th...</td>\n",
       "      <td>female</td>\n",
       "      <td>38.0</td>\n",
       "      <td>1</td>\n",
       "      <td>0</td>\n",
       "      <td>PC 17599</td>\n",
       "      <td>71.2833</td>\n",
       "      <td>C85</td>\n",
       "      <td>C</td>\n",
       "    </tr>\n",
       "  </tbody>\n",
       "</table>\n",
       "</div>"
      ],
      "text/plain": [
       "   PassengerId  Survived  Pclass  \\\n",
       "0            1         0       3   \n",
       "1            2         1       1   \n",
       "\n",
       "                                                Name     Sex   Age  SibSp  \\\n",
       "0                            Braund, Mr. Owen Harris    male  22.0      1   \n",
       "1  Cumings, Mrs. John Bradley (Florence Briggs Th...  female  38.0      1   \n",
       "\n",
       "   Parch     Ticket     Fare Cabin Embarked  \n",
       "0      0  A/5 21171   7.2500   NaN        S  \n",
       "1      0   PC 17599  71.2833   C85        C  "
      ]
     },
     "execution_count": 13,
     "metadata": {},
     "output_type": "execute_result"
    }
   ],
   "source": [
    "dfTitanic.head(2)"
   ]
  },
  {
   "cell_type": "code",
   "execution_count": 14,
   "id": "7510d472-642d-4754-933b-5b06e273e4e4",
   "metadata": {},
   "outputs": [
    {
     "data": {
      "text/plain": [
       "<AxesSubplot:>"
      ]
     },
     "execution_count": 14,
     "metadata": {},
     "output_type": "execute_result"
    },
    {
     "data": {
      "image/png": "[encoded data removed]",
      "text/plain": [
       "<Figure size 432x288 with 1 Axes>"
      ]
     },
     "metadata": {
      "needs_background": "light"
     },
     "output_type": "display_data"
    }
   ],
   "source": [
    "dfTitanic.Survived.value_counts().plot( kind='bar' , color = ['r','b'] )"
   ]
  },
  {
   "cell_type": "code",
   "execution_count": 15,
   "id": "2e7626f5-59c1-4852-a685-3fda7fd59817",
   "metadata": {},
   "outputs": [
    {
     "data": {
      "text/html": [
       "<div>\n",
       "<style scoped>\n",
       "    .dataframe tbody tr th:only-of-type {\n",
       "        vertical-align: middle;\n",
       "    }\n",
       "\n",
       "    .dataframe tbody tr th {\n",
       "        vertical-align: top;\n",
       "    }\n",
       "\n",
       "    .dataframe thead th {\n",
       "        text-align: right;\n",
       "    }\n",
       "</style>\n",
       "<table border=\"1\" class=\"dataframe\">\n",
       "  <thead>\n",
       "    <tr style=\"text-align: right;\">\n",
       "      <th></th>\n",
       "      <th>PassengerId</th>\n",
       "    </tr>\n",
       "    <tr>\n",
       "      <th>Sex</th>\n",
       "      <th></th>\n",
       "    </tr>\n",
       "  </thead>\n",
       "  <tbody>\n",
       "    <tr>\n",
       "      <th>female</th>\n",
       "      <td>53</td>\n",
       "    </tr>\n",
       "    <tr>\n",
       "      <th>male</th>\n",
       "      <td>124</td>\n",
       "    </tr>\n",
       "  </tbody>\n",
       "</table>\n",
       "</div>"
      ],
      "text/plain": [
       "        PassengerId\n",
       "Sex                \n",
       "female           53\n",
       "male            124"
      ]
     },
     "execution_count": 15,
     "metadata": {},
     "output_type": "execute_result"
    }
   ],
   "source": [
    "dfTitanic.loc[ ( pd.isnull( dfTitanic['Age'] )   ) , [\"Sex\",\"PassengerId\"]  ].groupby( [\"Sex\"] ).count()"
   ]
  },
  {
   "cell_type": "code",
   "execution_count": 16,
   "id": "f3e55f2a-eb33-4684-8817-e9153a9e9f92",
   "metadata": {},
   "outputs": [],
   "source": [
    "df_ages_b_gender = dfTitanic.loc[ ( ~pd.isnull( dfTitanic['Age'] )   ) , [\"Sex\",\"Age\"]  ].groupby([\"Sex\"],as_index=False).median()"
   ]
  },
  {
   "cell_type": "code",
   "execution_count": 17,
   "id": "23df4f40-3132-4a93-b946-6f7ce763ed8b",
   "metadata": {},
   "outputs": [],
   "source": [
    "female_age = df_ages_b_gender.loc[ df_ages_b_gender['Sex'] == 'female' , 'Age' ]\n",
    "male_age = df_ages_b_gender.loc[ df_ages_b_gender['Sex'] == 'male' , 'Age' ]"
   ]
  },
  {
   "cell_type": "code",
   "execution_count": 18,
   "id": "fa581976-1f6b-4cee-85b0-355e5140304a",
   "metadata": {},
   "outputs": [],
   "source": [
    "dfTitanic.loc[ np.logical_and( dfTitanic['Sex'] == 'female' , pd.isnull( dfTitanic['Age'] ) )  , 'Age' ] = female_age[0]\n",
    "dfTitanic.loc[ np.logical_and( dfTitanic['Sex'] == 'male' , pd.isnull( dfTitanic['Age'] ) )  , 'Age' ] = male_age[1]"
   ]
  },
  {
   "cell_type": "code",
   "execution_count": 19,
   "id": "f37c9d97-2d18-433d-b12e-2954da78f98f",
   "metadata": {},
   "outputs": [],
   "source": [
    "dfTitanic = dfTitanic.loc[ ~pd.isna( dfTitanic[\"Embarked\"] ) , : ]"
   ]
  },
  {
   "cell_type": "code",
   "execution_count": 20,
   "id": "ef5c5354-70d4-4041-998d-705178e62d55",
   "metadata": {},
   "outputs": [],
   "source": [
    "from sklearn import preprocessing\n",
    "label_encoder = preprocessing.LabelEncoder()"
   ]
  },
  {
   "cell_type": "code",
   "execution_count": 21,
   "id": "7dd54b98-b80c-4e40-a871-abddbd960238",
   "metadata": {},
   "outputs": [],
   "source": [
    "encoder_s  = label_encoder.fit_transform(  dfTitanic['Survived'] )"
   ]
  },
  {
   "cell_type": "code",
   "execution_count": 22,
   "id": "51ddc885-abf2-4c50-aafe-72092f34046c",
   "metadata": {},
   "outputs": [],
   "source": [
    "entrenamiento = dfTitanic.drop( ['PassengerId','Name','Ticket','Cabin','Survived'] , axis=1 )"
   ]
  },
  {
   "cell_type": "code",
   "execution_count": 23,
   "id": "c0915d42-aba6-45b1-bbd8-978118734037",
   "metadata": {},
   "outputs": [
    {
     "data": {
      "text/plain": [
       "PassengerId      int64\n",
       "Survived         int64\n",
       "Pclass           int64\n",
       "Name            object\n",
       "Sex             object\n",
       "Age            float64\n",
       "SibSp            int64\n",
       "Parch            int64\n",
       "Ticket          object\n",
       "Fare           float64\n",
       "Cabin           object\n",
       "Embarked        object\n",
       "dtype: object"
      ]
     },
     "execution_count": 23,
     "metadata": {},
     "output_type": "execute_result"
    }
   ],
   "source": [
    "dfTitanic.dtypes"
   ]
  },
  {
   "cell_type": "code",
   "execution_count": 24,
   "id": "4b86aa9b-5b7e-452f-a9f6-629b1e8b0e94",
   "metadata": {},
   "outputs": [],
   "source": [
    "categorical_cols = [ cname for cname in entrenamiento.columns if entrenamiento[cname].dtype == \"object\" ]\n",
    "numericals_cols = [ cname for cname in entrenamiento.columns if entrenamiento[cname].dtype != \"object\" ]"
   ]
  },
  {
   "cell_type": "code",
   "execution_count": 25,
   "id": "fa968f5c-02ec-4945-b4d6-7f154c911f0c",
   "metadata": {},
   "outputs": [],
   "source": [
    "mycols = categorical_cols + numericals_cols"
   ]
  },
  {
   "cell_type": "code",
   "execution_count": 26,
   "id": "677faace-b70c-4c4a-af20-10915befb93a",
   "metadata": {},
   "outputs": [],
   "source": [
    "dummy_encoded_train_predictos =  pd.get_dummies( entrenamiento[mycols] )"
   ]
  },
  {
   "cell_type": "code",
   "execution_count": 27,
   "id": "bd655f85-666f-4a00-9428-10d0c97f1825",
   "metadata": {},
   "outputs": [
    {
     "data": {
      "text/html": [
       "<div>\n",
       "<style scoped>\n",
       "    .dataframe tbody tr th:only-of-type {\n",
       "        vertical-align: middle;\n",
       "    }\n",
       "\n",
       "    .dataframe tbody tr th {\n",
       "        vertical-align: top;\n",
       "    }\n",
       "\n",
       "    .dataframe thead th {\n",
       "        text-align: right;\n",
       "    }\n",
       "</style>\n",
       "<table border=\"1\" class=\"dataframe\">\n",
       "  <thead>\n",
       "    <tr style=\"text-align: right;\">\n",
       "      <th></th>\n",
       "      <th>Pclass</th>\n",
       "      <th>Age</th>\n",
       "      <th>SibSp</th>\n",
       "      <th>Parch</th>\n",
       "      <th>Fare</th>\n",
       "      <th>Sex_female</th>\n",
       "      <th>Sex_male</th>\n",
       "      <th>Embarked_C</th>\n",
       "      <th>Embarked_Q</th>\n",
       "      <th>Embarked_S</th>\n",
       "    </tr>\n",
       "  </thead>\n",
       "  <tbody>\n",
       "    <tr>\n",
       "      <th>0</th>\n",
       "      <td>3</td>\n",
       "      <td>22.0</td>\n",
       "      <td>1</td>\n",
       "      <td>0</td>\n",
       "      <td>7.2500</td>\n",
       "      <td>0</td>\n",
       "      <td>1</td>\n",
       "      <td>0</td>\n",
       "      <td>0</td>\n",
       "      <td>1</td>\n",
       "    </tr>\n",
       "    <tr>\n",
       "      <th>1</th>\n",
       "      <td>1</td>\n",
       "      <td>38.0</td>\n",
       "      <td>1</td>\n",
       "      <td>0</td>\n",
       "      <td>71.2833</td>\n",
       "      <td>1</td>\n",
       "      <td>0</td>\n",
       "      <td>1</td>\n",
       "      <td>0</td>\n",
       "      <td>0</td>\n",
       "    </tr>\n",
       "    <tr>\n",
       "      <th>2</th>\n",
       "      <td>3</td>\n",
       "      <td>26.0</td>\n",
       "      <td>0</td>\n",
       "      <td>0</td>\n",
       "      <td>7.9250</td>\n",
       "      <td>1</td>\n",
       "      <td>0</td>\n",
       "      <td>0</td>\n",
       "      <td>0</td>\n",
       "      <td>1</td>\n",
       "    </tr>\n",
       "    <tr>\n",
       "      <th>3</th>\n",
       "      <td>1</td>\n",
       "      <td>35.0</td>\n",
       "      <td>1</td>\n",
       "      <td>0</td>\n",
       "      <td>53.1000</td>\n",
       "      <td>1</td>\n",
       "      <td>0</td>\n",
       "      <td>0</td>\n",
       "      <td>0</td>\n",
       "      <td>1</td>\n",
       "    </tr>\n",
       "    <tr>\n",
       "      <th>4</th>\n",
       "      <td>3</td>\n",
       "      <td>35.0</td>\n",
       "      <td>0</td>\n",
       "      <td>0</td>\n",
       "      <td>8.0500</td>\n",
       "      <td>0</td>\n",
       "      <td>1</td>\n",
       "      <td>0</td>\n",
       "      <td>0</td>\n",
       "      <td>1</td>\n",
       "    </tr>\n",
       "  </tbody>\n",
       "</table>\n",
       "</div>"
      ],
      "text/plain": [
       "   Pclass   Age  SibSp  Parch     Fare  Sex_female  Sex_male  Embarked_C  \\\n",
       "0       3  22.0      1      0   7.2500           0         1           0   \n",
       "1       1  38.0      1      0  71.2833           1         0           1   \n",
       "2       3  26.0      0      0   7.9250           1         0           0   \n",
       "3       1  35.0      1      0  53.1000           1         0           0   \n",
       "4       3  35.0      0      0   8.0500           0         1           0   \n",
       "\n",
       "   Embarked_Q  Embarked_S  \n",
       "0           0           1  \n",
       "1           0           0  \n",
       "2           0           1  \n",
       "3           0           1  \n",
       "4           0           1  "
      ]
     },
     "execution_count": 27,
     "metadata": {},
     "output_type": "execute_result"
    }
   ],
   "source": [
    "dummy_encoded_train_predictos.head()"
   ]
  },
  {
   "cell_type": "code",
   "execution_count": 28,
   "id": "57ce3a69-8d2e-4f70-b15d-4e5631f8f173",
   "metadata": {},
   "outputs": [],
   "source": [
    "y_target = dfTitanic['Survived'].values\n",
    "x = dummy_encoded_train_predictos.values"
   ]
  },
  {
   "cell_type": "code",
   "execution_count": 29,
   "id": "ad82c7a4-e4a3-47b6-8513-dea36dbbd86c",
   "metadata": {},
   "outputs": [],
   "source": [
    "x_train, x_validation, y_train, y_validation = train_test_split(x, y_target , test_size = .25, random_state = 1)"
   ]
  },
  {
   "cell_type": "code",
   "execution_count": 30,
   "id": "f51015d5-d332-4678-a2d4-f275e0d8b101",
   "metadata": {},
   "outputs": [],
   "source": [
    "tree_one = tree.DecisionTreeClassifier()"
   ]
  },
  {
   "cell_type": "code",
   "execution_count": 31,
   "id": "7348018f-b3ed-48af-9f45-e4ac75192388",
   "metadata": {},
   "outputs": [],
   "source": [
    "tree_one = tree_one.fit( x_train , y_train )"
   ]
  },
  {
   "cell_type": "code",
   "execution_count": 107,
   "id": "620f6aca-56ee-4483-9d3b-d3eba7fdff41",
   "metadata": {},
   "outputs": [
    {
     "name": "stdout",
     "output_type": "stream",
     "text": [
      "Accuracy: 0.8117\n"
     ]
    }
   ],
   "source": [
    "tree_one_accurary = round(tree_one.score(x_validation,y_validation),4)\n",
    "print('Accuracy: %0.4f' % (tree_one_accurary) )"
   ]
  },
  {
   "cell_type": "code",
   "execution_count": 109,
   "id": "f0baf05f-4986-4eee-9520-185e846117eb",
   "metadata": {},
   "outputs": [
    {
     "data": {
      "text/plain": [
       "True"
      ]
     },
     "execution_count": 109,
     "metadata": {},
     "output_type": "execute_result"
    }
   ],
   "source": [
    "from io import StringIO\n",
    "from IPython.display import Image, display\n",
    "import pydotplus\n",
    "\n",
    "out = StringIO()\n",
    "tree.export_graphviz(tree_one, out_file=out)\n",
    "\n",
    "graph = pydotplus.graph_from_dot_data(out.getvalue())\n",
    "graph.write_png(\"titanic.png\")"
   ]
  },
  {
   "cell_type": "code",
   "execution_count": 110,
   "id": "fb394a5a-89f4-4439-8084-a0b9c053c280",
   "metadata": {},
   "outputs": [
    {
     "data": {
      "text/plain": [
       "array([1, 1, 1, 0, 0, 1, 0, 0, 0, 1, 0, 0, 0, 1, 0, 0, 0, 1, 1, 1, 1, 1,\n",
       "       0, 0, 0, 0, 1, 0, 0, 1, 0, 0, 1, 1, 0, 1, 0, 0, 1, 0, 1, 0, 0, 0,\n",
       "       0, 1, 1, 0, 1, 0, 0, 0, 0, 1, 0, 1, 0, 0, 0, 0, 0, 0, 1, 0, 0, 1,\n",
       "       0, 0, 0, 1, 0, 1, 0, 0, 1, 1, 0, 1, 1, 1, 0, 0, 1, 1, 0, 0, 1, 0,\n",
       "       0, 0, 0, 1, 0, 0, 1, 0, 1, 1, 1, 1, 1, 0, 0, 0, 0, 0, 1, 0, 0, 0,\n",
       "       0, 0, 0, 1, 1, 1, 0, 0, 1, 0, 0, 1, 1, 1, 1, 0, 1, 1, 0, 0, 1, 0,\n",
       "       0, 1, 1, 1, 0, 1, 0, 0, 0, 1, 0, 1, 0, 0, 1, 1, 1, 1, 0, 0, 1, 0,\n",
       "       1, 0, 0, 0, 0, 0, 1, 0, 0, 0, 0, 1, 1, 1, 0, 1, 1, 0, 0, 0, 1, 0,\n",
       "       0, 0, 0, 0, 0, 0, 0, 0, 1, 0, 1, 1, 1, 0, 1, 0, 1, 0, 0, 1, 0, 1,\n",
       "       1, 1, 1, 0, 1, 0, 1, 0, 0, 1, 0, 1, 0, 0, 0, 0, 0, 1, 1, 0, 0, 1,\n",
       "       0, 0, 0], dtype=int64)"
      ]
     },
     "execution_count": 110,
     "metadata": {},
     "output_type": "execute_result"
    }
   ],
   "source": [
    "tree_one.predict( x_validation )"
   ]
  },
  {
   "cell_type": "code",
   "execution_count": 111,
   "id": "d086fdb4-3041-4ac0-a573-d8b96ca4f4d1",
   "metadata": {},
   "outputs": [
    {
     "data": {
      "text/plain": [
       "array([1, 1, 0, 1, 0, 1, 1, 0, 0, 1, 0, 0, 1, 1, 0, 0, 0, 1, 1, 0, 1, 1,\n",
       "       0, 0, 0, 0, 1, 0, 0, 1, 0, 1, 1, 1, 1, 1, 1, 1, 0, 0, 1, 0, 0, 0,\n",
       "       0, 1, 1, 0, 1, 0, 0, 0, 0, 1, 0, 1, 0, 0, 0, 0, 0, 0, 0, 0, 0, 1,\n",
       "       0, 0, 0, 1, 0, 1, 1, 0, 1, 1, 1, 0, 1, 0, 0, 0, 1, 1, 1, 0, 1, 1,\n",
       "       0, 0, 0, 1, 0, 0, 1, 0, 1, 1, 1, 1, 0, 1, 0, 0, 0, 0, 1, 0, 0, 0,\n",
       "       0, 0, 0, 1, 1, 1, 0, 1, 1, 0, 0, 1, 0, 1, 1, 0, 0, 0, 0, 0, 1, 1,\n",
       "       0, 1, 1, 1, 0, 0, 0, 0, 0, 1, 0, 0, 0, 0, 1, 1, 1, 0, 0, 0, 1, 0,\n",
       "       1, 1, 0, 0, 0, 1, 1, 0, 0, 0, 0, 0, 1, 1, 0, 1, 0, 0, 0, 0, 0, 0,\n",
       "       0, 0, 0, 0, 0, 0, 0, 0, 0, 0, 1, 1, 1, 0, 0, 0, 0, 0, 0, 0, 0, 1,\n",
       "       0, 1, 0, 1, 1, 0, 1, 0, 0, 1, 0, 1, 0, 0, 0, 1, 0, 1, 0, 0, 0, 0,\n",
       "       0, 0, 0], dtype=int64)"
      ]
     },
     "execution_count": 111,
     "metadata": {},
     "output_type": "execute_result"
    }
   ],
   "source": [
    "y_validation"
   ]
  },
  {
   "cell_type": "markdown",
   "id": "8547a89b-1329-4f25-8aec-9a2f5f7c99ef",
   "metadata": {},
   "source": [
    "### Regresion Logistica"
   ]
  },
  {
   "cell_type": "code",
   "execution_count": 170,
   "id": "08dd2c7b-513f-4213-a031-4457104024e0",
   "metadata": {},
   "outputs": [],
   "source": [
    "from sklearn.linear_model import LogisticRegression\n",
    "from sklearn import metrics"
   ]
  },
  {
   "cell_type": "code",
   "execution_count": 113,
   "id": "0a6c4ec3-25dc-4fe2-b9d2-06c2f28883e9",
   "metadata": {},
   "outputs": [],
   "source": [
    "diabetes = pd.read_csv('diabetes.csv')"
   ]
  },
  {
   "cell_type": "code",
   "execution_count": 114,
   "id": "b43e628a-0d99-4d1e-8f22-23d4f95f3c8b",
   "metadata": {},
   "outputs": [
    {
     "data": {
      "text/html": [
       "<div>\n",
       "<style scoped>\n",
       "    .dataframe tbody tr th:only-of-type {\n",
       "        vertical-align: middle;\n",
       "    }\n",
       "\n",
       "    .dataframe tbody tr th {\n",
       "        vertical-align: top;\n",
       "    }\n",
       "\n",
       "    .dataframe thead th {\n",
       "        text-align: right;\n",
       "    }\n",
       "</style>\n",
       "<table border=\"1\" class=\"dataframe\">\n",
       "  <thead>\n",
       "    <tr style=\"text-align: right;\">\n",
       "      <th></th>\n",
       "      <th>Pregnancies</th>\n",
       "      <th>Glucose</th>\n",
       "      <th>BloodPressure</th>\n",
       "      <th>SkinThickness</th>\n",
       "      <th>Insulin</th>\n",
       "      <th>BMI</th>\n",
       "      <th>DiabetesPedigreeFunction</th>\n",
       "      <th>Age</th>\n",
       "      <th>Outcome</th>\n",
       "    </tr>\n",
       "  </thead>\n",
       "  <tbody>\n",
       "    <tr>\n",
       "      <th>0</th>\n",
       "      <td>6</td>\n",
       "      <td>148</td>\n",
       "      <td>72</td>\n",
       "      <td>35</td>\n",
       "      <td>0</td>\n",
       "      <td>33.6</td>\n",
       "      <td>0.627</td>\n",
       "      <td>50</td>\n",
       "      <td>1</td>\n",
       "    </tr>\n",
       "    <tr>\n",
       "      <th>1</th>\n",
       "      <td>1</td>\n",
       "      <td>85</td>\n",
       "      <td>66</td>\n",
       "      <td>29</td>\n",
       "      <td>0</td>\n",
       "      <td>26.6</td>\n",
       "      <td>0.351</td>\n",
       "      <td>31</td>\n",
       "      <td>0</td>\n",
       "    </tr>\n",
       "    <tr>\n",
       "      <th>2</th>\n",
       "      <td>8</td>\n",
       "      <td>183</td>\n",
       "      <td>64</td>\n",
       "      <td>0</td>\n",
       "      <td>0</td>\n",
       "      <td>23.3</td>\n",
       "      <td>0.672</td>\n",
       "      <td>32</td>\n",
       "      <td>1</td>\n",
       "    </tr>\n",
       "    <tr>\n",
       "      <th>3</th>\n",
       "      <td>1</td>\n",
       "      <td>89</td>\n",
       "      <td>66</td>\n",
       "      <td>23</td>\n",
       "      <td>94</td>\n",
       "      <td>28.1</td>\n",
       "      <td>0.167</td>\n",
       "      <td>21</td>\n",
       "      <td>0</td>\n",
       "    </tr>\n",
       "    <tr>\n",
       "      <th>4</th>\n",
       "      <td>0</td>\n",
       "      <td>137</td>\n",
       "      <td>40</td>\n",
       "      <td>35</td>\n",
       "      <td>168</td>\n",
       "      <td>43.1</td>\n",
       "      <td>2.288</td>\n",
       "      <td>33</td>\n",
       "      <td>1</td>\n",
       "    </tr>\n",
       "    <tr>\n",
       "      <th>...</th>\n",
       "      <td>...</td>\n",
       "      <td>...</td>\n",
       "      <td>...</td>\n",
       "      <td>...</td>\n",
       "      <td>...</td>\n",
       "      <td>...</td>\n",
       "      <td>...</td>\n",
       "      <td>...</td>\n",
       "      <td>...</td>\n",
       "    </tr>\n",
       "    <tr>\n",
       "      <th>763</th>\n",
       "      <td>10</td>\n",
       "      <td>101</td>\n",
       "      <td>76</td>\n",
       "      <td>48</td>\n",
       "      <td>180</td>\n",
       "      <td>32.9</td>\n",
       "      <td>0.171</td>\n",
       "      <td>63</td>\n",
       "      <td>0</td>\n",
       "    </tr>\n",
       "    <tr>\n",
       "      <th>764</th>\n",
       "      <td>2</td>\n",
       "      <td>122</td>\n",
       "      <td>70</td>\n",
       "      <td>27</td>\n",
       "      <td>0</td>\n",
       "      <td>36.8</td>\n",
       "      <td>0.340</td>\n",
       "      <td>27</td>\n",
       "      <td>0</td>\n",
       "    </tr>\n",
       "    <tr>\n",
       "      <th>765</th>\n",
       "      <td>5</td>\n",
       "      <td>121</td>\n",
       "      <td>72</td>\n",
       "      <td>23</td>\n",
       "      <td>112</td>\n",
       "      <td>26.2</td>\n",
       "      <td>0.245</td>\n",
       "      <td>30</td>\n",
       "      <td>0</td>\n",
       "    </tr>\n",
       "    <tr>\n",
       "      <th>766</th>\n",
       "      <td>1</td>\n",
       "      <td>126</td>\n",
       "      <td>60</td>\n",
       "      <td>0</td>\n",
       "      <td>0</td>\n",
       "      <td>30.1</td>\n",
       "      <td>0.349</td>\n",
       "      <td>47</td>\n",
       "      <td>1</td>\n",
       "    </tr>\n",
       "    <tr>\n",
       "      <th>767</th>\n",
       "      <td>1</td>\n",
       "      <td>93</td>\n",
       "      <td>70</td>\n",
       "      <td>31</td>\n",
       "      <td>0</td>\n",
       "      <td>30.4</td>\n",
       "      <td>0.315</td>\n",
       "      <td>23</td>\n",
       "      <td>0</td>\n",
       "    </tr>\n",
       "  </tbody>\n",
       "</table>\n",
       "<p>768 rows × 9 columns</p>\n",
       "</div>"
      ],
      "text/plain": [
       "     Pregnancies  Glucose  BloodPressure  SkinThickness  Insulin   BMI  \\\n",
       "0              6      148             72             35        0  33.6   \n",
       "1              1       85             66             29        0  26.6   \n",
       "2              8      183             64              0        0  23.3   \n",
       "3              1       89             66             23       94  28.1   \n",
       "4              0      137             40             35      168  43.1   \n",
       "..           ...      ...            ...            ...      ...   ...   \n",
       "763           10      101             76             48      180  32.9   \n",
       "764            2      122             70             27        0  36.8   \n",
       "765            5      121             72             23      112  26.2   \n",
       "766            1      126             60              0        0  30.1   \n",
       "767            1       93             70             31        0  30.4   \n",
       "\n",
       "     DiabetesPedigreeFunction  Age  Outcome  \n",
       "0                       0.627   50        1  \n",
       "1                       0.351   31        0  \n",
       "2                       0.672   32        1  \n",
       "3                       0.167   21        0  \n",
       "4                       2.288   33        1  \n",
       "..                        ...  ...      ...  \n",
       "763                     0.171   63        0  \n",
       "764                     0.340   27        0  \n",
       "765                     0.245   30        0  \n",
       "766                     0.349   47        1  \n",
       "767                     0.315   23        0  \n",
       "\n",
       "[768 rows x 9 columns]"
      ]
     },
     "execution_count": 114,
     "metadata": {},
     "output_type": "execute_result"
    }
   ],
   "source": [
    "diabetes"
   ]
  },
  {
   "cell_type": "code",
   "execution_count": 144,
   "id": "7c278563-6503-4094-a4a4-88e3b8f71a71",
   "metadata": {},
   "outputs": [],
   "source": [
    "features_col = diabetes.columns.values[0:8]"
   ]
  },
  {
   "cell_type": "code",
   "execution_count": 158,
   "id": "092ab8a1-c5a8-46d1-8799-5b772fd324d8",
   "metadata": {},
   "outputs": [],
   "source": [
    "X = diabetes[features_col].values\n",
    "y = diabetes[\"Outcome\"].values"
   ]
  },
  {
   "cell_type": "code",
   "execution_count": 178,
   "id": "280c7c11-d171-41b3-82b3-5f7f94cb81d4",
   "metadata": {},
   "outputs": [],
   "source": [
    "X_train, X_test, Y_train, Y_test = train_test_split(X,y,test_size = 0.25, random_state=0)"
   ]
  },
  {
   "cell_type": "code",
   "execution_count": 179,
   "id": "a6ea895d-00ad-4445-a215-d72563534d3e",
   "metadata": {},
   "outputs": [
    {
     "data": {
      "text/plain": [
       "LogisticRegression(max_iter=1000)"
      ]
     },
     "execution_count": 179,
     "metadata": {},
     "output_type": "execute_result"
    }
   ],
   "source": [
    "log_model = LogisticRegression(solver='lbfgs', max_iter=1000)\n",
    "log_model.fit(X_train,Y_train)"
   ]
  },
  {
   "cell_type": "code",
   "execution_count": 180,
   "id": "2ecbb8df-0435-4475-8d09-171399884dc2",
   "metadata": {},
   "outputs": [],
   "source": [
    "y_pred  = log_model.predict(X_test)"
   ]
  },
  {
   "cell_type": "code",
   "execution_count": 181,
   "id": "f3653d92-0fb1-439f-bd2e-474d90bb04d0",
   "metadata": {},
   "outputs": [],
   "source": [
    "cnf_matrix = metrics.confusion_matrix(Y_test, y_pred)"
   ]
  },
  {
   "cell_type": "code",
   "execution_count": 182,
   "id": "292948c9-0d23-4ace-90e9-8a5df9e2e73e",
   "metadata": {},
   "outputs": [
    {
     "data": {
      "text/plain": [
       "Text(0.5, 257.44, 'Etiqueta de prediccion')"
      ]
     },
     "execution_count": 182,
     "metadata": {},
     "output_type": "execute_result"
    },
    {
     "data": {
      "image/png": "[encoded data removed]",
      "text/plain": [
       "<Figure size 432x288 with 2 Axes>"
      ]
     },
     "metadata": {
      "needs_background": "light"
     },
     "output_type": "display_data"
    }
   ],
   "source": [
    "import numpy as np\n",
    "class_names = [0,1]\n",
    "fig, ax = plt.subplots()\n",
    "tick_marks = np.arange(len(class_names))\n",
    "plt.xticks(tick_marks, class_names)\n",
    "plt.yticks(tick_marks, class_names)\n",
    "\n",
    "sns.heatmap(pd.DataFrame(cnf_matrix), annot = True, cmap=\"Blues_r\", fmt=\"g\")\n",
    "ax.xaxis.set_label_position(\"top\")\n",
    "plt.tight_layout()\n",
    "plt.title(\"Matriz de confusion\", y=1.1)\n",
    "plt.ylabel(\"Etiqueta Actual\")\n",
    "plt.xlabel(\"Etiqueta de prediccion\")"
   ]
  },
  {
   "cell_type": "code",
   "execution_count": 183,
   "id": "d3c27b13-33cc-4a25-8e4e-46926ea4c7ff",
   "metadata": {},
   "outputs": [
    {
     "data": {
      "text/plain": [
       "0.796875"
      ]
     },
     "execution_count": 183,
     "metadata": {},
     "output_type": "execute_result"
    }
   ],
   "source": [
    "metrics.accuracy_score(Y_test,y_pred)"
   ]
  },
  {
   "cell_type": "code",
   "execution_count": null,
   "id": "f2f0d483-0872-419d-9d32-0d02e198f4ba",
   "metadata": {},
   "outputs": [],
   "source": []
  }
 ],
 "metadata": {
  "kernelspec": {
   "display_name": "Python 3 (ipykernel)",
   "language": "python",
   "name": "python3"
  },
  "language_info": {
   "codemirror_mode": {
    "name": "ipython",
    "version": 3
   },
   "file_extension": ".py",
   "mimetype": "text/x-python",
   "name": "python",
   "nbconvert_exporter": "python",
   "pygments_lexer": "ipython3",
   "version": "3.9.7"
  }
 },
 "nbformat": 4,
 "nbformat_minor": 5
}
