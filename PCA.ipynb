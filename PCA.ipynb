{
 "cells": [
  {
   "cell_type": "code",
   "execution_count": 1,
   "id": "375a8084-c301-41fe-982f-bba7919350a9",
   "metadata": {},
   "outputs": [],
   "source": [
    "import pandas as pd\n",
    "import numpy as np"
   ]
  },
  {
   "cell_type": "code",
   "execution_count": 2,
   "id": "68211266-daa8-4fd6-a780-104fd45effa3",
   "metadata": {},
   "outputs": [],
   "source": [
    "import plotly.express as px"
   ]
  },
  {
   "cell_type": "code",
   "execution_count": 3,
   "id": "6166cfed-fe37-417b-9255-cd4536aa484e",
   "metadata": {},
   "outputs": [],
   "source": [
    "import matplotlib.pyplot as plt\n",
    "import seaborn as sns"
   ]
  },
  {
   "cell_type": "code",
   "execution_count": 4,
   "id": "e8cc9391-b2b0-4e00-a0f5-2f882fe15e86",
   "metadata": {},
   "outputs": [],
   "source": [
    "from sklearn.preprocessing import StandardScaler\n",
    "from sklearn.decomposition import PCA\n",
    "from sklearn.cluster import KMeans"
   ]
  },
  {
   "cell_type": "code",
   "execution_count": 5,
   "id": "6e76c15d-7512-486a-b59c-22905363c5e9",
   "metadata": {},
   "outputs": [],
   "source": [
    "wh2017 = pd.read_csv('2017.csv')"
   ]
  },
  {
   "cell_type": "code",
   "execution_count": 6,
   "id": "822de833-afee-4b78-ae28-d3f211fa39c3",
   "metadata": {},
   "outputs": [
    {
     "data": {
      "text/html": [
       "<div>\n",
       "<style scoped>\n",
       "    .dataframe tbody tr th:only-of-type {\n",
       "        vertical-align: middle;\n",
       "    }\n",
       "\n",
       "    .dataframe tbody tr th {\n",
       "        vertical-align: top;\n",
       "    }\n",
       "\n",
       "    .dataframe thead th {\n",
       "        text-align: right;\n",
       "    }\n",
       "</style>\n",
       "<table border=\"1\" class=\"dataframe\">\n",
       "  <thead>\n",
       "    <tr style=\"text-align: right;\">\n",
       "      <th></th>\n",
       "      <th>Happiness.Rank</th>\n",
       "      <th>Happiness.Score</th>\n",
       "      <th>Whisker.high</th>\n",
       "      <th>Whisker.low</th>\n",
       "      <th>Economy..GDP.per.Capita.</th>\n",
       "      <th>Family</th>\n",
       "      <th>Health..Life.Expectancy.</th>\n",
       "      <th>Freedom</th>\n",
       "      <th>Generosity</th>\n",
       "      <th>Trust..Government.Corruption.</th>\n",
       "      <th>Dystopia.Residual</th>\n",
       "    </tr>\n",
       "  </thead>\n",
       "  <tbody>\n",
       "    <tr>\n",
       "      <th>count</th>\n",
       "      <td>155.000000</td>\n",
       "      <td>155.000000</td>\n",
       "      <td>155.000000</td>\n",
       "      <td>155.000000</td>\n",
       "      <td>155.000000</td>\n",
       "      <td>155.000000</td>\n",
       "      <td>155.000000</td>\n",
       "      <td>155.000000</td>\n",
       "      <td>155.000000</td>\n",
       "      <td>155.000000</td>\n",
       "      <td>155.000000</td>\n",
       "    </tr>\n",
       "    <tr>\n",
       "      <th>mean</th>\n",
       "      <td>78.000000</td>\n",
       "      <td>5.354019</td>\n",
       "      <td>5.452326</td>\n",
       "      <td>5.255713</td>\n",
       "      <td>0.984718</td>\n",
       "      <td>1.188898</td>\n",
       "      <td>0.551341</td>\n",
       "      <td>0.408786</td>\n",
       "      <td>0.246883</td>\n",
       "      <td>0.123120</td>\n",
       "      <td>1.850238</td>\n",
       "    </tr>\n",
       "    <tr>\n",
       "      <th>std</th>\n",
       "      <td>44.888751</td>\n",
       "      <td>1.131230</td>\n",
       "      <td>1.118542</td>\n",
       "      <td>1.145030</td>\n",
       "      <td>0.420793</td>\n",
       "      <td>0.287263</td>\n",
       "      <td>0.237073</td>\n",
       "      <td>0.149997</td>\n",
       "      <td>0.134780</td>\n",
       "      <td>0.101661</td>\n",
       "      <td>0.500028</td>\n",
       "    </tr>\n",
       "    <tr>\n",
       "      <th>min</th>\n",
       "      <td>1.000000</td>\n",
       "      <td>2.693000</td>\n",
       "      <td>2.864884</td>\n",
       "      <td>2.521116</td>\n",
       "      <td>0.000000</td>\n",
       "      <td>0.000000</td>\n",
       "      <td>0.000000</td>\n",
       "      <td>0.000000</td>\n",
       "      <td>0.000000</td>\n",
       "      <td>0.000000</td>\n",
       "      <td>0.377914</td>\n",
       "    </tr>\n",
       "    <tr>\n",
       "      <th>25%</th>\n",
       "      <td>39.500000</td>\n",
       "      <td>4.505500</td>\n",
       "      <td>4.608172</td>\n",
       "      <td>4.374955</td>\n",
       "      <td>0.663371</td>\n",
       "      <td>1.042635</td>\n",
       "      <td>0.369866</td>\n",
       "      <td>0.303677</td>\n",
       "      <td>0.154106</td>\n",
       "      <td>0.057271</td>\n",
       "      <td>1.591291</td>\n",
       "    </tr>\n",
       "    <tr>\n",
       "      <th>50%</th>\n",
       "      <td>78.000000</td>\n",
       "      <td>5.279000</td>\n",
       "      <td>5.370032</td>\n",
       "      <td>5.193152</td>\n",
       "      <td>1.064578</td>\n",
       "      <td>1.253918</td>\n",
       "      <td>0.606042</td>\n",
       "      <td>0.437454</td>\n",
       "      <td>0.231538</td>\n",
       "      <td>0.089848</td>\n",
       "      <td>1.832910</td>\n",
       "    </tr>\n",
       "    <tr>\n",
       "      <th>75%</th>\n",
       "      <td>116.500000</td>\n",
       "      <td>6.101500</td>\n",
       "      <td>6.194600</td>\n",
       "      <td>6.006527</td>\n",
       "      <td>1.318027</td>\n",
       "      <td>1.414316</td>\n",
       "      <td>0.723008</td>\n",
       "      <td>0.516561</td>\n",
       "      <td>0.323762</td>\n",
       "      <td>0.153296</td>\n",
       "      <td>2.144654</td>\n",
       "    </tr>\n",
       "    <tr>\n",
       "      <th>max</th>\n",
       "      <td>155.000000</td>\n",
       "      <td>7.537000</td>\n",
       "      <td>7.622030</td>\n",
       "      <td>7.479556</td>\n",
       "      <td>1.870766</td>\n",
       "      <td>1.610574</td>\n",
       "      <td>0.949492</td>\n",
       "      <td>0.658249</td>\n",
       "      <td>0.838075</td>\n",
       "      <td>0.464308</td>\n",
       "      <td>3.117485</td>\n",
       "    </tr>\n",
       "  </tbody>\n",
       "</table>\n",
       "</div>"
      ],
      "text/plain": [
       "       Happiness.Rank  Happiness.Score  Whisker.high  Whisker.low  \\\n",
       "count      155.000000       155.000000    155.000000   155.000000   \n",
       "mean        78.000000         5.354019      5.452326     5.255713   \n",
       "std         44.888751         1.131230      1.118542     1.145030   \n",
       "min          1.000000         2.693000      2.864884     2.521116   \n",
       "25%         39.500000         4.505500      4.608172     4.374955   \n",
       "50%         78.000000         5.279000      5.370032     5.193152   \n",
       "75%        116.500000         6.101500      6.194600     6.006527   \n",
       "max        155.000000         7.537000      7.622030     7.479556   \n",
       "\n",
       "       Economy..GDP.per.Capita.      Family  Health..Life.Expectancy.  \\\n",
       "count                155.000000  155.000000                155.000000   \n",
       "mean                   0.984718    1.188898                  0.551341   \n",
       "std                    0.420793    0.287263                  0.237073   \n",
       "min                    0.000000    0.000000                  0.000000   \n",
       "25%                    0.663371    1.042635                  0.369866   \n",
       "50%                    1.064578    1.253918                  0.606042   \n",
       "75%                    1.318027    1.414316                  0.723008   \n",
       "max                    1.870766    1.610574                  0.949492   \n",
       "\n",
       "          Freedom  Generosity  Trust..Government.Corruption.  \\\n",
       "count  155.000000  155.000000                     155.000000   \n",
       "mean     0.408786    0.246883                       0.123120   \n",
       "std      0.149997    0.134780                       0.101661   \n",
       "min      0.000000    0.000000                       0.000000   \n",
       "25%      0.303677    0.154106                       0.057271   \n",
       "50%      0.437454    0.231538                       0.089848   \n",
       "75%      0.516561    0.323762                       0.153296   \n",
       "max      0.658249    0.838075                       0.464308   \n",
       "\n",
       "       Dystopia.Residual  \n",
       "count         155.000000  \n",
       "mean            1.850238  \n",
       "std             0.500028  \n",
       "min             0.377914  \n",
       "25%             1.591291  \n",
       "50%             1.832910  \n",
       "75%             2.144654  \n",
       "max             3.117485  "
      ]
     },
     "execution_count": 6,
     "metadata": {},
     "output_type": "execute_result"
    }
   ],
   "source": [
    "wh2017.describe()"
   ]
  },
  {
   "cell_type": "code",
   "execution_count": 7,
   "id": "d3a141f4-6d7c-4e58-8a17-248271f131fb",
   "metadata": {},
   "outputs": [
    {
     "data": {
      "text/plain": [
       "{'whiskers': [<matplotlib.lines.Line2D at 0x1ec6c248130>,\n",
       "  <matplotlib.lines.Line2D at 0x1ec6c248490>],\n",
       " 'caps': [<matplotlib.lines.Line2D at 0x1ec6c2487f0>,\n",
       "  <matplotlib.lines.Line2D at 0x1ec6c248b50>],\n",
       " 'boxes': [<matplotlib.lines.Line2D at 0x1ec6c231df0>],\n",
       " 'medians': [<matplotlib.lines.Line2D at 0x1ec6c248eb0>],\n",
       " 'fliers': [<matplotlib.lines.Line2D at 0x1ec6c252250>],\n",
       " 'means': []}"
      ]
     },
     "execution_count": 7,
     "metadata": {},
     "output_type": "execute_result"
    },
    {
     "data": {
      "image/png": "[encoded data removed]",
      "text/plain": [
       "<Figure size 432x288 with 1 Axes>"
      ]
     },
     "metadata": {
      "needs_background": "light"
     },
     "output_type": "display_data"
    }
   ],
   "source": [
    "plt.boxplot( wh2017['Happiness.Rank'] )"
   ]
  },
  {
   "cell_type": "code",
   "execution_count": 8,
   "id": "49746d33-b23a-4351-b81e-dd829795d064",
   "metadata": {},
   "outputs": [
    {
     "data": {
      "text/plain": [
       "<AxesSubplot:>"
      ]
     },
     "execution_count": 8,
     "metadata": {},
     "output_type": "execute_result"
    },
    {
     "data": {
      "image/png": "[encoded data removed]",
      "text/plain": [
       "<Figure size 432x288 with 1 Axes>"
      ]
     },
     "metadata": {
      "needs_background": "light"
     },
     "output_type": "display_data"
    }
   ],
   "source": [
    "wh2017['Happiness.Rank'].hist( bins = 40 )"
   ]
  },
  {
   "cell_type": "markdown",
   "id": "83a89f6d-34ee-484c-90f0-08c859c87409",
   "metadata": {},
   "source": [
    "### Variance"
   ]
  },
  {
   "cell_type": "code",
   "execution_count": 9,
   "id": "014c0423-1d52-4edd-82b1-4cd626b58e62",
   "metadata": {},
   "outputs": [
    {
     "data": {
      "text/plain": [
       "126.66666666666667"
      ]
     },
     "execution_count": 9,
     "metadata": {},
     "output_type": "execute_result"
    }
   ],
   "source": [
    "np.var(wh2017.loc[0:38,'Happiness.Rank'])"
   ]
  },
  {
   "cell_type": "code",
   "execution_count": 10,
   "id": "baeca1a0-4fbd-4a21-8620-79101baabe08",
   "metadata": {},
   "outputs": [
    {
     "data": {
      "text/plain": [
       "126.66666666666667"
      ]
     },
     "execution_count": 10,
     "metadata": {},
     "output_type": "execute_result"
    }
   ],
   "source": [
    "np.var(wh2017.loc[39:77,'Happiness.Rank'])"
   ]
  },
  {
   "cell_type": "code",
   "execution_count": 11,
   "id": "3e5e5f22-41ff-4816-8020-089046781365",
   "metadata": {},
   "outputs": [
    {
     "data": {
      "text/plain": [
       "126.66666666666667"
      ]
     },
     "execution_count": 11,
     "metadata": {},
     "output_type": "execute_result"
    }
   ],
   "source": [
    "np.var(wh2017.loc[78:116,'Happiness.Rank'])"
   ]
  },
  {
   "cell_type": "code",
   "execution_count": 12,
   "id": "90ff4397-2fcd-4ca4-9984-f83072160899",
   "metadata": {},
   "outputs": [
    {
     "data": {
      "text/plain": [
       "120.25"
      ]
     },
     "execution_count": 12,
     "metadata": {},
     "output_type": "execute_result"
    }
   ],
   "source": [
    "np.var(wh2017.loc[117:,'Happiness.Rank'])"
   ]
  },
  {
   "cell_type": "code",
   "execution_count": 13,
   "id": "f50e1b12-b764-42ae-b381-c9a17ed7c068",
   "metadata": {},
   "outputs": [
    {
     "data": {
      "text/plain": [
       "11.254628677422755"
      ]
     },
     "execution_count": 13,
     "metadata": {},
     "output_type": "execute_result"
    }
   ],
   "source": [
    "np.std(wh2017.loc[0:38,'Happiness.Rank'])"
   ]
  },
  {
   "cell_type": "markdown",
   "id": "bce249fb-675f-46f6-ac8f-6828ac5eb99b",
   "metadata": {},
   "source": [
    "## Correlaciones"
   ]
  },
  {
   "cell_type": "code",
   "execution_count": 14,
   "id": "58b39f0e-f31d-4fd1-9da7-49d13b745a64",
   "metadata": {},
   "outputs": [],
   "source": [
    "wh2017['Happiness.Score.x.2'] = wh2017['Happiness.Score'] * 2"
   ]
  },
  {
   "cell_type": "code",
   "execution_count": 15,
   "id": "47e5e103-c43d-40f1-aa5e-57b509a4f7f1",
   "metadata": {},
   "outputs": [
    {
     "data": {
      "text/plain": [
       "Index(['Country', 'Happiness.Rank', 'Happiness.Score', 'Whisker.high',\n",
       "       'Whisker.low', 'Economy..GDP.per.Capita.', 'Family',\n",
       "       'Health..Life.Expectancy.', 'Freedom', 'Generosity',\n",
       "       'Trust..Government.Corruption.', 'Dystopia.Residual',\n",
       "       'Happiness.Score.x.2'],\n",
       "      dtype='object')"
      ]
     },
     "execution_count": 15,
     "metadata": {},
     "output_type": "execute_result"
    }
   ],
   "source": [
    "wh2017.columns"
   ]
  },
  {
   "cell_type": "code",
   "execution_count": 16,
   "id": "6fc49753-709c-4997-b093-345a29226eb1",
   "metadata": {},
   "outputs": [],
   "source": [
    "columns_to_use = ['Happiness.Score' ,'Whisker.high',\n",
    "       'Whisker.low', 'Economy..GDP.per.Capita.', 'Family',\n",
    "       'Health..Life.Expectancy.', 'Freedom', 'Generosity',\n",
    "       'Trust..Government.Corruption.', 'Dystopia.Residual']"
   ]
  },
  {
   "cell_type": "code",
   "execution_count": 195,
   "id": "826ed95e-6c3e-46ad-8c53-6091cfa7c7eb",
   "metadata": {},
   "outputs": [],
   "source": [
    "corr_use = wh2017.loc[ : , columns_to_use  ].corr()"
   ]
  },
  {
   "cell_type": "code",
   "execution_count": 196,
   "id": "e75d4c84-1b44-4b18-ace3-f41857473ba2",
   "metadata": {},
   "outputs": [
    {
     "data": {
      "text/html": [
       "<div>\n",
       "<style scoped>\n",
       "    .dataframe tbody tr th:only-of-type {\n",
       "        vertical-align: middle;\n",
       "    }\n",
       "\n",
       "    .dataframe tbody tr th {\n",
       "        vertical-align: top;\n",
       "    }\n",
       "\n",
       "    .dataframe thead th {\n",
       "        text-align: right;\n",
       "    }\n",
       "</style>\n",
       "<table border=\"1\" class=\"dataframe\">\n",
       "  <thead>\n",
       "    <tr style=\"text-align: right;\">\n",
       "      <th></th>\n",
       "      <th>Economy..GDP.per.Capita.</th>\n",
       "      <th>Family</th>\n",
       "      <th>Health..Life.Expectancy.</th>\n",
       "      <th>Freedom</th>\n",
       "      <th>Generosity</th>\n",
       "      <th>Trust..Government.Corruption.</th>\n",
       "      <th>Dystopia.Residual</th>\n",
       "    </tr>\n",
       "  </thead>\n",
       "  <tbody>\n",
       "    <tr>\n",
       "      <th>Economy..GDP.per.Capita.</th>\n",
       "      <td>1.000000</td>\n",
       "      <td>0.688296</td>\n",
       "      <td>0.843077</td>\n",
       "      <td>0.369873</td>\n",
       "      <td>-0.019011</td>\n",
       "      <td>0.350944</td>\n",
       "      <td>0.024226</td>\n",
       "    </tr>\n",
       "    <tr>\n",
       "      <th>Family</th>\n",
       "      <td>0.688296</td>\n",
       "      <td>1.000000</td>\n",
       "      <td>0.612080</td>\n",
       "      <td>0.424966</td>\n",
       "      <td>0.051693</td>\n",
       "      <td>0.231841</td>\n",
       "      <td>0.070506</td>\n",
       "    </tr>\n",
       "    <tr>\n",
       "      <th>Health..Life.Expectancy.</th>\n",
       "      <td>0.843077</td>\n",
       "      <td>0.612080</td>\n",
       "      <td>1.000000</td>\n",
       "      <td>0.349827</td>\n",
       "      <td>0.063191</td>\n",
       "      <td>0.279752</td>\n",
       "      <td>0.054963</td>\n",
       "    </tr>\n",
       "    <tr>\n",
       "      <th>Freedom</th>\n",
       "      <td>0.369873</td>\n",
       "      <td>0.424966</td>\n",
       "      <td>0.349827</td>\n",
       "      <td>1.000000</td>\n",
       "      <td>0.316083</td>\n",
       "      <td>0.499183</td>\n",
       "      <td>0.081926</td>\n",
       "    </tr>\n",
       "    <tr>\n",
       "      <th>Generosity</th>\n",
       "      <td>-0.019011</td>\n",
       "      <td>0.051693</td>\n",
       "      <td>0.063191</td>\n",
       "      <td>0.316083</td>\n",
       "      <td>1.000000</td>\n",
       "      <td>0.294159</td>\n",
       "      <td>-0.116627</td>\n",
       "    </tr>\n",
       "    <tr>\n",
       "      <th>Trust..Government.Corruption.</th>\n",
       "      <td>0.350944</td>\n",
       "      <td>0.231841</td>\n",
       "      <td>0.279752</td>\n",
       "      <td>0.499183</td>\n",
       "      <td>0.294159</td>\n",
       "      <td>1.000000</td>\n",
       "      <td>-0.022755</td>\n",
       "    </tr>\n",
       "    <tr>\n",
       "      <th>Dystopia.Residual</th>\n",
       "      <td>0.024226</td>\n",
       "      <td>0.070506</td>\n",
       "      <td>0.054963</td>\n",
       "      <td>0.081926</td>\n",
       "      <td>-0.116627</td>\n",
       "      <td>-0.022755</td>\n",
       "      <td>1.000000</td>\n",
       "    </tr>\n",
       "  </tbody>\n",
       "</table>\n",
       "</div>"
      ],
      "text/plain": [
       "                               Economy..GDP.per.Capita.    Family  \\\n",
       "Economy..GDP.per.Capita.                       1.000000  0.688296   \n",
       "Family                                         0.688296  1.000000   \n",
       "Health..Life.Expectancy.                       0.843077  0.612080   \n",
       "Freedom                                        0.369873  0.424966   \n",
       "Generosity                                    -0.019011  0.051693   \n",
       "Trust..Government.Corruption.                  0.350944  0.231841   \n",
       "Dystopia.Residual                              0.024226  0.070506   \n",
       "\n",
       "                               Health..Life.Expectancy.   Freedom  Generosity  \\\n",
       "Economy..GDP.per.Capita.                       0.843077  0.369873   -0.019011   \n",
       "Family                                         0.612080  0.424966    0.051693   \n",
       "Health..Life.Expectancy.                       1.000000  0.349827    0.063191   \n",
       "Freedom                                        0.349827  1.000000    0.316083   \n",
       "Generosity                                     0.063191  0.316083    1.000000   \n",
       "Trust..Government.Corruption.                  0.279752  0.499183    0.294159   \n",
       "Dystopia.Residual                              0.054963  0.081926   -0.116627   \n",
       "\n",
       "                               Trust..Government.Corruption.  \\\n",
       "Economy..GDP.per.Capita.                            0.350944   \n",
       "Family                                              0.231841   \n",
       "Health..Life.Expectancy.                            0.279752   \n",
       "Freedom                                             0.499183   \n",
       "Generosity                                          0.294159   \n",
       "Trust..Government.Corruption.                       1.000000   \n",
       "Dystopia.Residual                                  -0.022755   \n",
       "\n",
       "                               Dystopia.Residual  \n",
       "Economy..GDP.per.Capita.                0.024226  \n",
       "Family                                  0.070506  \n",
       "Health..Life.Expectancy.                0.054963  \n",
       "Freedom                                 0.081926  \n",
       "Generosity                             -0.116627  \n",
       "Trust..Government.Corruption.          -0.022755  \n",
       "Dystopia.Residual                       1.000000  "
      ]
     },
     "execution_count": 196,
     "metadata": {},
     "output_type": "execute_result"
    }
   ],
   "source": [
    "corr_use"
   ]
  },
  {
   "cell_type": "code",
   "execution_count": 197,
   "id": "b738c335-0f21-4365-ad11-3ad75e4825fe",
   "metadata": {},
   "outputs": [
    {
     "data": {
      "text/plain": [
       "<matplotlib.image.AxesImage at 0x1ec70e04070>"
      ]
     },
     "execution_count": 197,
     "metadata": {},
     "output_type": "execute_result"
    },
    {
     "data": {
      "image/png": "[encoded data removed]",
      "text/plain": [
       "<Figure size 288x288 with 1 Axes>"
      ]
     },
     "metadata": {
      "needs_background": "light"
     },
     "output_type": "display_data"
    }
   ],
   "source": [
    "plt.matshow( corr_use )"
   ]
  },
  {
   "cell_type": "code",
   "execution_count": 198,
   "id": "0efef4d2-409b-498e-94c7-72c44621847a",
   "metadata": {},
   "outputs": [
    {
     "name": "stderr",
     "output_type": "stream",
     "text": [
      "<ipython-input-198-e5e2d83d035b>:3: DeprecationWarning:\n",
      "\n",
      "`np.bool` is a deprecated alias for the builtin `bool`. To silence this warning, use `bool` by itself. Doing this will not modify any behavior and is safe. If you specifically wanted the numpy scalar type, use `np.bool_` here.\n",
      "Deprecated in NumPy 1.20; for more details and guidance: https://numpy.org/devdocs/release/1.20.0-notes.html#deprecations\n",
      "\n"
     ]
    },
    {
     "data": {
      "text/plain": [
       "<AxesSubplot:>"
      ]
     },
     "execution_count": 198,
     "metadata": {},
     "output_type": "execute_result"
    },
    {
     "data": {
      "image/png": "[encoded data removed]",
      "text/plain": [
       "<Figure size 720x576 with 2 Axes>"
      ]
     },
     "metadata": {
      "needs_background": "light"
     },
     "output_type": "display_data"
    }
   ],
   "source": [
    "f, ax = plt.subplots(figsize=(10, 8))\n",
    "\n",
    "sns.heatmap(corr_use, mask=np.zeros_like(corr_use, dtype=np.bool), cmap=sns.diverging_palette(220, 10, as_cmap=True),\n",
    "            square=True, ax=ax)\n"
   ]
  },
  {
   "cell_type": "code",
   "execution_count": 21,
   "id": "d6cf7093-566e-4a8f-b235-33088469e64b",
   "metadata": {},
   "outputs": [
    {
     "data": {
      "text/html": [
       "<div>\n",
       "<style scoped>\n",
       "    .dataframe tbody tr th:only-of-type {\n",
       "        vertical-align: middle;\n",
       "    }\n",
       "\n",
       "    .dataframe tbody tr th {\n",
       "        vertical-align: top;\n",
       "    }\n",
       "\n",
       "    .dataframe thead th {\n",
       "        text-align: right;\n",
       "    }\n",
       "</style>\n",
       "<table border=\"1\" class=\"dataframe\">\n",
       "  <thead>\n",
       "    <tr style=\"text-align: right;\">\n",
       "      <th></th>\n",
       "      <th>Country</th>\n",
       "      <th>Happiness.Rank</th>\n",
       "      <th>Happiness.Score</th>\n",
       "      <th>Whisker.high</th>\n",
       "      <th>Whisker.low</th>\n",
       "      <th>Economy..GDP.per.Capita.</th>\n",
       "      <th>Family</th>\n",
       "      <th>Health..Life.Expectancy.</th>\n",
       "      <th>Freedom</th>\n",
       "      <th>Generosity</th>\n",
       "      <th>Trust..Government.Corruption.</th>\n",
       "      <th>Dystopia.Residual</th>\n",
       "      <th>Happiness.Score.x.2</th>\n",
       "    </tr>\n",
       "  </thead>\n",
       "  <tbody>\n",
       "    <tr>\n",
       "      <th>0</th>\n",
       "      <td>Norway</td>\n",
       "      <td>1</td>\n",
       "      <td>7.537</td>\n",
       "      <td>7.594445</td>\n",
       "      <td>7.479556</td>\n",
       "      <td>1.616463</td>\n",
       "      <td>1.533524</td>\n",
       "      <td>0.796667</td>\n",
       "      <td>0.635423</td>\n",
       "      <td>0.362012</td>\n",
       "      <td>0.315964</td>\n",
       "      <td>2.277027</td>\n",
       "      <td>15.074</td>\n",
       "    </tr>\n",
       "    <tr>\n",
       "      <th>1</th>\n",
       "      <td>Denmark</td>\n",
       "      <td>2</td>\n",
       "      <td>7.522</td>\n",
       "      <td>7.581728</td>\n",
       "      <td>7.462272</td>\n",
       "      <td>1.482383</td>\n",
       "      <td>1.551122</td>\n",
       "      <td>0.792566</td>\n",
       "      <td>0.626007</td>\n",
       "      <td>0.355280</td>\n",
       "      <td>0.400770</td>\n",
       "      <td>2.313707</td>\n",
       "      <td>15.044</td>\n",
       "    </tr>\n",
       "    <tr>\n",
       "      <th>2</th>\n",
       "      <td>Iceland</td>\n",
       "      <td>3</td>\n",
       "      <td>7.504</td>\n",
       "      <td>7.622030</td>\n",
       "      <td>7.385970</td>\n",
       "      <td>1.480633</td>\n",
       "      <td>1.610574</td>\n",
       "      <td>0.833552</td>\n",
       "      <td>0.627163</td>\n",
       "      <td>0.475540</td>\n",
       "      <td>0.153527</td>\n",
       "      <td>2.322715</td>\n",
       "      <td>15.008</td>\n",
       "    </tr>\n",
       "    <tr>\n",
       "      <th>3</th>\n",
       "      <td>Switzerland</td>\n",
       "      <td>4</td>\n",
       "      <td>7.494</td>\n",
       "      <td>7.561772</td>\n",
       "      <td>7.426227</td>\n",
       "      <td>1.564980</td>\n",
       "      <td>1.516912</td>\n",
       "      <td>0.858131</td>\n",
       "      <td>0.620071</td>\n",
       "      <td>0.290549</td>\n",
       "      <td>0.367007</td>\n",
       "      <td>2.276716</td>\n",
       "      <td>14.988</td>\n",
       "    </tr>\n",
       "    <tr>\n",
       "      <th>4</th>\n",
       "      <td>Finland</td>\n",
       "      <td>5</td>\n",
       "      <td>7.469</td>\n",
       "      <td>7.527542</td>\n",
       "      <td>7.410458</td>\n",
       "      <td>1.443572</td>\n",
       "      <td>1.540247</td>\n",
       "      <td>0.809158</td>\n",
       "      <td>0.617951</td>\n",
       "      <td>0.245483</td>\n",
       "      <td>0.382612</td>\n",
       "      <td>2.430182</td>\n",
       "      <td>14.938</td>\n",
       "    </tr>\n",
       "    <tr>\n",
       "      <th>...</th>\n",
       "      <td>...</td>\n",
       "      <td>...</td>\n",
       "      <td>...</td>\n",
       "      <td>...</td>\n",
       "      <td>...</td>\n",
       "      <td>...</td>\n",
       "      <td>...</td>\n",
       "      <td>...</td>\n",
       "      <td>...</td>\n",
       "      <td>...</td>\n",
       "      <td>...</td>\n",
       "      <td>...</td>\n",
       "      <td>...</td>\n",
       "    </tr>\n",
       "    <tr>\n",
       "      <th>150</th>\n",
       "      <td>Rwanda</td>\n",
       "      <td>151</td>\n",
       "      <td>3.471</td>\n",
       "      <td>3.543030</td>\n",
       "      <td>3.398970</td>\n",
       "      <td>0.368746</td>\n",
       "      <td>0.945707</td>\n",
       "      <td>0.326425</td>\n",
       "      <td>0.581844</td>\n",
       "      <td>0.252756</td>\n",
       "      <td>0.455220</td>\n",
       "      <td>0.540061</td>\n",
       "      <td>6.942</td>\n",
       "    </tr>\n",
       "    <tr>\n",
       "      <th>151</th>\n",
       "      <td>Syria</td>\n",
       "      <td>152</td>\n",
       "      <td>3.462</td>\n",
       "      <td>3.663669</td>\n",
       "      <td>3.260331</td>\n",
       "      <td>0.777153</td>\n",
       "      <td>0.396103</td>\n",
       "      <td>0.500533</td>\n",
       "      <td>0.081539</td>\n",
       "      <td>0.493664</td>\n",
       "      <td>0.151347</td>\n",
       "      <td>1.061574</td>\n",
       "      <td>6.924</td>\n",
       "    </tr>\n",
       "    <tr>\n",
       "      <th>152</th>\n",
       "      <td>Tanzania</td>\n",
       "      <td>153</td>\n",
       "      <td>3.349</td>\n",
       "      <td>3.461430</td>\n",
       "      <td>3.236570</td>\n",
       "      <td>0.511136</td>\n",
       "      <td>1.041990</td>\n",
       "      <td>0.364509</td>\n",
       "      <td>0.390018</td>\n",
       "      <td>0.354256</td>\n",
       "      <td>0.066035</td>\n",
       "      <td>0.621130</td>\n",
       "      <td>6.698</td>\n",
       "    </tr>\n",
       "    <tr>\n",
       "      <th>153</th>\n",
       "      <td>Burundi</td>\n",
       "      <td>154</td>\n",
       "      <td>2.905</td>\n",
       "      <td>3.074690</td>\n",
       "      <td>2.735310</td>\n",
       "      <td>0.091623</td>\n",
       "      <td>0.629794</td>\n",
       "      <td>0.151611</td>\n",
       "      <td>0.059901</td>\n",
       "      <td>0.204435</td>\n",
       "      <td>0.084148</td>\n",
       "      <td>1.683024</td>\n",
       "      <td>5.810</td>\n",
       "    </tr>\n",
       "    <tr>\n",
       "      <th>154</th>\n",
       "      <td>Central African Republic</td>\n",
       "      <td>155</td>\n",
       "      <td>2.693</td>\n",
       "      <td>2.864884</td>\n",
       "      <td>2.521116</td>\n",
       "      <td>0.000000</td>\n",
       "      <td>0.000000</td>\n",
       "      <td>0.018773</td>\n",
       "      <td>0.270842</td>\n",
       "      <td>0.280876</td>\n",
       "      <td>0.056565</td>\n",
       "      <td>2.066005</td>\n",
       "      <td>5.386</td>\n",
       "    </tr>\n",
       "  </tbody>\n",
       "</table>\n",
       "<p>155 rows × 13 columns</p>\n",
       "</div>"
      ],
      "text/plain": [
       "                      Country  Happiness.Rank  Happiness.Score  Whisker.high  \\\n",
       "0                      Norway               1            7.537      7.594445   \n",
       "1                     Denmark               2            7.522      7.581728   \n",
       "2                     Iceland               3            7.504      7.622030   \n",
       "3                 Switzerland               4            7.494      7.561772   \n",
       "4                     Finland               5            7.469      7.527542   \n",
       "..                        ...             ...              ...           ...   \n",
       "150                    Rwanda             151            3.471      3.543030   \n",
       "151                     Syria             152            3.462      3.663669   \n",
       "152                  Tanzania             153            3.349      3.461430   \n",
       "153                   Burundi             154            2.905      3.074690   \n",
       "154  Central African Republic             155            2.693      2.864884   \n",
       "\n",
       "     Whisker.low  Economy..GDP.per.Capita.    Family  \\\n",
       "0       7.479556                  1.616463  1.533524   \n",
       "1       7.462272                  1.482383  1.551122   \n",
       "2       7.385970                  1.480633  1.610574   \n",
       "3       7.426227                  1.564980  1.516912   \n",
       "4       7.410458                  1.443572  1.540247   \n",
       "..           ...                       ...       ...   \n",
       "150     3.398970                  0.368746  0.945707   \n",
       "151     3.260331                  0.777153  0.396103   \n",
       "152     3.236570                  0.511136  1.041990   \n",
       "153     2.735310                  0.091623  0.629794   \n",
       "154     2.521116                  0.000000  0.000000   \n",
       "\n",
       "     Health..Life.Expectancy.   Freedom  Generosity  \\\n",
       "0                    0.796667  0.635423    0.362012   \n",
       "1                    0.792566  0.626007    0.355280   \n",
       "2                    0.833552  0.627163    0.475540   \n",
       "3                    0.858131  0.620071    0.290549   \n",
       "4                    0.809158  0.617951    0.245483   \n",
       "..                        ...       ...         ...   \n",
       "150                  0.326425  0.581844    0.252756   \n",
       "151                  0.500533  0.081539    0.493664   \n",
       "152                  0.364509  0.390018    0.354256   \n",
       "153                  0.151611  0.059901    0.204435   \n",
       "154                  0.018773  0.270842    0.280876   \n",
       "\n",
       "     Trust..Government.Corruption.  Dystopia.Residual  Happiness.Score.x.2  \n",
       "0                         0.315964           2.277027               15.074  \n",
       "1                         0.400770           2.313707               15.044  \n",
       "2                         0.153527           2.322715               15.008  \n",
       "3                         0.367007           2.276716               14.988  \n",
       "4                         0.382612           2.430182               14.938  \n",
       "..                             ...                ...                  ...  \n",
       "150                       0.455220           0.540061                6.942  \n",
       "151                       0.151347           1.061574                6.924  \n",
       "152                       0.066035           0.621130                6.698  \n",
       "153                       0.084148           1.683024                5.810  \n",
       "154                       0.056565           2.066005                5.386  \n",
       "\n",
       "[155 rows x 13 columns]"
      ]
     },
     "execution_count": 21,
     "metadata": {},
     "output_type": "execute_result"
    }
   ],
   "source": [
    "wh2017"
   ]
  },
  {
   "cell_type": "code",
   "execution_count": 22,
   "id": "e22d97ad-7217-4ccd-921d-26ad45ae304d",
   "metadata": {},
   "outputs": [
    {
     "data": {
      "text/plain": [
       "0      7.594445\n",
       "1      7.581728\n",
       "2      7.622030\n",
       "3      7.561772\n",
       "4      7.527542\n",
       "         ...   \n",
       "150    3.543030\n",
       "151    3.663669\n",
       "152    3.461430\n",
       "153    3.074690\n",
       "154    2.864884\n",
       "Name: Whisker.high, Length: 155, dtype: float64"
      ]
     },
     "execution_count": 22,
     "metadata": {},
     "output_type": "execute_result"
    }
   ],
   "source": [
    "wh2017['Whisker.high']"
   ]
  },
  {
   "cell_type": "code",
   "execution_count": 23,
   "id": "1799da74-fdf8-4e6c-80bb-3486ba4432ce",
   "metadata": {},
   "outputs": [
    {
     "data": {
      "text/plain": [
       "0      7.479556\n",
       "1      7.462272\n",
       "2      7.385970\n",
       "3      7.426227\n",
       "4      7.410458\n",
       "         ...   \n",
       "150    3.398970\n",
       "151    3.260331\n",
       "152    3.236570\n",
       "153    2.735310\n",
       "154    2.521116\n",
       "Name: Whisker.low, Length: 155, dtype: float64"
      ]
     },
     "execution_count": 23,
     "metadata": {},
     "output_type": "execute_result"
    }
   ],
   "source": [
    "wh2017['Whisker.low']"
   ]
  },
  {
   "cell_type": "code",
   "execution_count": 24,
   "id": "8848bab0-8b04-403f-82c9-8fc544490fbe",
   "metadata": {},
   "outputs": [],
   "source": [
    "def print_scatter(df, x_label, y_label):\n",
    "    N = 155\n",
    "    x = df[x_label]\n",
    "    y = df[y_label]\n",
    "    colors = np.random.rand(N)\n",
    "    #area = (30 * np.random.rand(N))**2  # 0 to 15 point radii\n",
    "\n",
    "    plt.scatter(x, y, c=colors, alpha=0.5)\n",
    "    plt.show()"
   ]
  },
  {
   "cell_type": "code",
   "execution_count": 25,
   "id": "79572895-ff54-4810-a669-3f12009bf76f",
   "metadata": {},
   "outputs": [
    {
     "data": {
      "image/png": "[encoded data removed]",
      "text/plain": [
       "<Figure size 432x288 with 1 Axes>"
      ]
     },
     "metadata": {
      "needs_background": "light"
     },
     "output_type": "display_data"
    }
   ],
   "source": [
    "print_scatter(wh2017, 'Health..Life.Expectancy.', 'Economy..GDP.per.Capita.')"
   ]
  },
  {
   "cell_type": "markdown",
   "id": "ce1e32eb-3cd4-417b-90c3-72bc7057f90b",
   "metadata": {},
   "source": [
    "## PCA"
   ]
  },
  {
   "cell_type": "code",
   "execution_count": 194,
   "id": "9711a873-bc43-49b9-85f0-70aed6901330",
   "metadata": {},
   "outputs": [],
   "source": [
    "columns_to_use = ['Economy..GDP.per.Capita.', 'Family',\n",
    "       'Health..Life.Expectancy.', 'Freedom', 'Generosity',\n",
    "       'Trust..Government.Corruption.', 'Dystopia.Residual']"
   ]
  },
  {
   "cell_type": "code",
   "execution_count": 199,
   "id": "4e9004fd-5b94-4cf6-a799-6dbe94f79051",
   "metadata": {},
   "outputs": [],
   "source": [
    "x  = wh2017.loc[ : , columns_to_use ].values"
   ]
  },
  {
   "cell_type": "code",
   "execution_count": 200,
   "id": "ff8fb7a0-683b-4638-b94c-22bd3dd16ebc",
   "metadata": {},
   "outputs": [
    {
     "data": {
      "text/plain": [
       "array([[ 1.50618765,  1.20357658,  1.03816652, ...,  0.8569643 ,\n",
       "         1.90308437,  0.85629599],\n",
       "       [ 1.18651768,  1.26503623,  1.02081205, ...,  0.80685634,\n",
       "         2.73999784,  0.92989102],\n",
       "       [ 1.1823454 ,  1.47266877,  1.19425865, ...,  1.70201314,\n",
       "         0.30006609,  0.94796425],\n",
       "       ...,\n",
       "       [-1.12910094, -0.51306362, -0.79063135, ...,  0.79923322,\n",
       "        -0.56334657, -2.4660431 ],\n",
       "       [-2.12929212, -1.95262416, -1.69157271, ..., -0.31596505,\n",
       "        -0.38459935, -0.33549229],\n",
       "       [-2.34773594, -4.15212515, -2.25371546, ...,  0.253028  ,\n",
       "        -0.65680192,  0.43290816]])"
      ]
     },
     "execution_count": 200,
     "metadata": {},
     "output_type": "execute_result"
    }
   ],
   "source": [
    "StandardScaler().fit_transform(x)"
   ]
  },
  {
   "cell_type": "code",
   "execution_count": 201,
   "id": "1304da22-1e53-429b-9dc0-c75fee21f3f5",
   "metadata": {},
   "outputs": [],
   "source": [
    "pca = PCA(n_components=2)"
   ]
  },
  {
   "cell_type": "code",
   "execution_count": 202,
   "id": "7bb46bce-a7fb-4e0b-9c74-1264838e226f",
   "metadata": {},
   "outputs": [],
   "source": [
    "principalComponents = pca.fit_transform(x)"
   ]
  },
  {
   "cell_type": "code",
   "execution_count": 203,
   "id": "d858c8c2-59fc-4d4f-8aec-d5fa59f532bf",
   "metadata": {},
   "outputs": [],
   "source": [
    "pcadf = pd.DataFrame(data=principalComponents , columns=['c1','c2'])"
   ]
  },
  {
   "cell_type": "code",
   "execution_count": 204,
   "id": "77de7855-55bd-44f7-9b21-622d8d5ea8bc",
   "metadata": {},
   "outputs": [
    {
     "data": {
      "image/png": "[encoded data removed]",
      "text/plain": [
       "<Figure size 432x288 with 1 Axes>"
      ]
     },
     "metadata": {
      "needs_background": "light"
     },
     "output_type": "display_data"
    }
   ],
   "source": [
    "print_scatter(pcadf, 'c1', 'c2')"
   ]
  },
  {
   "cell_type": "code",
   "execution_count": 206,
   "id": "6a7775a8-a61e-4beb-8eb8-97892a1a54b8",
   "metadata": {},
   "outputs": [],
   "source": [
    "kmeans = KMeans(n_clusters=2).fit(pcadf)"
   ]
  },
  {
   "cell_type": "code",
   "execution_count": 207,
   "id": "41c8b9bb-d3e6-4a3a-a09b-3b8c5d4074e2",
   "metadata": {},
   "outputs": [
    {
     "data": {
      "text/plain": [
       "array([[ 0.5279408 ,  0.01789654],\n",
       "       [-0.38129058, -0.01292528]])"
      ]
     },
     "execution_count": 207,
     "metadata": {},
     "output_type": "execute_result"
    }
   ],
   "source": [
    "centroids = kmeans.cluster_centers_\n",
    "centroids"
   ]
  },
  {
   "cell_type": "code",
   "execution_count": 208,
   "id": "12e590cc-1aed-474a-8090-2a28033b300b",
   "metadata": {},
   "outputs": [
    {
     "data": {
      "image/png": "[encoded data removed]",
      "text/plain": [
       "<Figure size 432x288 with 1 Axes>"
      ]
     },
     "metadata": {
      "needs_background": "light"
     },
     "output_type": "display_data"
    }
   ],
   "source": [
    "plt.scatter(pcadf['c1'], pcadf['c2'], c= kmeans.labels_.astype(float), s=50, alpha=0.5)\n",
    "plt.scatter(centroids[:, 0], centroids[:, 1], c='red', s=50)\n",
    "plt.show()"
   ]
  },
  {
   "cell_type": "code",
   "execution_count": 209,
   "id": "d06827f7-7cfa-4190-928b-376365689a0d",
   "metadata": {},
   "outputs": [],
   "source": [
    "final_df = wh2017.loc[ : , columns_to_use ]"
   ]
  },
  {
   "cell_type": "code",
   "execution_count": 210,
   "id": "cf0bcc51-01a1-456d-99fe-f45039a89aa3",
   "metadata": {},
   "outputs": [
    {
     "data": {
      "text/plain": [
       "array([1, 1, 1, 1, 1, 1, 1, 1, 1, 1, 1, 1, 1, 1, 1, 1, 1, 1, 1, 1, 1, 1,\n",
       "       1, 1, 1, 1, 1, 1, 1, 1, 1, 1, 1, 1, 1, 1, 1, 1, 1, 1, 1, 1, 1, 1,\n",
       "       1, 1, 1, 1, 1, 1, 1, 1, 1, 1, 1, 1, 1, 1, 1, 1, 1, 1, 1, 1, 1, 1,\n",
       "       1, 1, 1, 1, 1, 1, 1, 1, 1, 1, 1, 1, 1, 0, 0, 1, 1, 1, 1, 1, 1, 1,\n",
       "       1, 1, 0, 1, 0, 0, 0, 0, 0, 0, 0, 0, 0, 0, 0, 0, 1, 0, 0, 0, 0, 0,\n",
       "       0, 0, 0, 0, 0, 0, 0, 0, 0, 0, 0, 0, 0, 0, 0, 0, 0, 0, 0, 0, 0, 0,\n",
       "       0, 0, 0, 0, 0, 0, 0, 0, 0, 0, 0, 0, 0, 0, 0, 0, 0, 0, 0, 0, 0, 0,\n",
       "       0])"
      ]
     },
     "execution_count": 210,
     "metadata": {},
     "output_type": "execute_result"
    }
   ],
   "source": [
    "kmeans.labels_"
   ]
  },
  {
   "cell_type": "code",
   "execution_count": 211,
   "id": "0817e869-34df-4c05-9a87-fb3a9e9cc259",
   "metadata": {},
   "outputs": [],
   "source": [
    "final_df[\"cluster\"] = kmeans.labels_\n",
    "final_df.cluster = final_df.cluster.astype(str)"
   ]
  },
  {
   "cell_type": "code",
   "execution_count": 212,
   "id": "b80d063b-c0b7-42d4-8601-73288613ba85",
   "metadata": {},
   "outputs": [
    {
     "data": {
      "text/html": [
       "<div>\n",
       "<style scoped>\n",
       "    .dataframe tbody tr th:only-of-type {\n",
       "        vertical-align: middle;\n",
       "    }\n",
       "\n",
       "    .dataframe tbody tr th {\n",
       "        vertical-align: top;\n",
       "    }\n",
       "\n",
       "    .dataframe thead th {\n",
       "        text-align: right;\n",
       "    }\n",
       "</style>\n",
       "<table border=\"1\" class=\"dataframe\">\n",
       "  <thead>\n",
       "    <tr style=\"text-align: right;\">\n",
       "      <th></th>\n",
       "      <th>Economy..GDP.per.Capita.</th>\n",
       "      <th>Family</th>\n",
       "      <th>Health..Life.Expectancy.</th>\n",
       "      <th>Freedom</th>\n",
       "      <th>Generosity</th>\n",
       "      <th>Trust..Government.Corruption.</th>\n",
       "      <th>Dystopia.Residual</th>\n",
       "      <th>cluster</th>\n",
       "    </tr>\n",
       "  </thead>\n",
       "  <tbody>\n",
       "    <tr>\n",
       "      <th>0</th>\n",
       "      <td>1.616463</td>\n",
       "      <td>1.533524</td>\n",
       "      <td>0.796667</td>\n",
       "      <td>0.635423</td>\n",
       "      <td>0.362012</td>\n",
       "      <td>0.315964</td>\n",
       "      <td>2.277027</td>\n",
       "      <td>1</td>\n",
       "    </tr>\n",
       "    <tr>\n",
       "      <th>1</th>\n",
       "      <td>1.482383</td>\n",
       "      <td>1.551122</td>\n",
       "      <td>0.792566</td>\n",
       "      <td>0.626007</td>\n",
       "      <td>0.355280</td>\n",
       "      <td>0.400770</td>\n",
       "      <td>2.313707</td>\n",
       "      <td>1</td>\n",
       "    </tr>\n",
       "    <tr>\n",
       "      <th>2</th>\n",
       "      <td>1.480633</td>\n",
       "      <td>1.610574</td>\n",
       "      <td>0.833552</td>\n",
       "      <td>0.627163</td>\n",
       "      <td>0.475540</td>\n",
       "      <td>0.153527</td>\n",
       "      <td>2.322715</td>\n",
       "      <td>1</td>\n",
       "    </tr>\n",
       "    <tr>\n",
       "      <th>3</th>\n",
       "      <td>1.564980</td>\n",
       "      <td>1.516912</td>\n",
       "      <td>0.858131</td>\n",
       "      <td>0.620071</td>\n",
       "      <td>0.290549</td>\n",
       "      <td>0.367007</td>\n",
       "      <td>2.276716</td>\n",
       "      <td>1</td>\n",
       "    </tr>\n",
       "    <tr>\n",
       "      <th>4</th>\n",
       "      <td>1.443572</td>\n",
       "      <td>1.540247</td>\n",
       "      <td>0.809158</td>\n",
       "      <td>0.617951</td>\n",
       "      <td>0.245483</td>\n",
       "      <td>0.382612</td>\n",
       "      <td>2.430182</td>\n",
       "      <td>1</td>\n",
       "    </tr>\n",
       "    <tr>\n",
       "      <th>...</th>\n",
       "      <td>...</td>\n",
       "      <td>...</td>\n",
       "      <td>...</td>\n",
       "      <td>...</td>\n",
       "      <td>...</td>\n",
       "      <td>...</td>\n",
       "      <td>...</td>\n",
       "      <td>...</td>\n",
       "    </tr>\n",
       "    <tr>\n",
       "      <th>150</th>\n",
       "      <td>0.368746</td>\n",
       "      <td>0.945707</td>\n",
       "      <td>0.326425</td>\n",
       "      <td>0.581844</td>\n",
       "      <td>0.252756</td>\n",
       "      <td>0.455220</td>\n",
       "      <td>0.540061</td>\n",
       "      <td>0</td>\n",
       "    </tr>\n",
       "    <tr>\n",
       "      <th>151</th>\n",
       "      <td>0.777153</td>\n",
       "      <td>0.396103</td>\n",
       "      <td>0.500533</td>\n",
       "      <td>0.081539</td>\n",
       "      <td>0.493664</td>\n",
       "      <td>0.151347</td>\n",
       "      <td>1.061574</td>\n",
       "      <td>0</td>\n",
       "    </tr>\n",
       "    <tr>\n",
       "      <th>152</th>\n",
       "      <td>0.511136</td>\n",
       "      <td>1.041990</td>\n",
       "      <td>0.364509</td>\n",
       "      <td>0.390018</td>\n",
       "      <td>0.354256</td>\n",
       "      <td>0.066035</td>\n",
       "      <td>0.621130</td>\n",
       "      <td>0</td>\n",
       "    </tr>\n",
       "    <tr>\n",
       "      <th>153</th>\n",
       "      <td>0.091623</td>\n",
       "      <td>0.629794</td>\n",
       "      <td>0.151611</td>\n",
       "      <td>0.059901</td>\n",
       "      <td>0.204435</td>\n",
       "      <td>0.084148</td>\n",
       "      <td>1.683024</td>\n",
       "      <td>0</td>\n",
       "    </tr>\n",
       "    <tr>\n",
       "      <th>154</th>\n",
       "      <td>0.000000</td>\n",
       "      <td>0.000000</td>\n",
       "      <td>0.018773</td>\n",
       "      <td>0.270842</td>\n",
       "      <td>0.280876</td>\n",
       "      <td>0.056565</td>\n",
       "      <td>2.066005</td>\n",
       "      <td>0</td>\n",
       "    </tr>\n",
       "  </tbody>\n",
       "</table>\n",
       "<p>155 rows × 8 columns</p>\n",
       "</div>"
      ],
      "text/plain": [
       "     Economy..GDP.per.Capita.    Family  Health..Life.Expectancy.   Freedom  \\\n",
       "0                    1.616463  1.533524                  0.796667  0.635423   \n",
       "1                    1.482383  1.551122                  0.792566  0.626007   \n",
       "2                    1.480633  1.610574                  0.833552  0.627163   \n",
       "3                    1.564980  1.516912                  0.858131  0.620071   \n",
       "4                    1.443572  1.540247                  0.809158  0.617951   \n",
       "..                        ...       ...                       ...       ...   \n",
       "150                  0.368746  0.945707                  0.326425  0.581844   \n",
       "151                  0.777153  0.396103                  0.500533  0.081539   \n",
       "152                  0.511136  1.041990                  0.364509  0.390018   \n",
       "153                  0.091623  0.629794                  0.151611  0.059901   \n",
       "154                  0.000000  0.000000                  0.018773  0.270842   \n",
       "\n",
       "     Generosity  Trust..Government.Corruption.  Dystopia.Residual cluster  \n",
       "0      0.362012                       0.315964           2.277027       1  \n",
       "1      0.355280                       0.400770           2.313707       1  \n",
       "2      0.475540                       0.153527           2.322715       1  \n",
       "3      0.290549                       0.367007           2.276716       1  \n",
       "4      0.245483                       0.382612           2.430182       1  \n",
       "..          ...                            ...                ...     ...  \n",
       "150    0.252756                       0.455220           0.540061       0  \n",
       "151    0.493664                       0.151347           1.061574       0  \n",
       "152    0.354256                       0.066035           0.621130       0  \n",
       "153    0.204435                       0.084148           1.683024       0  \n",
       "154    0.280876                       0.056565           2.066005       0  \n",
       "\n",
       "[155 rows x 8 columns]"
      ]
     },
     "execution_count": 212,
     "metadata": {},
     "output_type": "execute_result"
    }
   ],
   "source": [
    "final_df"
   ]
  },
  {
   "cell_type": "code",
   "execution_count": 213,
   "id": "15f56123-69cc-44b9-8eb9-6ea00447328d",
   "metadata": {},
   "outputs": [],
   "source": [
    "loadings = pca.components_.T * np.sqrt(pca.explained_variance_)"
   ]
  },
  {
   "cell_type": "code",
   "execution_count": 214,
   "id": "2a712da6-610c-4dcf-a50e-631f084d2dc3",
   "metadata": {},
   "outputs": [],
   "source": [
    "fig = px.scatter(principalComponents, x=0, y=1, color=final_df['cluster'])"
   ]
  },
  {
   "cell_type": "code",
   "execution_count": 215,
   "id": "f8d78814-7c50-414d-8c7e-aa0cf7d5bdfe",
   "metadata": {},
   "outputs": [
    {
     "data": {
      "text/plain": [
       "['Economy..GDP.per.Capita.',\n",
       " 'Family',\n",
       " 'Health..Life.Expectancy.',\n",
       " 'Freedom',\n",
       " 'Generosity',\n",
       " 'Trust..Government.Corruption.',\n",
       " 'Dystopia.Residual']"
      ]
     },
     "execution_count": 215,
     "metadata": {},
     "output_type": "execute_result"
    }
   ],
   "source": [
    "columns_to_use"
   ]
  },
  {
   "cell_type": "code",
   "execution_count": 216,
   "id": "a9aa2f75-1597-4872-843d-97d9f3c2fd01",
   "metadata": {},
   "outputs": [
    {
     "data": {
      "application/vnd.plotly.v1+json": {
       "config": {
        "plotlyServerURL": "https://plot.ly"
       },
       "data": [
        {
         "hovertemplate": "color=1<br>0=%{x}<br>1=%{y}<extra></extra>",
         "legendgroup": "1",
         "marker": {
          "color": "#636efa",
          "symbol": "circle"
         },
         "mode": "markers",
         "name": "1",
         "orientation": "v",
         "showlegend": true,
         "type": "scatter",
         "x": [
          -0.8957426799244662,
          -0.8245935194105122,
          -0.8512496385178154,
          -0.8762776908530294,
          -0.8433607326202894,
          -0.7751620525821605,
          -0.7490186346364014,
          -0.6676816018887589,
          -0.7278373926604566,
          -0.7189634958837795,
          -0.8399839578783832,
          -0.6997193579461937,
          -0.7102204001541685,
          -0.7388927022076647,
          -0.6433960203404799,
          -0.6637288669627169,
          -0.6886832921511659,
          -0.7049632350964735,
          -0.5105111462926638,
          -0.586553223741156,
          -0.5460958723368218,
          -0.5828595948159679,
          -0.6859825204792108,
          -0.6136999009070692,
          -0.5835745717560663,
          -0.5068334715129562,
          -0.38704276361615675,
          -0.4752760383157662,
          -0.37186388857110514,
          -0.508994828240789,
          -0.5836269736329185,
          -0.32635141626986053,
          -0.5927379113127573,
          -0.5817909848054837,
          -0.4893669232697892,
          -0.47646219930251327,
          -0.5456651918404077,
          -0.42446793924898385,
          -0.45526136186531496,
          -0.5142109366515581,
          -0.40054441871511304,
          -0.34011213450048616,
          -0.1719318546579386,
          -0.2847637132739257,
          -0.3067381197769039,
          -0.37087393972110444,
          -0.013916104250426291,
          -0.47249596216273576,
          -0.4605559339960053,
          -0.19033777476897298,
          -0.3670267779280582,
          -0.506576136068323,
          -0.34974461731499384,
          -0.3638297102969405,
          -0.39123890355992347,
          -0.21199604711468514,
          -0.32915769402555384,
          -0.13112738844659755,
          -0.19202677924812586,
          -0.2935022315369181,
          -0.25198129994232477,
          -0.2548322937739004,
          -0.22118300530232046,
          -0.1306792308927138,
          -0.24639887221484644,
          -0.2302002298050328,
          -0.19938819236709723,
          -0.14214747750744613,
          -0.24426691656872787,
          -0.04659460367230648,
          -0.08407239228491017,
          0.02475691827965531,
          -0.13492338010405433,
          -0.02299980304738642,
          -0.24315796128700076,
          0.02490366836666131,
          -0.11064892475620033,
          0.007711468995696085,
          -0.0963507880141429,
          -0.1695601132315295,
          -0.0842082718439455,
          -0.008510016747033652,
          -0.06962570225831596,
          0.028522643601154887,
          -0.25150492951594083,
          -0.02545256767377745,
          -0.11003005927962212,
          0.011410018571081282,
          0.007480223756995642,
          0.07498146200372788
         ],
         "xaxis": "x",
         "y": [
          0.07125945817119102,
          0.1445649060204539,
          0.14251956277613723,
          0.08227948173039817,
          0.2679190067650805,
          0.13819024214386186,
          0.03617927735174913,
          -0.08196244941749471,
          -0.051787545330944325,
          -0.08488673985549121,
          0.6668778008655736,
          0.8470409938732713,
          0.0031848962898624743,
          0.07163721469247732,
          -0.36819059408836874,
          -0.11145058955387414,
          -0.00022990434976855652,
          -0.5639564834661743,
          -0.3893899881445401,
          0.45853780660961013,
          -0.3752221301522109,
          0.755167172191843,
          0.36515650214859746,
          0.575451144310396,
          0.8238697893707305,
          -0.9223141212533474,
          -0.4944028214296127,
          0.15179092430136884,
          0.980500639835262,
          0.28163279551898146,
          -0.08131765848477866,
          0.06035987220266416,
          0.03966039081655922,
          -0.16341034025596815,
          -0.9973051655253298,
          0.6364085609326834,
          -0.008397080219190032,
          0.033769882065272094,
          -0.4358551176628149,
          0.05047111308990764,
          -0.3877594726233918,
          0.010771099621195424,
          0.6550392163820968,
          0.36286407153846606,
          0.8166529943678884,
          -0.21124850104642445,
          -0.03185666975350435,
          -0.24531748695305772,
          0.19473791509963595,
          0.770251213729794,
          -0.6839968852133601,
          0.19839208578746298,
          0.6289820716488763,
          0.00036560009823064334,
          -0.14607599947099764,
          0.9567038487992182,
          0.21402381152169203,
          0.5969049415948331,
          -0.09988424827683585,
          -0.19749469324111077,
          -0.442727007120669,
          -0.6904063033446716,
          0.29888406792727484,
          -0.22784996243063033,
          -0.36478848692398375,
          -0.6292367662171198,
          -0.22100335379570127,
          -0.07192405071789441,
          -0.069458989096959,
          -0.1882584062007292,
          -1.4592415028600136,
          0.15355769399627112,
          0.04499993240243446,
          -0.06987987218904415,
          -0.2508242745304887,
          -0.23952510109479844,
          -0.055275624985747694,
          0.17211447877289954,
          -0.12587489753115133,
          -0.13462536840926467,
          -0.17161243883352684,
          0.6567430974993036,
          -0.12369952179819046,
          -0.556885900438826,
          -0.21941997762407953,
          -0.1844559931153881,
          -0.8488223498885612,
          0.04267169215747267,
          -0.2521833037705297,
          -0.8906722055728927
         ],
         "yaxis": "y"
        },
        {
         "hovertemplate": "color=0<br>0=%{x}<br>1=%{y}<extra></extra>",
         "legendgroup": "0",
         "marker": {
          "color": "#EF553B",
          "symbol": "circle"
         },
         "mode": "markers",
         "name": "0",
         "orientation": "v",
         "showlegend": true,
         "type": "scatter",
         "x": [
          0.10117626493739665,
          0.15034907408970147,
          0.11325096355014418,
          0.5050720097096008,
          0.20229862434035958,
          0.11750031545871387,
          0.29327573185787875,
          0.2978945183388477,
          0.316083015261801,
          0.36546739106793125,
          0.14274975041376373,
          0.13224217291039267,
          0.09514532559676424,
          0.20946466689031895,
          0.16281686911689858,
          0.41597913157979305,
          0.3654876575889457,
          0.20941962221408877,
          0.23806416369346406,
          0.420182589138957,
          0.2651086942283628,
          0.5210097950679643,
          0.6197073763047684,
          0.8041316305099621,
          0.4454063741205127,
          0.4405677694596962,
          0.2499294067275666,
          0.1579210913091701,
          0.6013050705837863,
          0.48101417700824606,
          0.2664921152325872,
          0.4808505855458444,
          0.4209475054394423,
          0.42053354270418136,
          0.38956616638394537,
          0.629706300245026,
          0.5519715098757089,
          0.574004291377567,
          0.692845561879852,
          0.434037039169185,
          0.5660777913020428,
          0.42436838547458905,
          0.7083217599587411,
          0.6978592347974534,
          0.7691030492450099,
          0.8102131222414489,
          0.624208248298528,
          0.7212881715768925,
          0.7044830572144488,
          0.4587831842364596,
          0.729473794484533,
          0.5419686520928064,
          0.8240582383942565,
          0.8017955952352576,
          0.8814270592378337,
          0.7004563668227376,
          0.8301462342479962,
          0.9547796467801504,
          0.9540850024695712,
          0.924193402180425,
          1.1052253163516654,
          0.8532383376281384,
          0.9653483918032838,
          1.1317046740404813,
          1.3325692233356847
         ],
         "xaxis": "x",
         "y": [
          1.0555870064666721,
          -0.4030023244197895,
          0.28795456928667823,
          1.6059631048367495,
          -0.32339681447484836,
          0.6146712713079463,
          0.13861313763563413,
          -0.645227395019485,
          -0.19581732144452696,
          0.2091622903018403,
          -0.7388704312075551,
          -0.3053530366541956,
          0.08207557939735087,
          0.1290236265913488,
          -0.09376743165015508,
          1.0727316249393062,
          0.6866660940104632,
          -0.3142227244361528,
          -0.2949109862065787,
          0.3237569112756987,
          -0.2803537622253688,
          0.008853509241131841,
          0.8226562916446476,
          -0.46073642165419537,
          0.1386159780260885,
          0.16792539918034433,
          -0.47860715369567547,
          -0.5063887813831424,
          0.442851913881843,
          -1.3526645911780344,
          -0.2418301031397081,
          -0.1567891516098642,
          -0.031223965024972967,
          0.04409799362656165,
          -0.22196285164809815,
          0.6957366382317297,
          0.05215825327511366,
          0.24361718565257018,
          -0.5752425985722062,
          0.010884481359593334,
          -0.05264800793905533,
          -0.9424620213482084,
          -0.037637074847982385,
          0.17470054803738153,
          0.3700089510580667,
          0.6018932023621142,
          0.510596509257768,
          0.04719143721731416,
          -0.1428956802689026,
          -0.0629370469144267,
          0.6308421284749202,
          -1.3636834794144088,
          0.3897124265754934,
          0.06261111771591486,
          0.1972274840302306,
          -0.24236791416544903,
          0.380967520897639,
          0.2287081018260395,
          0.09154533133328549,
          0.3824248396852991,
          -0.9408763239046466,
          -0.5196806410833096,
          -0.9178058037912922,
          0.3063936753437029,
          0.7982107825782392
         ],
         "yaxis": "y"
        }
       ],
       "layout": {
        "annotations": [
         {
          "ax": 0,
          "ay": 0,
          "text": "Economy..GDP.per.Capita.",
          "x": -0.376154184536666,
          "xanchor": "center",
          "y": -0.1640020167316575,
          "yanchor": "bottom"
         },
         {
          "ax": 0,
          "ay": 0,
          "text": "Family",
          "x": -0.22025166688403933,
          "xanchor": "center",
          "y": -0.07786379634681279,
          "yanchor": "bottom"
         },
         {
          "ax": 0,
          "ay": 0,
          "text": "Health..Life.Expectancy.",
          "x": -0.19516122874460343,
          "xanchor": "center",
          "y": -0.07630977785919467,
          "yanchor": "bottom"
         },
         {
          "ax": 0,
          "ay": 0,
          "text": "Freedom",
          "x": -0.06570633678353723,
          "xanchor": "center",
          "y": -0.016423066811377285,
          "yanchor": "bottom"
         },
         {
          "ax": 0,
          "ay": 0,
          "text": "Generosity",
          "x": 0.002588520558398574,
          "xanchor": "center",
          "y": -0.017052578153480363,
          "yanchor": "bottom"
         },
         {
          "ax": 0,
          "ay": 0,
          "text": "Trust..Government.Corruption.",
          "x": -0.03254842335208396,
          "xanchor": "center",
          "y": -0.01795684938300369,
          "yanchor": "bottom"
         },
         {
          "ax": 0,
          "ay": 0,
          "text": "Dystopia.Residual",
          "x": -0.21018485393470362,
          "xanchor": "center",
          "y": 0.4536569109247568,
          "yanchor": "bottom"
         }
        ],
        "autosize": true,
        "legend": {
         "title": {
          "text": "color"
         },
         "tracegroupgap": 0
        },
        "margin": {
         "t": 60
        },
        "shapes": [
         {
          "type": "line",
          "x0": 0,
          "x1": -0.376154184536666,
          "y0": 0,
          "y1": -0.1640020167316575
         },
         {
          "type": "line",
          "x0": 0,
          "x1": -0.22025166688403933,
          "y0": 0,
          "y1": -0.07786379634681279
         },
         {
          "type": "line",
          "x0": 0,
          "x1": -0.19516122874460343,
          "y0": 0,
          "y1": -0.07630977785919467
         },
         {
          "type": "line",
          "x0": 0,
          "x1": -0.06570633678353723,
          "y0": 0,
          "y1": -0.016423066811377285
         },
         {
          "type": "line",
          "x0": 0,
          "x1": 0.002588520558398574,
          "y0": 0,
          "y1": -0.017052578153480363
         },
         {
          "type": "line",
          "x0": 0,
          "x1": -0.03254842335208396,
          "y0": 0,
          "y1": -0.01795684938300369
         },
         {
          "type": "line",
          "x0": 0,
          "x1": -0.21018485393470362,
          "y0": 0,
          "y1": 0.4536569109247568
         }
        ],
        "template": {
         "data": {
          "bar": [
           {
            "error_x": {
             "color": "#2a3f5f"
            },
            "error_y": {
             "color": "#2a3f5f"
            },
            "marker": {
             "line": {
              "color": "#E5ECF6",
              "width": 0.5
             },
             "pattern": {
              "fillmode": "overlay",
              "size": 10,
              "solidity": 0.2
             }
            },
            "type": "bar"
           }
          ],
          "barpolar": [
           {
            "marker": {
             "line": {
              "color": "#E5ECF6",
              "width": 0.5
             },
             "pattern": {
              "fillmode": "overlay",
              "size": 10,
              "solidity": 0.2
             }
            },
            "type": "barpolar"
           }
          ],
          "carpet": [
           {
            "aaxis": {
             "endlinecolor": "#2a3f5f",
             "gridcolor": "white",
             "linecolor": "white",
             "minorgridcolor": "white",
             "startlinecolor": "#2a3f5f"
            },
            "baxis": {
             "endlinecolor": "#2a3f5f",
             "gridcolor": "white",
             "linecolor": "white",
             "minorgridcolor": "white",
             "startlinecolor": "#2a3f5f"
            },
            "type": "carpet"
           }
          ],
          "choropleth": [
           {
            "colorbar": {
             "outlinewidth": 0,
             "ticks": ""
            },
            "type": "choropleth"
           }
          ],
          "contour": [
           {
            "colorbar": {
             "outlinewidth": 0,
             "ticks": ""
            },
            "colorscale": [
             [
              0,
              "#0d0887"
             ],
             [
              0.1111111111111111,
              "#46039f"
             ],
             [
              0.2222222222222222,
              "#7201a8"
             ],
             [
              0.3333333333333333,
              "#9c179e"
             ],
             [
              0.4444444444444444,
              "#bd3786"
             ],
             [
              0.5555555555555556,
              "#d8576b"
             ],
             [
              0.6666666666666666,
              "#ed7953"
             ],
             [
              0.7777777777777778,
              "#fb9f3a"
             ],
             [
              0.8888888888888888,
              "#fdca26"
             ],
             [
              1,
              "#f0f921"
             ]
            ],
            "type": "contour"
           }
          ],
          "contourcarpet": [
           {
            "colorbar": {
             "outlinewidth": 0,
             "ticks": ""
            },
            "type": "contourcarpet"
           }
          ],
          "heatmap": [
           {
            "colorbar": {
             "outlinewidth": 0,
             "ticks": ""
            },
            "colorscale": [
             [
              0,
              "#0d0887"
             ],
             [
              0.1111111111111111,
              "#46039f"
             ],
             [
              0.2222222222222222,
              "#7201a8"
             ],
             [
              0.3333333333333333,
              "#9c179e"
             ],
             [
              0.4444444444444444,
              "#bd3786"
             ],
             [
              0.5555555555555556,
              "#d8576b"
             ],
             [
              0.6666666666666666,
              "#ed7953"
             ],
             [
              0.7777777777777778,
              "#fb9f3a"
             ],
             [
              0.8888888888888888,
              "#fdca26"
             ],
             [
              1,
              "#f0f921"
             ]
            ],
            "type": "heatmap"
           }
          ],
          "heatmapgl": [
           {
            "colorbar": {
             "outlinewidth": 0,
             "ticks": ""
            },
            "colorscale": [
             [
              0,
              "#0d0887"
             ],
             [
              0.1111111111111111,
              "#46039f"
             ],
             [
              0.2222222222222222,
              "#7201a8"
             ],
             [
              0.3333333333333333,
              "#9c179e"
             ],
             [
              0.4444444444444444,
              "#bd3786"
             ],
             [
              0.5555555555555556,
              "#d8576b"
             ],
             [
              0.6666666666666666,
              "#ed7953"
             ],
             [
              0.7777777777777778,
              "#fb9f3a"
             ],
             [
              0.8888888888888888,
              "#fdca26"
             ],
             [
              1,
              "#f0f921"
             ]
            ],
            "type": "heatmapgl"
           }
          ],
          "histogram": [
           {
            "marker": {
             "pattern": {
              "fillmode": "overlay",
              "size": 10,
              "solidity": 0.2
             }
            },
            "type": "histogram"
           }
          ],
          "histogram2d": [
           {
            "colorbar": {
             "outlinewidth": 0,
             "ticks": ""
            },
            "colorscale": [
             [
              0,
              "#0d0887"
             ],
             [
              0.1111111111111111,
              "#46039f"
             ],
             [
              0.2222222222222222,
              "#7201a8"
             ],
             [
              0.3333333333333333,
              "#9c179e"
             ],
             [
              0.4444444444444444,
              "#bd3786"
             ],
             [
              0.5555555555555556,
              "#d8576b"
             ],
             [
              0.6666666666666666,
              "#ed7953"
             ],
             [
              0.7777777777777778,
              "#fb9f3a"
             ],
             [
              0.8888888888888888,
              "#fdca26"
             ],
             [
              1,
              "#f0f921"
             ]
            ],
            "type": "histogram2d"
           }
          ],
          "histogram2dcontour": [
           {
            "colorbar": {
             "outlinewidth": 0,
             "ticks": ""
            },
            "colorscale": [
             [
              0,
              "#0d0887"
             ],
             [
              0.1111111111111111,
              "#46039f"
             ],
             [
              0.2222222222222222,
              "#7201a8"
             ],
             [
              0.3333333333333333,
              "#9c179e"
             ],
             [
              0.4444444444444444,
              "#bd3786"
             ],
             [
              0.5555555555555556,
              "#d8576b"
             ],
             [
              0.6666666666666666,
              "#ed7953"
             ],
             [
              0.7777777777777778,
              "#fb9f3a"
             ],
             [
              0.8888888888888888,
              "#fdca26"
             ],
             [
              1,
              "#f0f921"
             ]
            ],
            "type": "histogram2dcontour"
           }
          ],
          "mesh3d": [
           {
            "colorbar": {
             "outlinewidth": 0,
             "ticks": ""
            },
            "type": "mesh3d"
           }
          ],
          "parcoords": [
           {
            "line": {
             "colorbar": {
              "outlinewidth": 0,
              "ticks": ""
             }
            },
            "type": "parcoords"
           }
          ],
          "pie": [
           {
            "automargin": true,
            "type": "pie"
           }
          ],
          "scatter": [
           {
            "marker": {
             "colorbar": {
              "outlinewidth": 0,
              "ticks": ""
             }
            },
            "type": "scatter"
           }
          ],
          "scatter3d": [
           {
            "line": {
             "colorbar": {
              "outlinewidth": 0,
              "ticks": ""
             }
            },
            "marker": {
             "colorbar": {
              "outlinewidth": 0,
              "ticks": ""
             }
            },
            "type": "scatter3d"
           }
          ],
          "scattercarpet": [
           {
            "marker": {
             "colorbar": {
              "outlinewidth": 0,
              "ticks": ""
             }
            },
            "type": "scattercarpet"
           }
          ],
          "scattergeo": [
           {
            "marker": {
             "colorbar": {
              "outlinewidth": 0,
              "ticks": ""
             }
            },
            "type": "scattergeo"
           }
          ],
          "scattergl": [
           {
            "marker": {
             "colorbar": {
              "outlinewidth": 0,
              "ticks": ""
             }
            },
            "type": "scattergl"
           }
          ],
          "scattermapbox": [
           {
            "marker": {
             "colorbar": {
              "outlinewidth": 0,
              "ticks": ""
             }
            },
            "type": "scattermapbox"
           }
          ],
          "scatterpolar": [
           {
            "marker": {
             "colorbar": {
              "outlinewidth": 0,
              "ticks": ""
             }
            },
            "type": "scatterpolar"
           }
          ],
          "scatterpolargl": [
           {
            "marker": {
             "colorbar": {
              "outlinewidth": 0,
              "ticks": ""
             }
            },
            "type": "scatterpolargl"
           }
          ],
          "scatterternary": [
           {
            "marker": {
             "colorbar": {
              "outlinewidth": 0,
              "ticks": ""
             }
            },
            "type": "scatterternary"
           }
          ],
          "surface": [
           {
            "colorbar": {
             "outlinewidth": 0,
             "ticks": ""
            },
            "colorscale": [
             [
              0,
              "#0d0887"
             ],
             [
              0.1111111111111111,
              "#46039f"
             ],
             [
              0.2222222222222222,
              "#7201a8"
             ],
             [
              0.3333333333333333,
              "#9c179e"
             ],
             [
              0.4444444444444444,
              "#bd3786"
             ],
             [
              0.5555555555555556,
              "#d8576b"
             ],
             [
              0.6666666666666666,
              "#ed7953"
             ],
             [
              0.7777777777777778,
              "#fb9f3a"
             ],
             [
              0.8888888888888888,
              "#fdca26"
             ],
             [
              1,
              "#f0f921"
             ]
            ],
            "type": "surface"
           }
          ],
          "table": [
           {
            "cells": {
             "fill": {
              "color": "#EBF0F8"
             },
             "line": {
              "color": "white"
             }
            },
            "header": {
             "fill": {
              "color": "#C8D4E3"
             },
             "line": {
              "color": "white"
             }
            },
            "type": "table"
           }
          ]
         },
         "layout": {
          "annotationdefaults": {
           "arrowcolor": "#2a3f5f",
           "arrowhead": 0,
           "arrowwidth": 1
          },
          "autotypenumbers": "strict",
          "coloraxis": {
           "colorbar": {
            "outlinewidth": 0,
            "ticks": ""
           }
          },
          "colorscale": {
           "diverging": [
            [
             0,
             "#8e0152"
            ],
            [
             0.1,
             "#c51b7d"
            ],
            [
             0.2,
             "#de77ae"
            ],
            [
             0.3,
             "#f1b6da"
            ],
            [
             0.4,
             "#fde0ef"
            ],
            [
             0.5,
             "#f7f7f7"
            ],
            [
             0.6,
             "#e6f5d0"
            ],
            [
             0.7,
             "#b8e186"
            ],
            [
             0.8,
             "#7fbc41"
            ],
            [
             0.9,
             "#4d9221"
            ],
            [
             1,
             "#276419"
            ]
           ],
           "sequential": [
            [
             0,
             "#0d0887"
            ],
            [
             0.1111111111111111,
             "#46039f"
            ],
            [
             0.2222222222222222,
             "#7201a8"
            ],
            [
             0.3333333333333333,
             "#9c179e"
            ],
            [
             0.4444444444444444,
             "#bd3786"
            ],
            [
             0.5555555555555556,
             "#d8576b"
            ],
            [
             0.6666666666666666,
             "#ed7953"
            ],
            [
             0.7777777777777778,
             "#fb9f3a"
            ],
            [
             0.8888888888888888,
             "#fdca26"
            ],
            [
             1,
             "#f0f921"
            ]
           ],
           "sequentialminus": [
            [
             0,
             "#0d0887"
            ],
            [
             0.1111111111111111,
             "#46039f"
            ],
            [
             0.2222222222222222,
             "#7201a8"
            ],
            [
             0.3333333333333333,
             "#9c179e"
            ],
            [
             0.4444444444444444,
             "#bd3786"
            ],
            [
             0.5555555555555556,
             "#d8576b"
            ],
            [
             0.6666666666666666,
             "#ed7953"
            ],
            [
             0.7777777777777778,
             "#fb9f3a"
            ],
            [
             0.8888888888888888,
             "#fdca26"
            ],
            [
             1,
             "#f0f921"
            ]
           ]
          },
          "colorway": [
           "#636efa",
           "#EF553B",
           "#00cc96",
           "#ab63fa",
           "#FFA15A",
           "#19d3f3",
           "#FF6692",
           "#B6E880",
           "#FF97FF",
           "#FECB52"
          ],
          "font": {
           "color": "#2a3f5f"
          },
          "geo": {
           "bgcolor": "white",
           "lakecolor": "white",
           "landcolor": "#E5ECF6",
           "showlakes": true,
           "showland": true,
           "subunitcolor": "white"
          },
          "hoverlabel": {
           "align": "left"
          },
          "hovermode": "closest",
          "mapbox": {
           "style": "light"
          },
          "paper_bgcolor": "white",
          "plot_bgcolor": "#E5ECF6",
          "polar": {
           "angularaxis": {
            "gridcolor": "white",
            "linecolor": "white",
            "ticks": ""
           },
           "bgcolor": "#E5ECF6",
           "radialaxis": {
            "gridcolor": "white",
            "linecolor": "white",
            "ticks": ""
           }
          },
          "scene": {
           "xaxis": {
            "backgroundcolor": "#E5ECF6",
            "gridcolor": "white",
            "gridwidth": 2,
            "linecolor": "white",
            "showbackground": true,
            "ticks": "",
            "zerolinecolor": "white"
           },
           "yaxis": {
            "backgroundcolor": "#E5ECF6",
            "gridcolor": "white",
            "gridwidth": 2,
            "linecolor": "white",
            "showbackground": true,
            "ticks": "",
            "zerolinecolor": "white"
           },
           "zaxis": {
            "backgroundcolor": "#E5ECF6",
            "gridcolor": "white",
            "gridwidth": 2,
            "linecolor": "white",
            "showbackground": true,
            "ticks": "",
            "zerolinecolor": "white"
           }
          },
          "shapedefaults": {
           "line": {
            "color": "#2a3f5f"
           }
          },
          "ternary": {
           "aaxis": {
            "gridcolor": "white",
            "linecolor": "white",
            "ticks": ""
           },
           "baxis": {
            "gridcolor": "white",
            "linecolor": "white",
            "ticks": ""
           },
           "bgcolor": "#E5ECF6",
           "caxis": {
            "gridcolor": "white",
            "linecolor": "white",
            "ticks": ""
           }
          },
          "title": {
           "x": 0.05
          },
          "xaxis": {
           "automargin": true,
           "gridcolor": "white",
           "linecolor": "white",
           "ticks": "",
           "title": {
            "standoff": 15
           },
           "zerolinecolor": "white",
           "zerolinewidth": 2
          },
          "yaxis": {
           "automargin": true,
           "gridcolor": "white",
           "linecolor": "white",
           "ticks": "",
           "title": {
            "standoff": 15
           },
           "zerolinecolor": "white",
           "zerolinewidth": 2
          }
         }
        },
        "xaxis": {
         "anchor": "y",
         "autorange": false,
         "domain": [
          0,
          1
         ],
         "range": [
          -0.5069474267648554,
          0.15604653892682563
         ],
         "title": {
          "text": "0"
         },
         "type": "linear"
        },
        "yaxis": {
         "anchor": "x",
         "autorange": false,
         "domain": [
          0,
          1
         ],
         "range": [
          -1.3197441663979077,
          1.0284587795287063
         ],
         "title": {
          "text": "1"
         },
         "type": "linear"
        }
       }
      },
      "image/png": "[encoded data removed]",
      "text/html": [
       "<div>                            <div id=\"14dbde2b-94c1-465f-bb8f-4f8ea39f021d\" class=\"plotly-graph-div\" style=\"height:525px; width:100%;\"></div>            <script type=\"text/javascript\">                require([\"plotly\"], function(Plotly) {                    window.PLOTLYENV=window.PLOTLYENV || {};                                    if (document.getElementById(\"14dbde2b-94c1-465f-bb8f-4f8ea39f021d\")) {                    Plotly.newPlot(                        \"14dbde2b-94c1-465f-bb8f-4f8ea39f021d\",                        [{\"hovertemplate\":\"color=1<br>0=%{x}<br>1=%{y}<extra></extra>\",\"legendgroup\":\"1\",\"marker\":{\"color\":\"#636efa\",\"symbol\":\"circle\"},\"mode\":\"markers\",\"name\":\"1\",\"orientation\":\"v\",\"showlegend\":true,\"x\":[-0.8957426799244662,-0.8245935194105122,-0.8512496385178154,-0.8762776908530294,-0.8433607326202894,-0.7751620525821605,-0.7490186346364014,-0.6676816018887589,-0.7278373926604566,-0.7189634958837795,-0.8399839578783832,-0.6997193579461937,-0.7102204001541685,-0.7388927022076647,-0.6433960203404799,-0.6637288669627169,-0.6886832921511659,-0.7049632350964735,-0.5105111462926638,-0.586553223741156,-0.5460958723368218,-0.5828595948159679,-0.6859825204792108,-0.6136999009070692,-0.5835745717560663,-0.5068334715129562,-0.38704276361615675,-0.4752760383157662,-0.37186388857110514,-0.508994828240789,-0.5836269736329185,-0.32635141626986053,-0.5927379113127573,-0.5817909848054837,-0.4893669232697892,-0.47646219930251327,-0.5456651918404077,-0.42446793924898385,-0.45526136186531496,-0.5142109366515581,-0.40054441871511304,-0.34011213450048616,-0.1719318546579386,-0.2847637132739257,-0.3067381197769039,-0.37087393972110444,-0.013916104250426291,-0.47249596216273576,-0.4605559339960053,-0.19033777476897298,-0.3670267779280582,-0.506576136068323,-0.34974461731499384,-0.3638297102969405,-0.39123890355992347,-0.21199604711468514,-0.32915769402555384,-0.13112738844659755,-0.19202677924812586,-0.2935022315369181,-0.25198129994232477,-0.2548322937739004,-0.22118300530232046,-0.1306792308927138,-0.24639887221484644,-0.2302002298050328,-0.19938819236709723,-0.14214747750744613,-0.24426691656872787,-0.04659460367230648,-0.08407239228491017,0.02475691827965531,-0.13492338010405433,-0.02299980304738642,-0.24315796128700076,0.02490366836666131,-0.11064892475620033,0.007711468995696085,-0.0963507880141429,-0.1695601132315295,-0.0842082718439455,-0.008510016747033652,-0.06962570225831596,0.028522643601154887,-0.25150492951594083,-0.02545256767377745,-0.11003005927962212,0.011410018571081282,0.007480223756995642,0.07498146200372788],\"xaxis\":\"x\",\"y\":[0.07125945817119102,0.1445649060204539,0.14251956277613723,0.08227948173039817,0.2679190067650805,0.13819024214386186,0.03617927735174913,-0.08196244941749471,-0.051787545330944325,-0.08488673985549121,0.6668778008655736,0.8470409938732713,0.0031848962898624743,0.07163721469247732,-0.36819059408836874,-0.11145058955387414,-0.00022990434976855652,-0.5639564834661743,-0.3893899881445401,0.45853780660961013,-0.3752221301522109,0.755167172191843,0.36515650214859746,0.575451144310396,0.8238697893707305,-0.9223141212533474,-0.4944028214296127,0.15179092430136884,0.980500639835262,0.28163279551898146,-0.08131765848477866,0.06035987220266416,0.03966039081655922,-0.16341034025596815,-0.9973051655253298,0.6364085609326834,-0.008397080219190032,0.033769882065272094,-0.4358551176628149,0.05047111308990764,-0.3877594726233918,0.010771099621195424,0.6550392163820968,0.36286407153846606,0.8166529943678884,-0.21124850104642445,-0.03185666975350435,-0.24531748695305772,0.19473791509963595,0.770251213729794,-0.6839968852133601,0.19839208578746298,0.6289820716488763,0.00036560009823064334,-0.14607599947099764,0.9567038487992182,0.21402381152169203,0.5969049415948331,-0.09988424827683585,-0.19749469324111077,-0.442727007120669,-0.6904063033446716,0.29888406792727484,-0.22784996243063033,-0.36478848692398375,-0.6292367662171198,-0.22100335379570127,-0.07192405071789441,-0.069458989096959,-0.1882584062007292,-1.4592415028600136,0.15355769399627112,0.04499993240243446,-0.06987987218904415,-0.2508242745304887,-0.23952510109479844,-0.055275624985747694,0.17211447877289954,-0.12587489753115133,-0.13462536840926467,-0.17161243883352684,0.6567430974993036,-0.12369952179819046,-0.556885900438826,-0.21941997762407953,-0.1844559931153881,-0.8488223498885612,0.04267169215747267,-0.2521833037705297,-0.8906722055728927],\"yaxis\":\"y\",\"type\":\"scatter\"},{\"hovertemplate\":\"color=0<br>0=%{x}<br>1=%{y}<extra></extra>\",\"legendgroup\":\"0\",\"marker\":{\"color\":\"#EF553B\",\"symbol\":\"circle\"},\"mode\":\"markers\",\"name\":\"0\",\"orientation\":\"v\",\"showlegend\":true,\"x\":[0.10117626493739665,0.15034907408970147,0.11325096355014418,0.5050720097096008,0.20229862434035958,0.11750031545871387,0.29327573185787875,0.2978945183388477,0.316083015261801,0.36546739106793125,0.14274975041376373,0.13224217291039267,0.09514532559676424,0.20946466689031895,0.16281686911689858,0.41597913157979305,0.3654876575889457,0.20941962221408877,0.23806416369346406,0.420182589138957,0.2651086942283628,0.5210097950679643,0.6197073763047684,0.8041316305099621,0.4454063741205127,0.4405677694596962,0.2499294067275666,0.1579210913091701,0.6013050705837863,0.48101417700824606,0.2664921152325872,0.4808505855458444,0.4209475054394423,0.42053354270418136,0.38956616638394537,0.629706300245026,0.5519715098757089,0.574004291377567,0.692845561879852,0.434037039169185,0.5660777913020428,0.42436838547458905,0.7083217599587411,0.6978592347974534,0.7691030492450099,0.8102131222414489,0.624208248298528,0.7212881715768925,0.7044830572144488,0.4587831842364596,0.729473794484533,0.5419686520928064,0.8240582383942565,0.8017955952352576,0.8814270592378337,0.7004563668227376,0.8301462342479962,0.9547796467801504,0.9540850024695712,0.924193402180425,1.1052253163516654,0.8532383376281384,0.9653483918032838,1.1317046740404813,1.3325692233356847],\"xaxis\":\"x\",\"y\":[1.0555870064666721,-0.4030023244197895,0.28795456928667823,1.6059631048367495,-0.32339681447484836,0.6146712713079463,0.13861313763563413,-0.645227395019485,-0.19581732144452696,0.2091622903018403,-0.7388704312075551,-0.3053530366541956,0.08207557939735087,0.1290236265913488,-0.09376743165015508,1.0727316249393062,0.6866660940104632,-0.3142227244361528,-0.2949109862065787,0.3237569112756987,-0.2803537622253688,0.008853509241131841,0.8226562916446476,-0.46073642165419537,0.1386159780260885,0.16792539918034433,-0.47860715369567547,-0.5063887813831424,0.442851913881843,-1.3526645911780344,-0.2418301031397081,-0.1567891516098642,-0.031223965024972967,0.04409799362656165,-0.22196285164809815,0.6957366382317297,0.05215825327511366,0.24361718565257018,-0.5752425985722062,0.010884481359593334,-0.05264800793905533,-0.9424620213482084,-0.037637074847982385,0.17470054803738153,0.3700089510580667,0.6018932023621142,0.510596509257768,0.04719143721731416,-0.1428956802689026,-0.0629370469144267,0.6308421284749202,-1.3636834794144088,0.3897124265754934,0.06261111771591486,0.1972274840302306,-0.24236791416544903,0.380967520897639,0.2287081018260395,0.09154533133328549,0.3824248396852991,-0.9408763239046466,-0.5196806410833096,-0.9178058037912922,0.3063936753437029,0.7982107825782392],\"yaxis\":\"y\",\"type\":\"scatter\"}],                        {\"template\":{\"data\":{\"bar\":[{\"error_x\":{\"color\":\"#2a3f5f\"},\"error_y\":{\"color\":\"#2a3f5f\"},\"marker\":{\"line\":{\"color\":\"#E5ECF6\",\"width\":0.5},\"pattern\":{\"fillmode\":\"overlay\",\"size\":10,\"solidity\":0.2}},\"type\":\"bar\"}],\"barpolar\":[{\"marker\":{\"line\":{\"color\":\"#E5ECF6\",\"width\":0.5},\"pattern\":{\"fillmode\":\"overlay\",\"size\":10,\"solidity\":0.2}},\"type\":\"barpolar\"}],\"carpet\":[{\"aaxis\":{\"endlinecolor\":\"#2a3f5f\",\"gridcolor\":\"white\",\"linecolor\":\"white\",\"minorgridcolor\":\"white\",\"startlinecolor\":\"#2a3f5f\"},\"baxis\":{\"endlinecolor\":\"#2a3f5f\",\"gridcolor\":\"white\",\"linecolor\":\"white\",\"minorgridcolor\":\"white\",\"startlinecolor\":\"#2a3f5f\"},\"type\":\"carpet\"}],\"choropleth\":[{\"colorbar\":{\"outlinewidth\":0,\"ticks\":\"\"},\"type\":\"choropleth\"}],\"contour\":[{\"colorbar\":{\"outlinewidth\":0,\"ticks\":\"\"},\"colorscale\":[[0.0,\"#0d0887\"],[0.1111111111111111,\"#46039f\"],[0.2222222222222222,\"#7201a8\"],[0.3333333333333333,\"#9c179e\"],[0.4444444444444444,\"#bd3786\"],[0.5555555555555556,\"#d8576b\"],[0.6666666666666666,\"#ed7953\"],[0.7777777777777778,\"#fb9f3a\"],[0.8888888888888888,\"#fdca26\"],[1.0,\"#f0f921\"]],\"type\":\"contour\"}],\"contourcarpet\":[{\"colorbar\":{\"outlinewidth\":0,\"ticks\":\"\"},\"type\":\"contourcarpet\"}],\"heatmap\":[{\"colorbar\":{\"outlinewidth\":0,\"ticks\":\"\"},\"colorscale\":[[0.0,\"#0d0887\"],[0.1111111111111111,\"#46039f\"],[0.2222222222222222,\"#7201a8\"],[0.3333333333333333,\"#9c179e\"],[0.4444444444444444,\"#bd3786\"],[0.5555555555555556,\"#d8576b\"],[0.6666666666666666,\"#ed7953\"],[0.7777777777777778,\"#fb9f3a\"],[0.8888888888888888,\"#fdca26\"],[1.0,\"#f0f921\"]],\"type\":\"heatmap\"}],\"heatmapgl\":[{\"colorbar\":{\"outlinewidth\":0,\"ticks\":\"\"},\"colorscale\":[[0.0,\"#0d0887\"],[0.1111111111111111,\"#46039f\"],[0.2222222222222222,\"#7201a8\"],[0.3333333333333333,\"#9c179e\"],[0.4444444444444444,\"#bd3786\"],[0.5555555555555556,\"#d8576b\"],[0.6666666666666666,\"#ed7953\"],[0.7777777777777778,\"#fb9f3a\"],[0.8888888888888888,\"#fdca26\"],[1.0,\"#f0f921\"]],\"type\":\"heatmapgl\"}],\"histogram\":[{\"marker\":{\"pattern\":{\"fillmode\":\"overlay\",\"size\":10,\"solidity\":0.2}},\"type\":\"histogram\"}],\"histogram2d\":[{\"colorbar\":{\"outlinewidth\":0,\"ticks\":\"\"},\"colorscale\":[[0.0,\"#0d0887\"],[0.1111111111111111,\"#46039f\"],[0.2222222222222222,\"#7201a8\"],[0.3333333333333333,\"#9c179e\"],[0.4444444444444444,\"#bd3786\"],[0.5555555555555556,\"#d8576b\"],[0.6666666666666666,\"#ed7953\"],[0.7777777777777778,\"#fb9f3a\"],[0.8888888888888888,\"#fdca26\"],[1.0,\"#f0f921\"]],\"type\":\"histogram2d\"}],\"histogram2dcontour\":[{\"colorbar\":{\"outlinewidth\":0,\"ticks\":\"\"},\"colorscale\":[[0.0,\"#0d0887\"],[0.1111111111111111,\"#46039f\"],[0.2222222222222222,\"#7201a8\"],[0.3333333333333333,\"#9c179e\"],[0.4444444444444444,\"#bd3786\"],[0.5555555555555556,\"#d8576b\"],[0.6666666666666666,\"#ed7953\"],[0.7777777777777778,\"#fb9f3a\"],[0.8888888888888888,\"#fdca26\"],[1.0,\"#f0f921\"]],\"type\":\"histogram2dcontour\"}],\"mesh3d\":[{\"colorbar\":{\"outlinewidth\":0,\"ticks\":\"\"},\"type\":\"mesh3d\"}],\"parcoords\":[{\"line\":{\"colorbar\":{\"outlinewidth\":0,\"ticks\":\"\"}},\"type\":\"parcoords\"}],\"pie\":[{\"automargin\":true,\"type\":\"pie\"}],\"scatter\":[{\"marker\":{\"colorbar\":{\"outlinewidth\":0,\"ticks\":\"\"}},\"type\":\"scatter\"}],\"scatter3d\":[{\"line\":{\"colorbar\":{\"outlinewidth\":0,\"ticks\":\"\"}},\"marker\":{\"colorbar\":{\"outlinewidth\":0,\"ticks\":\"\"}},\"type\":\"scatter3d\"}],\"scattercarpet\":[{\"marker\":{\"colorbar\":{\"outlinewidth\":0,\"ticks\":\"\"}},\"type\":\"scattercarpet\"}],\"scattergeo\":[{\"marker\":{\"colorbar\":{\"outlinewidth\":0,\"ticks\":\"\"}},\"type\":\"scattergeo\"}],\"scattergl\":[{\"marker\":{\"colorbar\":{\"outlinewidth\":0,\"ticks\":\"\"}},\"type\":\"scattergl\"}],\"scattermapbox\":[{\"marker\":{\"colorbar\":{\"outlinewidth\":0,\"ticks\":\"\"}},\"type\":\"scattermapbox\"}],\"scatterpolar\":[{\"marker\":{\"colorbar\":{\"outlinewidth\":0,\"ticks\":\"\"}},\"type\":\"scatterpolar\"}],\"scatterpolargl\":[{\"marker\":{\"colorbar\":{\"outlinewidth\":0,\"ticks\":\"\"}},\"type\":\"scatterpolargl\"}],\"scatterternary\":[{\"marker\":{\"colorbar\":{\"outlinewidth\":0,\"ticks\":\"\"}},\"type\":\"scatterternary\"}],\"surface\":[{\"colorbar\":{\"outlinewidth\":0,\"ticks\":\"\"},\"colorscale\":[[0.0,\"#0d0887\"],[0.1111111111111111,\"#46039f\"],[0.2222222222222222,\"#7201a8\"],[0.3333333333333333,\"#9c179e\"],[0.4444444444444444,\"#bd3786\"],[0.5555555555555556,\"#d8576b\"],[0.6666666666666666,\"#ed7953\"],[0.7777777777777778,\"#fb9f3a\"],[0.8888888888888888,\"#fdca26\"],[1.0,\"#f0f921\"]],\"type\":\"surface\"}],\"table\":[{\"cells\":{\"fill\":{\"color\":\"#EBF0F8\"},\"line\":{\"color\":\"white\"}},\"header\":{\"fill\":{\"color\":\"#C8D4E3\"},\"line\":{\"color\":\"white\"}},\"type\":\"table\"}]},\"layout\":{\"annotationdefaults\":{\"arrowcolor\":\"#2a3f5f\",\"arrowhead\":0,\"arrowwidth\":1},\"autotypenumbers\":\"strict\",\"coloraxis\":{\"colorbar\":{\"outlinewidth\":0,\"ticks\":\"\"}},\"colorscale\":{\"diverging\":[[0,\"#8e0152\"],[0.1,\"#c51b7d\"],[0.2,\"#de77ae\"],[0.3,\"#f1b6da\"],[0.4,\"#fde0ef\"],[0.5,\"#f7f7f7\"],[0.6,\"#e6f5d0\"],[0.7,\"#b8e186\"],[0.8,\"#7fbc41\"],[0.9,\"#4d9221\"],[1,\"#276419\"]],\"sequential\":[[0.0,\"#0d0887\"],[0.1111111111111111,\"#46039f\"],[0.2222222222222222,\"#7201a8\"],[0.3333333333333333,\"#9c179e\"],[0.4444444444444444,\"#bd3786\"],[0.5555555555555556,\"#d8576b\"],[0.6666666666666666,\"#ed7953\"],[0.7777777777777778,\"#fb9f3a\"],[0.8888888888888888,\"#fdca26\"],[1.0,\"#f0f921\"]],\"sequentialminus\":[[0.0,\"#0d0887\"],[0.1111111111111111,\"#46039f\"],[0.2222222222222222,\"#7201a8\"],[0.3333333333333333,\"#9c179e\"],[0.4444444444444444,\"#bd3786\"],[0.5555555555555556,\"#d8576b\"],[0.6666666666666666,\"#ed7953\"],[0.7777777777777778,\"#fb9f3a\"],[0.8888888888888888,\"#fdca26\"],[1.0,\"#f0f921\"]]},\"colorway\":[\"#636efa\",\"#EF553B\",\"#00cc96\",\"#ab63fa\",\"#FFA15A\",\"#19d3f3\",\"#FF6692\",\"#B6E880\",\"#FF97FF\",\"#FECB52\"],\"font\":{\"color\":\"#2a3f5f\"},\"geo\":{\"bgcolor\":\"white\",\"lakecolor\":\"white\",\"landcolor\":\"#E5ECF6\",\"showlakes\":true,\"showland\":true,\"subunitcolor\":\"white\"},\"hoverlabel\":{\"align\":\"left\"},\"hovermode\":\"closest\",\"mapbox\":{\"style\":\"light\"},\"paper_bgcolor\":\"white\",\"plot_bgcolor\":\"#E5ECF6\",\"polar\":{\"angularaxis\":{\"gridcolor\":\"white\",\"linecolor\":\"white\",\"ticks\":\"\"},\"bgcolor\":\"#E5ECF6\",\"radialaxis\":{\"gridcolor\":\"white\",\"linecolor\":\"white\",\"ticks\":\"\"}},\"scene\":{\"xaxis\":{\"backgroundcolor\":\"#E5ECF6\",\"gridcolor\":\"white\",\"gridwidth\":2,\"linecolor\":\"white\",\"showbackground\":true,\"ticks\":\"\",\"zerolinecolor\":\"white\"},\"yaxis\":{\"backgroundcolor\":\"#E5ECF6\",\"gridcolor\":\"white\",\"gridwidth\":2,\"linecolor\":\"white\",\"showbackground\":true,\"ticks\":\"\",\"zerolinecolor\":\"white\"},\"zaxis\":{\"backgroundcolor\":\"#E5ECF6\",\"gridcolor\":\"white\",\"gridwidth\":2,\"linecolor\":\"white\",\"showbackground\":true,\"ticks\":\"\",\"zerolinecolor\":\"white\"}},\"shapedefaults\":{\"line\":{\"color\":\"#2a3f5f\"}},\"ternary\":{\"aaxis\":{\"gridcolor\":\"white\",\"linecolor\":\"white\",\"ticks\":\"\"},\"baxis\":{\"gridcolor\":\"white\",\"linecolor\":\"white\",\"ticks\":\"\"},\"bgcolor\":\"#E5ECF6\",\"caxis\":{\"gridcolor\":\"white\",\"linecolor\":\"white\",\"ticks\":\"\"}},\"title\":{\"x\":0.05},\"xaxis\":{\"automargin\":true,\"gridcolor\":\"white\",\"linecolor\":\"white\",\"ticks\":\"\",\"title\":{\"standoff\":15},\"zerolinecolor\":\"white\",\"zerolinewidth\":2},\"yaxis\":{\"automargin\":true,\"gridcolor\":\"white\",\"linecolor\":\"white\",\"ticks\":\"\",\"title\":{\"standoff\":15},\"zerolinecolor\":\"white\",\"zerolinewidth\":2}}},\"xaxis\":{\"anchor\":\"y\",\"domain\":[0.0,1.0],\"title\":{\"text\":\"0\"}},\"yaxis\":{\"anchor\":\"x\",\"domain\":[0.0,1.0],\"title\":{\"text\":\"1\"}},\"legend\":{\"title\":{\"text\":\"color\"},\"tracegroupgap\":0},\"margin\":{\"t\":60},\"shapes\":[{\"type\":\"line\",\"x0\":0,\"x1\":-0.376154184536666,\"y0\":0,\"y1\":-0.1640020167316575},{\"type\":\"line\",\"x0\":0,\"x1\":-0.22025166688403933,\"y0\":0,\"y1\":-0.07786379634681279},{\"type\":\"line\",\"x0\":0,\"x1\":-0.19516122874460343,\"y0\":0,\"y1\":-0.07630977785919467},{\"type\":\"line\",\"x0\":0,\"x1\":-0.06570633678353723,\"y0\":0,\"y1\":-0.016423066811377285},{\"type\":\"line\",\"x0\":0,\"x1\":0.002588520558398574,\"y0\":0,\"y1\":-0.017052578153480363},{\"type\":\"line\",\"x0\":0,\"x1\":-0.03254842335208396,\"y0\":0,\"y1\":-0.01795684938300369},{\"type\":\"line\",\"x0\":0,\"x1\":-0.21018485393470362,\"y0\":0,\"y1\":0.4536569109247568}],\"annotations\":[{\"ax\":0,\"ay\":0,\"text\":\"Economy..GDP.per.Capita.\",\"x\":-0.376154184536666,\"xanchor\":\"center\",\"y\":-0.1640020167316575,\"yanchor\":\"bottom\"},{\"ax\":0,\"ay\":0,\"text\":\"Family\",\"x\":-0.22025166688403933,\"xanchor\":\"center\",\"y\":-0.07786379634681279,\"yanchor\":\"bottom\"},{\"ax\":0,\"ay\":0,\"text\":\"Health..Life.Expectancy.\",\"x\":-0.19516122874460343,\"xanchor\":\"center\",\"y\":-0.07630977785919467,\"yanchor\":\"bottom\"},{\"ax\":0,\"ay\":0,\"text\":\"Freedom\",\"x\":-0.06570633678353723,\"xanchor\":\"center\",\"y\":-0.016423066811377285,\"yanchor\":\"bottom\"},{\"ax\":0,\"ay\":0,\"text\":\"Generosity\",\"x\":0.002588520558398574,\"xanchor\":\"center\",\"y\":-0.017052578153480363,\"yanchor\":\"bottom\"},{\"ax\":0,\"ay\":0,\"text\":\"Trust..Government.Corruption.\",\"x\":-0.03254842335208396,\"xanchor\":\"center\",\"y\":-0.01795684938300369,\"yanchor\":\"bottom\"},{\"ax\":0,\"ay\":0,\"text\":\"Dystopia.Residual\",\"x\":-0.21018485393470362,\"xanchor\":\"center\",\"y\":0.4536569109247568,\"yanchor\":\"bottom\"}]},                        {\"responsive\": true}                    ).then(function(){\n",
       "                            \n",
       "var gd = document.getElementById('14dbde2b-94c1-465f-bb8f-4f8ea39f021d');\n",
       "var x = new MutationObserver(function (mutations, observer) {{\n",
       "        var display = window.getComputedStyle(gd).display;\n",
       "        if (!display || display === 'none') {{\n",
       "            console.log([gd, 'removed!']);\n",
       "            Plotly.purge(gd);\n",
       "            observer.disconnect();\n",
       "        }}\n",
       "}});\n",
       "\n",
       "// Listen for the removal of the full notebook cells\n",
       "var notebookContainer = gd.closest('#notebook-container');\n",
       "if (notebookContainer) {{\n",
       "    x.observe(notebookContainer, {childList: true});\n",
       "}}\n",
       "\n",
       "// Listen for the clearing of the current output cell\n",
       "var outputEl = gd.closest('.output');\n",
       "if (outputEl) {{\n",
       "    x.observe(outputEl, {childList: true});\n",
       "}}\n",
       "\n",
       "                        })                };                });            </script>        </div>"
      ]
     },
     "metadata": {},
     "output_type": "display_data"
    }
   ],
   "source": [
    "for i, feature in enumerate(columns_to_use):\n",
    "    fig.add_shape(\n",
    "        type='line',\n",
    "        x0=0, y0=0,\n",
    "        x1=loadings[i, 0],\n",
    "        y1=loadings[i, 1]\n",
    "    )\n",
    "    fig.add_annotation(\n",
    "        x=loadings[i, 0],\n",
    "        y=loadings[i, 1],\n",
    "        ax=0, ay=0,\n",
    "        xanchor=\"center\",\n",
    "        yanchor=\"bottom\",\n",
    "        text=feature,\n",
    "    )\n",
    "fig.show()"
   ]
  },
  {
   "cell_type": "code",
   "execution_count": 146,
   "id": "a442259b-dd3b-46e5-919b-340e1caca8ad",
   "metadata": {},
   "outputs": [],
   "source": [
    "final_df_cluster_0 = final_df.loc[ final_df['cluster'] == '0'  , : ]\n",
    "final_df_cluster_1 = final_df.loc[ final_df['cluster'] == '1'  , : ]"
   ]
  },
  {
   "cell_type": "code",
   "execution_count": 147,
   "id": "731da756-ca5f-4cee-af05-02369d7736ba",
   "metadata": {},
   "outputs": [
    {
     "data": {
      "text/html": [
       "<div>\n",
       "<style scoped>\n",
       "    .dataframe tbody tr th:only-of-type {\n",
       "        vertical-align: middle;\n",
       "    }\n",
       "\n",
       "    .dataframe tbody tr th {\n",
       "        vertical-align: top;\n",
       "    }\n",
       "\n",
       "    .dataframe thead th {\n",
       "        text-align: right;\n",
       "    }\n",
       "</style>\n",
       "<table border=\"1\" class=\"dataframe\">\n",
       "  <thead>\n",
       "    <tr style=\"text-align: right;\">\n",
       "      <th></th>\n",
       "      <th>Economy..GDP.per.Capita.</th>\n",
       "      <th>Family</th>\n",
       "      <th>Health..Life.Expectancy.</th>\n",
       "      <th>Freedom</th>\n",
       "      <th>Generosity</th>\n",
       "      <th>Trust..Government.Corruption.</th>\n",
       "      <th>Dystopia.Residual</th>\n",
       "    </tr>\n",
       "  </thead>\n",
       "  <tbody>\n",
       "    <tr>\n",
       "      <th>count</th>\n",
       "      <td>65.000000</td>\n",
       "      <td>65.000000</td>\n",
       "      <td>65.000000</td>\n",
       "      <td>65.000000</td>\n",
       "      <td>65.000000</td>\n",
       "      <td>65.000000</td>\n",
       "      <td>65.000000</td>\n",
       "    </tr>\n",
       "    <tr>\n",
       "      <th>mean</th>\n",
       "      <td>0.605310</td>\n",
       "      <td>0.968621</td>\n",
       "      <td>0.339092</td>\n",
       "      <td>0.348931</td>\n",
       "      <td>0.259719</td>\n",
       "      <td>0.097683</td>\n",
       "      <td>1.656422</td>\n",
       "    </tr>\n",
       "    <tr>\n",
       "      <th>std</th>\n",
       "      <td>0.307390</td>\n",
       "      <td>0.287339</td>\n",
       "      <td>0.190741</td>\n",
       "      <td>0.151527</td>\n",
       "      <td>0.138835</td>\n",
       "      <td>0.067553</td>\n",
       "      <td>0.505135</td>\n",
       "    </tr>\n",
       "    <tr>\n",
       "      <th>min</th>\n",
       "      <td>0.000000</td>\n",
       "      <td>0.000000</td>\n",
       "      <td>0.000000</td>\n",
       "      <td>0.000000</td>\n",
       "      <td>0.043785</td>\n",
       "      <td>0.015317</td>\n",
       "      <td>0.377914</td>\n",
       "    </tr>\n",
       "    <tr>\n",
       "      <th>25%</th>\n",
       "      <td>0.368746</td>\n",
       "      <td>0.803685</td>\n",
       "      <td>0.194129</td>\n",
       "      <td>0.254711</td>\n",
       "      <td>0.183469</td>\n",
       "      <td>0.060929</td>\n",
       "      <td>1.481890</td>\n",
       "    </tr>\n",
       "    <tr>\n",
       "      <th>50%</th>\n",
       "      <td>0.591683</td>\n",
       "      <td>0.997471</td>\n",
       "      <td>0.315090</td>\n",
       "      <td>0.380426</td>\n",
       "      <td>0.236298</td>\n",
       "      <td>0.084148</td>\n",
       "      <td>1.668191</td>\n",
       "    </tr>\n",
       "    <tr>\n",
       "      <th>75%</th>\n",
       "      <td>0.858428</td>\n",
       "      <td>1.179692</td>\n",
       "      <td>0.501180</td>\n",
       "      <td>0.454943</td>\n",
       "      <td>0.312651</td>\n",
       "      <td>0.116794</td>\n",
       "      <td>1.885631</td>\n",
       "    </tr>\n",
       "    <tr>\n",
       "      <th>max</th>\n",
       "      <td>1.198210</td>\n",
       "      <td>1.493011</td>\n",
       "      <td>0.731160</td>\n",
       "      <td>0.633376</td>\n",
       "      <td>0.838075</td>\n",
       "      <td>0.455220</td>\n",
       "      <td>3.117485</td>\n",
       "    </tr>\n",
       "  </tbody>\n",
       "</table>\n",
       "</div>"
      ],
      "text/plain": [
       "       Economy..GDP.per.Capita.     Family  Health..Life.Expectancy.  \\\n",
       "count                 65.000000  65.000000                 65.000000   \n",
       "mean                   0.605310   0.968621                  0.339092   \n",
       "std                    0.307390   0.287339                  0.190741   \n",
       "min                    0.000000   0.000000                  0.000000   \n",
       "25%                    0.368746   0.803685                  0.194129   \n",
       "50%                    0.591683   0.997471                  0.315090   \n",
       "75%                    0.858428   1.179692                  0.501180   \n",
       "max                    1.198210   1.493011                  0.731160   \n",
       "\n",
       "         Freedom  Generosity  Trust..Government.Corruption.  Dystopia.Residual  \n",
       "count  65.000000   65.000000                      65.000000          65.000000  \n",
       "mean    0.348931    0.259719                       0.097683           1.656422  \n",
       "std     0.151527    0.138835                       0.067553           0.505135  \n",
       "min     0.000000    0.043785                       0.015317           0.377914  \n",
       "25%     0.254711    0.183469                       0.060929           1.481890  \n",
       "50%     0.380426    0.236298                       0.084148           1.668191  \n",
       "75%     0.454943    0.312651                       0.116794           1.885631  \n",
       "max     0.633376    0.838075                       0.455220           3.117485  "
      ]
     },
     "execution_count": 147,
     "metadata": {},
     "output_type": "execute_result"
    }
   ],
   "source": [
    "final_df_cluster_0.describe()"
   ]
  },
  {
   "cell_type": "code",
   "execution_count": 148,
   "id": "2c0e5a0d-e881-44cb-8eb7-487eadb9f242",
   "metadata": {},
   "outputs": [
    {
     "data": {
      "text/html": [
       "<div>\n",
       "<style scoped>\n",
       "    .dataframe tbody tr th:only-of-type {\n",
       "        vertical-align: middle;\n",
       "    }\n",
       "\n",
       "    .dataframe tbody tr th {\n",
       "        vertical-align: top;\n",
       "    }\n",
       "\n",
       "    .dataframe thead th {\n",
       "        text-align: right;\n",
       "    }\n",
       "</style>\n",
       "<table border=\"1\" class=\"dataframe\">\n",
       "  <thead>\n",
       "    <tr style=\"text-align: right;\">\n",
       "      <th></th>\n",
       "      <th>Economy..GDP.per.Capita.</th>\n",
       "      <th>Family</th>\n",
       "      <th>Health..Life.Expectancy.</th>\n",
       "      <th>Freedom</th>\n",
       "      <th>Generosity</th>\n",
       "      <th>Trust..Government.Corruption.</th>\n",
       "      <th>Dystopia.Residual</th>\n",
       "    </tr>\n",
       "  </thead>\n",
       "  <tbody>\n",
       "    <tr>\n",
       "      <th>count</th>\n",
       "      <td>90.000000</td>\n",
       "      <td>90.000000</td>\n",
       "      <td>90.000000</td>\n",
       "      <td>90.000000</td>\n",
       "      <td>90.000000</td>\n",
       "      <td>90.000000</td>\n",
       "      <td>90.000000</td>\n",
       "    </tr>\n",
       "    <tr>\n",
       "      <th>mean</th>\n",
       "      <td>1.258735</td>\n",
       "      <td>1.347987</td>\n",
       "      <td>0.704631</td>\n",
       "      <td>0.452014</td>\n",
       "      <td>0.237614</td>\n",
       "      <td>0.141492</td>\n",
       "      <td>1.990216</td>\n",
       "    </tr>\n",
       "    <tr>\n",
       "      <th>std</th>\n",
       "      <td>0.239534</td>\n",
       "      <td>0.149616</td>\n",
       "      <td>0.120105</td>\n",
       "      <td>0.133844</td>\n",
       "      <td>0.131776</td>\n",
       "      <td>0.117420</td>\n",
       "      <td>0.449330</td>\n",
       "    </tr>\n",
       "    <tr>\n",
       "      <th>min</th>\n",
       "      <td>0.728871</td>\n",
       "      <td>0.774864</td>\n",
       "      <td>0.437726</td>\n",
       "      <td>0.095731</td>\n",
       "      <td>0.000000</td>\n",
       "      <td>0.000000</td>\n",
       "      <td>0.554633</td>\n",
       "    </tr>\n",
       "    <tr>\n",
       "      <th>25%</th>\n",
       "      <td>1.094349</td>\n",
       "      <td>1.252349</td>\n",
       "      <td>0.617885</td>\n",
       "      <td>0.374561</td>\n",
       "      <td>0.147966</td>\n",
       "      <td>0.049104</td>\n",
       "      <td>1.724723</td>\n",
       "    </tr>\n",
       "    <tr>\n",
       "      <th>50%</th>\n",
       "      <td>1.285284</td>\n",
       "      <td>1.382299</td>\n",
       "      <td>0.703237</td>\n",
       "      <td>0.473908</td>\n",
       "      <td>0.224856</td>\n",
       "      <td>0.097956</td>\n",
       "      <td>1.999052</td>\n",
       "    </tr>\n",
       "    <tr>\n",
       "      <th>75%</th>\n",
       "      <td>1.439632</td>\n",
       "      <td>1.459355</td>\n",
       "      <td>0.810095</td>\n",
       "      <td>0.561567</td>\n",
       "      <td>0.328316</td>\n",
       "      <td>0.219585</td>\n",
       "      <td>2.276949</td>\n",
       "    </tr>\n",
       "    <tr>\n",
       "      <th>max</th>\n",
       "      <td>1.870766</td>\n",
       "      <td>1.610574</td>\n",
       "      <td>0.949492</td>\n",
       "      <td>0.658249</td>\n",
       "      <td>0.574731</td>\n",
       "      <td>0.464308</td>\n",
       "      <td>2.898639</td>\n",
       "    </tr>\n",
       "  </tbody>\n",
       "</table>\n",
       "</div>"
      ],
      "text/plain": [
       "       Economy..GDP.per.Capita.     Family  Health..Life.Expectancy.  \\\n",
       "count                 90.000000  90.000000                 90.000000   \n",
       "mean                   1.258735   1.347987                  0.704631   \n",
       "std                    0.239534   0.149616                  0.120105   \n",
       "min                    0.728871   0.774864                  0.437726   \n",
       "25%                    1.094349   1.252349                  0.617885   \n",
       "50%                    1.285284   1.382299                  0.703237   \n",
       "75%                    1.439632   1.459355                  0.810095   \n",
       "max                    1.870766   1.610574                  0.949492   \n",
       "\n",
       "         Freedom  Generosity  Trust..Government.Corruption.  Dystopia.Residual  \n",
       "count  90.000000   90.000000                      90.000000          90.000000  \n",
       "mean    0.452014    0.237614                       0.141492           1.990216  \n",
       "std     0.133844    0.131776                       0.117420           0.449330  \n",
       "min     0.095731    0.000000                       0.000000           0.554633  \n",
       "25%     0.374561    0.147966                       0.049104           1.724723  \n",
       "50%     0.473908    0.224856                       0.097956           1.999052  \n",
       "75%     0.561567    0.328316                       0.219585           2.276949  \n",
       "max     0.658249    0.574731                       0.464308           2.898639  "
      ]
     },
     "execution_count": 148,
     "metadata": {},
     "output_type": "execute_result"
    }
   ],
   "source": [
    "final_df_cluster_1.describe()"
   ]
  },
  {
   "cell_type": "markdown",
   "id": "68e16339-0982-46ac-a266-a55d09b44c80",
   "metadata": {},
   "source": [
    "## Repaso Box Plot, analisis de promedios y medianas"
   ]
  },
  {
   "cell_type": "code",
   "execution_count": 59,
   "id": "e5394d0c-c316-4776-a859-9bc830c47f44",
   "metadata": {},
   "outputs": [],
   "source": [
    "ejemploPromedios = pd.DataFrame( { \"promedioVentas\"  : [3,200,150,770,201,210,180,270] } )"
   ]
  },
  {
   "cell_type": "code",
   "execution_count": 60,
   "id": "e8507916-f921-4503-8dd2-b561d8cbd8ce",
   "metadata": {},
   "outputs": [
    {
     "data": {
      "text/plain": [
       "{'whiskers': [<matplotlib.lines.Line2D at 0x238a63600a0>,\n",
       "  <matplotlib.lines.Line2D at 0x238a6360400>],\n",
       " 'caps': [<matplotlib.lines.Line2D at 0x238a6360760>,\n",
       "  <matplotlib.lines.Line2D at 0x238a6360ac0>],\n",
       " 'boxes': [<matplotlib.lines.Line2D at 0x238a6894cd0>],\n",
       " 'medians': [<matplotlib.lines.Line2D at 0x238a6360e20>],\n",
       " 'fliers': [<matplotlib.lines.Line2D at 0x238a63701c0>],\n",
       " 'means': []}"
      ]
     },
     "execution_count": 60,
     "metadata": {},
     "output_type": "execute_result"
    },
    {
     "data": {
      "image/png": "[encoded data removed]",
      "text/plain": [
       "<Figure size 432x288 with 1 Axes>"
      ]
     },
     "metadata": {
      "needs_background": "light"
     },
     "output_type": "display_data"
    }
   ],
   "source": [
    "plt.boxplot( ejemploPromedios['promedioVentas']  )"
   ]
  },
  {
   "cell_type": "code",
   "execution_count": 65,
   "id": "b8508e96-61a6-4b05-a152-b50465170cb3",
   "metadata": {},
   "outputs": [],
   "source": [
    "p99 = np.quantile( ejemploPromedios['promedioVentas'] , .75 )\n",
    "p01 = np.quantile( ejemploPromedios['promedioVentas'] , .25 )"
   ]
  },
  {
   "cell_type": "code",
   "execution_count": 66,
   "id": "8c92bdce-52bb-4f0d-b43e-e850443436b6",
   "metadata": {},
   "outputs": [
    {
     "data": {
      "text/plain": [
       "225.0"
      ]
     },
     "execution_count": 66,
     "metadata": {},
     "output_type": "execute_result"
    }
   ],
   "source": [
    "p99"
   ]
  },
  {
   "cell_type": "code",
   "execution_count": 48,
   "id": "4da653bf-df01-44e0-9236-99425e21791a",
   "metadata": {},
   "outputs": [],
   "source": [
    "promedio  = np.mean( ejemploPromedios['promedioVentas'] )"
   ]
  },
  {
   "cell_type": "code",
   "execution_count": 55,
   "id": "c4408f0b-0763-45e5-bf8c-0df890071ba3",
   "metadata": {},
   "outputs": [
    {
     "data": {
      "text/plain": [
       "205.5"
      ]
     },
     "execution_count": 55,
     "metadata": {},
     "output_type": "execute_result"
    }
   ],
   "source": [
    "np.median( ejemploPromedios['promedioVentas'] )"
   ]
  },
  {
   "cell_type": "code",
   "execution_count": 50,
   "id": "e5b41be2-6814-4220-a0be-9a22a7127bd4",
   "metadata": {},
   "outputs": [
    {
     "data": {
      "text/plain": [
       "248.0"
      ]
     },
     "execution_count": 50,
     "metadata": {},
     "output_type": "execute_result"
    }
   ],
   "source": [
    "promedio"
   ]
  },
  {
   "cell_type": "code",
   "execution_count": 51,
   "id": "e993644a-4fb3-4258-b633-7815fbc8af5f",
   "metadata": {},
   "outputs": [],
   "source": [
    "ejemploPromedios.loc[ ejemploPromedios['promedioVentas'] >= p99  , 'promedioVentas'  ] = promedio"
   ]
  },
  {
   "cell_type": "code",
   "execution_count": 52,
   "id": "8a0b908e-0959-47a2-8d6c-6bb3cb212d4a",
   "metadata": {},
   "outputs": [],
   "source": [
    "ejemploPromedios.loc[ ejemploPromedios['promedioVentas'] <= p01  , 'promedioVentas'  ] = promedio"
   ]
  },
  {
   "cell_type": "code",
   "execution_count": 53,
   "id": "229eb256-ef29-4cb3-8249-bff357d6951c",
   "metadata": {},
   "outputs": [
    {
     "data": {
      "text/plain": [
       "{'whiskers': [<matplotlib.lines.Line2D at 0x238a6553ca0>,\n",
       "  <matplotlib.lines.Line2D at 0x238a6553f70>],\n",
       " 'caps': [<matplotlib.lines.Line2D at 0x238a6636310>,\n",
       "  <matplotlib.lines.Line2D at 0x238a6636670>],\n",
       " 'boxes': [<matplotlib.lines.Line2D at 0x238a6553940>],\n",
       " 'medians': [<matplotlib.lines.Line2D at 0x238a66369d0>],\n",
       " 'fliers': [<matplotlib.lines.Line2D at 0x238a6636d30>],\n",
       " 'means': []}"
      ]
     },
     "execution_count": 53,
     "metadata": {},
     "output_type": "execute_result"
    },
    {
     "data": {
      "image/png": "[encoded data removed]",
      "text/plain": [
       "<Figure size 432x288 with 1 Axes>"
      ]
     },
     "metadata": {
      "needs_background": "light"
     },
     "output_type": "display_data"
    }
   ],
   "source": [
    "plt.boxplot( ejemploPromedios['promedioVentas']  )"
   ]
  },
  {
   "cell_type": "code",
   "execution_count": 54,
   "id": "d0aee95d-28e5-4690-8ef4-46eec797fd31",
   "metadata": {},
   "outputs": [
    {
     "data": {
      "text/plain": [
       "213.375"
      ]
     },
     "execution_count": 54,
     "metadata": {},
     "output_type": "execute_result"
    }
   ],
   "source": [
    "np.mean( ejemploPromedios['promedioVentas'] )"
   ]
  },
  {
   "cell_type": "markdown",
   "id": "f34e5ac3-1996-446c-b6c8-5035e53a940f",
   "metadata": {},
   "source": [
    "## Fin repaso\n",
    "\n",
    "## Repaso JOINS"
   ]
  },
  {
   "cell_type": "code",
   "execution_count": 6,
   "id": "eafe4c80-d1e4-43ec-a8ed-7b8985d8c97a",
   "metadata": {},
   "outputs": [],
   "source": [
    "ventas = pd.DataFrame({\n",
    "    \"Cliente\" : ['A','B','A','A']\n",
    "    , \"Anio\" : ['2019','2020','2021','2019']\n",
    "    , \"Ventas\" : [2000,2100,2500,4000]\n",
    "})"
   ]
  },
  {
   "cell_type": "code",
   "execution_count": 30,
   "id": "4968e95b-a1d2-4a17-aea9-30d62140b05e",
   "metadata": {},
   "outputs": [],
   "source": [
    "l2 = ventas.loc[ : , \"Anio\" ].drop_duplicates()"
   ]
  },
  {
   "cell_type": "code",
   "execution_count": 31,
   "id": "d70152d8-a678-4cb4-8e31-ad64bb0dc7e1",
   "metadata": {},
   "outputs": [],
   "source": [
    "l1 = ventas.loc[ : , \"Cliente\" ].drop_duplicates()"
   ]
  },
  {
   "cell_type": "code",
   "execution_count": 28,
   "id": "01a59857-b968-48c5-b0f5-afcfd3abf773",
   "metadata": {},
   "outputs": [],
   "source": [
    "from itertools import product"
   ]
  },
  {
   "cell_type": "code",
   "execution_count": 34,
   "id": "f8c6a1f0-f6df-4663-b070-6969b5f10eb3",
   "metadata": {},
   "outputs": [],
   "source": [
    "ClienteAnio = pd.DataFrame(list(product(l1, l2)), columns=['Cliente', 'Anio'])"
   ]
  },
  {
   "cell_type": "code",
   "execution_count": 42,
   "id": "80894cc7-a0ca-46ed-b8c8-3327e63d286e",
   "metadata": {},
   "outputs": [],
   "source": [
    "Reporte = ClienteAnio.merge( ventas , on=['Cliente','Anio'] , how='left' ).fillna(0)"
   ]
  },
  {
   "cell_type": "code",
   "execution_count": 44,
   "id": "6fa46c8e-265c-48ad-9e77-fc9a662e5495",
   "metadata": {},
   "outputs": [
    {
     "data": {
      "text/html": [
       "<div>\n",
       "<style scoped>\n",
       "    .dataframe tbody tr th:only-of-type {\n",
       "        vertical-align: middle;\n",
       "    }\n",
       "\n",
       "    .dataframe tbody tr th {\n",
       "        vertical-align: top;\n",
       "    }\n",
       "\n",
       "    .dataframe thead tr th {\n",
       "        text-align: left;\n",
       "    }\n",
       "</style>\n",
       "<table border=\"1\" class=\"dataframe\">\n",
       "  <thead>\n",
       "    <tr>\n",
       "      <th></th>\n",
       "      <th>Cliente</th>\n",
       "      <th>Anio</th>\n",
       "      <th>Ventas</th>\n",
       "    </tr>\n",
       "    <tr>\n",
       "      <th></th>\n",
       "      <th></th>\n",
       "      <th></th>\n",
       "      <th>sum</th>\n",
       "    </tr>\n",
       "  </thead>\n",
       "  <tbody>\n",
       "    <tr>\n",
       "      <th>0</th>\n",
       "      <td>A</td>\n",
       "      <td>2019</td>\n",
       "      <td>6000.0</td>\n",
       "    </tr>\n",
       "    <tr>\n",
       "      <th>1</th>\n",
       "      <td>A</td>\n",
       "      <td>2020</td>\n",
       "      <td>0.0</td>\n",
       "    </tr>\n",
       "    <tr>\n",
       "      <th>2</th>\n",
       "      <td>A</td>\n",
       "      <td>2021</td>\n",
       "      <td>2500.0</td>\n",
       "    </tr>\n",
       "    <tr>\n",
       "      <th>3</th>\n",
       "      <td>B</td>\n",
       "      <td>2019</td>\n",
       "      <td>0.0</td>\n",
       "    </tr>\n",
       "    <tr>\n",
       "      <th>4</th>\n",
       "      <td>B</td>\n",
       "      <td>2020</td>\n",
       "      <td>2100.0</td>\n",
       "    </tr>\n",
       "    <tr>\n",
       "      <th>5</th>\n",
       "      <td>B</td>\n",
       "      <td>2021</td>\n",
       "      <td>0.0</td>\n",
       "    </tr>\n",
       "  </tbody>\n",
       "</table>\n",
       "</div>"
      ],
      "text/plain": [
       "  Cliente  Anio  Ventas\n",
       "                    sum\n",
       "0       A  2019  6000.0\n",
       "1       A  2020     0.0\n",
       "2       A  2021  2500.0\n",
       "3       B  2019     0.0\n",
       "4       B  2020  2100.0\n",
       "5       B  2021     0.0"
      ]
     },
     "execution_count": 44,
     "metadata": {},
     "output_type": "execute_result"
    }
   ],
   "source": [
    "Reporte.groupby( ['Cliente','Anio'] , as_index=False ).agg({ 'Ventas' : ['sum'] })"
   ]
  },
  {
   "cell_type": "code",
   "execution_count": 39,
   "id": "4c53d1ad-6163-4341-a5f1-1320c6b8d42a",
   "metadata": {},
   "outputs": [
    {
     "data": {
      "text/html": [
       "<div>\n",
       "<style scoped>\n",
       "    .dataframe tbody tr th:only-of-type {\n",
       "        vertical-align: middle;\n",
       "    }\n",
       "\n",
       "    .dataframe tbody tr th {\n",
       "        vertical-align: top;\n",
       "    }\n",
       "\n",
       "    .dataframe thead th {\n",
       "        text-align: right;\n",
       "    }\n",
       "</style>\n",
       "<table border=\"1\" class=\"dataframe\">\n",
       "  <thead>\n",
       "    <tr style=\"text-align: right;\">\n",
       "      <th></th>\n",
       "      <th>Cliente</th>\n",
       "      <th>Anio</th>\n",
       "    </tr>\n",
       "  </thead>\n",
       "  <tbody>\n",
       "    <tr>\n",
       "      <th>0</th>\n",
       "      <td>A</td>\n",
       "      <td>2019</td>\n",
       "    </tr>\n",
       "    <tr>\n",
       "      <th>1</th>\n",
       "      <td>A</td>\n",
       "      <td>2020</td>\n",
       "    </tr>\n",
       "    <tr>\n",
       "      <th>2</th>\n",
       "      <td>A</td>\n",
       "      <td>2021</td>\n",
       "    </tr>\n",
       "    <tr>\n",
       "      <th>3</th>\n",
       "      <td>B</td>\n",
       "      <td>2019</td>\n",
       "    </tr>\n",
       "    <tr>\n",
       "      <th>4</th>\n",
       "      <td>B</td>\n",
       "      <td>2020</td>\n",
       "    </tr>\n",
       "    <tr>\n",
       "      <th>5</th>\n",
       "      <td>B</td>\n",
       "      <td>2021</td>\n",
       "    </tr>\n",
       "  </tbody>\n",
       "</table>\n",
       "</div>"
      ],
      "text/plain": [
       "  Cliente  Anio\n",
       "0       A  2019\n",
       "1       A  2020\n",
       "2       A  2021\n",
       "3       B  2019\n",
       "4       B  2020\n",
       "5       B  2021"
      ]
     },
     "execution_count": 39,
     "metadata": {},
     "output_type": "execute_result"
    }
   ],
   "source": [
    "ClienteAnio"
   ]
  },
  {
   "cell_type": "code",
   "execution_count": null,
   "id": "f866ed59-27a5-499c-b75f-caa5fe7794d7",
   "metadata": {},
   "outputs": [],
   "source": []
  }
 ],
 "metadata": {
  "kernelspec": {
   "display_name": "Python 3 (ipykernel)",
   "language": "python",
   "name": "python3"
  },
  "language_info": {
   "codemirror_mode": {
    "name": "ipython",
    "version": 3
   },
   "file_extension": ".py",
   "mimetype": "text/x-python",
   "name": "python",
   "nbconvert_exporter": "python",
   "pygments_lexer": "ipython3",
   "version": "3.9.7"
  }
 },
 "nbformat": 4,
 "nbformat_minor": 5
}
