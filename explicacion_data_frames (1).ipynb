{
 "cells": [
  {
   "cell_type": "markdown",
   "id": "401dad55-b30f-470b-b329-7c10d73080dc",
   "metadata": {},
   "source": [
    "### Como leemos librerias en Python\n",
    "\n",
    "import nombre_de_la_librerias as alias"
   ]
  },
  {
   "cell_type": "code",
   "execution_count": 1,
   "id": "a8c27a33-221e-4ad0-bcf6-24e7b288a513",
   "metadata": {
    "tags": []
   },
   "outputs": [],
   "source": [
    "import pandas as pd\n",
    "import numpy as np\n",
    "import datetime"
   ]
  },
  {
   "cell_type": "markdown",
   "id": "ba2bc185-9452-4425-bb3d-fd820af408f9",
   "metadata": {},
   "source": [
    "para leer un dataframe desde un archivo CSV podemos usar el metodo read_csv de la libreria de pandas, mandando como parametro el nombre del archivo y en ocuaciones el delimitador"
   ]
  },
  {
   "cell_type": "code",
   "execution_count": 19,
   "id": "b770c64c-9729-4928-8490-8f8328e762df",
   "metadata": {},
   "outputs": [],
   "source": [
    "df = pd.read_csv(\"example_data.csv\", delimiter=\";\")"
   ]
  },
  {
   "cell_type": "markdown",
   "id": "792ee0cb-e725-4bdf-9063-875720775391",
   "metadata": {},
   "source": [
    "Para imprimir el dataframe asigado a la variable de df en pandas lo podemos hacer llamando la variable pura"
   ]
  },
  {
   "cell_type": "markdown",
   "id": "0d2b487e-1da7-4714-a6e3-d9d01954e8cd",
   "metadata": {},
   "source": [
    "Como podemos acceder al diccionario de un dataframe"
   ]
  },
  {
   "cell_type": "code",
   "execution_count": 16,
   "id": "64ed300d-93e6-4a9a-92ca-dfe725a14d54",
   "metadata": {},
   "outputs": [
    {
     "data": {
      "text/plain": [
       "'2018-10-13 04:34:15.580'"
      ]
     },
     "execution_count": 16,
     "metadata": {},
     "output_type": "execute_result"
    }
   ],
   "source": [
    "df.to_dict()['time'][1]"
   ]
  },
  {
   "cell_type": "markdown",
   "id": "530149a3-a6c9-49c8-a839-1305393a57a4",
   "metadata": {},
   "source": [
    "Ejemplo de como construimos nuestro diccionario"
   ]
  },
  {
   "cell_type": "code",
   "execution_count": 18,
   "id": "bccd0cab-ff9a-40e5-a610-1ee3fbe2d9b7",
   "metadata": {},
   "outputs": [],
   "source": [
    "o1 = { \n",
    "    \"name\": \"Uayeb\"\n",
    "    , \"lastname\": \"Caballero\"\n",
    "}"
   ]
  },
  {
   "cell_type": "code",
   "execution_count": 20,
   "id": "1344c07c-d061-407e-9c31-32ebdcc0ce99",
   "metadata": {},
   "outputs": [
    {
     "data": {
      "text/plain": [
       "'Caballero'"
      ]
     },
     "execution_count": 20,
     "metadata": {},
     "output_type": "execute_result"
    }
   ],
   "source": [
    "o1[\"lastname\"]"
   ]
  },
  {
   "cell_type": "code",
   "execution_count": 22,
   "id": "e663c594-4dcb-4ed0-ba72-c356740a1278",
   "metadata": {},
   "outputs": [],
   "source": [
    "a = {\n",
    "    \"id\": [1,2,4,5,6,7]\n",
    "    , \"name\": [\"Luis\",\"Jose\",\"Elminson\",\"Rony\",\"Rovin\",\"Jesus\"]\n",
    "}"
   ]
  },
  {
   "cell_type": "code",
   "execution_count": 24,
   "id": "79a1c0a8-0e84-4776-b705-4cf4692e4240",
   "metadata": {},
   "outputs": [
    {
     "data": {
      "text/html": [
       "<div>\n",
       "<style scoped>\n",
       "    .dataframe tbody tr th:only-of-type {\n",
       "        vertical-align: middle;\n",
       "    }\n",
       "\n",
       "    .dataframe tbody tr th {\n",
       "        vertical-align: top;\n",
       "    }\n",
       "\n",
       "    .dataframe thead th {\n",
       "        text-align: right;\n",
       "    }\n",
       "</style>\n",
       "<table border=\"1\" class=\"dataframe\">\n",
       "  <thead>\n",
       "    <tr style=\"text-align: right;\">\n",
       "      <th></th>\n",
       "      <th>id</th>\n",
       "      <th>name</th>\n",
       "    </tr>\n",
       "  </thead>\n",
       "  <tbody>\n",
       "    <tr>\n",
       "      <th>0</th>\n",
       "      <td>1</td>\n",
       "      <td>Luis</td>\n",
       "    </tr>\n",
       "    <tr>\n",
       "      <th>1</th>\n",
       "      <td>2</td>\n",
       "      <td>Jose</td>\n",
       "    </tr>\n",
       "    <tr>\n",
       "      <th>2</th>\n",
       "      <td>4</td>\n",
       "      <td>Elminson</td>\n",
       "    </tr>\n",
       "    <tr>\n",
       "      <th>3</th>\n",
       "      <td>5</td>\n",
       "      <td>Rony</td>\n",
       "    </tr>\n",
       "    <tr>\n",
       "      <th>4</th>\n",
       "      <td>6</td>\n",
       "      <td>Rovin</td>\n",
       "    </tr>\n",
       "    <tr>\n",
       "      <th>5</th>\n",
       "      <td>7</td>\n",
       "      <td>Jesus</td>\n",
       "    </tr>\n",
       "  </tbody>\n",
       "</table>\n",
       "</div>"
      ],
      "text/plain": [
       "   id      name\n",
       "0   1      Luis\n",
       "1   2      Jose\n",
       "2   4  Elminson\n",
       "3   5      Rony\n",
       "4   6     Rovin\n",
       "5   7     Jesus"
      ]
     },
     "execution_count": 24,
     "metadata": {},
     "output_type": "execute_result"
    }
   ],
   "source": [
    "pd.DataFrame(a)"
   ]
  },
  {
   "cell_type": "code",
   "execution_count": 33,
   "id": "c9946334-8edb-4b72-a83f-262dec13fe9c",
   "metadata": {},
   "outputs": [],
   "source": [
    "df_read_by_dict = pd.DataFrame({\n",
    "    \"id\": [1,2,4,5,6,7]\n",
    "    , \"name\": [\"Luis\",\"Jose\",\"Elminson\",\"Rony\",\"Rovin\",\"Jesus\"]\n",
    "    , \"year_study\" : [3,3,3,4,3,5]\n",
    "})"
   ]
  },
  {
   "cell_type": "raw",
   "id": "e582b5b7-af0c-4be9-8bd8-dcf9facadd50",
   "metadata": {},
   "source": [
    "select \n",
    "    year_study\n",
    "    , count(id) as frequencia \n",
    "from df_read_by_dict\n",
    "group by year_study"
   ]
  },
  {
   "cell_type": "code",
   "execution_count": 35,
   "id": "9497f20a-b54f-49f4-8ffe-12bb685330d3",
   "metadata": {},
   "outputs": [
    {
     "data": {
      "text/plain": [
       "0        Luis\n",
       "1        Jose\n",
       "2    Elminson\n",
       "3        Rony\n",
       "4       Rovin\n",
       "5       Jesus\n",
       "Name: name, dtype: object"
      ]
     },
     "execution_count": 35,
     "metadata": {},
     "output_type": "execute_result"
    }
   ],
   "source": [
    "df_read_by_dict[\"name\"]"
   ]
  },
  {
   "cell_type": "code",
   "execution_count": 36,
   "id": "9f5c9fcd-beec-4b0c-b967-b4288b02f726",
   "metadata": {},
   "outputs": [
    {
     "data": {
      "text/plain": [
       "id             int64\n",
       "name          object\n",
       "year_study     int64\n",
       "dtype: object"
      ]
     },
     "execution_count": 36,
     "metadata": {},
     "output_type": "execute_result"
    }
   ],
   "source": [
    "df_read_by_dict.dtypes"
   ]
  },
  {
   "cell_type": "markdown",
   "id": "5719a7ae-80fc-4ab8-a9c3-440bf1170da6",
   "metadata": {},
   "source": [
    "## creacion de dataframes usando diccionarios y manipulacion de ellos"
   ]
  },
  {
   "cell_type": "code",
   "execution_count": 1,
   "id": "77907dff-d410-40a4-b8ec-5974caa2a780",
   "metadata": {},
   "outputs": [],
   "source": [
    "asignaciones = {\n",
    "    'Inteligencia_Artificila': [1,0,2,4,1]\n",
    "    , 'Gerencia': [3,1,3,2,0]\n",
    "    , 'Arquitectura': [7,0,3,1,1]\n",
    "    , 'Industria': [1,1,1,1,1]    \n",
    "}"
   ]
  },
  {
   "cell_type": "code",
   "execution_count": 6,
   "id": "9cc2603c-ef68-4572-9f20-a4f9063999f6",
   "metadata": {},
   "outputs": [
    {
     "data": {
      "text/plain": [
       "Index(['Inteligencia_Artificila', 'Gerencia', 'Arquitectura', 'Industria'], dtype='object')"
      ]
     },
     "execution_count": 6,
     "metadata": {},
     "output_type": "execute_result"
    }
   ],
   "source": [
    "pd.DataFrame( asignaciones ).columns"
   ]
  },
  {
   "cell_type": "code",
   "execution_count": 7,
   "id": "7fb31322-56dc-4636-a7d6-d502c30d5bd5",
   "metadata": {},
   "outputs": [
    {
     "data": {
      "text/plain": [
       "RangeIndex(start=0, stop=5, step=1)"
      ]
     },
     "execution_count": 7,
     "metadata": {},
     "output_type": "execute_result"
    }
   ],
   "source": [
    "pd.DataFrame( asignaciones ).index"
   ]
  },
  {
   "cell_type": "code",
   "execution_count": 23,
   "id": "07277c4b-cc1d-457a-9de0-49309b35923e",
   "metadata": {},
   "outputs": [],
   "source": [
    "df = pd.DataFrame( asignaciones , index = ['lunes','martes','miercoles','jueves','viernes'] )"
   ]
  },
  {
   "cell_type": "markdown",
   "id": "1e6d4c37-037f-4c50-8bcd-6e5b68798796",
   "metadata": {},
   "source": [
    "## Selecciones"
   ]
  },
  {
   "cell_type": "code",
   "execution_count": 31,
   "id": "4324c978-deaa-4c49-b56c-1f57d4f2b48a",
   "metadata": {},
   "outputs": [
    {
     "data": {
      "text/html": [
       "<div>\n",
       "<style scoped>\n",
       "    .dataframe tbody tr th:only-of-type {\n",
       "        vertical-align: middle;\n",
       "    }\n",
       "\n",
       "    .dataframe tbody tr th {\n",
       "        vertical-align: top;\n",
       "    }\n",
       "\n",
       "    .dataframe thead th {\n",
       "        text-align: right;\n",
       "    }\n",
       "</style>\n",
       "<table border=\"1\" class=\"dataframe\">\n",
       "  <thead>\n",
       "    <tr style=\"text-align: right;\">\n",
       "      <th></th>\n",
       "      <th>Inteligencia_Artificila</th>\n",
       "      <th>Gerencia</th>\n",
       "      <th>Arquitectura</th>\n",
       "      <th>Industria</th>\n",
       "    </tr>\n",
       "  </thead>\n",
       "  <tbody>\n",
       "    <tr>\n",
       "      <th>lunes</th>\n",
       "      <td>1</td>\n",
       "      <td>3</td>\n",
       "      <td>7</td>\n",
       "      <td>1</td>\n",
       "    </tr>\n",
       "    <tr>\n",
       "      <th>martes</th>\n",
       "      <td>0</td>\n",
       "      <td>1</td>\n",
       "      <td>0</td>\n",
       "      <td>1</td>\n",
       "    </tr>\n",
       "    <tr>\n",
       "      <th>miercoles</th>\n",
       "      <td>2</td>\n",
       "      <td>3</td>\n",
       "      <td>3</td>\n",
       "      <td>1</td>\n",
       "    </tr>\n",
       "    <tr>\n",
       "      <th>jueves</th>\n",
       "      <td>4</td>\n",
       "      <td>2</td>\n",
       "      <td>1</td>\n",
       "      <td>1</td>\n",
       "    </tr>\n",
       "    <tr>\n",
       "      <th>viernes</th>\n",
       "      <td>1</td>\n",
       "      <td>0</td>\n",
       "      <td>1</td>\n",
       "      <td>1</td>\n",
       "    </tr>\n",
       "  </tbody>\n",
       "</table>\n",
       "</div>"
      ],
      "text/plain": [
       "           Inteligencia_Artificila  Gerencia  Arquitectura  Industria\n",
       "lunes                            1         3             7          1\n",
       "martes                           0         1             0          1\n",
       "miercoles                        2         3             3          1\n",
       "jueves                           4         2             1          1\n",
       "viernes                          1         0             1          1"
      ]
     },
     "execution_count": 31,
     "metadata": {},
     "output_type": "execute_result"
    }
   ],
   "source": [
    "df"
   ]
  },
  {
   "cell_type": "code",
   "execution_count": 52,
   "id": "967be34c-0ad7-426f-b0d3-c977c36888df",
   "metadata": {},
   "outputs": [
    {
     "data": {
      "text/html": [
       "<div>\n",
       "<style scoped>\n",
       "    .dataframe tbody tr th:only-of-type {\n",
       "        vertical-align: middle;\n",
       "    }\n",
       "\n",
       "    .dataframe tbody tr th {\n",
       "        vertical-align: top;\n",
       "    }\n",
       "\n",
       "    .dataframe thead th {\n",
       "        text-align: right;\n",
       "    }\n",
       "</style>\n",
       "<table border=\"1\" class=\"dataframe\">\n",
       "  <thead>\n",
       "    <tr style=\"text-align: right;\">\n",
       "      <th></th>\n",
       "      <th>Inteligencia_Artificila</th>\n",
       "      <th>Gerencia</th>\n",
       "      <th>Arquitectura</th>\n",
       "      <th>Industria</th>\n",
       "    </tr>\n",
       "  </thead>\n",
       "  <tbody>\n",
       "    <tr>\n",
       "      <th>lunes</th>\n",
       "      <td>False</td>\n",
       "      <td>True</td>\n",
       "      <td>True</td>\n",
       "      <td>False</td>\n",
       "    </tr>\n",
       "    <tr>\n",
       "      <th>martes</th>\n",
       "      <td>False</td>\n",
       "      <td>False</td>\n",
       "      <td>False</td>\n",
       "      <td>False</td>\n",
       "    </tr>\n",
       "    <tr>\n",
       "      <th>miercoles</th>\n",
       "      <td>True</td>\n",
       "      <td>True</td>\n",
       "      <td>True</td>\n",
       "      <td>False</td>\n",
       "    </tr>\n",
       "    <tr>\n",
       "      <th>jueves</th>\n",
       "      <td>True</td>\n",
       "      <td>True</td>\n",
       "      <td>False</td>\n",
       "      <td>False</td>\n",
       "    </tr>\n",
       "    <tr>\n",
       "      <th>viernes</th>\n",
       "      <td>False</td>\n",
       "      <td>False</td>\n",
       "      <td>False</td>\n",
       "      <td>False</td>\n",
       "    </tr>\n",
       "  </tbody>\n",
       "</table>\n",
       "</div>"
      ],
      "text/plain": [
       "           Inteligencia_Artificila  Gerencia  Arquitectura  Industria\n",
       "lunes                        False      True          True      False\n",
       "martes                       False     False         False      False\n",
       "miercoles                     True      True          True      False\n",
       "jueves                        True      True         False      False\n",
       "viernes                      False     False         False      False"
      ]
     },
     "execution_count": 52,
     "metadata": {},
     "output_type": "execute_result"
    }
   ],
   "source": [
    "df > 1"
   ]
  },
  {
   "cell_type": "markdown",
   "id": "1380159a-86e2-4153-8c2a-fdb32b125b1f",
   "metadata": {},
   "source": [
    "inicia_en:terminamos_en-1"
   ]
  },
  {
   "cell_type": "code",
   "execution_count": 36,
   "id": "3c5fbf9a-f525-406b-a2c2-4f17f7038d50",
   "metadata": {},
   "outputs": [
    {
     "data": {
      "text/plain": [
       "Inteligencia_Artificila    1\n",
       "Gerencia                   3\n",
       "Arquitectura               7\n",
       "Name: lunes, dtype: int64"
      ]
     },
     "execution_count": 36,
     "metadata": {},
     "output_type": "execute_result"
    }
   ],
   "source": [
    "df.iloc[ 0 , 0:3 ]"
   ]
  },
  {
   "cell_type": "code",
   "execution_count": 46,
   "id": "9946f530-80fb-4db2-a9ba-09ed4a3e216f",
   "metadata": {},
   "outputs": [
    {
     "data": {
      "text/html": [
       "<div>\n",
       "<style scoped>\n",
       "    .dataframe tbody tr th:only-of-type {\n",
       "        vertical-align: middle;\n",
       "    }\n",
       "\n",
       "    .dataframe tbody tr th {\n",
       "        vertical-align: top;\n",
       "    }\n",
       "\n",
       "    .dataframe thead th {\n",
       "        text-align: right;\n",
       "    }\n",
       "</style>\n",
       "<table border=\"1\" class=\"dataframe\">\n",
       "  <thead>\n",
       "    <tr style=\"text-align: right;\">\n",
       "      <th></th>\n",
       "      <th>Inteligencia_Artificila</th>\n",
       "      <th>Gerencia</th>\n",
       "      <th>Arquitectura</th>\n",
       "      <th>Industria</th>\n",
       "    </tr>\n",
       "  </thead>\n",
       "  <tbody>\n",
       "    <tr>\n",
       "      <th>martes</th>\n",
       "      <td>0</td>\n",
       "      <td>1</td>\n",
       "      <td>0</td>\n",
       "      <td>1</td>\n",
       "    </tr>\n",
       "    <tr>\n",
       "      <th>miercoles</th>\n",
       "      <td>2</td>\n",
       "      <td>3</td>\n",
       "      <td>3</td>\n",
       "      <td>1</td>\n",
       "    </tr>\n",
       "  </tbody>\n",
       "</table>\n",
       "</div>"
      ],
      "text/plain": [
       "           Inteligencia_Artificila  Gerencia  Arquitectura  Industria\n",
       "martes                           0         1             0          1\n",
       "miercoles                        2         3             3          1"
      ]
     },
     "execution_count": 46,
     "metadata": {},
     "output_type": "execute_result"
    }
   ],
   "source": [
    "df.iloc[ 1:3 , 0:4 ]"
   ]
  },
  {
   "cell_type": "code",
   "execution_count": 47,
   "id": "1905927b-519c-4e8b-ba91-e85f146af0e7",
   "metadata": {},
   "outputs": [
    {
     "data": {
      "text/html": [
       "<div>\n",
       "<style scoped>\n",
       "    .dataframe tbody tr th:only-of-type {\n",
       "        vertical-align: middle;\n",
       "    }\n",
       "\n",
       "    .dataframe tbody tr th {\n",
       "        vertical-align: top;\n",
       "    }\n",
       "\n",
       "    .dataframe thead th {\n",
       "        text-align: right;\n",
       "    }\n",
       "</style>\n",
       "<table border=\"1\" class=\"dataframe\">\n",
       "  <thead>\n",
       "    <tr style=\"text-align: right;\">\n",
       "      <th></th>\n",
       "      <th>Inteligencia_Artificila</th>\n",
       "      <th>Gerencia</th>\n",
       "      <th>Arquitectura</th>\n",
       "      <th>Industria</th>\n",
       "    </tr>\n",
       "  </thead>\n",
       "  <tbody>\n",
       "    <tr>\n",
       "      <th>lunes</th>\n",
       "      <td>1</td>\n",
       "      <td>3</td>\n",
       "      <td>7</td>\n",
       "      <td>1</td>\n",
       "    </tr>\n",
       "    <tr>\n",
       "      <th>miercoles</th>\n",
       "      <td>2</td>\n",
       "      <td>3</td>\n",
       "      <td>3</td>\n",
       "      <td>1</td>\n",
       "    </tr>\n",
       "    <tr>\n",
       "      <th>viernes</th>\n",
       "      <td>1</td>\n",
       "      <td>0</td>\n",
       "      <td>1</td>\n",
       "      <td>1</td>\n",
       "    </tr>\n",
       "  </tbody>\n",
       "</table>\n",
       "</div>"
      ],
      "text/plain": [
       "           Inteligencia_Artificila  Gerencia  Arquitectura  Industria\n",
       "lunes                            1         3             7          1\n",
       "miercoles                        2         3             3          1\n",
       "viernes                          1         0             1          1"
      ]
     },
     "execution_count": 47,
     "metadata": {},
     "output_type": "execute_result"
    }
   ],
   "source": [
    "df.iloc[ [0,2,4] , 0:4 ]"
   ]
  },
  {
   "cell_type": "code",
   "execution_count": 50,
   "id": "c4e910e2-808c-4be3-85f8-10892cf1f604",
   "metadata": {},
   "outputs": [
    {
     "data": {
      "text/plain": [
       "array([ True, False,  True,  True, False])"
      ]
     },
     "execution_count": 50,
     "metadata": {},
     "output_type": "execute_result"
    }
   ],
   "source": [
    "df['Gerencia'].values > 1"
   ]
  },
  {
   "cell_type": "code",
   "execution_count": 53,
   "id": "7b819cb5-4581-43ab-9559-c20a3900d7b5",
   "metadata": {},
   "outputs": [
    {
     "data": {
      "text/html": [
       "<div>\n",
       "<style scoped>\n",
       "    .dataframe tbody tr th:only-of-type {\n",
       "        vertical-align: middle;\n",
       "    }\n",
       "\n",
       "    .dataframe tbody tr th {\n",
       "        vertical-align: top;\n",
       "    }\n",
       "\n",
       "    .dataframe thead th {\n",
       "        text-align: right;\n",
       "    }\n",
       "</style>\n",
       "<table border=\"1\" class=\"dataframe\">\n",
       "  <thead>\n",
       "    <tr style=\"text-align: right;\">\n",
       "      <th></th>\n",
       "      <th>Inteligencia_Artificila</th>\n",
       "      <th>Gerencia</th>\n",
       "      <th>Arquitectura</th>\n",
       "      <th>Industria</th>\n",
       "    </tr>\n",
       "  </thead>\n",
       "  <tbody>\n",
       "    <tr>\n",
       "      <th>lunes</th>\n",
       "      <td>1</td>\n",
       "      <td>3</td>\n",
       "      <td>7</td>\n",
       "      <td>1</td>\n",
       "    </tr>\n",
       "    <tr>\n",
       "      <th>miercoles</th>\n",
       "      <td>2</td>\n",
       "      <td>3</td>\n",
       "      <td>3</td>\n",
       "      <td>1</td>\n",
       "    </tr>\n",
       "    <tr>\n",
       "      <th>jueves</th>\n",
       "      <td>4</td>\n",
       "      <td>2</td>\n",
       "      <td>1</td>\n",
       "      <td>1</td>\n",
       "    </tr>\n",
       "  </tbody>\n",
       "</table>\n",
       "</div>"
      ],
      "text/plain": [
       "           Inteligencia_Artificila  Gerencia  Arquitectura  Industria\n",
       "lunes                            1         3             7          1\n",
       "miercoles                        2         3             3          1\n",
       "jueves                           4         2             1          1"
      ]
     },
     "execution_count": 53,
     "metadata": {},
     "output_type": "execute_result"
    }
   ],
   "source": [
    "df.iloc[ [ True, False,  True,  True, False] , 0:4 ]"
   ]
  },
  {
   "cell_type": "code",
   "execution_count": 63,
   "id": "81840a3f-3d28-4da6-97c5-48cf94802cfe",
   "metadata": {},
   "outputs": [],
   "source": [
    "df_filtered = df.iloc[ (df['Gerencia'].values > 1) & (df['Arquitectura'].values > 1) , 1:3 ]"
   ]
  },
  {
   "cell_type": "code",
   "execution_count": 68,
   "id": "e276617c-bd66-4b18-a6e8-fa3ad441c8ea",
   "metadata": {},
   "outputs": [
    {
     "data": {
      "text/html": [
       "<div>\n",
       "<style scoped>\n",
       "    .dataframe tbody tr th:only-of-type {\n",
       "        vertical-align: middle;\n",
       "    }\n",
       "\n",
       "    .dataframe tbody tr th {\n",
       "        vertical-align: top;\n",
       "    }\n",
       "\n",
       "    .dataframe thead th {\n",
       "        text-align: right;\n",
       "    }\n",
       "</style>\n",
       "<table border=\"1\" class=\"dataframe\">\n",
       "  <thead>\n",
       "    <tr style=\"text-align: right;\">\n",
       "      <th></th>\n",
       "      <th>Gerencia</th>\n",
       "      <th>Arquitectura</th>\n",
       "    </tr>\n",
       "  </thead>\n",
       "  <tbody>\n",
       "    <tr>\n",
       "      <th>lunes</th>\n",
       "      <td>3</td>\n",
       "      <td>7</td>\n",
       "    </tr>\n",
       "    <tr>\n",
       "      <th>martes</th>\n",
       "      <td>1</td>\n",
       "      <td>0</td>\n",
       "    </tr>\n",
       "    <tr>\n",
       "      <th>miercoles</th>\n",
       "      <td>3</td>\n",
       "      <td>3</td>\n",
       "    </tr>\n",
       "    <tr>\n",
       "      <th>jueves</th>\n",
       "      <td>2</td>\n",
       "      <td>1</td>\n",
       "    </tr>\n",
       "    <tr>\n",
       "      <th>viernes</th>\n",
       "      <td>0</td>\n",
       "      <td>1</td>\n",
       "    </tr>\n",
       "  </tbody>\n",
       "</table>\n",
       "</div>"
      ],
      "text/plain": [
       "           Gerencia  Arquitectura\n",
       "lunes             3             7\n",
       "martes            1             0\n",
       "miercoles         3             3\n",
       "jueves            2             1\n",
       "viernes           0             1"
      ]
     },
     "execution_count": 68,
     "metadata": {},
     "output_type": "execute_result"
    }
   ],
   "source": [
    "df.iloc[ : , 1:3 ]"
   ]
  },
  {
   "cell_type": "code",
   "execution_count": 69,
   "id": "378cd7d0-d952-49fa-8ca1-3812227babac",
   "metadata": {},
   "outputs": [
    {
     "data": {
      "text/plain": [
       "array([False,  True, False,  True,  True])"
      ]
     },
     "execution_count": 69,
     "metadata": {},
     "output_type": "execute_result"
    }
   ],
   "source": [
    "~( (df['Gerencia'].values > 1) & (df['Arquitectura'].values > 1) )"
   ]
  },
  {
   "cell_type": "code",
   "execution_count": 65,
   "id": "db0564cc-d3a9-4034-a204-9d806cc7297b",
   "metadata": {},
   "outputs": [],
   "source": [
    "df_filtered.iloc[0,0] = 1"
   ]
  },
  {
   "cell_type": "code",
   "execution_count": 66,
   "id": "be470c1d-89b8-4836-8bfa-bdf192d64bc8",
   "metadata": {},
   "outputs": [
    {
     "data": {
      "text/html": [
       "<div>\n",
       "<style scoped>\n",
       "    .dataframe tbody tr th:only-of-type {\n",
       "        vertical-align: middle;\n",
       "    }\n",
       "\n",
       "    .dataframe tbody tr th {\n",
       "        vertical-align: top;\n",
       "    }\n",
       "\n",
       "    .dataframe thead th {\n",
       "        text-align: right;\n",
       "    }\n",
       "</style>\n",
       "<table border=\"1\" class=\"dataframe\">\n",
       "  <thead>\n",
       "    <tr style=\"text-align: right;\">\n",
       "      <th></th>\n",
       "      <th>Gerencia</th>\n",
       "      <th>Arquitectura</th>\n",
       "    </tr>\n",
       "  </thead>\n",
       "  <tbody>\n",
       "    <tr>\n",
       "      <th>lunes</th>\n",
       "      <td>1</td>\n",
       "      <td>7</td>\n",
       "    </tr>\n",
       "    <tr>\n",
       "      <th>miercoles</th>\n",
       "      <td>3</td>\n",
       "      <td>3</td>\n",
       "    </tr>\n",
       "  </tbody>\n",
       "</table>\n",
       "</div>"
      ],
      "text/plain": [
       "           Gerencia  Arquitectura\n",
       "lunes             1             7\n",
       "miercoles         3             3"
      ]
     },
     "execution_count": 66,
     "metadata": {},
     "output_type": "execute_result"
    }
   ],
   "source": [
    "df_filtered"
   ]
  },
  {
   "cell_type": "code",
   "execution_count": 67,
   "id": "05679784-db78-40ec-82f8-7e408463cdb4",
   "metadata": {},
   "outputs": [
    {
     "data": {
      "text/html": [
       "<div>\n",
       "<style scoped>\n",
       "    .dataframe tbody tr th:only-of-type {\n",
       "        vertical-align: middle;\n",
       "    }\n",
       "\n",
       "    .dataframe tbody tr th {\n",
       "        vertical-align: top;\n",
       "    }\n",
       "\n",
       "    .dataframe thead th {\n",
       "        text-align: right;\n",
       "    }\n",
       "</style>\n",
       "<table border=\"1\" class=\"dataframe\">\n",
       "  <thead>\n",
       "    <tr style=\"text-align: right;\">\n",
       "      <th></th>\n",
       "      <th>Inteligencia_Artificila</th>\n",
       "      <th>Gerencia</th>\n",
       "      <th>Arquitectura</th>\n",
       "      <th>Industria</th>\n",
       "    </tr>\n",
       "  </thead>\n",
       "  <tbody>\n",
       "    <tr>\n",
       "      <th>lunes</th>\n",
       "      <td>1</td>\n",
       "      <td>3</td>\n",
       "      <td>7</td>\n",
       "      <td>1</td>\n",
       "    </tr>\n",
       "    <tr>\n",
       "      <th>martes</th>\n",
       "      <td>0</td>\n",
       "      <td>1</td>\n",
       "      <td>0</td>\n",
       "      <td>1</td>\n",
       "    </tr>\n",
       "    <tr>\n",
       "      <th>miercoles</th>\n",
       "      <td>2</td>\n",
       "      <td>3</td>\n",
       "      <td>3</td>\n",
       "      <td>1</td>\n",
       "    </tr>\n",
       "    <tr>\n",
       "      <th>jueves</th>\n",
       "      <td>4</td>\n",
       "      <td>2</td>\n",
       "      <td>1</td>\n",
       "      <td>1</td>\n",
       "    </tr>\n",
       "    <tr>\n",
       "      <th>viernes</th>\n",
       "      <td>1</td>\n",
       "      <td>0</td>\n",
       "      <td>1</td>\n",
       "      <td>1</td>\n",
       "    </tr>\n",
       "  </tbody>\n",
       "</table>\n",
       "</div>"
      ],
      "text/plain": [
       "           Inteligencia_Artificila  Gerencia  Arquitectura  Industria\n",
       "lunes                            1         3             7          1\n",
       "martes                           0         1             0          1\n",
       "miercoles                        2         3             3          1\n",
       "jueves                           4         2             1          1\n",
       "viernes                          1         0             1          1"
      ]
     },
     "execution_count": 67,
     "metadata": {},
     "output_type": "execute_result"
    }
   ],
   "source": [
    "df"
   ]
  },
  {
   "cell_type": "markdown",
   "id": "9ac431b1-ef43-42dc-95e8-4ad3f926b170",
   "metadata": {},
   "source": [
    "## uso de loc"
   ]
  },
  {
   "cell_type": "markdown",
   "id": "1a4786e0-d188-485f-a112-fb0a5bb62d29",
   "metadata": {},
   "source": [
    "loc de la misma que iloc nos ayuda hacer subset de nuestros dataframes, la diferencia de este es que podemos hacer uso de los nombres de las columnas a diferencia de iloc, como nombre lo indica *i = index* "
   ]
  },
  {
   "cell_type": "code",
   "execution_count": 2,
   "id": "6abbebde-a0ad-48da-ad3b-c2dc74e44a07",
   "metadata": {},
   "outputs": [],
   "source": [
    "dataframe_size = 100"
   ]
  },
  {
   "cell_type": "code",
   "execution_count": 3,
   "id": "bf49ea04-cc24-4d70-b66a-c09f76ff86bb",
   "metadata": {},
   "outputs": [],
   "source": [
    "np.random.seed(111)\n"
   ]
  },
  {
   "cell_type": "code",
   "execution_count": 63,
   "id": "275ea502-3c02-42a7-a317-cc793794c228",
   "metadata": {},
   "outputs": [],
   "source": [
    "x = pd.DataFrame(\n",
    "    {\n",
    "        'id' : [ np.random.randint(20) for x in range(dataframe_size) ]\n",
    "        , 'fecha' : [ np.random.choice( pd.date_range( end = datetime.date( 2022 , 2 , 24 ) , freq='1W' , periods=10  )) for x in range(100) ]\n",
    "        , 'notas': np.random.rand(dataframe_size)\n",
    "        , 'scholarship': [ np.random.choice([True,False]) for x in range(dataframe_size) ]\n",
    "    }\n",
    ")"
   ]
  },
  {
   "cell_type": "code",
   "execution_count": 64,
   "id": "46bfd13f-e993-4ef5-bda3-690786ccaf4e",
   "metadata": {},
   "outputs": [
    {
     "data": {
      "text/plain": [
       "[True, True, False, False, True]"
      ]
     },
     "execution_count": 64,
     "metadata": {},
     "output_type": "execute_result"
    }
   ],
   "source": [
    "[ np.random.choice([True,False]) for x in range(5) ]"
   ]
  },
  {
   "cell_type": "code",
   "execution_count": 65,
   "id": "a182d7e1-5fd6-47b7-919d-b45fabd47419",
   "metadata": {},
   "outputs": [
    {
     "data": {
      "text/plain": [
       "[63, 935, 861, 637, 412]"
      ]
     },
     "execution_count": 65,
     "metadata": {},
     "output_type": "execute_result"
    }
   ],
   "source": [
    "[ np.random.randint(1000) for x in range(5) ]"
   ]
  },
  {
   "cell_type": "code",
   "execution_count": 66,
   "id": "d213eb75-161a-45af-bd23-48ae4c39a3f0",
   "metadata": {},
   "outputs": [
    {
     "data": {
      "text/plain": [
       "DatetimeIndex(['2021-12-19', '2021-12-26', '2022-01-02', '2022-01-09',\n",
       "               '2022-01-16', '2022-01-23', '2022-01-30', '2022-02-06',\n",
       "               '2022-02-13', '2022-02-20'],\n",
       "              dtype='datetime64[ns]', freq='W-SUN')"
      ]
     },
     "execution_count": 66,
     "metadata": {},
     "output_type": "execute_result"
    }
   ],
   "source": [
    "pd.date_range( end = datetime.date( 2022 , 2 , 24 ) , freq='1W' , periods=10  )"
   ]
  },
  {
   "cell_type": "code",
   "execution_count": 67,
   "id": "6c0bab3c-514b-4529-abba-c07d75d76f93",
   "metadata": {},
   "outputs": [],
   "source": [
    "y = x.loc[ ( x['notas'] < 0.4) & ( x['scholarship'] )  , ['id','fecha']   ]"
   ]
  },
  {
   "cell_type": "code",
   "execution_count": 68,
   "id": "6e4ef1ad-8e10-440b-97a0-6a6eb146454d",
   "metadata": {},
   "outputs": [
    {
     "data": {
      "text/plain": [
       "0.18"
      ]
     },
     "execution_count": 68,
     "metadata": {},
     "output_type": "execute_result"
    }
   ],
   "source": [
    "y.shape[0] / x.shape[0]"
   ]
  },
  {
   "cell_type": "code",
   "execution_count": 69,
   "id": "2cc0d5dd-eb45-4826-bbcf-163f095c600e",
   "metadata": {},
   "outputs": [
    {
     "data": {
      "text/plain": [
       "(10, 1)"
      ]
     },
     "execution_count": 69,
     "metadata": {},
     "output_type": "execute_result"
    }
   ],
   "source": [
    "x.loc[ : , ['fecha'] ].drop_duplicates().shape"
   ]
  },
  {
   "cell_type": "code",
   "execution_count": 70,
   "id": "3bd093a9-c531-4f22-b9b9-cc60b45c070b",
   "metadata": {},
   "outputs": [
    {
     "data": {
      "text/html": [
       "<div>\n",
       "<style scoped>\n",
       "    .dataframe tbody tr th:only-of-type {\n",
       "        vertical-align: middle;\n",
       "    }\n",
       "\n",
       "    .dataframe tbody tr th {\n",
       "        vertical-align: top;\n",
       "    }\n",
       "\n",
       "    .dataframe thead th {\n",
       "        text-align: right;\n",
       "    }\n",
       "</style>\n",
       "<table border=\"1\" class=\"dataframe\">\n",
       "  <thead>\n",
       "    <tr style=\"text-align: right;\">\n",
       "      <th></th>\n",
       "      <th>id</th>\n",
       "      <th>fecha</th>\n",
       "    </tr>\n",
       "  </thead>\n",
       "  <tbody>\n",
       "    <tr>\n",
       "      <th>0</th>\n",
       "      <td>0</td>\n",
       "      <td>5</td>\n",
       "    </tr>\n",
       "    <tr>\n",
       "      <th>1</th>\n",
       "      <td>1</td>\n",
       "      <td>7</td>\n",
       "    </tr>\n",
       "    <tr>\n",
       "      <th>2</th>\n",
       "      <td>2</td>\n",
       "      <td>7</td>\n",
       "    </tr>\n",
       "    <tr>\n",
       "      <th>3</th>\n",
       "      <td>3</td>\n",
       "      <td>5</td>\n",
       "    </tr>\n",
       "    <tr>\n",
       "      <th>4</th>\n",
       "      <td>5</td>\n",
       "      <td>5</td>\n",
       "    </tr>\n",
       "    <tr>\n",
       "      <th>5</th>\n",
       "      <td>6</td>\n",
       "      <td>4</td>\n",
       "    </tr>\n",
       "    <tr>\n",
       "      <th>6</th>\n",
       "      <td>7</td>\n",
       "      <td>3</td>\n",
       "    </tr>\n",
       "    <tr>\n",
       "      <th>7</th>\n",
       "      <td>8</td>\n",
       "      <td>3</td>\n",
       "    </tr>\n",
       "    <tr>\n",
       "      <th>8</th>\n",
       "      <td>9</td>\n",
       "      <td>5</td>\n",
       "    </tr>\n",
       "    <tr>\n",
       "      <th>9</th>\n",
       "      <td>10</td>\n",
       "      <td>14</td>\n",
       "    </tr>\n",
       "    <tr>\n",
       "      <th>10</th>\n",
       "      <td>11</td>\n",
       "      <td>3</td>\n",
       "    </tr>\n",
       "    <tr>\n",
       "      <th>11</th>\n",
       "      <td>12</td>\n",
       "      <td>7</td>\n",
       "    </tr>\n",
       "    <tr>\n",
       "      <th>12</th>\n",
       "      <td>13</td>\n",
       "      <td>3</td>\n",
       "    </tr>\n",
       "    <tr>\n",
       "      <th>13</th>\n",
       "      <td>14</td>\n",
       "      <td>2</td>\n",
       "    </tr>\n",
       "    <tr>\n",
       "      <th>14</th>\n",
       "      <td>15</td>\n",
       "      <td>7</td>\n",
       "    </tr>\n",
       "    <tr>\n",
       "      <th>15</th>\n",
       "      <td>16</td>\n",
       "      <td>4</td>\n",
       "    </tr>\n",
       "    <tr>\n",
       "      <th>16</th>\n",
       "      <td>17</td>\n",
       "      <td>6</td>\n",
       "    </tr>\n",
       "    <tr>\n",
       "      <th>17</th>\n",
       "      <td>18</td>\n",
       "      <td>4</td>\n",
       "    </tr>\n",
       "    <tr>\n",
       "      <th>18</th>\n",
       "      <td>19</td>\n",
       "      <td>6</td>\n",
       "    </tr>\n",
       "  </tbody>\n",
       "</table>\n",
       "</div>"
      ],
      "text/plain": [
       "    id  fecha\n",
       "0    0      5\n",
       "1    1      7\n",
       "2    2      7\n",
       "3    3      5\n",
       "4    5      5\n",
       "5    6      4\n",
       "6    7      3\n",
       "7    8      3\n",
       "8    9      5\n",
       "9   10     14\n",
       "10  11      3\n",
       "11  12      7\n",
       "12  13      3\n",
       "13  14      2\n",
       "14  15      7\n",
       "15  16      4\n",
       "16  17      6\n",
       "17  18      4\n",
       "18  19      6"
      ]
     },
     "execution_count": 70,
     "metadata": {},
     "output_type": "execute_result"
    }
   ],
   "source": [
    "x.loc[ :, [\"id\",\"fecha\"] ].groupby( [\"id\"] , as_index = False ).count()"
   ]
  },
  {
   "cell_type": "code",
   "execution_count": 71,
   "id": "fc98099c-397c-4b91-8397-70813449d0b7",
   "metadata": {},
   "outputs": [
    {
     "data": {
      "text/plain": [
       "Index(['id', 'fecha'], dtype='object')"
      ]
     },
     "execution_count": 71,
     "metadata": {},
     "output_type": "execute_result"
    }
   ],
   "source": [
    "x.loc[ :, [\"id\",\"fecha\"] ].groupby( [\"id\"] , as_index = False ).count().columns"
   ]
  },
  {
   "cell_type": "code",
   "execution_count": 72,
   "id": "8c2750d2-eda5-4bc4-94c4-5cb23039379a",
   "metadata": {
    "scrolled": true,
    "tags": []
   },
   "outputs": [],
   "source": [
    "xx = x.groupby( [\"id\"] , as_index=False ).agg( { \"fecha\" : [\"count\"] , \"notas\": [\"max\",\"min\"]  } )"
   ]
  },
  {
   "cell_type": "markdown",
   "id": "180a7130-d791-4c92-912e-e5ce934247ae",
   "metadata": {},
   "source": [
    "Select \n",
    "    id\n",
    "    , count(fechas) as conteo_de_eventos\n",
    "    , max(notas) as max_nota\n",
    "    , min(notas) as min_notas\n",
    "from x\n",
    "group by id"
   ]
  },
  {
   "cell_type": "code",
   "execution_count": 73,
   "id": "f202e2da-15af-420b-a207-1875637bb2d5",
   "metadata": {},
   "outputs": [],
   "source": [
    "xx.columns = xx.columns.droplevel(1)"
   ]
  },
  {
   "cell_type": "code",
   "execution_count": 74,
   "id": "1483a616-07a5-4fea-b083-9526eac86409",
   "metadata": {},
   "outputs": [],
   "source": [
    "problemas_scholarship = x.groupby( [\"id\",\"scholarship\"], as_index = False ).agg( { \"fecha\":[\"count\"] } )"
   ]
  },
  {
   "cell_type": "code",
   "execution_count": 75,
   "id": "ed3541f5-b516-4da2-83e1-5ef391e0a20b",
   "metadata": {},
   "outputs": [],
   "source": [
    "problemas_scholarship.columns = problemas_scholarship.columns.droplevel(1)"
   ]
  },
  {
   "cell_type": "code",
   "execution_count": 76,
   "id": "4f94dee6-66d4-4681-88c2-f78e1e6f21d4",
   "metadata": {},
   "outputs": [],
   "source": [
    "problemas_scholarship = problemas_scholarship.loc[:,[\"id\",\"scholarship\"]].groupby( [\"id\"] ,as_index = False ).count()"
   ]
  },
  {
   "cell_type": "code",
   "execution_count": 77,
   "id": "e40c3664-4f8c-40f3-a4a5-fbce04c34842",
   "metadata": {},
   "outputs": [
    {
     "data": {
      "text/html": [
       "<div>\n",
       "<style scoped>\n",
       "    .dataframe tbody tr th:only-of-type {\n",
       "        vertical-align: middle;\n",
       "    }\n",
       "\n",
       "    .dataframe tbody tr th {\n",
       "        vertical-align: top;\n",
       "    }\n",
       "\n",
       "    .dataframe thead th {\n",
       "        text-align: right;\n",
       "    }\n",
       "</style>\n",
       "<table border=\"1\" class=\"dataframe\">\n",
       "  <thead>\n",
       "    <tr style=\"text-align: right;\">\n",
       "      <th></th>\n",
       "      <th>id</th>\n",
       "      <th>scholarship</th>\n",
       "    </tr>\n",
       "  </thead>\n",
       "  <tbody>\n",
       "    <tr>\n",
       "      <th>0</th>\n",
       "      <td>0</td>\n",
       "      <td>2</td>\n",
       "    </tr>\n",
       "    <tr>\n",
       "      <th>1</th>\n",
       "      <td>1</td>\n",
       "      <td>2</td>\n",
       "    </tr>\n",
       "    <tr>\n",
       "      <th>2</th>\n",
       "      <td>2</td>\n",
       "      <td>2</td>\n",
       "    </tr>\n",
       "    <tr>\n",
       "      <th>3</th>\n",
       "      <td>3</td>\n",
       "      <td>2</td>\n",
       "    </tr>\n",
       "    <tr>\n",
       "      <th>4</th>\n",
       "      <td>5</td>\n",
       "      <td>2</td>\n",
       "    </tr>\n",
       "    <tr>\n",
       "      <th>5</th>\n",
       "      <td>6</td>\n",
       "      <td>2</td>\n",
       "    </tr>\n",
       "    <tr>\n",
       "      <th>6</th>\n",
       "      <td>7</td>\n",
       "      <td>2</td>\n",
       "    </tr>\n",
       "    <tr>\n",
       "      <th>8</th>\n",
       "      <td>9</td>\n",
       "      <td>2</td>\n",
       "    </tr>\n",
       "    <tr>\n",
       "      <th>9</th>\n",
       "      <td>10</td>\n",
       "      <td>2</td>\n",
       "    </tr>\n",
       "    <tr>\n",
       "      <th>10</th>\n",
       "      <td>11</td>\n",
       "      <td>2</td>\n",
       "    </tr>\n",
       "    <tr>\n",
       "      <th>11</th>\n",
       "      <td>12</td>\n",
       "      <td>2</td>\n",
       "    </tr>\n",
       "    <tr>\n",
       "      <th>12</th>\n",
       "      <td>13</td>\n",
       "      <td>2</td>\n",
       "    </tr>\n",
       "    <tr>\n",
       "      <th>13</th>\n",
       "      <td>14</td>\n",
       "      <td>2</td>\n",
       "    </tr>\n",
       "    <tr>\n",
       "      <th>14</th>\n",
       "      <td>15</td>\n",
       "      <td>2</td>\n",
       "    </tr>\n",
       "    <tr>\n",
       "      <th>16</th>\n",
       "      <td>17</td>\n",
       "      <td>2</td>\n",
       "    </tr>\n",
       "    <tr>\n",
       "      <th>17</th>\n",
       "      <td>18</td>\n",
       "      <td>2</td>\n",
       "    </tr>\n",
       "    <tr>\n",
       "      <th>18</th>\n",
       "      <td>19</td>\n",
       "      <td>2</td>\n",
       "    </tr>\n",
       "  </tbody>\n",
       "</table>\n",
       "</div>"
      ],
      "text/plain": [
       "    id  scholarship\n",
       "0    0            2\n",
       "1    1            2\n",
       "2    2            2\n",
       "3    3            2\n",
       "4    5            2\n",
       "5    6            2\n",
       "6    7            2\n",
       "8    9            2\n",
       "9   10            2\n",
       "10  11            2\n",
       "11  12            2\n",
       "12  13            2\n",
       "13  14            2\n",
       "14  15            2\n",
       "16  17            2\n",
       "17  18            2\n",
       "18  19            2"
      ]
     },
     "execution_count": 77,
     "metadata": {},
     "output_type": "execute_result"
    }
   ],
   "source": [
    "problemas_scholarship.loc[ problemas_scholarship['scholarship'] == 2 , : ]"
   ]
  },
  {
   "cell_type": "code",
   "execution_count": 78,
   "id": "01dd1da6-eda7-4cf2-afd8-87f98782f5e2",
   "metadata": {},
   "outputs": [
    {
     "data": {
      "text/plain": [
       "0.8947368421052632"
      ]
     },
     "execution_count": 78,
     "metadata": {},
     "output_type": "execute_result"
    }
   ],
   "source": [
    "problemas_scholarship.loc[ problemas_scholarship['scholarship'] == 2 , : ].shape[0] / x.loc[ :  , [\"id\"] ].drop_duplicates().shape[0]"
   ]
  },
  {
   "cell_type": "code",
   "execution_count": 79,
   "id": "477a503f-16f0-4972-8106-8d759735f6ae",
   "metadata": {},
   "outputs": [
    {
     "data": {
      "text/html": [
       "<div>\n",
       "<style scoped>\n",
       "    .dataframe tbody tr th:only-of-type {\n",
       "        vertical-align: middle;\n",
       "    }\n",
       "\n",
       "    .dataframe tbody tr th {\n",
       "        vertical-align: top;\n",
       "    }\n",
       "\n",
       "    .dataframe thead th {\n",
       "        text-align: right;\n",
       "    }\n",
       "</style>\n",
       "<table border=\"1\" class=\"dataframe\">\n",
       "  <thead>\n",
       "    <tr style=\"text-align: right;\">\n",
       "      <th></th>\n",
       "      <th>id</th>\n",
       "      <th>fecha</th>\n",
       "      <th>notas</th>\n",
       "      <th>scholarship</th>\n",
       "    </tr>\n",
       "  </thead>\n",
       "  <tbody>\n",
       "    <tr>\n",
       "      <th>0</th>\n",
       "      <td>15</td>\n",
       "      <td>2021-12-19</td>\n",
       "      <td>0.300647</td>\n",
       "      <td>True</td>\n",
       "    </tr>\n",
       "    <tr>\n",
       "      <th>1</th>\n",
       "      <td>1</td>\n",
       "      <td>2021-12-26</td>\n",
       "      <td>0.639742</td>\n",
       "      <td>True</td>\n",
       "    </tr>\n",
       "    <tr>\n",
       "      <th>2</th>\n",
       "      <td>0</td>\n",
       "      <td>2022-02-06</td>\n",
       "      <td>0.541736</td>\n",
       "      <td>True</td>\n",
       "    </tr>\n",
       "    <tr>\n",
       "      <th>3</th>\n",
       "      <td>19</td>\n",
       "      <td>2022-01-16</td>\n",
       "      <td>0.469805</td>\n",
       "      <td>False</td>\n",
       "    </tr>\n",
       "    <tr>\n",
       "      <th>4</th>\n",
       "      <td>19</td>\n",
       "      <td>2022-02-13</td>\n",
       "      <td>0.528066</td>\n",
       "      <td>True</td>\n",
       "    </tr>\n",
       "    <tr>\n",
       "      <th>...</th>\n",
       "      <td>...</td>\n",
       "      <td>...</td>\n",
       "      <td>...</td>\n",
       "      <td>...</td>\n",
       "    </tr>\n",
       "    <tr>\n",
       "      <th>95</th>\n",
       "      <td>10</td>\n",
       "      <td>2022-02-13</td>\n",
       "      <td>0.778544</td>\n",
       "      <td>False</td>\n",
       "    </tr>\n",
       "    <tr>\n",
       "      <th>96</th>\n",
       "      <td>2</td>\n",
       "      <td>2021-12-19</td>\n",
       "      <td>0.544383</td>\n",
       "      <td>True</td>\n",
       "    </tr>\n",
       "    <tr>\n",
       "      <th>97</th>\n",
       "      <td>12</td>\n",
       "      <td>2022-01-30</td>\n",
       "      <td>0.412388</td>\n",
       "      <td>True</td>\n",
       "    </tr>\n",
       "    <tr>\n",
       "      <th>98</th>\n",
       "      <td>6</td>\n",
       "      <td>2022-01-02</td>\n",
       "      <td>0.858050</td>\n",
       "      <td>False</td>\n",
       "    </tr>\n",
       "    <tr>\n",
       "      <th>99</th>\n",
       "      <td>2</td>\n",
       "      <td>2022-02-20</td>\n",
       "      <td>0.021905</td>\n",
       "      <td>True</td>\n",
       "    </tr>\n",
       "  </tbody>\n",
       "</table>\n",
       "<p>100 rows × 4 columns</p>\n",
       "</div>"
      ],
      "text/plain": [
       "    id      fecha     notas  scholarship\n",
       "0   15 2021-12-19  0.300647         True\n",
       "1    1 2021-12-26  0.639742         True\n",
       "2    0 2022-02-06  0.541736         True\n",
       "3   19 2022-01-16  0.469805        False\n",
       "4   19 2022-02-13  0.528066         True\n",
       "..  ..        ...       ...          ...\n",
       "95  10 2022-02-13  0.778544        False\n",
       "96   2 2021-12-19  0.544383         True\n",
       "97  12 2022-01-30  0.412388         True\n",
       "98   6 2022-01-02  0.858050        False\n",
       "99   2 2022-02-20  0.021905         True\n",
       "\n",
       "[100 rows x 4 columns]"
      ]
     },
     "execution_count": 79,
     "metadata": {},
     "output_type": "execute_result"
    }
   ],
   "source": [
    "x\n"
   ]
  },
  {
   "cell_type": "code",
   "execution_count": 80,
   "id": "a2f90b15-6e21-4fda-b02d-02b89bd91207",
   "metadata": {},
   "outputs": [
    {
     "data": {
      "text/html": [
       "<div>\n",
       "<style scoped>\n",
       "    .dataframe tbody tr th:only-of-type {\n",
       "        vertical-align: middle;\n",
       "    }\n",
       "\n",
       "    .dataframe tbody tr th {\n",
       "        vertical-align: top;\n",
       "    }\n",
       "\n",
       "    .dataframe thead th {\n",
       "        text-align: right;\n",
       "    }\n",
       "</style>\n",
       "<table border=\"1\" class=\"dataframe\">\n",
       "  <thead>\n",
       "    <tr style=\"text-align: right;\">\n",
       "      <th></th>\n",
       "      <th>id</th>\n",
       "      <th>fecha</th>\n",
       "      <th>notas</th>\n",
       "      <th>scholarship</th>\n",
       "    </tr>\n",
       "  </thead>\n",
       "  <tbody>\n",
       "    <tr>\n",
       "      <th>6</th>\n",
       "      <td>9</td>\n",
       "      <td>2021-12-19</td>\n",
       "      <td>0.387580</td>\n",
       "      <td>False</td>\n",
       "    </tr>\n",
       "    <tr>\n",
       "      <th>45</th>\n",
       "      <td>9</td>\n",
       "      <td>2022-01-02</td>\n",
       "      <td>0.476649</td>\n",
       "      <td>False</td>\n",
       "    </tr>\n",
       "    <tr>\n",
       "      <th>85</th>\n",
       "      <td>9</td>\n",
       "      <td>2022-01-23</td>\n",
       "      <td>0.805705</td>\n",
       "      <td>True</td>\n",
       "    </tr>\n",
       "    <tr>\n",
       "      <th>44</th>\n",
       "      <td>9</td>\n",
       "      <td>2022-02-06</td>\n",
       "      <td>0.123305</td>\n",
       "      <td>True</td>\n",
       "    </tr>\n",
       "    <tr>\n",
       "      <th>52</th>\n",
       "      <td>9</td>\n",
       "      <td>2022-02-13</td>\n",
       "      <td>0.746340</td>\n",
       "      <td>True</td>\n",
       "    </tr>\n",
       "  </tbody>\n",
       "</table>\n",
       "</div>"
      ],
      "text/plain": [
       "    id      fecha     notas  scholarship\n",
       "6    9 2021-12-19  0.387580        False\n",
       "45   9 2022-01-02  0.476649        False\n",
       "85   9 2022-01-23  0.805705         True\n",
       "44   9 2022-02-06  0.123305         True\n",
       "52   9 2022-02-13  0.746340         True"
      ]
     },
     "execution_count": 80,
     "metadata": {},
     "output_type": "execute_result"
    }
   ],
   "source": [
    "x.loc[ x[\"id\"] == 9 , : ].sort_values([\"fecha\"])"
   ]
  },
  {
   "cell_type": "code",
   "execution_count": 81,
   "id": "e0983173-f6c0-437c-a4e9-58dcf556def8",
   "metadata": {},
   "outputs": [
    {
     "data": {
      "text/plain": [
       "22    1.0\n",
       "9     2.0\n",
       "2     3.0\n",
       "15    4.0\n",
       "24    5.0\n",
       "     ... \n",
       "12    2.0\n",
       "94    3.0\n",
       "53    4.0\n",
       "4     5.0\n",
       "23    6.0\n",
       "Name: fecha, Length: 100, dtype: float64"
      ]
     },
     "execution_count": 81,
     "metadata": {},
     "output_type": "execute_result"
    }
   ],
   "source": [
    "x.sort_values([\"id\",\"fecha\"]).groupby([\"id\"])[\"fecha\"].rank( method = 'first' , ascending = True )"
   ]
  },
  {
   "cell_type": "code",
   "execution_count": 82,
   "id": "c89c565d-c1b4-4c8e-b862-ba51007649a9",
   "metadata": {},
   "outputs": [],
   "source": [
    "x = x.sort_values([\"id\",\"fecha\"] , ascending = False )"
   ]
  },
  {
   "cell_type": "code",
   "execution_count": 83,
   "id": "cb7bcd82-cffe-4a54-8678-d090a2874742",
   "metadata": {},
   "outputs": [],
   "source": [
    "x[\"rank\"] = x.groupby([\"id\"])[\"fecha\"].rank( method = 'first' , ascending = False )"
   ]
  },
  {
   "cell_type": "code",
   "execution_count": 84,
   "id": "7fd8a8f2-6e01-4f53-9adf-aed8c3c1b903",
   "metadata": {},
   "outputs": [],
   "source": [
    "real_scholarships = x.loc[ x['rank'] == 1 , [\"id\",\"scholarship\"] ]"
   ]
  },
  {
   "cell_type": "code",
   "execution_count": 85,
   "id": "7be0a50b-fc39-41e8-9b34-4b780c37a808",
   "metadata": {},
   "outputs": [],
   "source": [
    "real_scholarships.columns = ['id','last_scholarship']"
   ]
  },
  {
   "cell_type": "code",
   "execution_count": 86,
   "id": "5eed73ac-96ae-4938-9125-3385e71ecc8f",
   "metadata": {},
   "outputs": [
    {
     "data": {
      "text/html": [
       "<div>\n",
       "<style scoped>\n",
       "    .dataframe tbody tr th:only-of-type {\n",
       "        vertical-align: middle;\n",
       "    }\n",
       "\n",
       "    .dataframe tbody tr th {\n",
       "        vertical-align: top;\n",
       "    }\n",
       "\n",
       "    .dataframe thead th {\n",
       "        text-align: right;\n",
       "    }\n",
       "</style>\n",
       "<table border=\"1\" class=\"dataframe\">\n",
       "  <thead>\n",
       "    <tr style=\"text-align: right;\">\n",
       "      <th></th>\n",
       "      <th>id</th>\n",
       "      <th>fecha</th>\n",
       "      <th>notas</th>\n",
       "      <th>scholarship</th>\n",
       "      <th>rank</th>\n",
       "    </tr>\n",
       "  </thead>\n",
       "  <tbody>\n",
       "    <tr>\n",
       "      <th>23</th>\n",
       "      <td>19</td>\n",
       "      <td>2022-02-20</td>\n",
       "      <td>0.404220</td>\n",
       "      <td>False</td>\n",
       "      <td>1.0</td>\n",
       "    </tr>\n",
       "    <tr>\n",
       "      <th>4</th>\n",
       "      <td>19</td>\n",
       "      <td>2022-02-13</td>\n",
       "      <td>0.528066</td>\n",
       "      <td>True</td>\n",
       "      <td>2.0</td>\n",
       "    </tr>\n",
       "    <tr>\n",
       "      <th>53</th>\n",
       "      <td>19</td>\n",
       "      <td>2022-02-06</td>\n",
       "      <td>0.294623</td>\n",
       "      <td>True</td>\n",
       "      <td>3.0</td>\n",
       "    </tr>\n",
       "    <tr>\n",
       "      <th>94</th>\n",
       "      <td>19</td>\n",
       "      <td>2022-01-30</td>\n",
       "      <td>0.475014</td>\n",
       "      <td>True</td>\n",
       "      <td>4.0</td>\n",
       "    </tr>\n",
       "    <tr>\n",
       "      <th>12</th>\n",
       "      <td>19</td>\n",
       "      <td>2022-01-23</td>\n",
       "      <td>0.449896</td>\n",
       "      <td>False</td>\n",
       "      <td>5.0</td>\n",
       "    </tr>\n",
       "    <tr>\n",
       "      <th>...</th>\n",
       "      <td>...</td>\n",
       "      <td>...</td>\n",
       "      <td>...</td>\n",
       "      <td>...</td>\n",
       "      <td>...</td>\n",
       "    </tr>\n",
       "    <tr>\n",
       "      <th>24</th>\n",
       "      <td>0</td>\n",
       "      <td>2022-02-20</td>\n",
       "      <td>0.179034</td>\n",
       "      <td>True</td>\n",
       "      <td>1.0</td>\n",
       "    </tr>\n",
       "    <tr>\n",
       "      <th>15</th>\n",
       "      <td>0</td>\n",
       "      <td>2022-02-13</td>\n",
       "      <td>0.511180</td>\n",
       "      <td>False</td>\n",
       "      <td>2.0</td>\n",
       "    </tr>\n",
       "    <tr>\n",
       "      <th>2</th>\n",
       "      <td>0</td>\n",
       "      <td>2022-02-06</td>\n",
       "      <td>0.541736</td>\n",
       "      <td>True</td>\n",
       "      <td>3.0</td>\n",
       "    </tr>\n",
       "    <tr>\n",
       "      <th>9</th>\n",
       "      <td>0</td>\n",
       "      <td>2022-01-02</td>\n",
       "      <td>0.606585</td>\n",
       "      <td>False</td>\n",
       "      <td>4.0</td>\n",
       "    </tr>\n",
       "    <tr>\n",
       "      <th>22</th>\n",
       "      <td>0</td>\n",
       "      <td>2021-12-26</td>\n",
       "      <td>0.248450</td>\n",
       "      <td>False</td>\n",
       "      <td>5.0</td>\n",
       "    </tr>\n",
       "  </tbody>\n",
       "</table>\n",
       "<p>100 rows × 5 columns</p>\n",
       "</div>"
      ],
      "text/plain": [
       "    id      fecha     notas  scholarship  rank\n",
       "23  19 2022-02-20  0.404220        False   1.0\n",
       "4   19 2022-02-13  0.528066         True   2.0\n",
       "53  19 2022-02-06  0.294623         True   3.0\n",
       "94  19 2022-01-30  0.475014         True   4.0\n",
       "12  19 2022-01-23  0.449896        False   5.0\n",
       "..  ..        ...       ...          ...   ...\n",
       "24   0 2022-02-20  0.179034         True   1.0\n",
       "15   0 2022-02-13  0.511180        False   2.0\n",
       "2    0 2022-02-06  0.541736         True   3.0\n",
       "9    0 2022-01-02  0.606585        False   4.0\n",
       "22   0 2021-12-26  0.248450        False   5.0\n",
       "\n",
       "[100 rows x 5 columns]"
      ]
     },
     "execution_count": 86,
     "metadata": {},
     "output_type": "execute_result"
    }
   ],
   "source": [
    "x"
   ]
  },
  {
   "cell_type": "code",
   "execution_count": 87,
   "id": "1b79104b-b0f8-4c50-8bcb-b66ab320b4af",
   "metadata": {},
   "outputs": [
    {
     "data": {
      "text/html": [
       "<div>\n",
       "<style scoped>\n",
       "    .dataframe tbody tr th:only-of-type {\n",
       "        vertical-align: middle;\n",
       "    }\n",
       "\n",
       "    .dataframe tbody tr th {\n",
       "        vertical-align: top;\n",
       "    }\n",
       "\n",
       "    .dataframe thead th {\n",
       "        text-align: right;\n",
       "    }\n",
       "</style>\n",
       "<table border=\"1\" class=\"dataframe\">\n",
       "  <thead>\n",
       "    <tr style=\"text-align: right;\">\n",
       "      <th></th>\n",
       "      <th>id</th>\n",
       "      <th>last_scholarship</th>\n",
       "    </tr>\n",
       "  </thead>\n",
       "  <tbody>\n",
       "    <tr>\n",
       "      <th>23</th>\n",
       "      <td>19</td>\n",
       "      <td>False</td>\n",
       "    </tr>\n",
       "    <tr>\n",
       "      <th>61</th>\n",
       "      <td>18</td>\n",
       "      <td>True</td>\n",
       "    </tr>\n",
       "    <tr>\n",
       "      <th>50</th>\n",
       "      <td>17</td>\n",
       "      <td>False</td>\n",
       "    </tr>\n",
       "    <tr>\n",
       "      <th>41</th>\n",
       "      <td>16</td>\n",
       "      <td>True</td>\n",
       "    </tr>\n",
       "    <tr>\n",
       "      <th>51</th>\n",
       "      <td>15</td>\n",
       "      <td>False</td>\n",
       "    </tr>\n",
       "    <tr>\n",
       "      <th>80</th>\n",
       "      <td>14</td>\n",
       "      <td>True</td>\n",
       "    </tr>\n",
       "    <tr>\n",
       "      <th>11</th>\n",
       "      <td>13</td>\n",
       "      <td>False</td>\n",
       "    </tr>\n",
       "    <tr>\n",
       "      <th>7</th>\n",
       "      <td>12</td>\n",
       "      <td>True</td>\n",
       "    </tr>\n",
       "    <tr>\n",
       "      <th>69</th>\n",
       "      <td>11</td>\n",
       "      <td>False</td>\n",
       "    </tr>\n",
       "    <tr>\n",
       "      <th>70</th>\n",
       "      <td>10</td>\n",
       "      <td>True</td>\n",
       "    </tr>\n",
       "    <tr>\n",
       "      <th>52</th>\n",
       "      <td>9</td>\n",
       "      <td>True</td>\n",
       "    </tr>\n",
       "    <tr>\n",
       "      <th>32</th>\n",
       "      <td>8</td>\n",
       "      <td>False</td>\n",
       "    </tr>\n",
       "    <tr>\n",
       "      <th>57</th>\n",
       "      <td>7</td>\n",
       "      <td>False</td>\n",
       "    </tr>\n",
       "    <tr>\n",
       "      <th>81</th>\n",
       "      <td>6</td>\n",
       "      <td>True</td>\n",
       "    </tr>\n",
       "    <tr>\n",
       "      <th>63</th>\n",
       "      <td>5</td>\n",
       "      <td>True</td>\n",
       "    </tr>\n",
       "    <tr>\n",
       "      <th>65</th>\n",
       "      <td>3</td>\n",
       "      <td>False</td>\n",
       "    </tr>\n",
       "    <tr>\n",
       "      <th>99</th>\n",
       "      <td>2</td>\n",
       "      <td>True</td>\n",
       "    </tr>\n",
       "    <tr>\n",
       "      <th>37</th>\n",
       "      <td>1</td>\n",
       "      <td>False</td>\n",
       "    </tr>\n",
       "    <tr>\n",
       "      <th>24</th>\n",
       "      <td>0</td>\n",
       "      <td>True</td>\n",
       "    </tr>\n",
       "  </tbody>\n",
       "</table>\n",
       "</div>"
      ],
      "text/plain": [
       "    id  last_scholarship\n",
       "23  19             False\n",
       "61  18              True\n",
       "50  17             False\n",
       "41  16              True\n",
       "51  15             False\n",
       "80  14              True\n",
       "11  13             False\n",
       "7   12              True\n",
       "69  11             False\n",
       "70  10              True\n",
       "52   9              True\n",
       "32   8             False\n",
       "57   7             False\n",
       "81   6              True\n",
       "63   5              True\n",
       "65   3             False\n",
       "99   2              True\n",
       "37   1             False\n",
       "24   0              True"
      ]
     },
     "execution_count": 87,
     "metadata": {},
     "output_type": "execute_result"
    }
   ],
   "source": [
    "real_scholarships"
   ]
  },
  {
   "cell_type": "code",
   "execution_count": 88,
   "id": "7e1ae965-3386-4a70-9755-0552967b5eca",
   "metadata": {},
   "outputs": [],
   "source": [
    "x = x.merge( real_scholarships , left_on=[\"id\"] , right_on=[\"id\"] , how=\"inner\" )"
   ]
  },
  {
   "cell_type": "code",
   "execution_count": 92,
   "id": "ceb2d239-8fc5-4fee-8364-200e0fea611b",
   "metadata": {},
   "outputs": [
    {
     "ename": "KeyError",
     "evalue": "\"['rank' 'scholarship'] not found in axis\"",
     "output_type": "error",
     "traceback": [
      "\u001b[1;31m---------------------------------------------------------------------------\u001b[0m",
      "\u001b[1;31mKeyError\u001b[0m                                  Traceback (most recent call last)",
      "\u001b[1;32m<ipython-input-92-48e01c144eec>\u001b[0m in \u001b[0;36m<module>\u001b[1;34m\u001b[0m\n\u001b[1;32m----> 1\u001b[1;33m \u001b[0mx\u001b[0m \u001b[1;33m=\u001b[0m \u001b[0mx\u001b[0m\u001b[1;33m.\u001b[0m\u001b[0mdrop\u001b[0m\u001b[1;33m(\u001b[0m \u001b[1;33m[\u001b[0m\u001b[1;34m'rank'\u001b[0m\u001b[1;33m,\u001b[0m\u001b[1;34m'scholarship'\u001b[0m\u001b[1;33m]\u001b[0m \u001b[1;33m,\u001b[0m \u001b[0maxis\u001b[0m\u001b[1;33m=\u001b[0m\u001b[1;36m1\u001b[0m \u001b[1;33m)\u001b[0m\u001b[1;33m\u001b[0m\u001b[1;33m\u001b[0m\u001b[0m\n\u001b[0m",
      "\u001b[1;32m~\\anaconda3\\lib\\site-packages\\pandas\\core\\frame.py\u001b[0m in \u001b[0;36mdrop\u001b[1;34m(self, labels, axis, index, columns, level, inplace, errors)\u001b[0m\n\u001b[0;32m   4306\u001b[0m                 \u001b[0mweight\u001b[0m  \u001b[1;36m1.0\u001b[0m     \u001b[1;36m0.8\u001b[0m\u001b[1;33m\u001b[0m\u001b[1;33m\u001b[0m\u001b[0m\n\u001b[0;32m   4307\u001b[0m         \"\"\"\n\u001b[1;32m-> 4308\u001b[1;33m         return super().drop(\n\u001b[0m\u001b[0;32m   4309\u001b[0m             \u001b[0mlabels\u001b[0m\u001b[1;33m=\u001b[0m\u001b[0mlabels\u001b[0m\u001b[1;33m,\u001b[0m\u001b[1;33m\u001b[0m\u001b[1;33m\u001b[0m\u001b[0m\n\u001b[0;32m   4310\u001b[0m             \u001b[0maxis\u001b[0m\u001b[1;33m=\u001b[0m\u001b[0maxis\u001b[0m\u001b[1;33m,\u001b[0m\u001b[1;33m\u001b[0m\u001b[1;33m\u001b[0m\u001b[0m\n",
      "\u001b[1;32m~\\anaconda3\\lib\\site-packages\\pandas\\core\\generic.py\u001b[0m in \u001b[0;36mdrop\u001b[1;34m(self, labels, axis, index, columns, level, inplace, errors)\u001b[0m\n\u001b[0;32m   4151\u001b[0m         \u001b[1;32mfor\u001b[0m \u001b[0maxis\u001b[0m\u001b[1;33m,\u001b[0m \u001b[0mlabels\u001b[0m \u001b[1;32min\u001b[0m \u001b[0maxes\u001b[0m\u001b[1;33m.\u001b[0m\u001b[0mitems\u001b[0m\u001b[1;33m(\u001b[0m\u001b[1;33m)\u001b[0m\u001b[1;33m:\u001b[0m\u001b[1;33m\u001b[0m\u001b[1;33m\u001b[0m\u001b[0m\n\u001b[0;32m   4152\u001b[0m             \u001b[1;32mif\u001b[0m \u001b[0mlabels\u001b[0m \u001b[1;32mis\u001b[0m \u001b[1;32mnot\u001b[0m \u001b[1;32mNone\u001b[0m\u001b[1;33m:\u001b[0m\u001b[1;33m\u001b[0m\u001b[1;33m\u001b[0m\u001b[0m\n\u001b[1;32m-> 4153\u001b[1;33m                 \u001b[0mobj\u001b[0m \u001b[1;33m=\u001b[0m \u001b[0mobj\u001b[0m\u001b[1;33m.\u001b[0m\u001b[0m_drop_axis\u001b[0m\u001b[1;33m(\u001b[0m\u001b[0mlabels\u001b[0m\u001b[1;33m,\u001b[0m \u001b[0maxis\u001b[0m\u001b[1;33m,\u001b[0m \u001b[0mlevel\u001b[0m\u001b[1;33m=\u001b[0m\u001b[0mlevel\u001b[0m\u001b[1;33m,\u001b[0m \u001b[0merrors\u001b[0m\u001b[1;33m=\u001b[0m\u001b[0merrors\u001b[0m\u001b[1;33m)\u001b[0m\u001b[1;33m\u001b[0m\u001b[1;33m\u001b[0m\u001b[0m\n\u001b[0m\u001b[0;32m   4154\u001b[0m \u001b[1;33m\u001b[0m\u001b[0m\n\u001b[0;32m   4155\u001b[0m         \u001b[1;32mif\u001b[0m \u001b[0minplace\u001b[0m\u001b[1;33m:\u001b[0m\u001b[1;33m\u001b[0m\u001b[1;33m\u001b[0m\u001b[0m\n",
      "\u001b[1;32m~\\anaconda3\\lib\\site-packages\\pandas\\core\\generic.py\u001b[0m in \u001b[0;36m_drop_axis\u001b[1;34m(self, labels, axis, level, errors)\u001b[0m\n\u001b[0;32m   4186\u001b[0m                 \u001b[0mnew_axis\u001b[0m \u001b[1;33m=\u001b[0m \u001b[0maxis\u001b[0m\u001b[1;33m.\u001b[0m\u001b[0mdrop\u001b[0m\u001b[1;33m(\u001b[0m\u001b[0mlabels\u001b[0m\u001b[1;33m,\u001b[0m \u001b[0mlevel\u001b[0m\u001b[1;33m=\u001b[0m\u001b[0mlevel\u001b[0m\u001b[1;33m,\u001b[0m \u001b[0merrors\u001b[0m\u001b[1;33m=\u001b[0m\u001b[0merrors\u001b[0m\u001b[1;33m)\u001b[0m\u001b[1;33m\u001b[0m\u001b[1;33m\u001b[0m\u001b[0m\n\u001b[0;32m   4187\u001b[0m             \u001b[1;32melse\u001b[0m\u001b[1;33m:\u001b[0m\u001b[1;33m\u001b[0m\u001b[1;33m\u001b[0m\u001b[0m\n\u001b[1;32m-> 4188\u001b[1;33m                 \u001b[0mnew_axis\u001b[0m \u001b[1;33m=\u001b[0m \u001b[0maxis\u001b[0m\u001b[1;33m.\u001b[0m\u001b[0mdrop\u001b[0m\u001b[1;33m(\u001b[0m\u001b[0mlabels\u001b[0m\u001b[1;33m,\u001b[0m \u001b[0merrors\u001b[0m\u001b[1;33m=\u001b[0m\u001b[0merrors\u001b[0m\u001b[1;33m)\u001b[0m\u001b[1;33m\u001b[0m\u001b[1;33m\u001b[0m\u001b[0m\n\u001b[0m\u001b[0;32m   4189\u001b[0m             \u001b[0mresult\u001b[0m \u001b[1;33m=\u001b[0m \u001b[0mself\u001b[0m\u001b[1;33m.\u001b[0m\u001b[0mreindex\u001b[0m\u001b[1;33m(\u001b[0m\u001b[1;33m**\u001b[0m\u001b[1;33m{\u001b[0m\u001b[0maxis_name\u001b[0m\u001b[1;33m:\u001b[0m \u001b[0mnew_axis\u001b[0m\u001b[1;33m}\u001b[0m\u001b[1;33m)\u001b[0m\u001b[1;33m\u001b[0m\u001b[1;33m\u001b[0m\u001b[0m\n\u001b[0;32m   4190\u001b[0m \u001b[1;33m\u001b[0m\u001b[0m\n",
      "\u001b[1;32m~\\anaconda3\\lib\\site-packages\\pandas\\core\\indexes\\base.py\u001b[0m in \u001b[0;36mdrop\u001b[1;34m(self, labels, errors)\u001b[0m\n\u001b[0;32m   5589\u001b[0m         \u001b[1;32mif\u001b[0m \u001b[0mmask\u001b[0m\u001b[1;33m.\u001b[0m\u001b[0many\u001b[0m\u001b[1;33m(\u001b[0m\u001b[1;33m)\u001b[0m\u001b[1;33m:\u001b[0m\u001b[1;33m\u001b[0m\u001b[1;33m\u001b[0m\u001b[0m\n\u001b[0;32m   5590\u001b[0m             \u001b[1;32mif\u001b[0m \u001b[0merrors\u001b[0m \u001b[1;33m!=\u001b[0m \u001b[1;34m\"ignore\"\u001b[0m\u001b[1;33m:\u001b[0m\u001b[1;33m\u001b[0m\u001b[1;33m\u001b[0m\u001b[0m\n\u001b[1;32m-> 5591\u001b[1;33m                 \u001b[1;32mraise\u001b[0m \u001b[0mKeyError\u001b[0m\u001b[1;33m(\u001b[0m\u001b[1;34mf\"{labels[mask]} not found in axis\"\u001b[0m\u001b[1;33m)\u001b[0m\u001b[1;33m\u001b[0m\u001b[1;33m\u001b[0m\u001b[0m\n\u001b[0m\u001b[0;32m   5592\u001b[0m             \u001b[0mindexer\u001b[0m \u001b[1;33m=\u001b[0m \u001b[0mindexer\u001b[0m\u001b[1;33m[\u001b[0m\u001b[1;33m~\u001b[0m\u001b[0mmask\u001b[0m\u001b[1;33m]\u001b[0m\u001b[1;33m\u001b[0m\u001b[1;33m\u001b[0m\u001b[0m\n\u001b[0;32m   5593\u001b[0m         \u001b[1;32mreturn\u001b[0m \u001b[0mself\u001b[0m\u001b[1;33m.\u001b[0m\u001b[0mdelete\u001b[0m\u001b[1;33m(\u001b[0m\u001b[0mindexer\u001b[0m\u001b[1;33m)\u001b[0m\u001b[1;33m\u001b[0m\u001b[1;33m\u001b[0m\u001b[0m\n",
      "\u001b[1;31mKeyError\u001b[0m: \"['rank' 'scholarship'] not found in axis\""
     ]
    }
   ],
   "source": [
    "x = x.drop( ['rank','scholarship'] , axis=1 )"
   ]
  },
  {
   "cell_type": "code",
   "execution_count": 62,
   "id": "16086624-acdf-4af5-88be-cfb579d20f38",
   "metadata": {},
   "outputs": [
    {
     "data": {
      "text/html": [
       "<div>\n",
       "<style scoped>\n",
       "    .dataframe tbody tr th:only-of-type {\n",
       "        vertical-align: middle;\n",
       "    }\n",
       "\n",
       "    .dataframe tbody tr th {\n",
       "        vertical-align: top;\n",
       "    }\n",
       "\n",
       "    .dataframe thead th {\n",
       "        text-align: right;\n",
       "    }\n",
       "</style>\n",
       "<table border=\"1\" class=\"dataframe\">\n",
       "  <thead>\n",
       "    <tr style=\"text-align: right;\">\n",
       "      <th></th>\n",
       "      <th>id</th>\n",
       "      <th>fecha</th>\n",
       "      <th>notas</th>\n",
       "      <th>last_scholarship_x</th>\n",
       "      <th>last_scholarship_y</th>\n",
       "    </tr>\n",
       "  </thead>\n",
       "  <tbody>\n",
       "    <tr>\n",
       "      <th>0</th>\n",
       "      <td>19</td>\n",
       "      <td>2022-01-30</td>\n",
       "      <td>0.868261</td>\n",
       "      <td>False</td>\n",
       "      <td>False</td>\n",
       "    </tr>\n",
       "    <tr>\n",
       "      <th>1</th>\n",
       "      <td>19</td>\n",
       "      <td>2022-01-02</td>\n",
       "      <td>0.781551</td>\n",
       "      <td>False</td>\n",
       "      <td>False</td>\n",
       "    </tr>\n",
       "    <tr>\n",
       "      <th>2</th>\n",
       "      <td>19</td>\n",
       "      <td>2021-12-19</td>\n",
       "      <td>0.901838</td>\n",
       "      <td>False</td>\n",
       "      <td>False</td>\n",
       "    </tr>\n",
       "    <tr>\n",
       "      <th>3</th>\n",
       "      <td>18</td>\n",
       "      <td>2022-02-20</td>\n",
       "      <td>0.889866</td>\n",
       "      <td>True</td>\n",
       "      <td>True</td>\n",
       "    </tr>\n",
       "    <tr>\n",
       "      <th>4</th>\n",
       "      <td>18</td>\n",
       "      <td>2022-02-13</td>\n",
       "      <td>0.589285</td>\n",
       "      <td>True</td>\n",
       "      <td>True</td>\n",
       "    </tr>\n",
       "    <tr>\n",
       "      <th>...</th>\n",
       "      <td>...</td>\n",
       "      <td>...</td>\n",
       "      <td>...</td>\n",
       "      <td>...</td>\n",
       "      <td>...</td>\n",
       "    </tr>\n",
       "    <tr>\n",
       "      <th>95</th>\n",
       "      <td>0</td>\n",
       "      <td>2022-02-06</td>\n",
       "      <td>0.433068</td>\n",
       "      <td>True</td>\n",
       "      <td>True</td>\n",
       "    </tr>\n",
       "    <tr>\n",
       "      <th>96</th>\n",
       "      <td>0</td>\n",
       "      <td>2022-01-09</td>\n",
       "      <td>0.580126</td>\n",
       "      <td>True</td>\n",
       "      <td>True</td>\n",
       "    </tr>\n",
       "    <tr>\n",
       "      <th>97</th>\n",
       "      <td>0</td>\n",
       "      <td>2022-01-02</td>\n",
       "      <td>0.747628</td>\n",
       "      <td>True</td>\n",
       "      <td>True</td>\n",
       "    </tr>\n",
       "    <tr>\n",
       "      <th>98</th>\n",
       "      <td>0</td>\n",
       "      <td>2021-12-26</td>\n",
       "      <td>0.388195</td>\n",
       "      <td>True</td>\n",
       "      <td>True</td>\n",
       "    </tr>\n",
       "    <tr>\n",
       "      <th>99</th>\n",
       "      <td>0</td>\n",
       "      <td>2021-12-19</td>\n",
       "      <td>0.460593</td>\n",
       "      <td>True</td>\n",
       "      <td>True</td>\n",
       "    </tr>\n",
       "  </tbody>\n",
       "</table>\n",
       "<p>100 rows × 5 columns</p>\n",
       "</div>"
      ],
      "text/plain": [
       "    id      fecha     notas  last_scholarship_x  last_scholarship_y\n",
       "0   19 2022-01-30  0.868261               False               False\n",
       "1   19 2022-01-02  0.781551               False               False\n",
       "2   19 2021-12-19  0.901838               False               False\n",
       "3   18 2022-02-20  0.889866                True                True\n",
       "4   18 2022-02-13  0.589285                True                True\n",
       "..  ..        ...       ...                 ...                 ...\n",
       "95   0 2022-02-06  0.433068                True                True\n",
       "96   0 2022-01-09  0.580126                True                True\n",
       "97   0 2022-01-02  0.747628                True                True\n",
       "98   0 2021-12-26  0.388195                True                True\n",
       "99   0 2021-12-19  0.460593                True                True\n",
       "\n",
       "[100 rows x 5 columns]"
      ]
     },
     "execution_count": 62,
     "metadata": {},
     "output_type": "execute_result"
    }
   ],
   "source": [
    "x"
   ]
  },
  {
   "cell_type": "code",
   "execution_count": null,
   "id": "63928d3c-af5c-4111-b6f8-2e22ef9008b4",
   "metadata": {},
   "outputs": [],
   "source": []
  }
 ],
 "metadata": {
  "kernelspec": {
   "display_name": "Python 3",
   "language": "python",
   "name": "python3"
  },
  "language_info": {
   "codemirror_mode": {
    "name": "ipython",
    "version": 3
   },
   "file_extension": ".py",
   "mimetype": "text/x-python",
   "name": "python",
   "nbconvert_exporter": "python",
   "pygments_lexer": "ipython3",
   "version": "3.8.8"
  }
 },
 "nbformat": 4,
 "nbformat_minor": 5
}
